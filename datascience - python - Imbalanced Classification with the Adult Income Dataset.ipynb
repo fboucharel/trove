{
 "cells": [
  {
   "cell_type": "markdown",
   "metadata": {},
   "source": [
    "https://machinelearningmastery.com/imbalanced-classification-with-the-adult-income-dataset/"
   ]
  },
  {
   "cell_type": "code",
   "execution_count": 1,
   "metadata": {},
   "outputs": [],
   "source": [
    "from IPython.core.interactiveshell import InteractiveShell\n",
    "\n",
    "InteractiveShell.ast_node_interactivity = 'all'"
   ]
  },
  {
   "cell_type": "code",
   "execution_count": 2,
   "metadata": {},
   "outputs": [],
   "source": [
    "import pandas as pd\n",
    "\n",
    "pd.set_option( 'display.max_columns' , None ) "
   ]
  },
  {
   "cell_type": "code",
   "execution_count": 3,
   "metadata": {},
   "outputs": [],
   "source": [
    "from pandas import read_csv"
   ]
  },
  {
   "cell_type": "code",
   "execution_count": 4,
   "metadata": {},
   "outputs": [],
   "source": [
    "url = 'https://raw.githubusercontent.com/jbrownlee/Datasets/master/adult-all.csv'\n",
    "\n",
    "df = read_csv( url , header = None , na_values = '?' )"
   ]
  },
  {
   "cell_type": "code",
   "execution_count": 5,
   "metadata": {},
   "outputs": [
    {
     "data": {
      "text/html": [
       "<div>\n",
       "<style scoped>\n",
       "    .dataframe tbody tr th:only-of-type {\n",
       "        vertical-align: middle;\n",
       "    }\n",
       "\n",
       "    .dataframe tbody tr th {\n",
       "        vertical-align: top;\n",
       "    }\n",
       "\n",
       "    .dataframe thead th {\n",
       "        text-align: right;\n",
       "    }\n",
       "</style>\n",
       "<table border=\"1\" class=\"dataframe\">\n",
       "  <thead>\n",
       "    <tr style=\"text-align: right;\">\n",
       "      <th></th>\n",
       "      <th>0</th>\n",
       "      <th>1</th>\n",
       "      <th>2</th>\n",
       "      <th>3</th>\n",
       "      <th>4</th>\n",
       "      <th>5</th>\n",
       "      <th>6</th>\n",
       "      <th>7</th>\n",
       "      <th>8</th>\n",
       "      <th>9</th>\n",
       "      <th>10</th>\n",
       "      <th>11</th>\n",
       "      <th>12</th>\n",
       "      <th>13</th>\n",
       "      <th>14</th>\n",
       "    </tr>\n",
       "  </thead>\n",
       "  <tbody>\n",
       "    <tr>\n",
       "      <th>0</th>\n",
       "      <td>39</td>\n",
       "      <td>State-gov</td>\n",
       "      <td>77516</td>\n",
       "      <td>Bachelors</td>\n",
       "      <td>13</td>\n",
       "      <td>Never-married</td>\n",
       "      <td>Adm-clerical</td>\n",
       "      <td>Not-in-family</td>\n",
       "      <td>White</td>\n",
       "      <td>Male</td>\n",
       "      <td>2174</td>\n",
       "      <td>0</td>\n",
       "      <td>40</td>\n",
       "      <td>United-States</td>\n",
       "      <td>&lt;=50K</td>\n",
       "    </tr>\n",
       "    <tr>\n",
       "      <th>1</th>\n",
       "      <td>50</td>\n",
       "      <td>Self-emp-not-inc</td>\n",
       "      <td>83311</td>\n",
       "      <td>Bachelors</td>\n",
       "      <td>13</td>\n",
       "      <td>Married-civ-spouse</td>\n",
       "      <td>Exec-managerial</td>\n",
       "      <td>Husband</td>\n",
       "      <td>White</td>\n",
       "      <td>Male</td>\n",
       "      <td>0</td>\n",
       "      <td>0</td>\n",
       "      <td>13</td>\n",
       "      <td>United-States</td>\n",
       "      <td>&lt;=50K</td>\n",
       "    </tr>\n",
       "    <tr>\n",
       "      <th>2</th>\n",
       "      <td>38</td>\n",
       "      <td>Private</td>\n",
       "      <td>215646</td>\n",
       "      <td>HS-grad</td>\n",
       "      <td>9</td>\n",
       "      <td>Divorced</td>\n",
       "      <td>Handlers-cleaners</td>\n",
       "      <td>Not-in-family</td>\n",
       "      <td>White</td>\n",
       "      <td>Male</td>\n",
       "      <td>0</td>\n",
       "      <td>0</td>\n",
       "      <td>40</td>\n",
       "      <td>United-States</td>\n",
       "      <td>&lt;=50K</td>\n",
       "    </tr>\n",
       "    <tr>\n",
       "      <th>3</th>\n",
       "      <td>53</td>\n",
       "      <td>Private</td>\n",
       "      <td>234721</td>\n",
       "      <td>11th</td>\n",
       "      <td>7</td>\n",
       "      <td>Married-civ-spouse</td>\n",
       "      <td>Handlers-cleaners</td>\n",
       "      <td>Husband</td>\n",
       "      <td>Black</td>\n",
       "      <td>Male</td>\n",
       "      <td>0</td>\n",
       "      <td>0</td>\n",
       "      <td>40</td>\n",
       "      <td>United-States</td>\n",
       "      <td>&lt;=50K</td>\n",
       "    </tr>\n",
       "    <tr>\n",
       "      <th>4</th>\n",
       "      <td>28</td>\n",
       "      <td>Private</td>\n",
       "      <td>338409</td>\n",
       "      <td>Bachelors</td>\n",
       "      <td>13</td>\n",
       "      <td>Married-civ-spouse</td>\n",
       "      <td>Prof-specialty</td>\n",
       "      <td>Wife</td>\n",
       "      <td>Black</td>\n",
       "      <td>Female</td>\n",
       "      <td>0</td>\n",
       "      <td>0</td>\n",
       "      <td>40</td>\n",
       "      <td>Cuba</td>\n",
       "      <td>&lt;=50K</td>\n",
       "    </tr>\n",
       "  </tbody>\n",
       "</table>\n",
       "</div>"
      ],
      "text/plain": [
       "   0                 1       2          3   4                   5   \\\n",
       "0  39         State-gov   77516  Bachelors  13       Never-married   \n",
       "1  50  Self-emp-not-inc   83311  Bachelors  13  Married-civ-spouse   \n",
       "2  38           Private  215646    HS-grad   9            Divorced   \n",
       "3  53           Private  234721       11th   7  Married-civ-spouse   \n",
       "4  28           Private  338409  Bachelors  13  Married-civ-spouse   \n",
       "\n",
       "                  6              7      8       9     10  11  12  \\\n",
       "0       Adm-clerical  Not-in-family  White    Male  2174   0  40   \n",
       "1    Exec-managerial        Husband  White    Male     0   0  13   \n",
       "2  Handlers-cleaners  Not-in-family  White    Male     0   0  40   \n",
       "3  Handlers-cleaners        Husband  Black    Male     0   0  40   \n",
       "4     Prof-specialty           Wife  Black  Female     0   0  40   \n",
       "\n",
       "              13     14  \n",
       "0  United-States  <=50K  \n",
       "1  United-States  <=50K  \n",
       "2  United-States  <=50K  \n",
       "3  United-States  <=50K  \n",
       "4           Cuba  <=50K  "
      ]
     },
     "execution_count": 5,
     "metadata": {},
     "output_type": "execute_result"
    }
   ],
   "source": [
    "df.head()"
   ]
  },
  {
   "cell_type": "code",
   "execution_count": 6,
   "metadata": {},
   "outputs": [
    {
     "data": {
      "text/plain": [
       "(48842, 15)"
      ]
     },
     "execution_count": 6,
     "metadata": {},
     "output_type": "execute_result"
    }
   ],
   "source": [
    "df.shape"
   ]
  },
  {
   "cell_type": "code",
   "execution_count": 7,
   "metadata": {},
   "outputs": [
    {
     "name": "stdout",
     "output_type": "stream",
     "text": [
      "<class 'pandas.core.frame.DataFrame'>\n",
      "RangeIndex: 48842 entries, 0 to 48841\n",
      "Data columns (total 15 columns):\n",
      " #   Column  Non-Null Count  Dtype \n",
      "---  ------  --------------  ----- \n",
      " 0   0       48842 non-null  int64 \n",
      " 1   1       46043 non-null  object\n",
      " 2   2       48842 non-null  int64 \n",
      " 3   3       48842 non-null  object\n",
      " 4   4       48842 non-null  int64 \n",
      " 5   5       48842 non-null  object\n",
      " 6   6       46033 non-null  object\n",
      " 7   7       48842 non-null  object\n",
      " 8   8       48842 non-null  object\n",
      " 9   9       48842 non-null  object\n",
      " 10  10      48842 non-null  int64 \n",
      " 11  11      48842 non-null  int64 \n",
      " 12  12      48842 non-null  int64 \n",
      " 13  13      47985 non-null  object\n",
      " 14  14      48842 non-null  object\n",
      "dtypes: int64(6), object(9)\n",
      "memory usage: 5.6+ MB\n"
     ]
    }
   ],
   "source": [
    "df.info()"
   ]
  },
  {
   "cell_type": "code",
   "execution_count": 8,
   "metadata": {},
   "outputs": [],
   "source": [
    "df = df.dropna()"
   ]
  },
  {
   "cell_type": "code",
   "execution_count": 9,
   "metadata": {},
   "outputs": [
    {
     "data": {
      "text/plain": [
       "(45222, 15)"
      ]
     },
     "execution_count": 9,
     "metadata": {},
     "output_type": "execute_result"
    }
   ],
   "source": [
    "df.shape"
   ]
  },
  {
   "cell_type": "code",
   "execution_count": 10,
   "metadata": {},
   "outputs": [],
   "source": [
    "from collections import Counter"
   ]
  },
  {
   "cell_type": "code",
   "execution_count": 11,
   "metadata": {},
   "outputs": [
    {
     "name": "stdout",
     "output_type": "stream",
     "text": [
      "Counter({'<=50K': 34014, '>50K': 11208})\n"
     ]
    }
   ],
   "source": [
    "target = df.values[ : , -1 ]\n",
    "\n",
    "counter = Counter( target )\n",
    "\n",
    "print( counter )"
   ]
  },
  {
   "cell_type": "code",
   "execution_count": 12,
   "metadata": {},
   "outputs": [
    {
     "name": "stdout",
     "output_type": "stream",
     "text": [
      "class : <=50K | count : 34014 | % : 75.22 \n",
      "class : >50K | count : 11208 | % : 24.78 \n"
     ]
    }
   ],
   "source": [
    "for k , v in counter.items():\n",
    "\n",
    "    p = v / len( target ) * 100\n",
    "\n",
    "    print( f'class : {k} | count : {v} | % : {p:.2f} ' )"
   ]
  },
  {
   "cell_type": "code",
   "execution_count": 13,
   "metadata": {},
   "outputs": [],
   "source": [
    "last_ix = len( df.columns ) - 1\n",
    "\n",
    "X = df.drop( last_ix , axis = 1 )\n",
    "\n",
    "y = df[ last_ix ]"
   ]
  },
  {
   "cell_type": "code",
   "execution_count": 14,
   "metadata": {},
   "outputs": [],
   "source": [
    "from sklearn.preprocessing import LabelEncoder"
   ]
  },
  {
   "cell_type": "code",
   "execution_count": 15,
   "metadata": {},
   "outputs": [],
   "source": [
    "y = LabelEncoder().fit_transform( y )"
   ]
  },
  {
   "cell_type": "code",
   "execution_count": 16,
   "metadata": {},
   "outputs": [
    {
     "name": "stdout",
     "output_type": "stream",
     "text": [
      "Int64Index([1, 3, 5, 6, 7, 8, 9, 13], dtype='int64')\n",
      "Int64Index([0, 2, 4, 10, 11, 12], dtype='int64')\n"
     ]
    }
   ],
   "source": [
    "cat_ix = X.select_dtypes( include = [ 'object' , 'bool' ] ).columns\n",
    "\n",
    "num_ix = X.select_dtypes( include = [ 'int64' , 'float64' ] ).columns\n",
    "\n",
    "print( cat_ix )\n",
    "\n",
    "print( num_ix )"
   ]
  },
  {
   "cell_type": "markdown",
   "metadata": {},
   "source": [
    "# Baseline Result"
   ]
  },
  {
   "cell_type": "code",
   "execution_count": 17,
   "metadata": {},
   "outputs": [],
   "source": [
    "from sklearn.model_selection import RepeatedStratifiedKFold\n",
    "\n",
    "from sklearn.model_selection import cross_val_score"
   ]
  },
  {
   "cell_type": "code",
   "execution_count": 18,
   "metadata": {},
   "outputs": [],
   "source": [
    "def evaluate_model( X , y , model ) :\n",
    "\n",
    "    cv = RepeatedStratifiedKFold( n_splits = 10 , n_repeats = 3 , random_state = 999 )\n",
    "\n",
    "    scores = cross_val_score( model , X , y , scoring = 'accuracy' , cv = cv , n_jobs = -1 )\n",
    "\n",
    "    return scores"
   ]
  },
  {
   "cell_type": "code",
   "execution_count": 19,
   "metadata": {},
   "outputs": [],
   "source": [
    "from sklearn.dummy import DummyClassifier"
   ]
  },
  {
   "cell_type": "code",
   "execution_count": 20,
   "metadata": {},
   "outputs": [],
   "source": [
    "model = DummyClassifier( strategy = 'most_frequent' )"
   ]
  },
  {
   "cell_type": "code",
   "execution_count": 21,
   "metadata": {},
   "outputs": [],
   "source": [
    "from numpy import mean\n",
    "\n",
    "from numpy import std"
   ]
  },
  {
   "cell_type": "code",
   "execution_count": 22,
   "metadata": {},
   "outputs": [
    {
     "name": "stdout",
     "output_type": "stream",
     "text": [
      "dummy model | accuracy : 0.752 ( 0.000 )\n"
     ]
    }
   ],
   "source": [
    "scores = evaluate_model( X , y , model )\n",
    "\n",
    "print( f'dummy model | accuracy : {mean(scores):.3f} ( {std(scores):.3f} )' )"
   ]
  },
  {
   "cell_type": "markdown",
   "metadata": {},
   "source": [
    "# Evaluate Machine Learning Algorithms"
   ]
  },
  {
   "cell_type": "code",
   "execution_count": 29,
   "metadata": {},
   "outputs": [],
   "source": [
    "from sklearn.preprocessing import OneHotEncoder\n",
    "\n",
    "from sklearn.preprocessing import MinMaxScaler\n",
    "\n",
    "from sklearn.compose import ColumnTransformer\n",
    "\n",
    "from sklearn.pipeline import Pipeline\n",
    "\n",
    "from sklearn.tree import DecisionTreeClassifier\n",
    "\n",
    "from sklearn.svm import SVC\n",
    "\n",
    "from sklearn.ensemble import RandomForestClassifier\n",
    "\n",
    "from sklearn.ensemble import GradientBoostingClassifier\n",
    "\n",
    "from sklearn.ensemble import BaggingClassifier"
   ]
  },
  {
   "cell_type": "code",
   "execution_count": 30,
   "metadata": {},
   "outputs": [],
   "source": [
    "def get_models():\n",
    "\n",
    "    models = dict()\n",
    "\n",
    "    transformers = [ ( 'ohe' , OneHotEncoder( handle_unknown = 'ignore' ) , cat_ix ) ,\n",
    "                     ( 'scale' , MinMaxScaler() , num_ix ) ]\n",
    "    \n",
    "    transformer = ColumnTransformer( transformers )\n",
    "    \n",
    "    \n",
    "    \n",
    "    steps = [ ( 'step_transformer' , transformer ) ,\n",
    "              ( 'step_model' , DecisionTreeClassifier() ) ]\n",
    "    \n",
    "    model = Pipeline( steps = steps )\n",
    "    \n",
    "    models[ 'CART' ] = model\n",
    "  \n",
    "\n",
    "\n",
    "    steps = [ ( 'step_transformer' , transformer ) ,\n",
    "              ( 'step_model' , SVC( gamma = 'scale' ) ) ]\n",
    "    \n",
    "    model = Pipeline( steps = steps )\n",
    "    \n",
    "    models[ 'SVM' ] = model\n",
    " \n",
    "\n",
    "\n",
    "    steps = [ ( 'step_transformer' , transformer ) ,\n",
    "              ( 'step_model' , BaggingClassifier( n_estimators = 100 ) ) ]\n",
    "    \n",
    "    model = Pipeline( steps = steps )\n",
    "    \n",
    "    models[ 'BAG' ] = model\n",
    "   \n",
    "\n",
    "\n",
    "    steps = [ ( 'step_transformer' , transformer ) ,\n",
    "              ( 'step_model' , RandomForestClassifier( n_estimators = 100 ) ) ]\n",
    "    \n",
    "    model = Pipeline( steps = steps )\n",
    "    \n",
    "    models[ 'RF' ] = model\n",
    "\n",
    "\n",
    "\n",
    "    steps = [ ( 'step_transformer' , transformer ) ,\n",
    "              ( 'step_model' , GradientBoostingClassifier( n_estimators = 100 ) ) ]\n",
    "    \n",
    "    model = Pipeline( steps = steps )\n",
    "    \n",
    "    models[ 'GBM' ] = model\n",
    "    \n",
    "\n",
    "    return models"
   ]
  },
  {
   "cell_type": "code",
   "execution_count": 31,
   "metadata": {},
   "outputs": [
    {
     "name": "stdout",
     "output_type": "stream",
     "text": [
      " model : CART : 0.812 ( 0.005 )\n",
      " model : SVM : 0.836 ( 0.006 )\n",
      " model : BAG : 0.852 ( 0.004 )\n",
      " model : RF : 0.850 ( 0.004 )\n",
      " model : GBM : 0.864 ( 0.005 )\n"
     ]
    }
   ],
   "source": [
    "models = get_models()\n",
    "\n",
    "results = list()\n",
    "\n",
    "names = list()\n",
    "\n",
    "\n",
    "for name , model in models.items() :\n",
    "    \n",
    "    names.append( name )\n",
    "    \n",
    "    scores = evaluate_model( X , y , model ) \n",
    "    \n",
    "    results.append( scores )\n",
    "    \n",
    "    print( f' model : {name} : {mean(scores):.3f} ( {std(scores):.3f} )' )"
   ]
  },
  {
   "cell_type": "code",
   "execution_count": 32,
   "metadata": {},
   "outputs": [],
   "source": [
    "from matplotlib import pyplot"
   ]
  },
  {
   "cell_type": "code",
   "execution_count": 33,
   "metadata": {},
   "outputs": [
    {
     "data": {
      "text/plain": [
       "{'whiskers': [<matplotlib.lines.Line2D at 0x1d823898>,\n",
       "  <matplotlib.lines.Line2D at 0x1d823c50>,\n",
       "  <matplotlib.lines.Line2D at 0x1d830f60>,\n",
       "  <matplotlib.lines.Line2D at 0x1d83b6a0>,\n",
       "  <matplotlib.lines.Line2D at 0x1d846dd8>,\n",
       "  <matplotlib.lines.Line2D at 0x1d846eb8>,\n",
       "  <matplotlib.lines.Line2D at 0x1d85d898>,\n",
       "  <matplotlib.lines.Line2D at 0x1d85dbe0>,\n",
       "  <matplotlib.lines.Line2D at 0x1d867f60>,\n",
       "  <matplotlib.lines.Line2D at 0x1d8746a0>],\n",
       " 'caps': [<matplotlib.lines.Line2D at 0x1d823f98>,\n",
       "  <matplotlib.lines.Line2D at 0x1d823f60>,\n",
       "  <matplotlib.lines.Line2D at 0x1d83b9e8>,\n",
       "  <matplotlib.lines.Line2D at 0x1d83bd30>,\n",
       "  <matplotlib.lines.Line2D at 0x1d8504a8>,\n",
       "  <matplotlib.lines.Line2D at 0x1d8507f0>,\n",
       "  <matplotlib.lines.Line2D at 0x1d85df28>,\n",
       "  <matplotlib.lines.Line2D at 0x1d85def0>,\n",
       "  <matplotlib.lines.Line2D at 0x1d8749e8>,\n",
       "  <matplotlib.lines.Line2D at 0x1d874d30>],\n",
       " 'boxes': [<matplotlib.lines.Line2D at 0x1d8232b0>,\n",
       "  <matplotlib.lines.Line2D at 0x1d830f98>,\n",
       "  <matplotlib.lines.Line2D at 0x1d846a58>,\n",
       "  <matplotlib.lines.Line2D at 0x1d85d518>,\n",
       "  <matplotlib.lines.Line2D at 0x1d867f98>],\n",
       " 'medians': [<matplotlib.lines.Line2D at 0x1d8305f8>,\n",
       "  <matplotlib.lines.Line2D at 0x1d83be10>,\n",
       "  <matplotlib.lines.Line2D at 0x1d850b38>,\n",
       "  <matplotlib.lines.Line2D at 0x1d8675f8>,\n",
       "  <matplotlib.lines.Line2D at 0x1d874e10>],\n",
       " 'fliers': [<matplotlib.lines.Line2D at 0x1d830c88>,\n",
       "  <matplotlib.lines.Line2D at 0x1d846748>,\n",
       "  <matplotlib.lines.Line2D at 0x1d850f28>,\n",
       "  <matplotlib.lines.Line2D at 0x1d867c88>,\n",
       "  <matplotlib.lines.Line2D at 0x1d87f748>],\n",
       " 'means': [<matplotlib.lines.Line2D at 0x1d830940>,\n",
       "  <matplotlib.lines.Line2D at 0x1d846400>,\n",
       "  <matplotlib.lines.Line2D at 0x1d850e80>,\n",
       "  <matplotlib.lines.Line2D at 0x1d867940>,\n",
       "  <matplotlib.lines.Line2D at 0x1d87f400>]}"
      ]
     },
     "execution_count": 33,
     "metadata": {},
     "output_type": "execute_result"
    },
    {
     "data": {
      "text/plain": [
       "(array([1, 2, 3, 4, 5]), <a list of 5 Text xticklabel objects>)"
      ]
     },
     "execution_count": 33,
     "metadata": {},
     "output_type": "execute_result"
    },
    {
     "data": {
      "image/png": "[encoded data removed]",
      "text/plain": [
       "<Figure size 432x288 with 1 Axes>"
      ]
     },
     "metadata": {
      "needs_background": "light"
     },
     "output_type": "display_data"
    }
   ],
   "source": [
    "pyplot.boxplot( results , labels = names , showmeans = True )\n",
    "\n",
    "pyplot.grid( axis = 'y' , color = 'black' , linestyle = '-.' , linewidth = 0.5 )\n",
    "\n",
    "pyplot.xticks( rotation = 90 )\n",
    "\n",
    "pyplot.show()"
   ]
  },
  {
   "cell_type": "code",
   "execution_count": null,
   "metadata": {},
   "outputs": [],
   "source": []
  }
 ],
 "metadata": {
  "kernelspec": {
   "display_name": "Python 3",
   "language": "python",
   "name": "python3"
  },
  "language_info": {
   "codemirror_mode": {
    "name": "ipython",
    "version": 3
   },
   "file_extension": ".py",
   "mimetype": "text/x-python",
   "name": "python",
   "nbconvert_exporter": "python",
   "pygments_lexer": "ipython3",
   "version": "3.7.3"
  }
 },
 "nbformat": 4,
 "nbformat_minor": 2
}
