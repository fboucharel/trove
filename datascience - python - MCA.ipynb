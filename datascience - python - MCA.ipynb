{
 "cells": [
  {
   "cell_type": "code",
   "execution_count": 1,
   "metadata": {},
   "outputs": [],
   "source": [
    "#!pip install prince "
   ]
  },
  {
   "cell_type": "code",
   "execution_count": 2,
   "metadata": {},
   "outputs": [],
   "source": [
    "import pandas as pd\n",
    "\n",
    "from sklearn import datasets\n",
    "\n",
    "import prince"
   ]
  },
  {
   "cell_type": "code",
   "execution_count": 3,
   "metadata": {},
   "outputs": [],
   "source": [
    "X = pd.read_csv('https://archive.ics.uci.edu/ml/machine-learning-databases/balloons/adult+stretch.data')"
   ]
  },
  {
   "cell_type": "code",
   "execution_count": 4,
   "metadata": {},
   "outputs": [],
   "source": [
    "X.columns = ['Color', 'Size', 'Action', 'Age', 'Inflated']"
   ]
  },
  {
   "cell_type": "code",
   "execution_count": 5,
   "metadata": {},
   "outputs": [
    {
     "data": {
      "text/html": [
       "<div>\n",
       "<style scoped>\n",
       "    .dataframe tbody tr th:only-of-type {\n",
       "        vertical-align: middle;\n",
       "    }\n",
       "\n",
       "    .dataframe tbody tr th {\n",
       "        vertical-align: top;\n",
       "    }\n",
       "\n",
       "    .dataframe thead th {\n",
       "        text-align: right;\n",
       "    }\n",
       "</style>\n",
       "<table border=\"1\" class=\"dataframe\">\n",
       "  <thead>\n",
       "    <tr style=\"text-align: right;\">\n",
       "      <th></th>\n",
       "      <th>Color</th>\n",
       "      <th>Size</th>\n",
       "      <th>Action</th>\n",
       "      <th>Age</th>\n",
       "      <th>Inflated</th>\n",
       "    </tr>\n",
       "  </thead>\n",
       "  <tbody>\n",
       "    <tr>\n",
       "      <th>0</th>\n",
       "      <td>YELLOW</td>\n",
       "      <td>SMALL</td>\n",
       "      <td>STRETCH</td>\n",
       "      <td>ADULT</td>\n",
       "      <td>T</td>\n",
       "    </tr>\n",
       "    <tr>\n",
       "      <th>1</th>\n",
       "      <td>YELLOW</td>\n",
       "      <td>SMALL</td>\n",
       "      <td>STRETCH</td>\n",
       "      <td>CHILD</td>\n",
       "      <td>F</td>\n",
       "    </tr>\n",
       "    <tr>\n",
       "      <th>2</th>\n",
       "      <td>YELLOW</td>\n",
       "      <td>SMALL</td>\n",
       "      <td>DIP</td>\n",
       "      <td>ADULT</td>\n",
       "      <td>F</td>\n",
       "    </tr>\n",
       "    <tr>\n",
       "      <th>3</th>\n",
       "      <td>YELLOW</td>\n",
       "      <td>SMALL</td>\n",
       "      <td>DIP</td>\n",
       "      <td>CHILD</td>\n",
       "      <td>F</td>\n",
       "    </tr>\n",
       "    <tr>\n",
       "      <th>4</th>\n",
       "      <td>YELLOW</td>\n",
       "      <td>LARGE</td>\n",
       "      <td>STRETCH</td>\n",
       "      <td>ADULT</td>\n",
       "      <td>T</td>\n",
       "    </tr>\n",
       "  </tbody>\n",
       "</table>\n",
       "</div>"
      ],
      "text/plain": [
       "    Color   Size   Action    Age Inflated\n",
       "0  YELLOW  SMALL  STRETCH  ADULT        T\n",
       "1  YELLOW  SMALL  STRETCH  CHILD        F\n",
       "2  YELLOW  SMALL      DIP  ADULT        F\n",
       "3  YELLOW  SMALL      DIP  CHILD        F\n",
       "4  YELLOW  LARGE  STRETCH  ADULT        T"
      ]
     },
     "execution_count": 5,
     "metadata": {},
     "output_type": "execute_result"
    }
   ],
   "source": [
    "X.head()"
   ]
  },
  {
   "cell_type": "code",
   "execution_count": 28,
   "metadata": {},
   "outputs": [
    {
     "data": {
      "text/plain": [
       "PURPLE    10\n",
       "YELLOW     9\n",
       "Name: Color, dtype: int64"
      ]
     },
     "execution_count": 28,
     "metadata": {},
     "output_type": "execute_result"
    }
   ],
   "source": [
    "pd.DataFrame(X)['Color'].value_counts()"
   ]
  },
  {
   "cell_type": "code",
   "execution_count": 6,
   "metadata": {},
   "outputs": [],
   "source": [
    "mca = prince.MCA( n_components=2 , n_iter=3 , copy=True , check_input=True , engine='auto', random_state=42 )"
   ]
  },
  {
   "cell_type": "code",
   "execution_count": 7,
   "metadata": {
    "collapsed": true
   },
   "outputs": [
    {
     "data": {
      "text/plain": [
       "['__class__',\n",
       " '__delattr__',\n",
       " '__dict__',\n",
       " '__dir__',\n",
       " '__doc__',\n",
       " '__eq__',\n",
       " '__format__',\n",
       " '__ge__',\n",
       " '__getattribute__',\n",
       " '__getstate__',\n",
       " '__gt__',\n",
       " '__hash__',\n",
       " '__init__',\n",
       " '__init_subclass__',\n",
       " '__le__',\n",
       " '__lt__',\n",
       " '__module__',\n",
       " '__ne__',\n",
       " '__new__',\n",
       " '__reduce__',\n",
       " '__reduce_ex__',\n",
       " '__repr__',\n",
       " '__setattr__',\n",
       " '__setstate__',\n",
       " '__sizeof__',\n",
       " '__str__',\n",
       " '__subclasshook__',\n",
       " '__weakref__',\n",
       " '_get_param_names',\n",
       " 'check_input',\n",
       " 'column_coordinates',\n",
       " 'copy',\n",
       " 'eigenvalues_',\n",
       " 'engine',\n",
       " 'explained_inertia_',\n",
       " 'fit',\n",
       " 'fit_transform',\n",
       " 'get_params',\n",
       " 'n_components',\n",
       " 'n_iter',\n",
       " 'plot_coordinates',\n",
       " 'random_state',\n",
       " 'row_coordinates',\n",
       " 'set_params',\n",
       " 'transform']"
      ]
     },
     "execution_count": 7,
     "metadata": {},
     "output_type": "execute_result"
    }
   ],
   "source": [
    "dir( mca )"
   ]
  },
  {
   "cell_type": "code",
   "execution_count": 15,
   "metadata": {},
   "outputs": [],
   "source": [
    "mca = mca.fit(X)"
   ]
  },
  {
   "cell_type": "code",
   "execution_count": 16,
   "metadata": {
    "collapsed": true
   },
   "outputs": [
    {
     "data": {
      "text/plain": [
       "{'n_components': 2,\n",
       " 'n_iter': 3,\n",
       " 'copy': True,\n",
       " 'check_input': True,\n",
       " 'random_state': 42,\n",
       " 'engine': 'auto',\n",
       " 'one_hot_': OneHotEncoder(),\n",
       " 'row_masses_': 0     0.052632\n",
       " 1     0.052632\n",
       " 2     0.052632\n",
       " 3     0.052632\n",
       " 4     0.052632\n",
       " 5     0.052632\n",
       " 6     0.052632\n",
       " 7     0.052632\n",
       " 8     0.052632\n",
       " 9     0.052632\n",
       " 10    0.052632\n",
       " 11    0.052632\n",
       " 12    0.052632\n",
       " 13    0.052632\n",
       " 14    0.052632\n",
       " 15    0.052632\n",
       " 16    0.052632\n",
       " 17    0.052632\n",
       " 18    0.052632\n",
       " dtype: float64,\n",
       " 'col_masses_': Color_PURPLE      0.105263\n",
       " Color_YELLOW      0.094737\n",
       " Size_LARGE        0.105263\n",
       " Size_SMALL        0.094737\n",
       " Action_DIP        0.084211\n",
       " Action_STRETCH    0.115789\n",
       " Age_ADULT         0.115789\n",
       " Age_CHILD         0.084211\n",
       " Inflated_F        0.126316\n",
       " Inflated_T        0.073684\n",
       " dtype: float64,\n",
       " 'U_': array([[ 2.55342492e-01,  6.28153592e-15],\n",
       "        [-1.39940114e-01,  5.34399276e-15],\n",
       "        [-1.39940114e-01,  5.16434440e-15],\n",
       "        [-3.08419994e-01,  4.64086081e-15],\n",
       "        [ 2.83632664e-01, -3.16227766e-01],\n",
       "        [ 2.83632664e-01, -3.16227766e-01],\n",
       "        [-1.11649942e-01, -3.16227766e-01],\n",
       "        [-1.11649942e-01, -3.16227766e-01],\n",
       "        [-2.80129822e-01, -3.16227766e-01],\n",
       "        [ 2.83632664e-01,  3.16227766e-01],\n",
       "        [ 2.83632664e-01,  3.16227766e-01],\n",
       "        [-1.11649942e-01,  3.16227766e-01],\n",
       "        [-1.11649942e-01,  3.16227766e-01],\n",
       "        [-2.80129822e-01,  3.16227766e-01],\n",
       "        [ 3.11922836e-01, -4.17337248e-15],\n",
       "        [ 3.11922836e-01, -4.17337248e-15],\n",
       "        [-8.33597695e-02, -5.19029264e-15],\n",
       "        [-8.33597695e-02, -5.38458167e-15],\n",
       "        [-2.51839650e-01, -5.78703752e-15]]),\n",
       " 's_': array([0.63376381, 0.45946829]),\n",
       " 'V_': array([[ 6.00533082e-02, -6.33017450e-02,  6.00533082e-02,\n",
       "         -6.33017450e-02, -3.90971014e-01,  3.33421201e-01,\n",
       "          3.33421201e-01, -3.90971014e-01, -4.10200107e-01,\n",
       "          5.37078011e-01],\n",
       "        [ 4.86664263e-01, -5.12989176e-01, -4.86664263e-01,\n",
       "          5.12989176e-01, -8.98586761e-16,  9.85322934e-16,\n",
       "          6.03683770e-16, -7.11236625e-16, -6.97358837e-16,\n",
       "          9.15933995e-16]]),\n",
       " 'total_inertia_': 1.0}"
      ]
     },
     "execution_count": 16,
     "metadata": {},
     "output_type": "execute_result"
    }
   ],
   "source": [
    "vars( mca )"
   ]
  },
  {
   "cell_type": "code",
   "execution_count": 30,
   "metadata": {},
   "outputs": [
    {
     "data": {
      "text/plain": [
       "Color_PURPLE      0.105263\n",
       "Color_YELLOW      0.094737\n",
       "Size_LARGE        0.105263\n",
       "Size_SMALL        0.094737\n",
       "Action_DIP        0.084211\n",
       "Action_STRETCH    0.115789\n",
       "Age_ADULT         0.115789\n",
       "Age_CHILD         0.084211\n",
       "Inflated_F        0.126316\n",
       "Inflated_T        0.073684\n",
       "dtype: float64"
      ]
     },
     "execution_count": 30,
     "metadata": {},
     "output_type": "execute_result"
    }
   ],
   "source": [
    "mca.col_masses_"
   ]
  },
  {
   "cell_type": "code",
   "execution_count": 31,
   "metadata": {
    "collapsed": true
   },
   "outputs": [
    {
     "data": {
      "text/plain": [
       "[0.4016565656013382, 0.21111111111111133]"
      ]
     },
     "execution_count": 31,
     "metadata": {},
     "output_type": "execute_result"
    }
   ],
   "source": [
    "mca.explained_inertia_"
   ]
  },
  {
   "cell_type": "code",
   "execution_count": 11,
   "metadata": {
    "collapsed": true
   },
   "outputs": [
    {
     "data": {
      "text/plain": [
       "{'n_components': 2,\n",
       " 'n_iter': 3,\n",
       " 'copy': True,\n",
       " 'check_input': True,\n",
       " 'random_state': 42,\n",
       " 'engine': 'auto',\n",
       " 'one_hot_': OneHotEncoder(),\n",
       " 'row_masses_': 0     0.052632\n",
       " 1     0.052632\n",
       " 2     0.052632\n",
       " 3     0.052632\n",
       " 4     0.052632\n",
       " 5     0.052632\n",
       " 6     0.052632\n",
       " 7     0.052632\n",
       " 8     0.052632\n",
       " 9     0.052632\n",
       " 10    0.052632\n",
       " 11    0.052632\n",
       " 12    0.052632\n",
       " 13    0.052632\n",
       " 14    0.052632\n",
       " 15    0.052632\n",
       " 16    0.052632\n",
       " 17    0.052632\n",
       " 18    0.052632\n",
       " dtype: float64,\n",
       " 'col_masses_': Color_PURPLE      0.105263\n",
       " Color_YELLOW      0.094737\n",
       " Size_LARGE        0.105263\n",
       " Size_SMALL        0.094737\n",
       " Action_DIP        0.084211\n",
       " Action_STRETCH    0.115789\n",
       " Age_ADULT         0.115789\n",
       " Age_CHILD         0.084211\n",
       " Inflated_F        0.126316\n",
       " Inflated_T        0.073684\n",
       " dtype: float64,\n",
       " 'U_': array([[ 2.55342492e-01,  6.28153592e-15],\n",
       "        [-1.39940114e-01,  5.34399276e-15],\n",
       "        [-1.39940114e-01,  5.16434440e-15],\n",
       "        [-3.08419994e-01,  4.64086081e-15],\n",
       "        [ 2.83632664e-01, -3.16227766e-01],\n",
       "        [ 2.83632664e-01, -3.16227766e-01],\n",
       "        [-1.11649942e-01, -3.16227766e-01],\n",
       "        [-1.11649942e-01, -3.16227766e-01],\n",
       "        [-2.80129822e-01, -3.16227766e-01],\n",
       "        [ 2.83632664e-01,  3.16227766e-01],\n",
       "        [ 2.83632664e-01,  3.16227766e-01],\n",
       "        [-1.11649942e-01,  3.16227766e-01],\n",
       "        [-1.11649942e-01,  3.16227766e-01],\n",
       "        [-2.80129822e-01,  3.16227766e-01],\n",
       "        [ 3.11922836e-01, -4.17337248e-15],\n",
       "        [ 3.11922836e-01, -4.17337248e-15],\n",
       "        [-8.33597695e-02, -5.19029264e-15],\n",
       "        [-8.33597695e-02, -5.38458167e-15],\n",
       "        [-2.51839650e-01, -5.78703752e-15]]),\n",
       " 's_': array([0.63376381, 0.45946829]),\n",
       " 'V_': array([[ 6.00533082e-02, -6.33017450e-02,  6.00533082e-02,\n",
       "         -6.33017450e-02, -3.90971014e-01,  3.33421201e-01,\n",
       "          3.33421201e-01, -3.90971014e-01, -4.10200107e-01,\n",
       "          5.37078011e-01],\n",
       "        [ 4.86664263e-01, -5.12989176e-01, -4.86664263e-01,\n",
       "          5.12989176e-01, -8.98586761e-16,  9.85322934e-16,\n",
       "          6.03683770e-16, -7.11236625e-16, -6.97358837e-16,\n",
       "          9.15933995e-16]]),\n",
       " 'total_inertia_': 1.0}"
      ]
     },
     "execution_count": 11,
     "metadata": {},
     "output_type": "execute_result"
    }
   ],
   "source": [
    "vars( mca )"
   ]
  },
  {
   "cell_type": "markdown",
   "metadata": {},
   "source": [
    "Idée :\n",
    "    - N variables catégorielles v(1) ... v(N), v(k) à m(k) modalités\n",
    "    - Choisir une variable catégorielles v(k) à m(k) modalités\n",
    "    - baseline : prédire la variable cible à partir de v(k)\n",
    "    - regroupement au hasard des modalités de v(k) : \n",
    "        - choisir un nombre de groupes de modalités g(k) < m(k)\n",
    "        - inclure dans g(1) "
   ]
  }
 ],
 "metadata": {
  "kernelspec": {
   "display_name": "Python 3",
   "language": "python",
   "name": "python3"
  },
  "language_info": {
   "codemirror_mode": {
    "name": "ipython",
    "version": 3
   },
   "file_extension": ".py",
   "mimetype": "text/x-python",
   "name": "python",
   "nbconvert_exporter": "python",
   "pygments_lexer": "ipython3",
   "version": "3.7.3"
  }
 },
 "nbformat": 4,
 "nbformat_minor": 2
}
