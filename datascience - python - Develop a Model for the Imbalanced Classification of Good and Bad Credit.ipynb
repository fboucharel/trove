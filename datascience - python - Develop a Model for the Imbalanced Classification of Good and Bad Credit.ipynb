{
 "cells": [
  {
   "cell_type": "markdown",
   "metadata": {},
   "source": [
    "https://machinelearningmastery.com/imbalanced-classification-of-good-and-bad-credit/"
   ]
  },
  {
   "cell_type": "code",
   "execution_count": 14,
   "metadata": {},
   "outputs": [],
   "source": [
    "from IPython.core.interactiveshell import InteractiveShell\n",
    "\n",
    "InteractiveShell.ast_node_interactivity = 'all'"
   ]
  },
  {
   "cell_type": "code",
   "execution_count": 15,
   "metadata": {},
   "outputs": [],
   "source": [
    "import pandas as pd\n",
    "\n",
    "pd.set_option( 'display.max_columns' , None ) "
   ]
  },
  {
   "cell_type": "code",
   "execution_count": 16,
   "metadata": {},
   "outputs": [],
   "source": [
    "url = 'https://raw.githubusercontent.com/jbrownlee/Datasets/master/german.csv'\n",
    "    \n",
    "df = pd.read_csv( url , header = None )"
   ]
  },
  {
   "cell_type": "code",
   "execution_count": 17,
   "metadata": {},
   "outputs": [
    {
     "data": {
      "text/html": [
       "<div>\n",
       "<style scoped>\n",
       "    .dataframe tbody tr th:only-of-type {\n",
       "        vertical-align: middle;\n",
       "    }\n",
       "\n",
       "    .dataframe tbody tr th {\n",
       "        vertical-align: top;\n",
       "    }\n",
       "\n",
       "    .dataframe thead th {\n",
       "        text-align: right;\n",
       "    }\n",
       "</style>\n",
       "<table border=\"1\" class=\"dataframe\">\n",
       "  <thead>\n",
       "    <tr style=\"text-align: right;\">\n",
       "      <th></th>\n",
       "      <th>0</th>\n",
       "      <th>1</th>\n",
       "      <th>2</th>\n",
       "      <th>3</th>\n",
       "      <th>4</th>\n",
       "      <th>5</th>\n",
       "      <th>6</th>\n",
       "      <th>7</th>\n",
       "      <th>8</th>\n",
       "      <th>9</th>\n",
       "      <th>10</th>\n",
       "      <th>11</th>\n",
       "      <th>12</th>\n",
       "      <th>13</th>\n",
       "      <th>14</th>\n",
       "      <th>15</th>\n",
       "      <th>16</th>\n",
       "      <th>17</th>\n",
       "      <th>18</th>\n",
       "      <th>19</th>\n",
       "      <th>20</th>\n",
       "    </tr>\n",
       "  </thead>\n",
       "  <tbody>\n",
       "    <tr>\n",
       "      <th>0</th>\n",
       "      <td>A11</td>\n",
       "      <td>6</td>\n",
       "      <td>A34</td>\n",
       "      <td>A43</td>\n",
       "      <td>1169</td>\n",
       "      <td>A65</td>\n",
       "      <td>A75</td>\n",
       "      <td>4</td>\n",
       "      <td>A93</td>\n",
       "      <td>A101</td>\n",
       "      <td>4</td>\n",
       "      <td>A121</td>\n",
       "      <td>67</td>\n",
       "      <td>A143</td>\n",
       "      <td>A152</td>\n",
       "      <td>2</td>\n",
       "      <td>A173</td>\n",
       "      <td>1</td>\n",
       "      <td>A192</td>\n",
       "      <td>A201</td>\n",
       "      <td>1</td>\n",
       "    </tr>\n",
       "    <tr>\n",
       "      <th>1</th>\n",
       "      <td>A12</td>\n",
       "      <td>48</td>\n",
       "      <td>A32</td>\n",
       "      <td>A43</td>\n",
       "      <td>5951</td>\n",
       "      <td>A61</td>\n",
       "      <td>A73</td>\n",
       "      <td>2</td>\n",
       "      <td>A92</td>\n",
       "      <td>A101</td>\n",
       "      <td>2</td>\n",
       "      <td>A121</td>\n",
       "      <td>22</td>\n",
       "      <td>A143</td>\n",
       "      <td>A152</td>\n",
       "      <td>1</td>\n",
       "      <td>A173</td>\n",
       "      <td>1</td>\n",
       "      <td>A191</td>\n",
       "      <td>A201</td>\n",
       "      <td>2</td>\n",
       "    </tr>\n",
       "    <tr>\n",
       "      <th>2</th>\n",
       "      <td>A14</td>\n",
       "      <td>12</td>\n",
       "      <td>A34</td>\n",
       "      <td>A46</td>\n",
       "      <td>2096</td>\n",
       "      <td>A61</td>\n",
       "      <td>A74</td>\n",
       "      <td>2</td>\n",
       "      <td>A93</td>\n",
       "      <td>A101</td>\n",
       "      <td>3</td>\n",
       "      <td>A121</td>\n",
       "      <td>49</td>\n",
       "      <td>A143</td>\n",
       "      <td>A152</td>\n",
       "      <td>1</td>\n",
       "      <td>A172</td>\n",
       "      <td>2</td>\n",
       "      <td>A191</td>\n",
       "      <td>A201</td>\n",
       "      <td>1</td>\n",
       "    </tr>\n",
       "    <tr>\n",
       "      <th>3</th>\n",
       "      <td>A11</td>\n",
       "      <td>42</td>\n",
       "      <td>A32</td>\n",
       "      <td>A42</td>\n",
       "      <td>7882</td>\n",
       "      <td>A61</td>\n",
       "      <td>A74</td>\n",
       "      <td>2</td>\n",
       "      <td>A93</td>\n",
       "      <td>A103</td>\n",
       "      <td>4</td>\n",
       "      <td>A122</td>\n",
       "      <td>45</td>\n",
       "      <td>A143</td>\n",
       "      <td>A153</td>\n",
       "      <td>1</td>\n",
       "      <td>A173</td>\n",
       "      <td>2</td>\n",
       "      <td>A191</td>\n",
       "      <td>A201</td>\n",
       "      <td>1</td>\n",
       "    </tr>\n",
       "    <tr>\n",
       "      <th>4</th>\n",
       "      <td>A11</td>\n",
       "      <td>24</td>\n",
       "      <td>A33</td>\n",
       "      <td>A40</td>\n",
       "      <td>4870</td>\n",
       "      <td>A61</td>\n",
       "      <td>A73</td>\n",
       "      <td>3</td>\n",
       "      <td>A93</td>\n",
       "      <td>A101</td>\n",
       "      <td>4</td>\n",
       "      <td>A124</td>\n",
       "      <td>53</td>\n",
       "      <td>A143</td>\n",
       "      <td>A153</td>\n",
       "      <td>2</td>\n",
       "      <td>A173</td>\n",
       "      <td>2</td>\n",
       "      <td>A191</td>\n",
       "      <td>A201</td>\n",
       "      <td>2</td>\n",
       "    </tr>\n",
       "  </tbody>\n",
       "</table>\n",
       "</div>"
      ],
      "text/plain": [
       "    0   1    2    3     4    5    6   7    8     9   10    11  12    13    14  \\\n",
       "0  A11   6  A34  A43  1169  A65  A75   4  A93  A101   4  A121  67  A143  A152   \n",
       "1  A12  48  A32  A43  5951  A61  A73   2  A92  A101   2  A121  22  A143  A152   \n",
       "2  A14  12  A34  A46  2096  A61  A74   2  A93  A101   3  A121  49  A143  A152   \n",
       "3  A11  42  A32  A42  7882  A61  A74   2  A93  A103   4  A122  45  A143  A153   \n",
       "4  A11  24  A33  A40  4870  A61  A73   3  A93  A101   4  A124  53  A143  A153   \n",
       "\n",
       "   15    16  17    18    19  20  \n",
       "0   2  A173   1  A192  A201   1  \n",
       "1   1  A173   1  A191  A201   2  \n",
       "2   1  A172   2  A191  A201   1  \n",
       "3   1  A173   2  A191  A201   1  \n",
       "4   2  A173   2  A191  A201   2  "
      ]
     },
     "execution_count": 17,
     "metadata": {},
     "output_type": "execute_result"
    }
   ],
   "source": [
    "df.head()"
   ]
  },
  {
   "cell_type": "code",
   "execution_count": 18,
   "metadata": {},
   "outputs": [
    {
     "data": {
      "text/plain": [
       "(1000, 21)"
      ]
     },
     "execution_count": 18,
     "metadata": {},
     "output_type": "execute_result"
    }
   ],
   "source": [
    "df.shape"
   ]
  },
  {
   "cell_type": "code",
   "execution_count": 19,
   "metadata": {},
   "outputs": [
    {
     "name": "stdout",
     "output_type": "stream",
     "text": [
      "<class 'pandas.core.frame.DataFrame'>\n",
      "RangeIndex: 1000 entries, 0 to 999\n",
      "Data columns (total 21 columns):\n",
      " #   Column  Non-Null Count  Dtype \n",
      "---  ------  --------------  ----- \n",
      " 0   0       1000 non-null   object\n",
      " 1   1       1000 non-null   int64 \n",
      " 2   2       1000 non-null   object\n",
      " 3   3       1000 non-null   object\n",
      " 4   4       1000 non-null   int64 \n",
      " 5   5       1000 non-null   object\n",
      " 6   6       1000 non-null   object\n",
      " 7   7       1000 non-null   int64 \n",
      " 8   8       1000 non-null   object\n",
      " 9   9       1000 non-null   object\n",
      " 10  10      1000 non-null   int64 \n",
      " 11  11      1000 non-null   object\n",
      " 12  12      1000 non-null   int64 \n",
      " 13  13      1000 non-null   object\n",
      " 14  14      1000 non-null   object\n",
      " 15  15      1000 non-null   int64 \n",
      " 16  16      1000 non-null   object\n",
      " 17  17      1000 non-null   int64 \n",
      " 18  18      1000 non-null   object\n",
      " 19  19      1000 non-null   object\n",
      " 20  20      1000 non-null   int64 \n",
      "dtypes: int64(8), object(13)\n",
      "memory usage: 164.2+ KB\n"
     ]
    }
   ],
   "source": [
    "df.info()"
   ]
  },
  {
   "cell_type": "code",
   "execution_count": 20,
   "metadata": {},
   "outputs": [],
   "source": [
    "from collections import Counter"
   ]
  },
  {
   "cell_type": "code",
   "execution_count": 21,
   "metadata": {},
   "outputs": [
    {
     "name": "stdout",
     "output_type": "stream",
     "text": [
      "Counter({1: 700, 2: 300})\n"
     ]
    }
   ],
   "source": [
    "target = df.values[ : , -1 ]\n",
    "\n",
    "counter = Counter( target )\n",
    "\n",
    "print( counter )"
   ]
  },
  {
   "cell_type": "code",
   "execution_count": 22,
   "metadata": {},
   "outputs": [
    {
     "name": "stdout",
     "output_type": "stream",
     "text": [
      "class : 1 | count : 700 | % : 70.00 \n",
      "class : 2 | count : 300 | % : 30.00 \n"
     ]
    }
   ],
   "source": [
    "for k , v in counter.items():\n",
    "\n",
    "    p = v / len( target ) * 100\n",
    "\n",
    "    print( f'class : {k} | count : {v} | % : {p:.2f} ' )"
   ]
  },
  {
   "cell_type": "code",
   "execution_count": 31,
   "metadata": {},
   "outputs": [
    {
     "name": "stdout",
     "output_type": "stream",
     "text": [
      "Int64Index([0, 2, 3, 5, 6, 8, 9, 11, 13, 14, 16, 18, 19], dtype='int64')\n",
      "Int64Index([1, 4, 7, 10, 12, 15, 17], dtype='int64')\n"
     ]
    }
   ],
   "source": [
    "last_ix = len( df.columns ) - 1\n",
    "\n",
    "X = df.drop( last_ix , axis = 1 )\n",
    "\n",
    "y = df[ last_ix ]\n",
    "\n",
    "\n",
    "cat_ix = X.select_dtypes( include = [ 'object' , 'bool' ] ).columns\n",
    "\n",
    "num_ix = X.select_dtypes( include = [ 'int64' , 'float64' ] ).columns\n",
    "\n",
    "print( cat_ix )\n",
    "\n",
    "print( num_ix )"
   ]
  },
  {
   "cell_type": "code",
   "execution_count": 32,
   "metadata": {},
   "outputs": [],
   "source": [
    "from sklearn.preprocessing import LabelEncoder"
   ]
  },
  {
   "cell_type": "code",
   "execution_count": 33,
   "metadata": {},
   "outputs": [],
   "source": [
    "y = LabelEncoder().fit_transform( y )"
   ]
  },
  {
   "cell_type": "markdown",
   "metadata": {},
   "source": [
    "# Baseline Result"
   ]
  },
  {
   "cell_type": "code",
   "execution_count": 34,
   "metadata": {},
   "outputs": [],
   "source": [
    "from sklearn.metrics import fbeta_score"
   ]
  },
  {
   "cell_type": "code",
   "execution_count": 35,
   "metadata": {},
   "outputs": [],
   "source": [
    "def f2( y , yhat ) :\n",
    "\n",
    "    return fbeta_score( y , yhat , beta = 2 )"
   ]
  },
  {
   "cell_type": "code",
   "execution_count": 36,
   "metadata": {},
   "outputs": [],
   "source": [
    "from sklearn.model_selection import RepeatedStratifiedKFold\n",
    "\n",
    "from sklearn.metrics import make_scorer\n",
    "\n",
    "from sklearn.model_selection import cross_val_score"
   ]
  },
  {
   "cell_type": "code",
   "execution_count": 37,
   "metadata": {},
   "outputs": [],
   "source": [
    "def evaluate_model( X , y , model ):\n",
    "\n",
    "    cv = RepeatedStratifiedKFold( n_splits = 10 , n_repeats = 3 , random_state = 999 )\n",
    "\n",
    "    metric = make_scorer( f2 )\n",
    "\n",
    "    scores = cross_val_score( model , X , y , scoring = metric , cv = cv , n_jobs = -1 )\n",
    "\n",
    "    return scores"
   ]
  },
  {
   "cell_type": "code",
   "execution_count": 38,
   "metadata": {},
   "outputs": [],
   "source": [
    "from sklearn.dummy import DummyClassifier"
   ]
  },
  {
   "cell_type": "code",
   "execution_count": 39,
   "metadata": {},
   "outputs": [],
   "source": [
    "model = DummyClassifier( strategy = 'constant' , constant = 1 )"
   ]
  },
  {
   "cell_type": "code",
   "execution_count": 40,
   "metadata": {},
   "outputs": [],
   "source": [
    "from numpy import mean\n",
    "\n",
    "from numpy import std"
   ]
  },
  {
   "cell_type": "code",
   "execution_count": 41,
   "metadata": {},
   "outputs": [
    {
     "name": "stdout",
     "output_type": "stream",
     "text": [
      "dummy model | f2-measure : 0.682 ( 0.000 )\n"
     ]
    }
   ],
   "source": [
    "scores = evaluate_model( X , y , model )\n",
    "\n",
    "print( f'dummy model | f2-measure : {mean(scores):.3f} ( {std(scores):.3f} )' )"
   ]
  },
  {
   "cell_type": "markdown",
   "metadata": {},
   "source": [
    "# <div class=\"alert alert-block alert-success\">Evaluate Data Undersampling Algorithms</div>"
   ]
  },
  {
   "cell_type": "code",
   "execution_count": 50,
   "metadata": {},
   "outputs": [],
   "source": [
    "from sklearn.compose import ColumnTransformer\n",
    "\n",
    "from sklearn.preprocessing import OneHotEncoder\n",
    "\n",
    "from sklearn.preprocessing import MinMaxScaler\n",
    "\n",
    "\n",
    "from imblearn.pipeline import Pipeline\n",
    "\n",
    "\n",
    "from imblearn.under_sampling import TomekLinks\n",
    "\n",
    "from imblearn.under_sampling import EditedNearestNeighbours\n",
    "\n",
    "from imblearn.under_sampling import RepeatedEditedNearestNeighbours\n",
    "\n",
    "from imblearn.under_sampling import NeighbourhoodCleaningRule\n",
    "\n",
    "from imblearn.under_sampling import OneSidedSelection\n",
    "\n",
    "from imblearn.under_sampling import InstanceHardnessThreshold\n",
    "\n",
    "from imblearn.combine import SMOTEENN\n",
    "\n",
    "\n",
    "from sklearn.linear_model import LogisticRegression"
   ]
  },
  {
   "cell_type": "code",
   "execution_count": 51,
   "metadata": {},
   "outputs": [],
   "source": [
    "def get_models():\n",
    "    \n",
    "    models = dict()\n",
    "    \n",
    "    \n",
    "    transformer = ColumnTransformer( [ ( 'one_hot_encoding', OneHotEncoder() , cat_ix ) ,\n",
    "                                       ( 'min_max_scaling' , MinMaxScaler() , num_ix ) ] )\n",
    "    \n",
    "    \n",
    "    steps = [ ( 'step_transforming' , transformer ) ,\n",
    "              ( 'step_sampling' , TomekLinks() ) ,\n",
    "              ( 'step_modeling' , LogisticRegression( solver = 'liblinear' , class_weight = 'balanced' ) ) ]\n",
    "\n",
    "    model = Pipeline( steps = steps )\n",
    "    \n",
    "    models[ 'TL' ] = model\n",
    "    \n",
    "\n",
    "    \n",
    "    steps = [ ( 'step_transforming' , transformer ) ,\n",
    "              ( 'step_sampling' , EditedNearestNeighbours() ) ,\n",
    "              ( 'step_modeling' , LogisticRegression( solver = 'liblinear' , class_weight = 'balanced' ) ) ]\n",
    "\n",
    "    model = Pipeline( steps = steps )\n",
    "    \n",
    "    models[ 'ENN' ] = model\n",
    "    \n",
    "    \n",
    "    \n",
    "    steps = [ ( 'step_transforming' , transformer ) ,\n",
    "              ( 'step_sampling' , RepeatedEditedNearestNeighbours() ) ,\n",
    "              ( 'step_modeling' , LogisticRegression( solver = 'liblinear' , class_weight = 'balanced' ) ) ]\n",
    "\n",
    "    model = Pipeline( steps = steps )\n",
    "    \n",
    "    models[ 'RENN' ] = model\n",
    "\n",
    "    \n",
    "    \n",
    "    steps = [ ( 'step_transforming' , transformer ) ,\n",
    "              ( 'step_sampling' , OneSidedSelection() ) ,\n",
    "              ( 'step_modeling' , LogisticRegression( solver = 'liblinear' , class_weight = 'balanced' ) ) ]\n",
    "\n",
    "    model = Pipeline( steps = steps )\n",
    "    \n",
    "    models[ 'OSS' ] = model\n",
    "   \n",
    "\n",
    "\n",
    "    steps = [ ( 'step_transforming' , transformer ) ,\n",
    "              ( 'step_sampling' , NeighbourhoodCleaningRule() ) ,\n",
    "              ( 'step_modeling' , LogisticRegression( solver = 'liblinear' , class_weight = 'balanced' ) ) ]\n",
    "\n",
    "    model = Pipeline( steps = steps )\n",
    "    \n",
    "    models[ 'NCR' ] = model\n",
    "\n",
    "    \n",
    "    steps = [ ( 'step_transforming' , transformer ) ,\n",
    "              ( 'step_sampling' , InstanceHardnessThreshold() ) ,\n",
    "              ( 'step_modeling' , LogisticRegression( solver = 'liblinear' , class_weight = 'balanced' ) ) ]\n",
    "\n",
    "    model = Pipeline( steps = steps )\n",
    "    \n",
    "    models[ 'IHT' ] = model\n",
    "    \n",
    "    \n",
    "    \n",
    "    steps = [ ( 'step_transforming' , transformer ) ,\n",
    "              ( 'step_sampling' , SMOTEENN( enn = EditedNearestNeighbours( sampling_strategy = 'majority' ) ) ) ,\n",
    "              ( 'step_modeling' , LogisticRegression( solver = 'liblinear' , class_weight = 'balanced' ) ) ]\n",
    "\n",
    "    model = Pipeline( steps = steps )\n",
    "    \n",
    "    models[ 'SMOTEENN' ] = model\n",
    "    \n",
    "    \n",
    "    return models"
   ]
  },
  {
   "cell_type": "code",
   "execution_count": 52,
   "metadata": {},
   "outputs": [
    {
     "name": "stdout",
     "output_type": "stream",
     "text": [
      "{'TL': Pipeline(steps=[('step_transforming',\n",
      "                 ColumnTransformer(transformers=[('one_hot_encoding',\n",
      "                                                  OneHotEncoder(),\n",
      "                                                  Int64Index([0, 2, 3, 5, 6, 8, 9, 11, 13, 14, 16, 18, 19], dtype='int64')),\n",
      "                                                 ('min_max_scaling',\n",
      "                                                  MinMaxScaler(),\n",
      "                                                  Int64Index([1, 4, 7, 10, 12, 15, 17], dtype='int64'))])),\n",
      "                ('step_sampling', TomekLinks()),\n",
      "                ('step_modeling',\n",
      "                 LogisticRegression(class_weight='balanced',\n",
      "                                    solver='liblinear'))]), 'ENN': Pipeline(steps=[('step_transforming',\n",
      "                 ColumnTransformer(transformers=[('one_hot_encoding',\n",
      "                                                  OneHotEncoder(),\n",
      "                                                  Int64Index([0, 2, 3, 5, 6, 8, 9, 11, 13, 14, 16, 18, 19], dtype='int64')),\n",
      "                                                 ('min_max_scaling',\n",
      "                                                  MinMaxScaler(),\n",
      "                                                  Int64Index([1, 4, 7, 10, 12, 15, 17], dtype='int64'))])),\n",
      "                ('step_sampling', EditedNearestNeighbours()),\n",
      "                ('step_modeling',\n",
      "                 LogisticRegression(class_weight='balanced',\n",
      "                                    solver='liblinear'))]), 'RENN': Pipeline(steps=[('step_transforming',\n",
      "                 ColumnTransformer(transformers=[('one_hot_encoding',\n",
      "                                                  OneHotEncoder(),\n",
      "                                                  Int64Index([0, 2, 3, 5, 6, 8, 9, 11, 13, 14, 16, 18, 19], dtype='int64')),\n",
      "                                                 ('min_max_scaling',\n",
      "                                                  MinMaxScaler(),\n",
      "                                                  Int64Index([1, 4, 7, 10, 12, 15, 17], dtype='int64'))])),\n",
      "                ('step_sampling', RepeatedEditedNearestNeighbours()),\n",
      "                ('step_modeling',\n",
      "                 LogisticRegression(class_weight='balanced',\n",
      "                                    solver='liblinear'))]), 'OSS': Pipeline(steps=[('step_transforming',\n",
      "                 ColumnTransformer(transformers=[('one_hot_encoding',\n",
      "                                                  OneHotEncoder(),\n",
      "                                                  Int64Index([0, 2, 3, 5, 6, 8, 9, 11, 13, 14, 16, 18, 19], dtype='int64')),\n",
      "                                                 ('min_max_scaling',\n",
      "                                                  MinMaxScaler(),\n",
      "                                                  Int64Index([1, 4, 7, 10, 12, 15, 17], dtype='int64'))])),\n",
      "                ('step_sampling', OneSidedSelection()),\n",
      "                ('step_modeling',\n",
      "                 LogisticRegression(class_weight='balanced',\n",
      "                                    solver='liblinear'))]), 'NCR': Pipeline(steps=[('step_transforming',\n",
      "                 ColumnTransformer(transformers=[('one_hot_encoding',\n",
      "                                                  OneHotEncoder(),\n",
      "                                                  Int64Index([0, 2, 3, 5, 6, 8, 9, 11, 13, 14, 16, 18, 19], dtype='int64')),\n",
      "                                                 ('min_max_scaling',\n",
      "                                                  MinMaxScaler(),\n",
      "                                                  Int64Index([1, 4, 7, 10, 12, 15, 17], dtype='int64'))])),\n",
      "                ('step_sampling', NeighbourhoodCleaningRule()),\n",
      "                ('step_modeling',\n",
      "                 LogisticRegression(class_weight='balanced',\n",
      "                                    solver='liblinear'))]), 'IHT': Pipeline(steps=[('step_transforming',\n",
      "                 ColumnTransformer(transformers=[('one_hot_encoding',\n",
      "                                                  OneHotEncoder(),\n",
      "                                                  Int64Index([0, 2, 3, 5, 6, 8, 9, 11, 13, 14, 16, 18, 19], dtype='int64')),\n",
      "                                                 ('min_max_scaling',\n",
      "                                                  MinMaxScaler(),\n",
      "                                                  Int64Index([1, 4, 7, 10, 12, 15, 17], dtype='int64'))])),\n",
      "                ('step_sampling', InstanceHardnessThreshold()),\n",
      "                ('step_modeling',\n",
      "                 LogisticRegression(class_weight='balanced',\n",
      "                                    solver='liblinear'))]), 'SMOTEENN': Pipeline(steps=[('step_transforming',\n",
      "                 ColumnTransformer(transformers=[('one_hot_encoding',\n",
      "                                                  OneHotEncoder(),\n",
      "                                                  Int64Index([0, 2, 3, 5, 6, 8, 9, 11, 13, 14, 16, 18, 19], dtype='int64')),\n",
      "                                                 ('min_max_scaling',\n",
      "                                                  MinMaxScaler(),\n",
      "                                                  Int64Index([1, 4, 7, 10, 12, 15, 17], dtype='int64'))])),\n",
      "                ('step_sampling',\n",
      "                 SMOTEENN(enn=EditedNearestNeighbours(sampling_strategy='majority'))),\n",
      "                ('step_modeling',\n",
      "                 LogisticRegression(class_weight='balanced',\n",
      "                                    solver='liblinear'))])}\n"
     ]
    }
   ],
   "source": [
    "models = get_models()\n",
    "\n",
    "print( models )"
   ]
  },
  {
   "cell_type": "code",
   "execution_count": 53,
   "metadata": {},
   "outputs": [
    {
     "name": "stdout",
     "output_type": "stream",
     "text": [
      " model : TL : 0.666 ( 0.067 )\n",
      " model : ENN : 0.702 ( 0.062 )\n",
      " model : RENN : 0.707 ( 0.070 )\n",
      " model : OSS : 0.664 ( 0.068 )\n",
      " model : NCR : 0.690 ( 0.061 )\n",
      " model : IHT : 0.727 ( 0.052 )\n",
      " model : SMOTEENN : 0.697 ( 0.060 )\n"
     ]
    }
   ],
   "source": [
    "models = get_models()\n",
    "\n",
    "results = list()\n",
    "\n",
    "names = list()\n",
    "\n",
    "\n",
    "for name , model in models.items() :\n",
    "    \n",
    "    names.append( name )\n",
    "    \n",
    "    scores = evaluate_model( X , y , model ) \n",
    "    \n",
    "    results.append( scores )\n",
    "    \n",
    "    print( f' model : {name} : {mean(scores):.3f} ( {std(scores):.3f} )' )"
   ]
  },
  {
   "cell_type": "code",
   "execution_count": 54,
   "metadata": {},
   "outputs": [],
   "source": [
    "from matplotlib import pyplot"
   ]
  },
  {
   "cell_type": "code",
   "execution_count": 55,
   "metadata": {},
   "outputs": [
    {
     "data": {
      "text/plain": [
       "{'whiskers': [<matplotlib.lines.Line2D at 0x20454630>,\n",
       "  <matplotlib.lines.Line2D at 0x20454978>,\n",
       "  <matplotlib.lines.Line2D at 0x2045de10>,\n",
       "  <matplotlib.lines.Line2D at 0x20468400>,\n",
       "  <matplotlib.lines.Line2D at 0x2042add8>,\n",
       "  <matplotlib.lines.Line2D at 0x20472e80>,\n",
       "  <matplotlib.lines.Line2D at 0x204077f0>,\n",
       "  <matplotlib.lines.Line2D at 0x2031b128>,\n",
       "  <matplotlib.lines.Line2D at 0x202896d8>,\n",
       "  <matplotlib.lines.Line2D at 0x1f7926d8>,\n",
       "  <matplotlib.lines.Line2D at 0x2031be10>,\n",
       "  <matplotlib.lines.Line2D at 0x20335940>,\n",
       "  <matplotlib.lines.Line2D at 0x20401ac8>,\n",
       "  <matplotlib.lines.Line2D at 0x20407fd0>],\n",
       " 'caps': [<matplotlib.lines.Line2D at 0x20454cc0>,\n",
       "  <matplotlib.lines.Line2D at 0x20454da0>,\n",
       "  <matplotlib.lines.Line2D at 0x20468748>,\n",
       "  <matplotlib.lines.Line2D at 0x20468a90>,\n",
       "  <matplotlib.lines.Line2D at 0x20472f60>,\n",
       "  <matplotlib.lines.Line2D at 0x2047d550>,\n",
       "  <matplotlib.lines.Line2D at 0x20401080>,\n",
       "  <matplotlib.lines.Line2D at 0x2040bfd0>,\n",
       "  <matplotlib.lines.Line2D at 0x20314f28>,\n",
       "  <matplotlib.lines.Line2D at 0x20314860>,\n",
       "  <matplotlib.lines.Line2D at 0x2031dbe0>,\n",
       "  <matplotlib.lines.Line2D at 0x203f9b38>,\n",
       "  <matplotlib.lines.Line2D at 0x20407860>,\n",
       "  <matplotlib.lines.Line2D at 0x2041e198>],\n",
       " 'boxes': [<matplotlib.lines.Line2D at 0x20454240>,\n",
       "  <matplotlib.lines.Line2D at 0x2045dd30>,\n",
       "  <matplotlib.lines.Line2D at 0x204727f0>,\n",
       "  <matplotlib.lines.Line2D at 0x20407e48>,\n",
       "  <matplotlib.lines.Line2D at 0x203ff710>,\n",
       "  <matplotlib.lines.Line2D at 0x2031bb00>,\n",
       "  <matplotlib.lines.Line2D at 0x20401240>],\n",
       " 'medians': [<matplotlib.lines.Line2D at 0x2045d390>,\n",
       "  <matplotlib.lines.Line2D at 0x20468dd8>,\n",
       "  <matplotlib.lines.Line2D at 0x2042a710>,\n",
       "  <matplotlib.lines.Line2D at 0x203f9208>,\n",
       "  <matplotlib.lines.Line2D at 0x20328e48>,\n",
       "  <matplotlib.lines.Line2D at 0x203f9a90>,\n",
       "  <matplotlib.lines.Line2D at 0x1d16ce48>],\n",
       " 'fliers': [<matplotlib.lines.Line2D at 0x20435e48>,\n",
       "  <matplotlib.lines.Line2D at 0x204724a8>,\n",
       "  <matplotlib.lines.Line2D at 0x204154e0>,\n",
       "  <matplotlib.lines.Line2D at 0x203f9320>,\n",
       "  <matplotlib.lines.Line2D at 0x20431a58>,\n",
       "  <matplotlib.lines.Line2D at 0x2040b5c0>,\n",
       "  <matplotlib.lines.Line2D at 0x20098710>],\n",
       " 'means': [<matplotlib.lines.Line2D at 0x2045d6d8>,\n",
       "  <matplotlib.lines.Line2D at 0x20468eb8>,\n",
       "  <matplotlib.lines.Line2D at 0x20415390>,\n",
       "  <matplotlib.lines.Line2D at 0x203f9400>,\n",
       "  <matplotlib.lines.Line2D at 0x20328400>,\n",
       "  <matplotlib.lines.Line2D at 0x2040b470>,\n",
       "  <matplotlib.lines.Line2D at 0x200847f0>]}"
      ]
     },
     "execution_count": 55,
     "metadata": {},
     "output_type": "execute_result"
    },
    {
     "data": {
      "text/plain": [
       "(array([1, 2, 3, 4, 5, 6, 7]), <a list of 7 Text xticklabel objects>)"
      ]
     },
     "execution_count": 55,
     "metadata": {},
     "output_type": "execute_result"
    },
    {
     "data": {
      "image/png": "[encoded data removed]",
      "text/plain": [
       "<Figure size 432x288 with 1 Axes>"
      ]
     },
     "metadata": {
      "needs_background": "light"
     },
     "output_type": "display_data"
    }
   ],
   "source": [
    "pyplot.boxplot( results , labels = names , showmeans = True )\n",
    "\n",
    "pyplot.grid( axis = 'y' , color = 'black' , linestyle = '-.' , linewidth = 0.5 )\n",
    "\n",
    "pyplot.xticks( rotation = 90 )\n",
    "\n",
    "pyplot.show()"
   ]
  },
  {
   "cell_type": "code",
   "execution_count": null,
   "metadata": {},
   "outputs": [],
   "source": []
  }
 ],
 "metadata": {
  "kernelspec": {
   "display_name": "Python 3",
   "language": "python",
   "name": "python3"
  },
  "language_info": {
   "codemirror_mode": {
    "name": "ipython",
    "version": 3
   },
   "file_extension": ".py",
   "mimetype": "text/x-python",
   "name": "python",
   "nbconvert_exporter": "python",
   "pygments_lexer": "ipython3",
   "version": "3.7.3"
  }
 },
 "nbformat": 4,
 "nbformat_minor": 2
}
