{
 "cells": [
  {
   "cell_type": "code",
   "execution_count": 74,
   "metadata": {},
   "outputs": [],
   "source": [
    "import requests"
   ]
  },
  {
   "cell_type": "code",
   "execution_count": 75,
   "metadata": {},
   "outputs": [
    {
     "name": "stdout",
     "output_type": "stream",
     "text": [
      "{'type': 'FeatureCollection', 'version': 'draft', 'features': [{'type': 'Feature', 'geometry': {'type': 'Point', 'coordinates': [1.902051, 47.906035]}, 'properties': {'label': '107 Rue du Faubourg Bannier 45000 Orléans', 'score': 0.5564628253292582, 'housenumber': '107', 'id': '45234_0510_00107', 'type': 'housenumber', 'x': 617972.88, 'y': 6756752.69, 'importance': 0.5622675492100754, 'name': '107 Rue du Faubourg Bannier', 'postcode': '45000', 'citycode': '45234', 'city': 'Orléans', 'context': '45, Loiret, Centre-Val de Loire', 'street': 'Rue du Faubourg Bannier'}}, {'type': 'Feature', 'geometry': {'type': 'Point', 'coordinates': [1.892674, 47.924998]}, 'properties': {'label': 'Rue Raymond Vanier 45000 Orléans', 'score': 0.48747886811000685, 'id': '45234_5745', 'type': 'street', 'x': 617301.92, 'y': 6758869.37, 'importance': 0.5622675492100754, 'name': 'Rue Raymond Vanier', 'postcode': '45000', 'citycode': '45234', 'city': 'Orléans', 'context': '45, Loiret, Centre-Val de Loire'}}, {'type': 'Feature', 'geometry': {'type': 'Point', 'coordinates': [1.900709, 47.907886]}, 'properties': {'label': 'Faubourg Bannier 45000 Orléans', 'score': 0.4329334135645523, 'id': '45234_0492', 'type': 'street', 'x': 617875.5, 'y': 6756959.73, 'importance': 0.5622675492100754, 'name': 'Faubourg Bannier', 'postcode': '45000', 'citycode': '45234', 'city': 'Orléans', 'context': '45, Loiret, Centre-Val de Loire'}}, {'type': 'Feature', 'geometry': {'type': 'Point', 'coordinates': [1.918467, 47.91961]}, 'properties': {'label': 'Rue de la Barriere Saint Marc 45000 Orléans', 'score': 0.31750000975905546, 'id': '45234_0550', 'type': 'street', 'x': 619219.89, 'y': 6758244.03, 'importance': 0.5622675492100754, 'name': 'Rue de la Barriere Saint Marc', 'postcode': '45000', 'citycode': '45234', 'city': 'Orléans', 'context': '45, Loiret, Centre-Val de Loire'}}], 'attribution': 'BAN', 'licence': 'ETALAB-2.0', 'query': '107 rue banier orleans', 'limit': 5}\n"
     ]
    }
   ],
   "source": [
    "ADDOK_URL = 'http://api-adresse.data.gouv.fr/search/'\n",
    "\n",
    "response = requests.get( ADDOK_URL , params={'q': '107 rue banier orleans', 'limit': 5 } )\n",
    "\n",
    "data = response.json()\n",
    "\n",
    "print( data )\n"
   ]
  },
  {
   "cell_type": "markdown",
   "metadata": {},
   "source": [
    "### GEOCODAGE"
   ]
  },
  {
   "cell_type": "code",
   "execution_count": 76,
   "metadata": {},
   "outputs": [],
   "source": [
    "import geopandas\n",
    "\n",
    "import geopy"
   ]
  },
  {
   "cell_type": "code",
   "execution_count": 77,
   "metadata": {},
   "outputs": [],
   "source": [
    "locator = geopy.Nominatim(user_agent= 'myGeocoder' )\n",
    "#location = locator.geocode('Champ de Mars, Paris, France')\n",
    "\n",
    "location = locator.geocode( '107 rue bannier, Orléans, 45000, France' )"
   ]
  },
  {
   "cell_type": "code",
   "execution_count": 78,
   "metadata": {},
   "outputs": [
    {
     "name": "stdout",
     "output_type": "stream",
     "text": [
      "Latitude = 47.906028500000005, Longitude = 1.9018735188679354\n"
     ]
    }
   ],
   "source": [
    "print('Latitude = {}, Longitude = {}'.format(location.latitude, location.longitude))"
   ]
  },
  {
   "cell_type": "code",
   "execution_count": 79,
   "metadata": {},
   "outputs": [
    {
     "name": "stdout",
     "output_type": "stream",
     "text": [
      "<Response [200]>\n"
     ]
    }
   ],
   "source": [
    "import requests\n",
    "r = requests.get('http://api06.dev.openstreetmap.org/api/0.6/map?bbox=0.2,46.5,0.4,46.7')\n",
    "print(r)"
   ]
  },
  {
   "cell_type": "markdown",
   "metadata": {},
   "source": [
    "### METEO"
   ]
  },
  {
   "cell_type": "code",
   "execution_count": 80,
   "metadata": {},
   "outputs": [
    {
     "name": "stdout",
     "output_type": "stream",
     "text": [
      "{'coord': {'lon': 1.9, 'lat': 47.9}, 'weather': [{'id': 804, 'main': 'Clouds', 'description': 'overcast clouds', 'icon': '04d'}], 'base': 'stations', 'main': {'temp': 279.62, 'feels_like': 275.36, 'temp_min': 278.71, 'temp_max': 280.37, 'pressure': 1013, 'humidity': 93}, 'visibility': 10000, 'wind': {'speed': 4.6, 'deg': 180}, 'clouds': {'all': 90}, 'dt': 1583318121, 'sys': {'type': 1, 'id': 6534, 'country': 'FR', 'sunrise': 1583303225, 'sunset': 1583343679}, 'timezone': 3600, 'id': 2989317, 'name': 'Orléans', 'cod': 200}\n",
      "La témpérature est de 6.470000000000027 degrés Celsius\n"
     ]
    }
   ],
   "source": [
    "import requests\n",
    " \n",
    "ville = 'Orleans,fr'\n",
    "    \n",
    "url = 'http://api.openweathermap.org/data/2.5/weather?q=' + ville + '&APPID=beb97c1ce62559bba4e81e28de8be095'\n",
    "\n",
    "content=requests.get( url )\n",
    "\n",
    "data=content.json()\n",
    "\n",
    "print( data )\n",
    "\n",
    "temperature = data['main']['temp']\n",
    "\n",
    "print( 'La témpérature est de {0} degrés Celsius'.format( temperature - 273.15 ) )"
   ]
  },
  {
   "cell_type": "markdown",
   "metadata": {},
   "source": [
    "### APPEL API"
   ]
  },
  {
   "cell_type": "code",
   "execution_count": 81,
   "metadata": {},
   "outputs": [
    {
     "name": "stdout",
     "output_type": "stream",
     "text": [
      "cosmonautes dans espace : 3\n",
      "#####\n",
      "{'people': [{'craft': 'ISS', 'name': 'Andrew Morgan'}, {'craft': 'ISS', 'name': 'Oleg Skripochka'}, {'craft': 'ISS', 'name': 'Jessica Meir'}], 'message': 'success', 'number': 3}\n"
     ]
    }
   ],
   "source": [
    "import requests\n",
    "\n",
    "import json\n",
    "\n",
    "\n",
    "response = requests.get( 'http://api.open-notify.org/astros.json' )\n",
    "\n",
    "data = response.json()\n",
    "\n",
    " \n",
    "print( 'cosmonautes dans espace : {0}'.format( data[ 'number' ] ) )\n",
    "print( '#####')\n",
    "print(data)"
   ]
  },
  {
   "cell_type": "code",
   "execution_count": null,
   "metadata": {},
   "outputs": [],
   "source": []
  }
 ],
 "metadata": {
  "kernelspec": {
   "display_name": "Python 3.7",
   "language": "python",
   "name": "metier"
  },
  "language_info": {
   "codemirror_mode": {
    "name": "ipython",
    "version": 3
   },
   "file_extension": ".py",
   "mimetype": "text/x-python",
   "name": "python",
   "nbconvert_exporter": "python",
   "pygments_lexer": "ipython3",
   "version": "3.7.3"
  }
 },
 "nbformat": 4,
 "nbformat_minor": 2
}
