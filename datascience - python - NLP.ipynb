{
 "cells": [
  {
   "cell_type": "code",
   "execution_count": 3,
   "metadata": {},
   "outputs": [],
   "source": [
    "import nltk\n",
    "\n",
    "from nltk.tokenize import word_tokenize\n",
    "\n",
    "from nltk.util import ngrams \n"
   ]
  },
  {
   "cell_type": "code",
   "execution_count": 4,
   "metadata": {
    "scrolled": true
   },
   "outputs": [
    {
     "name": "stdout",
     "output_type": "stream",
     "text": [
      "['my name is bond, james bond.', 'my name is ou, fabou.']\n"
     ]
    }
   ],
   "source": [
    "phrases = [ 'my name is bond, james bond.' , 'my name is ou, fabou.' ]\n",
    "\n",
    "print( phrases )"
   ]
  },
  {
   "cell_type": "code",
   "execution_count": 10,
   "metadata": {},
   "outputs": [],
   "source": [
    "bigrams = []\n",
    "\n",
    "for phrase in phrases :\n",
    "    \n",
    "    sequence = word_tokenize( phrase ) \n",
    "    \n",
    "    bigrams.extend( list( ngrams( sequence , 2 ) ) )\n",
    "\n",
    "freq_dist = nltk.FreqDist(bigrams)\n",
    "prob_dist = nltk.MLEProbDist(freq_dist)\n",
    "number_of_bigrams = freq_dist.N()"
   ]
  },
  {
   "cell_type": "code",
   "execution_count": 11,
   "metadata": {},
   "outputs": [
    {
     "name": "stdout",
     "output_type": "stream",
     "text": [
      "[('my', 'name'), ('name', 'is'), ('is', 'bond'), ('bond', ','), (',', 'james'), ('james', 'bond'), ('bond', '.'), ('my', 'name'), ('name', 'is'), ('is', 'ou'), ('ou', ','), (',', 'fabou'), ('fabou', '.')]\n"
     ]
    }
   ],
   "source": [
    "print( bigrams )"
   ]
  },
  {
   "cell_type": "code",
   "execution_count": null,
   "metadata": {},
   "outputs": [],
   "source": []
  }
 ],
 "metadata": {
  "kernelspec": {
   "display_name": "Python 3",
   "language": "python",
   "name": "python3"
  },
  "language_info": {
   "codemirror_mode": {
    "name": "ipython",
    "version": 3
   },
   "file_extension": ".py",
   "mimetype": "text/x-python",
   "name": "python",
   "nbconvert_exporter": "python",
   "pygments_lexer": "ipython3",
   "version": "3.7.3"
  }
 },
 "nbformat": 4,
 "nbformat_minor": 2
}
