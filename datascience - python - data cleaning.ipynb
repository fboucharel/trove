{
 "cells": [
  {
   "cell_type": "markdown",
   "metadata": {},
   "source": [
    "https://towardsdatascience.com/data-cleaning-in-python-the-ultimate-guide-2020-c63b88bf0a0d"
   ]
  },
  {
   "cell_type": "markdown",
   "metadata": {},
   "source": [
    "https://www.kaggle.com/c/sberbank-russian-housing-market/data"
   ]
  },
  {
   "cell_type": "code",
   "execution_count": 1,
   "metadata": {},
   "outputs": [],
   "source": [
    "import kaggle"
   ]
  },
  {
   "cell_type": "code",
   "execution_count": 2,
   "metadata": {},
   "outputs": [],
   "source": [
    "kaggle.api.authenticate()"
   ]
  },
  {
   "cell_type": "code",
   "execution_count": 3,
   "metadata": {},
   "outputs": [],
   "source": [
    "#kaggle.api.dataset_download_files('The_name_of_the_dataset', path='the_path_you_want_to_download_the_files_to', unzip=True)"
   ]
  },
  {
   "cell_type": "code",
   "execution_count": 4,
   "metadata": {},
   "outputs": [
    {
     "name": "stdout",
     "output_type": "stream",
     "text": [
      "403 - Forbidden\n"
     ]
    }
   ],
   "source": [
    "!kaggle competitions download -c sberbank-russian-housing-market"
   ]
  },
  {
   "cell_type": "code",
   "execution_count": null,
   "metadata": {},
   "outputs": [],
   "source": []
  },
  {
   "cell_type": "code",
   "execution_count": 1,
   "metadata": {},
   "outputs": [],
   "source": [
    "import pandas as pd"
   ]
  },
  {
   "cell_type": "code",
   "execution_count": 2,
   "metadata": {},
   "outputs": [],
   "source": [
    "df = pd.read_csv( 'J://MyFiles//Fabrice//datascience//data//sberbank-russian-housing-market//train.csv' )"
   ]
  },
  {
   "cell_type": "code",
   "execution_count": 3,
   "metadata": {},
   "outputs": [
    {
     "data": {
      "text/plain": [
       "(30471, 292)"
      ]
     },
     "execution_count": 3,
     "metadata": {},
     "output_type": "execute_result"
    }
   ],
   "source": [
    "df.shape"
   ]
  },
  {
   "cell_type": "code",
   "execution_count": 20,
   "metadata": {
    "scrolled": true
   },
   "outputs": [
    {
     "data": {
      "text/plain": [
       "id                                         int64\n",
       "timestamp                                 object\n",
       "full_sq                                    int64\n",
       "life_sq                                  float64\n",
       "floor                                    float64\n",
       "max_floor                                float64\n",
       "material                                 float64\n",
       "build_year                               float64\n",
       "num_room                                 float64\n",
       "kitch_sq                                 float64\n",
       "state                                    float64\n",
       "product_type                              object\n",
       "sub_area                                  object\n",
       "area_m                                   float64\n",
       "raion_popul                                int64\n",
       "green_zone_part                          float64\n",
       "indust_part                              float64\n",
       "children_preschool                         int64\n",
       "preschool_quota                          float64\n",
       "preschool_education_centers_raion          int64\n",
       "children_school                            int64\n",
       "school_quota                             float64\n",
       "school_education_centers_raion             int64\n",
       "school_education_centers_top_20_raion      int64\n",
       "hospital_beds_raion                      float64\n",
       "healthcare_centers_raion                   int64\n",
       "university_top_20_raion                    int64\n",
       "sport_objects_raion                        int64\n",
       "additional_education_raion                 int64\n",
       "culture_objects_top_25                    object\n",
       "                                          ...   \n",
       "big_church_count_3000                      int64\n",
       "church_count_3000                          int64\n",
       "mosque_count_3000                          int64\n",
       "leisure_count_3000                         int64\n",
       "sport_count_3000                           int64\n",
       "market_count_3000                          int64\n",
       "green_part_5000                          float64\n",
       "prom_part_5000                           float64\n",
       "office_count_5000                          int64\n",
       "office_sqm_5000                            int64\n",
       "trc_count_5000                             int64\n",
       "trc_sqm_5000                               int64\n",
       "cafe_count_5000                            int64\n",
       "cafe_sum_5000_min_price_avg              float64\n",
       "cafe_sum_5000_max_price_avg              float64\n",
       "cafe_avg_price_5000                      float64\n",
       "cafe_count_5000_na_price                   int64\n",
       "cafe_count_5000_price_500                  int64\n",
       "cafe_count_5000_price_1000                 int64\n",
       "cafe_count_5000_price_1500                 int64\n",
       "cafe_count_5000_price_2500                 int64\n",
       "cafe_count_5000_price_4000                 int64\n",
       "cafe_count_5000_price_high                 int64\n",
       "big_church_count_5000                      int64\n",
       "church_count_5000                          int64\n",
       "mosque_count_5000                          int64\n",
       "leisure_count_5000                         int64\n",
       "sport_count_5000                           int64\n",
       "market_count_5000                          int64\n",
       "price_doc                                  int64\n",
       "Length: 292, dtype: object"
      ]
     },
     "execution_count": 20,
     "metadata": {},
     "output_type": "execute_result"
    }
   ],
   "source": [
    "df.dtypes"
   ]
  },
  {
   "cell_type": "code",
   "execution_count": 105,
   "metadata": {},
   "outputs": [
    {
     "data": {
      "text/plain": [
       "int64             160\n",
       "float64           119\n",
       "object             17\n",
       "datetime64[ns]      1\n",
       "dtype: int64"
      ]
     },
     "execution_count": 105,
     "metadata": {},
     "output_type": "execute_result"
    }
   ],
   "source": [
    "# variables par type\n",
    "df.dtypes.value_counts().sort_values( ascending = False )"
   ]
  },
  {
   "cell_type": "code",
   "execution_count": 18,
   "metadata": {
    "collapsed": true
   },
   "outputs": [
    {
     "name": "stdout",
     "output_type": "stream",
     "text": [
      "['id' 'full_sq' 'life_sq' 'floor' 'max_floor' 'material' 'build_year'\n",
      " 'num_room' 'kitch_sq' 'state' 'area_m' 'raion_popul' 'green_zone_part'\n",
      " 'indust_part' 'children_preschool' 'preschool_quota'\n",
      " 'preschool_education_centers_raion' 'children_school' 'school_quota'\n",
      " 'school_education_centers_raion' 'school_education_centers_top_20_raion'\n",
      " 'hospital_beds_raion' 'healthcare_centers_raion'\n",
      " 'university_top_20_raion' 'sport_objects_raion'\n",
      " 'additional_education_raion' 'culture_objects_top_25_raion'\n",
      " 'shopping_centers_raion' 'office_raion' 'full_all' 'male_f' 'female_f'\n",
      " 'young_all' 'young_male' 'young_female' 'work_all' 'work_male'\n",
      " 'work_female' 'ekder_all' 'ekder_male' 'ekder_female' '0_6_all'\n",
      " '0_6_male' '0_6_female' '7_14_all' '7_14_male' '7_14_female' '0_17_all'\n",
      " '0_17_male' '0_17_female' '16_29_all' '16_29_male' '16_29_female'\n",
      " '0_13_all' '0_13_male' '0_13_female'\n",
      " 'raion_build_count_with_material_info' 'build_count_block'\n",
      " 'build_count_wood' 'build_count_frame' 'build_count_brick'\n",
      " 'build_count_monolith' 'build_count_panel' 'build_count_foam'\n",
      " 'build_count_slag' 'build_count_mix'\n",
      " 'raion_build_count_with_builddate_info' 'build_count_before_1920'\n",
      " 'build_count_1921-1945' 'build_count_1946-1970' 'build_count_1971-1995'\n",
      " 'build_count_after_1995' 'ID_metro' 'metro_min_avto' 'metro_km_avto'\n",
      " 'metro_min_walk' 'metro_km_walk' 'kindergarten_km' 'school_km' 'park_km'\n",
      " 'green_zone_km' 'industrial_km' 'water_treatment_km' 'cemetery_km'\n",
      " 'incineration_km' 'railroad_station_walk_km' 'railroad_station_walk_min'\n",
      " 'ID_railroad_station_walk' 'railroad_station_avto_km'\n",
      " 'railroad_station_avto_min' 'ID_railroad_station_avto'\n",
      " 'public_transport_station_km' 'public_transport_station_min_walk'\n",
      " 'water_km' 'mkad_km' 'ttk_km' 'sadovoe_km' 'bulvar_ring_km' 'kremlin_km'\n",
      " 'big_road1_km' 'ID_big_road1' 'big_road2_km' 'ID_big_road2' 'railroad_km'\n",
      " 'zd_vokzaly_avto_km' 'ID_railroad_terminal' 'bus_terminal_avto_km'\n",
      " 'ID_bus_terminal' 'oil_chemistry_km' 'nuclear_reactor_km' 'radiation_km'\n",
      " 'power_transmission_line_km' 'thermal_power_plant_km' 'ts_km'\n",
      " 'big_market_km' 'market_shop_km' 'fitness_km' 'swim_pool_km'\n",
      " 'ice_rink_km' 'stadium_km' 'basketball_km' 'hospice_morgue_km'\n",
      " 'detention_facility_km' 'public_healthcare_km' 'university_km'\n",
      " 'workplaces_km' 'shopping_centers_km' 'office_km'\n",
      " 'additional_education_km' 'preschool_km' 'big_church_km'\n",
      " 'church_synagogue_km' 'mosque_km' 'theater_km' 'museum_km'\n",
      " 'exhibition_km' 'catering_km' 'green_part_500' 'prom_part_500'\n",
      " 'office_count_500' 'office_sqm_500' 'trc_count_500' 'trc_sqm_500'\n",
      " 'cafe_count_500' 'cafe_sum_500_min_price_avg'\n",
      " 'cafe_sum_500_max_price_avg' 'cafe_avg_price_500'\n",
      " 'cafe_count_500_na_price' 'cafe_count_500_price_500'\n",
      " 'cafe_count_500_price_1000' 'cafe_count_500_price_1500'\n",
      " 'cafe_count_500_price_2500' 'cafe_count_500_price_4000'\n",
      " 'cafe_count_500_price_high' 'big_church_count_500' 'church_count_500'\n",
      " 'mosque_count_500' 'leisure_count_500' 'sport_count_500'\n",
      " 'market_count_500' 'green_part_1000' 'prom_part_1000' 'office_count_1000'\n",
      " 'office_sqm_1000' 'trc_count_1000' 'trc_sqm_1000' 'cafe_count_1000'\n",
      " 'cafe_sum_1000_min_price_avg' 'cafe_sum_1000_max_price_avg'\n",
      " 'cafe_avg_price_1000' 'cafe_count_1000_na_price'\n",
      " 'cafe_count_1000_price_500' 'cafe_count_1000_price_1000'\n",
      " 'cafe_count_1000_price_1500' 'cafe_count_1000_price_2500'\n",
      " 'cafe_count_1000_price_4000' 'cafe_count_1000_price_high'\n",
      " 'big_church_count_1000' 'church_count_1000' 'mosque_count_1000'\n",
      " 'leisure_count_1000' 'sport_count_1000' 'market_count_1000'\n",
      " 'green_part_1500' 'prom_part_1500' 'office_count_1500' 'office_sqm_1500'\n",
      " 'trc_count_1500' 'trc_sqm_1500' 'cafe_count_1500'\n",
      " 'cafe_sum_1500_min_price_avg' 'cafe_sum_1500_max_price_avg'\n",
      " 'cafe_avg_price_1500' 'cafe_count_1500_na_price'\n",
      " 'cafe_count_1500_price_500' 'cafe_count_1500_price_1000'\n",
      " 'cafe_count_1500_price_1500' 'cafe_count_1500_price_2500'\n",
      " 'cafe_count_1500_price_4000' 'cafe_count_1500_price_high'\n",
      " 'big_church_count_1500' 'church_count_1500' 'mosque_count_1500'\n",
      " 'leisure_count_1500' 'sport_count_1500' 'market_count_1500'\n",
      " 'green_part_2000' 'prom_part_2000' 'office_count_2000' 'office_sqm_2000'\n",
      " 'trc_count_2000' 'trc_sqm_2000' 'cafe_count_2000'\n",
      " 'cafe_sum_2000_min_price_avg' 'cafe_sum_2000_max_price_avg'\n",
      " 'cafe_avg_price_2000' 'cafe_count_2000_na_price'\n",
      " 'cafe_count_2000_price_500' 'cafe_count_2000_price_1000'\n",
      " 'cafe_count_2000_price_1500' 'cafe_count_2000_price_2500'\n",
      " 'cafe_count_2000_price_4000' 'cafe_count_2000_price_high'\n",
      " 'big_church_count_2000' 'church_count_2000' 'mosque_count_2000'\n",
      " 'leisure_count_2000' 'sport_count_2000' 'market_count_2000'\n",
      " 'green_part_3000' 'prom_part_3000' 'office_count_3000' 'office_sqm_3000'\n",
      " 'trc_count_3000' 'trc_sqm_3000' 'cafe_count_3000'\n",
      " 'cafe_sum_3000_min_price_avg' 'cafe_sum_3000_max_price_avg'\n",
      " 'cafe_avg_price_3000' 'cafe_count_3000_na_price'\n",
      " 'cafe_count_3000_price_500' 'cafe_count_3000_price_1000'\n",
      " 'cafe_count_3000_price_1500' 'cafe_count_3000_price_2500'\n",
      " 'cafe_count_3000_price_4000' 'cafe_count_3000_price_high'\n",
      " 'big_church_count_3000' 'church_count_3000' 'mosque_count_3000'\n",
      " 'leisure_count_3000' 'sport_count_3000' 'market_count_3000'\n",
      " 'green_part_5000' 'prom_part_5000' 'office_count_5000' 'office_sqm_5000'\n",
      " 'trc_count_5000' 'trc_sqm_5000' 'cafe_count_5000'\n",
      " 'cafe_sum_5000_min_price_avg' 'cafe_sum_5000_max_price_avg'\n",
      " 'cafe_avg_price_5000' 'cafe_count_5000_na_price'\n",
      " 'cafe_count_5000_price_500' 'cafe_count_5000_price_1000'\n",
      " 'cafe_count_5000_price_1500' 'cafe_count_5000_price_2500'\n",
      " 'cafe_count_5000_price_4000' 'cafe_count_5000_price_high'\n",
      " 'big_church_count_5000' 'church_count_5000' 'mosque_count_5000'\n",
      " 'leisure_count_5000' 'sport_count_5000' 'market_count_5000' 'price_doc']\n"
     ]
    }
   ],
   "source": [
    "# df de variabes numériques\n",
    "\n",
    "df_num = df.select_dtypes( include = [ np.number ] )\n",
    "\n",
    "num_cols = df_num.columns.values\n",
    "\n",
    "print( num_cols )"
   ]
  },
  {
   "cell_type": "code",
   "execution_count": 25,
   "metadata": {},
   "outputs": [
    {
     "name": "stdout",
     "output_type": "stream",
     "text": [
      "['timestamp' 'product_type' 'sub_area' 'culture_objects_top_25'\n",
      " 'thermal_power_plant_raion' 'incineration_raion' 'oil_chemistry_raion'\n",
      " 'radiation_raion' 'railroad_terminal_raion' 'big_market_raion'\n",
      " 'nuclear_reactor_raion' 'detention_facility_raion' 'water_1line'\n",
      " 'big_road1_1line' 'railroad_1line' 'ecology']\n"
     ]
    }
   ],
   "source": [
    "# df de variables non numériques\n",
    "\n",
    "df_nnum = df.select_dtypes( exclude = [ np.number ] )\n",
    "\n",
    "nnum_cols = df_nnum.columns.values\n",
    "\n",
    "print( nnum_cols )"
   ]
  },
  {
   "cell_type": "markdown",
   "metadata": {},
   "source": [
    "# [ 0 ] - Missing data"
   ]
  },
  {
   "cell_type": "markdown",
   "metadata": {},
   "source": [
    "## [ 0.1 ] - Missing data heatmap"
   ]
  },
  {
   "cell_type": "code",
   "execution_count": 4,
   "metadata": {},
   "outputs": [],
   "source": [
    "import seaborn as sns\n",
    "\n",
    "import matplotlib.pyplot as plt\n",
    "\n",
    "import matplotlib.mlab as mlab\n",
    "\n",
    "import matplotlib\n",
    "\n",
    "plt.style.use('ggplot')\n",
    "\n",
    "from matplotlib.pyplot import figure\n",
    "\n",
    "%matplotlib inline\n",
    "\n",
    "matplotlib.rcParams['figure.figsize'] = ( 12 , 8 )"
   ]
  },
  {
   "cell_type": "code",
   "execution_count": 47,
   "metadata": {},
   "outputs": [
    {
     "data": {
      "text/plain": [
       "<matplotlib.axes._subplots.AxesSubplot at 0xd635358>"
      ]
     },
     "execution_count": 47,
     "metadata": {},
     "output_type": "execute_result"
    },
    {
     "data": {
      "image/png": "[encoded data removed]",
      "text/plain": [
       "<Figure size 864x576 with 2 Axes>"
      ]
     },
     "metadata": {
      "needs_background": "light"
     },
     "output_type": "display_data"
    }
   ],
   "source": [
    "cols = df.columns[ : 30 ] # first 30 columns\n",
    "\n",
    "colours = [ '#000099' , '#ffff00' ] # specify the colours - yellow is missing. blue is not missing.\n",
    "\n",
    "sns.heatmap( df[cols].isnull(), cmap = sns.color_palette( colours ) )"
   ]
  },
  {
   "cell_type": "markdown",
   "metadata": {},
   "source": [
    "## [ 0.2 ] - Missing Data Percentage List"
   ]
  },
  {
   "cell_type": "code",
   "execution_count": 5,
   "metadata": {},
   "outputs": [
    {
     "name": "stdout",
     "output_type": "stream",
     "text": [
      "id - 0.0 %\n",
      "timestamp - 0.0 %\n",
      "full_sq - 0.0 %\n",
      "life_sq - 21.0 %\n",
      "floor - 1.0 %\n",
      "max_floor - 31.0 %\n",
      "material - 31.0 %\n",
      "build_year - 45.0 %\n",
      "num_room - 31.0 %\n",
      "kitch_sq - 31.0 %\n",
      "state - 44.0 %\n",
      "product_type - 0.0 %\n",
      "sub_area - 0.0 %\n",
      "area_m - 0.0 %\n",
      "raion_popul - 0.0 %\n",
      "green_zone_part - 0.0 %\n",
      "indust_part - 0.0 %\n",
      "children_preschool - 0.0 %\n",
      "preschool_quota - 22.0 %\n",
      "preschool_education_centers_raion - 0.0 %\n",
      "children_school - 0.0 %\n",
      "school_quota - 22.0 %\n",
      "school_education_centers_raion - 0.0 %\n",
      "school_education_centers_top_20_raion - 0.0 %\n",
      "hospital_beds_raion - 47.0 %\n",
      "healthcare_centers_raion - 0.0 %\n",
      "university_top_20_raion - 0.0 %\n",
      "sport_objects_raion - 0.0 %\n",
      "additional_education_raion - 0.0 %\n",
      "culture_objects_top_25 - 0.0 %\n",
      "culture_objects_top_25_raion - 0.0 %\n",
      "shopping_centers_raion - 0.0 %\n",
      "office_raion - 0.0 %\n",
      "thermal_power_plant_raion - 0.0 %\n",
      "incineration_raion - 0.0 %\n",
      "oil_chemistry_raion - 0.0 %\n",
      "radiation_raion - 0.0 %\n",
      "railroad_terminal_raion - 0.0 %\n",
      "big_market_raion - 0.0 %\n",
      "nuclear_reactor_raion - 0.0 %\n",
      "detention_facility_raion - 0.0 %\n",
      "full_all - 0.0 %\n",
      "male_f - 0.0 %\n",
      "female_f - 0.0 %\n",
      "young_all - 0.0 %\n",
      "young_male - 0.0 %\n",
      "young_female - 0.0 %\n",
      "work_all - 0.0 %\n",
      "work_male - 0.0 %\n",
      "work_female - 0.0 %\n",
      "ekder_all - 0.0 %\n",
      "ekder_male - 0.0 %\n",
      "ekder_female - 0.0 %\n",
      "0_6_all - 0.0 %\n",
      "0_6_male - 0.0 %\n",
      "0_6_female - 0.0 %\n",
      "7_14_all - 0.0 %\n",
      "7_14_male - 0.0 %\n",
      "7_14_female - 0.0 %\n",
      "0_17_all - 0.0 %\n",
      "0_17_male - 0.0 %\n",
      "0_17_female - 0.0 %\n",
      "16_29_all - 0.0 %\n",
      "16_29_male - 0.0 %\n",
      "16_29_female - 0.0 %\n",
      "0_13_all - 0.0 %\n",
      "0_13_male - 0.0 %\n",
      "0_13_female - 0.0 %\n",
      "raion_build_count_with_material_info - 16.0 %\n",
      "build_count_block - 16.0 %\n",
      "build_count_wood - 16.0 %\n",
      "build_count_frame - 16.0 %\n",
      "build_count_brick - 16.0 %\n",
      "build_count_monolith - 16.0 %\n",
      "build_count_panel - 16.0 %\n",
      "build_count_foam - 16.0 %\n",
      "build_count_slag - 16.0 %\n",
      "build_count_mix - 16.0 %\n",
      "raion_build_count_with_builddate_info - 16.0 %\n",
      "build_count_before_1920 - 16.0 %\n",
      "build_count_1921-1945 - 16.0 %\n",
      "build_count_1946-1970 - 16.0 %\n",
      "build_count_1971-1995 - 16.0 %\n",
      "build_count_after_1995 - 16.0 %\n",
      "ID_metro - 0.0 %\n",
      "metro_min_avto - 0.0 %\n",
      "metro_km_avto - 0.0 %\n",
      "metro_min_walk - 0.0 %\n",
      "metro_km_walk - 0.0 %\n",
      "kindergarten_km - 0.0 %\n",
      "school_km - 0.0 %\n",
      "park_km - 0.0 %\n",
      "green_zone_km - 0.0 %\n",
      "industrial_km - 0.0 %\n",
      "water_treatment_km - 0.0 %\n",
      "cemetery_km - 0.0 %\n",
      "incineration_km - 0.0 %\n",
      "railroad_station_walk_km - 0.0 %\n",
      "railroad_station_walk_min - 0.0 %\n",
      "ID_railroad_station_walk - 0.0 %\n",
      "railroad_station_avto_km - 0.0 %\n",
      "railroad_station_avto_min - 0.0 %\n",
      "ID_railroad_station_avto - 0.0 %\n",
      "public_transport_station_km - 0.0 %\n",
      "public_transport_station_min_walk - 0.0 %\n",
      "water_km - 0.0 %\n",
      "water_1line - 0.0 %\n",
      "mkad_km - 0.0 %\n",
      "ttk_km - 0.0 %\n",
      "sadovoe_km - 0.0 %\n",
      "bulvar_ring_km - 0.0 %\n",
      "kremlin_km - 0.0 %\n",
      "big_road1_km - 0.0 %\n",
      "ID_big_road1 - 0.0 %\n",
      "big_road1_1line - 0.0 %\n",
      "big_road2_km - 0.0 %\n",
      "ID_big_road2 - 0.0 %\n",
      "railroad_km - 0.0 %\n",
      "railroad_1line - 0.0 %\n",
      "zd_vokzaly_avto_km - 0.0 %\n",
      "ID_railroad_terminal - 0.0 %\n",
      "bus_terminal_avto_km - 0.0 %\n",
      "ID_bus_terminal - 0.0 %\n",
      "oil_chemistry_km - 0.0 %\n",
      "nuclear_reactor_km - 0.0 %\n",
      "radiation_km - 0.0 %\n",
      "power_transmission_line_km - 0.0 %\n",
      "thermal_power_plant_km - 0.0 %\n",
      "ts_km - 0.0 %\n",
      "big_market_km - 0.0 %\n",
      "market_shop_km - 0.0 %\n",
      "fitness_km - 0.0 %\n",
      "swim_pool_km - 0.0 %\n",
      "ice_rink_km - 0.0 %\n",
      "stadium_km - 0.0 %\n",
      "basketball_km - 0.0 %\n",
      "hospice_morgue_km - 0.0 %\n",
      "detention_facility_km - 0.0 %\n",
      "public_healthcare_km - 0.0 %\n",
      "university_km - 0.0 %\n",
      "workplaces_km - 0.0 %\n",
      "shopping_centers_km - 0.0 %\n",
      "office_km - 0.0 %\n",
      "additional_education_km - 0.0 %\n",
      "preschool_km - 0.0 %\n",
      "big_church_km - 0.0 %\n",
      "church_synagogue_km - 0.0 %\n",
      "mosque_km - 0.0 %\n",
      "theater_km - 0.0 %\n",
      "museum_km - 0.0 %\n",
      "exhibition_km - 0.0 %\n",
      "catering_km - 0.0 %\n",
      "ecology - 0.0 %\n",
      "green_part_500 - 0.0 %\n",
      "prom_part_500 - 0.0 %\n",
      "office_count_500 - 0.0 %\n",
      "office_sqm_500 - 0.0 %\n",
      "trc_count_500 - 0.0 %\n",
      "trc_sqm_500 - 0.0 %\n",
      "cafe_count_500 - 0.0 %\n",
      "cafe_sum_500_min_price_avg - 44.0 %\n",
      "cafe_sum_500_max_price_avg - 44.0 %\n",
      "cafe_avg_price_500 - 44.0 %\n",
      "cafe_count_500_na_price - 0.0 %\n",
      "cafe_count_500_price_500 - 0.0 %\n",
      "cafe_count_500_price_1000 - 0.0 %\n",
      "cafe_count_500_price_1500 - 0.0 %\n",
      "cafe_count_500_price_2500 - 0.0 %\n",
      "cafe_count_500_price_4000 - 0.0 %\n",
      "cafe_count_500_price_high - 0.0 %\n",
      "big_church_count_500 - 0.0 %\n",
      "church_count_500 - 0.0 %\n",
      "mosque_count_500 - 0.0 %\n",
      "leisure_count_500 - 0.0 %\n",
      "sport_count_500 - 0.0 %\n",
      "market_count_500 - 0.0 %\n",
      "green_part_1000 - 0.0 %\n",
      "prom_part_1000 - 0.0 %\n",
      "office_count_1000 - 0.0 %\n",
      "office_sqm_1000 - 0.0 %\n",
      "trc_count_1000 - 0.0 %\n",
      "trc_sqm_1000 - 0.0 %\n",
      "cafe_count_1000 - 0.0 %\n",
      "cafe_sum_1000_min_price_avg - 21.0 %\n",
      "cafe_sum_1000_max_price_avg - 21.0 %\n",
      "cafe_avg_price_1000 - 21.0 %\n",
      "cafe_count_1000_na_price - 0.0 %\n",
      "cafe_count_1000_price_500 - 0.0 %\n",
      "cafe_count_1000_price_1000 - 0.0 %\n",
      "cafe_count_1000_price_1500 - 0.0 %\n",
      "cafe_count_1000_price_2500 - 0.0 %\n",
      "cafe_count_1000_price_4000 - 0.0 %\n",
      "cafe_count_1000_price_high - 0.0 %\n",
      "big_church_count_1000 - 0.0 %\n",
      "church_count_1000 - 0.0 %\n",
      "mosque_count_1000 - 0.0 %\n",
      "leisure_count_1000 - 0.0 %\n",
      "sport_count_1000 - 0.0 %\n",
      "market_count_1000 - 0.0 %\n",
      "green_part_1500 - 0.0 %\n",
      "prom_part_1500 - 0.0 %\n",
      "office_count_1500 - 0.0 %\n",
      "office_sqm_1500 - 0.0 %\n",
      "trc_count_1500 - 0.0 %\n",
      "trc_sqm_1500 - 0.0 %\n",
      "cafe_count_1500 - 0.0 %\n",
      "cafe_sum_1500_min_price_avg - 14.0 %\n",
      "cafe_sum_1500_max_price_avg - 14.0 %\n",
      "cafe_avg_price_1500 - 14.0 %\n",
      "cafe_count_1500_na_price - 0.0 %\n",
      "cafe_count_1500_price_500 - 0.0 %\n",
      "cafe_count_1500_price_1000 - 0.0 %\n",
      "cafe_count_1500_price_1500 - 0.0 %\n",
      "cafe_count_1500_price_2500 - 0.0 %\n",
      "cafe_count_1500_price_4000 - 0.0 %\n",
      "cafe_count_1500_price_high - 0.0 %\n",
      "big_church_count_1500 - 0.0 %\n",
      "church_count_1500 - 0.0 %\n",
      "mosque_count_1500 - 0.0 %\n",
      "leisure_count_1500 - 0.0 %\n",
      "sport_count_1500 - 0.0 %\n",
      "market_count_1500 - 0.0 %\n",
      "green_part_2000 - 0.0 %\n",
      "prom_part_2000 - 0.0 %\n",
      "office_count_2000 - 0.0 %\n",
      "office_sqm_2000 - 0.0 %\n",
      "trc_count_2000 - 0.0 %\n",
      "trc_sqm_2000 - 0.0 %\n",
      "cafe_count_2000 - 0.0 %\n",
      "cafe_sum_2000_min_price_avg - 6.0 %\n",
      "cafe_sum_2000_max_price_avg - 6.0 %\n",
      "cafe_avg_price_2000 - 6.0 %\n",
      "cafe_count_2000_na_price - 0.0 %\n",
      "cafe_count_2000_price_500 - 0.0 %\n",
      "cafe_count_2000_price_1000 - 0.0 %\n",
      "cafe_count_2000_price_1500 - 0.0 %\n",
      "cafe_count_2000_price_2500 - 0.0 %\n",
      "cafe_count_2000_price_4000 - 0.0 %\n",
      "cafe_count_2000_price_high - 0.0 %\n",
      "big_church_count_2000 - 0.0 %\n",
      "church_count_2000 - 0.0 %\n",
      "mosque_count_2000 - 0.0 %\n",
      "leisure_count_2000 - 0.0 %\n",
      "sport_count_2000 - 0.0 %\n",
      "market_count_2000 - 0.0 %\n",
      "green_part_3000 - 0.0 %\n",
      "prom_part_3000 - 0.0 %\n",
      "office_count_3000 - 0.0 %\n",
      "office_sqm_3000 - 0.0 %\n",
      "trc_count_3000 - 0.0 %\n",
      "trc_sqm_3000 - 0.0 %\n",
      "cafe_count_3000 - 0.0 %\n",
      "cafe_sum_3000_min_price_avg - 3.0 %\n",
      "cafe_sum_3000_max_price_avg - 3.0 %\n",
      "cafe_avg_price_3000 - 3.0 %\n",
      "cafe_count_3000_na_price - 0.0 %\n",
      "cafe_count_3000_price_500 - 0.0 %\n",
      "cafe_count_3000_price_1000 - 0.0 %\n",
      "cafe_count_3000_price_1500 - 0.0 %\n",
      "cafe_count_3000_price_2500 - 0.0 %\n",
      "cafe_count_3000_price_4000 - 0.0 %\n",
      "cafe_count_3000_price_high - 0.0 %\n",
      "big_church_count_3000 - 0.0 %\n",
      "church_count_3000 - 0.0 %\n",
      "mosque_count_3000 - 0.0 %\n",
      "leisure_count_3000 - 0.0 %\n",
      "sport_count_3000 - 0.0 %\n",
      "market_count_3000 - 0.0 %\n",
      "green_part_5000 - 0.0 %\n",
      "prom_part_5000 - 1.0 %\n",
      "office_count_5000 - 0.0 %\n",
      "office_sqm_5000 - 0.0 %\n",
      "trc_count_5000 - 0.0 %\n",
      "trc_sqm_5000 - 0.0 %\n",
      "cafe_count_5000 - 0.0 %\n",
      "cafe_sum_5000_min_price_avg - 1.0 %\n",
      "cafe_sum_5000_max_price_avg - 1.0 %\n",
      "cafe_avg_price_5000 - 1.0 %\n",
      "cafe_count_5000_na_price - 0.0 %\n",
      "cafe_count_5000_price_500 - 0.0 %\n",
      "cafe_count_5000_price_1000 - 0.0 %\n",
      "cafe_count_5000_price_1500 - 0.0 %\n",
      "cafe_count_5000_price_2500 - 0.0 %\n",
      "cafe_count_5000_price_4000 - 0.0 %\n",
      "cafe_count_5000_price_high - 0.0 %\n",
      "big_church_count_5000 - 0.0 %\n",
      "church_count_5000 - 0.0 %\n",
      "mosque_count_5000 - 0.0 %\n",
      "leisure_count_5000 - 0.0 %\n",
      "sport_count_5000 - 0.0 %\n",
      "market_count_5000 - 0.0 %\n",
      "price_doc - 0.0 %\n"
     ]
    }
   ],
   "source": [
    "prop_miss_by_col = {}\n",
    "\n",
    "for col in df.columns:\n",
    "    \n",
    "    p_miss = np.mean( df[col].isnull() )\n",
    "    \n",
    "    prop_miss_by_col.update( { col : p_miss } )\n",
    "    \n",
    "    print( '{0} - {1} %'.format( col , round( p_miss * 100 ) ) )"
   ]
  },
  {
   "cell_type": "code",
   "execution_count": 6,
   "metadata": {},
   "outputs": [
    {
     "name": "stdout",
     "output_type": "stream",
     "text": [
      "{'id': 0.0, 'timestamp': 0.0, 'full_sq': 0.0, 'life_sq': 0.20947786419874634, 'floor': 0.005480620918250139, 'max_floor': 0.31413475107479244, 'material': 0.31413475107479244, 'build_year': 0.44649010534606676, 'num_room': 0.31413475107479244, 'kitch_sq': 0.31413475107479244, 'state': 0.44498047323684814, 'product_type': 0.0, 'sub_area': 0.0, 'area_m': 0.0, 'raion_popul': 0.0, 'green_zone_part': 0.0, 'indust_part': 0.0, 'children_preschool': 0.0, 'preschool_quota': 0.2194873814446523, 'preschool_education_centers_raion': 0.0, 'children_school': 0.0, 'school_quota': 0.21938892717665978, 'school_education_centers_raion': 0.0, 'school_education_centers_top_20_raion': 0.0, 'hospital_beds_raion': 0.4739260280266483, 'healthcare_centers_raion': 0.0, 'university_top_20_raion': 0.0, 'sport_objects_raion': 0.0, 'additional_education_raion': 0.0, 'culture_objects_top_25': 0.0, 'culture_objects_top_25_raion': 0.0, 'shopping_centers_raion': 0.0, 'office_raion': 0.0, 'thermal_power_plant_raion': 0.0, 'incineration_raion': 0.0, 'oil_chemistry_raion': 0.0, 'radiation_raion': 0.0, 'railroad_terminal_raion': 0.0, 'big_market_raion': 0.0, 'nuclear_reactor_raion': 0.0, 'detention_facility_raion': 0.0, 'full_all': 0.0, 'male_f': 0.0, 'female_f': 0.0, 'young_all': 0.0, 'young_male': 0.0, 'young_female': 0.0, 'work_all': 0.0, 'work_male': 0.0, 'work_female': 0.0, 'ekder_all': 0.0, 'ekder_male': 0.0, 'ekder_female': 0.0, '0_6_all': 0.0, '0_6_male': 0.0, '0_6_female': 0.0, '7_14_all': 0.0, '7_14_male': 0.0, '7_14_female': 0.0, '0_17_all': 0.0, '0_17_male': 0.0, '0_17_female': 0.0, '16_29_all': 0.0, '16_29_male': 0.0, '16_29_female': 0.0, '0_13_all': 0.0, '0_13_male': 0.0, '0_13_female': 0.0, 'raion_build_count_with_material_info': 0.16379508385021824, 'build_count_block': 0.16379508385021824, 'build_count_wood': 0.16379508385021824, 'build_count_frame': 0.16379508385021824, 'build_count_brick': 0.16379508385021824, 'build_count_monolith': 0.16379508385021824, 'build_count_panel': 0.16379508385021824, 'build_count_foam': 0.16379508385021824, 'build_count_slag': 0.16379508385021824, 'build_count_mix': 0.16379508385021824, 'raion_build_count_with_builddate_info': 0.16379508385021824, 'build_count_before_1920': 0.16379508385021824, 'build_count_1921-1945': 0.16379508385021824, 'build_count_1946-1970': 0.16379508385021824, 'build_count_1971-1995': 0.16379508385021824, 'build_count_after_1995': 0.16379508385021824, 'ID_metro': 0.0, 'metro_min_avto': 0.0, 'metro_km_avto': 0.0, 'metro_min_walk': 0.000820452233270979, 'metro_km_walk': 0.000820452233270979, 'kindergarten_km': 0.0, 'school_km': 0.0, 'park_km': 0.0, 'green_zone_km': 0.0, 'industrial_km': 0.0, 'water_treatment_km': 0.0, 'cemetery_km': 0.0, 'incineration_km': 0.0, 'railroad_station_walk_km': 0.000820452233270979, 'railroad_station_walk_min': 0.000820452233270979, 'ID_railroad_station_walk': 0.000820452233270979, 'railroad_station_avto_km': 0.0, 'railroad_station_avto_min': 0.0, 'ID_railroad_station_avto': 0.0, 'public_transport_station_km': 0.0, 'public_transport_station_min_walk': 0.0, 'water_km': 0.0, 'water_1line': 0.0, 'mkad_km': 0.0, 'ttk_km': 0.0, 'sadovoe_km': 0.0, 'bulvar_ring_km': 0.0, 'kremlin_km': 0.0, 'big_road1_km': 0.0, 'ID_big_road1': 0.0, 'big_road1_1line': 0.0, 'big_road2_km': 0.0, 'ID_big_road2': 0.0, 'railroad_km': 0.0, 'railroad_1line': 0.0, 'zd_vokzaly_avto_km': 0.0, 'ID_railroad_terminal': 0.0, 'bus_terminal_avto_km': 0.0, 'ID_bus_terminal': 0.0, 'oil_chemistry_km': 0.0, 'nuclear_reactor_km': 0.0, 'radiation_km': 0.0, 'power_transmission_line_km': 0.0, 'thermal_power_plant_km': 0.0, 'ts_km': 0.0, 'big_market_km': 0.0, 'market_shop_km': 0.0, 'fitness_km': 0.0, 'swim_pool_km': 0.0, 'ice_rink_km': 0.0, 'stadium_km': 0.0, 'basketball_km': 0.0, 'hospice_morgue_km': 0.0, 'detention_facility_km': 0.0, 'public_healthcare_km': 0.0, 'university_km': 0.0, 'workplaces_km': 0.0, 'shopping_centers_km': 0.0, 'office_km': 0.0, 'additional_education_km': 0.0, 'preschool_km': 0.0, 'big_church_km': 0.0, 'church_synagogue_km': 0.0, 'mosque_km': 0.0, 'theater_km': 0.0, 'museum_km': 0.0, 'exhibition_km': 0.0, 'catering_km': 0.0, 'ecology': 0.0, 'green_part_500': 0.0, 'prom_part_500': 0.0, 'office_count_500': 0.0, 'office_sqm_500': 0.0, 'trc_count_500': 0.0, 'trc_sqm_500': 0.0, 'cafe_count_500': 0.0, 'cafe_sum_500_min_price_avg': 0.43585704440287487, 'cafe_sum_500_max_price_avg': 0.43585704440287487, 'cafe_avg_price_500': 0.43585704440287487, 'cafe_count_500_na_price': 0.0, 'cafe_count_500_price_500': 0.0, 'cafe_count_500_price_1000': 0.0, 'cafe_count_500_price_1500': 0.0, 'cafe_count_500_price_2500': 0.0, 'cafe_count_500_price_4000': 0.0, 'cafe_count_500_price_high': 0.0, 'big_church_count_500': 0.0, 'church_count_500': 0.0, 'mosque_count_500': 0.0, 'leisure_count_500': 0.0, 'sport_count_500': 0.0, 'market_count_500': 0.0, 'green_part_1000': 0.0, 'prom_part_1000': 0.0, 'office_count_1000': 0.0, 'office_sqm_1000': 0.0, 'trc_count_1000': 0.0, 'trc_sqm_1000': 0.0, 'cafe_count_1000': 0.0, 'cafe_sum_1000_min_price_avg': 0.21410521479439468, 'cafe_sum_1000_max_price_avg': 0.21410521479439468, 'cafe_avg_price_1000': 0.21410521479439468, 'cafe_count_1000_na_price': 0.0, 'cafe_count_1000_price_500': 0.0, 'cafe_count_1000_price_1000': 0.0, 'cafe_count_1000_price_1500': 0.0, 'cafe_count_1000_price_2500': 0.0, 'cafe_count_1000_price_4000': 0.0, 'cafe_count_1000_price_high': 0.0, 'big_church_count_1000': 0.0, 'church_count_1000': 0.0, 'mosque_count_1000': 0.0, 'leisure_count_1000': 0.0, 'sport_count_1000': 0.0, 'market_count_1000': 0.0, 'green_part_1500': 0.0, 'prom_part_1500': 0.0, 'office_count_1500': 0.0, 'office_sqm_1500': 0.0, 'trc_count_1500': 0.0, 'trc_sqm_1500': 0.0, 'cafe_count_1500': 0.0, 'cafe_sum_1500_min_price_avg': 0.1378031571001936, 'cafe_sum_1500_max_price_avg': 0.1378031571001936, 'cafe_avg_price_1500': 0.1378031571001936, 'cafe_count_1500_na_price': 0.0, 'cafe_count_1500_price_500': 0.0, 'cafe_count_1500_price_1000': 0.0, 'cafe_count_1500_price_1500': 0.0, 'cafe_count_1500_price_2500': 0.0, 'cafe_count_1500_price_4000': 0.0, 'cafe_count_1500_price_high': 0.0, 'big_church_count_1500': 0.0, 'church_count_1500': 0.0, 'mosque_count_1500': 0.0, 'leisure_count_1500': 0.0, 'sport_count_1500': 0.0, 'market_count_1500': 0.0, 'green_part_2000': 0.0, 'prom_part_2000': 0.0, 'office_count_2000': 0.0, 'office_sqm_2000': 0.0, 'trc_count_2000': 0.0, 'trc_sqm_2000': 0.0, 'cafe_count_2000': 0.0, 'cafe_sum_2000_min_price_avg': 0.056611204095697545, 'cafe_sum_2000_max_price_avg': 0.056611204095697545, 'cafe_avg_price_2000': 0.056611204095697545, 'cafe_count_2000_na_price': 0.0, 'cafe_count_2000_price_500': 0.0, 'cafe_count_2000_price_1000': 0.0, 'cafe_count_2000_price_1500': 0.0, 'cafe_count_2000_price_2500': 0.0, 'cafe_count_2000_price_4000': 0.0, 'cafe_count_2000_price_high': 0.0, 'big_church_count_2000': 0.0, 'church_count_2000': 0.0, 'mosque_count_2000': 0.0, 'leisure_count_2000': 0.0, 'sport_count_2000': 0.0, 'market_count_2000': 0.0, 'green_part_3000': 0.0, 'prom_part_3000': 0.0, 'office_count_3000': 0.0, 'office_sqm_3000': 0.0, 'trc_count_3000': 0.0, 'trc_sqm_3000': 0.0, 'cafe_count_3000': 0.0, 'cafe_sum_3000_min_price_avg': 0.032522726526861605, 'cafe_sum_3000_max_price_avg': 0.032522726526861605, 'cafe_avg_price_3000': 0.032522726526861605, 'cafe_count_3000_na_price': 0.0, 'cafe_count_3000_price_500': 0.0, 'cafe_count_3000_price_1000': 0.0, 'cafe_count_3000_price_1500': 0.0, 'cafe_count_3000_price_2500': 0.0, 'cafe_count_3000_price_4000': 0.0, 'cafe_count_3000_price_high': 0.0, 'big_church_count_3000': 0.0, 'church_count_3000': 0.0, 'mosque_count_3000': 0.0, 'leisure_count_3000': 0.0, 'sport_count_3000': 0.0, 'market_count_3000': 0.0, 'green_part_5000': 0.0, 'prom_part_5000': 0.00584161990088937, 'office_count_5000': 0.0, 'office_sqm_5000': 0.0, 'trc_count_5000': 0.0, 'trc_sqm_5000': 0.0, 'cafe_count_5000': 0.0, 'cafe_sum_5000_min_price_avg': 0.00974697253125923, 'cafe_sum_5000_max_price_avg': 0.00974697253125923, 'cafe_avg_price_5000': 0.00974697253125923, 'cafe_count_5000_na_price': 0.0, 'cafe_count_5000_price_500': 0.0, 'cafe_count_5000_price_1000': 0.0, 'cafe_count_5000_price_1500': 0.0, 'cafe_count_5000_price_2500': 0.0, 'cafe_count_5000_price_4000': 0.0, 'cafe_count_5000_price_high': 0.0, 'big_church_count_5000': 0.0, 'church_count_5000': 0.0, 'mosque_count_5000': 0.0, 'leisure_count_5000': 0.0, 'sport_count_5000': 0.0, 'market_count_5000': 0.0, 'price_doc': 0.0}\n"
     ]
    }
   ],
   "source": [
    "print( prop_miss_by_col  )"
   ]
  },
  {
   "cell_type": "markdown",
   "metadata": {},
   "source": [
    "## [ 0.3 ] - Missing Data Histogram"
   ]
  },
  {
   "cell_type": "code",
   "execution_count": 29,
   "metadata": {},
   "outputs": [],
   "source": [
    "# Observations avec 0, 1, 2, ... valeurs manquantes"
   ]
  },
  {
   "cell_type": "code",
   "execution_count": 48,
   "metadata": {},
   "outputs": [],
   "source": [
    "import numpy as np"
   ]
  },
  {
   "cell_type": "code",
   "execution_count": 49,
   "metadata": {},
   "outputs": [],
   "source": [
    "for col in df.columns:\n",
    "    \n",
    "    miss = df[ col ].isnull()\n",
    "    num_miss = np.sum( miss )\n",
    "    \n",
    "    if num_miss > 0:  \n",
    "        # créatuion de colonnes <col>_ismissing si valeurs manquantes dans <col>\n",
    "        df[ '{}_ismissing'.format(col) ] = miss"
   ]
  },
  {
   "cell_type": "code",
   "execution_count": 50,
   "metadata": {},
   "outputs": [
    {
     "data": {
      "text/plain": [
       "<matplotlib.axes._subplots.AxesSubplot at 0xe2f0a90>"
      ]
     },
     "execution_count": 50,
     "metadata": {},
     "output_type": "execute_result"
    },
    {
     "data": {
      "image/png": "[encoded data removed]",
      "text/plain": [
       "<Figure size 864x576 with 1 Axes>"
      ]
     },
     "metadata": {
      "needs_background": "light"
     },
     "output_type": "display_data"
    }
   ],
   "source": [
    "ismissing_cols = [ col for col in df.columns if 'ismissing' in col ]\n",
    "\n",
    "df[ 'num_missing' ] = df[ismissing_cols].sum( axis = 1 )\n",
    "\n",
    "df['num_missing'].value_counts().reset_index().sort_values(by='index').plot.bar(x = 'index' , y = 'num_missing' )\n"
   ]
  },
  {
   "cell_type": "markdown",
   "metadata": {},
   "source": [
    "## [ 0.4 ] - Drop the Observation"
   ]
  },
  {
   "cell_type": "code",
   "execution_count": 51,
   "metadata": {},
   "outputs": [],
   "source": [
    "# Suppression des enregistrments avec plus de 30 variables avec valeur manquante"
   ]
  },
  {
   "cell_type": "code",
   "execution_count": 55,
   "metadata": {},
   "outputs": [
    {
     "data": {
      "text/plain": [
       "(29779, 344)"
      ]
     },
     "execution_count": 55,
     "metadata": {},
     "output_type": "execute_result"
    }
   ],
   "source": [
    "ndx_miss = df[ df[ 'num_missing' ] > 35 ].index\n",
    "\n",
    "df_less_missing_rows = df.drop( ndx_miss , axis = 0 )\n",
    "\n",
    "df_less_missing_rows.shape"
   ]
  },
  {
   "cell_type": "markdown",
   "metadata": {},
   "source": [
    "## [ 0.5 ] - Drop the Feature"
   ]
  },
  {
   "cell_type": "code",
   "execution_count": 65,
   "metadata": {},
   "outputs": [
    {
     "name": "stdout",
     "output_type": "stream",
     "text": [
      "['life_sq', 'max_floor', 'material', 'build_year', 'num_room', 'kitch_sq', 'state', 'preschool_quota', 'school_quota', 'hospital_beds_raion', 'raion_build_count_with_material_info', 'build_count_block', 'build_count_wood', 'build_count_frame', 'build_count_brick', 'build_count_monolith', 'build_count_panel', 'build_count_foam', 'build_count_slag', 'build_count_mix', 'raion_build_count_with_builddate_info', 'build_count_before_1920', 'build_count_1921-1945', 'build_count_1946-1970', 'build_count_1971-1995', 'build_count_after_1995', 'cafe_sum_500_min_price_avg', 'cafe_sum_500_max_price_avg', 'cafe_avg_price_500', 'cafe_sum_1000_min_price_avg', 'cafe_sum_1000_max_price_avg', 'cafe_avg_price_1000', 'cafe_sum_1500_min_price_avg', 'cafe_sum_1500_max_price_avg', 'cafe_avg_price_1500']\n"
     ]
    }
   ],
   "source": [
    "# Suppression de la variable si plus de x % de valeurs manquantes\n",
    "\n",
    "miss_val_thresh = 0.10\n",
    "\n",
    "col_2drop = [ ]\n",
    "\n",
    "for col in df.columns :\n",
    "    \n",
    "    if np.mean( df[col].isnull() ) > miss_val_thresh :\n",
    "        col_2drop.append( col )\n",
    "        \n",
    "print( col_2drop )"
   ]
  },
  {
   "cell_type": "code",
   "execution_count": 13,
   "metadata": {},
   "outputs": [
    {
     "name": "stdout",
     "output_type": "stream",
     "text": [
      "['build_year']\n",
      "['build_year', 'state']\n",
      "['build_year', 'state', 'hospital_beds_raion']\n",
      "['build_year', 'state', 'hospital_beds_raion', 'cafe_sum_500_min_price_avg']\n",
      "['build_year', 'state', 'hospital_beds_raion', 'cafe_sum_500_min_price_avg', 'cafe_sum_500_max_price_avg']\n",
      "['build_year', 'state', 'hospital_beds_raion', 'cafe_sum_500_min_price_avg', 'cafe_sum_500_max_price_avg', 'cafe_avg_price_500']\n"
     ]
    }
   ],
   "source": [
    "threshold = 0.40\n",
    "\n",
    "col_2drop = [ ]\n",
    "\n",
    "for item in prop_miss_by_col.items() :\n",
    "    \n",
    "    if item[1] >= threshold :\n",
    "        col_2drop.append( item[0] )\n",
    "        \n",
    "print( col_2drop )\n",
    "        \n",
    "df_drop_col_miss = df.drop( col_2drop )"
   ]
  },
  {
   "cell_type": "code",
   "execution_count": 14,
   "metadata": {},
   "outputs": [],
   "source": [
    "df_drop_col_miss = df.drop( col_2drop , axis = 1 )"
   ]
  },
  {
   "cell_type": "code",
   "execution_count": 16,
   "metadata": {},
   "outputs": [
    {
     "data": {
      "text/plain": [
       "(30471, 292)"
      ]
     },
     "execution_count": 16,
     "metadata": {},
     "output_type": "execute_result"
    }
   ],
   "source": [
    "df.shape"
   ]
  },
  {
   "cell_type": "code",
   "execution_count": 15,
   "metadata": {},
   "outputs": [
    {
     "data": {
      "text/plain": [
       "(30471, 286)"
      ]
     },
     "execution_count": 15,
     "metadata": {},
     "output_type": "execute_result"
    }
   ],
   "source": [
    "df_drop_col_miss.shape"
   ]
  },
  {
   "cell_type": "markdown",
   "metadata": {},
   "source": [
    "## [ 0.6 ] - Impute the missing"
   ]
  },
  {
   "cell_type": "code",
   "execution_count": 23,
   "metadata": {},
   "outputs": [
    {
     "name": "stdout",
     "output_type": "stream",
     "text": [
      " life_sq has missing values\n",
      " floor has missing values\n",
      " max_floor has missing values\n",
      " material has missing values\n",
      " build_year has missing values\n",
      " num_room has missing values\n",
      " kitch_sq has missing values\n",
      " state has missing values\n",
      " preschool_quota has missing values\n",
      " school_quota has missing values\n",
      " hospital_beds_raion has missing values\n",
      " raion_build_count_with_material_info has missing values\n",
      " build_count_block has missing values\n",
      " build_count_wood has missing values\n",
      " build_count_frame has missing values\n",
      " build_count_brick has missing values\n",
      " build_count_monolith has missing values\n",
      " build_count_panel has missing values\n",
      " build_count_foam has missing values\n",
      " build_count_slag has missing values\n",
      " build_count_mix has missing values\n",
      " raion_build_count_with_builddate_info has missing values\n",
      " build_count_before_1920 has missing values\n",
      " build_count_1921-1945 has missing values\n",
      " build_count_1946-1970 has missing values\n",
      " build_count_1971-1995 has missing values\n",
      " build_count_after_1995 has missing values\n",
      " metro_min_walk has missing values\n",
      " metro_km_walk has missing values\n",
      " railroad_station_walk_km has missing values\n",
      " railroad_station_walk_min has missing values\n",
      " ID_railroad_station_walk has missing values\n",
      " cafe_sum_500_min_price_avg has missing values\n",
      " cafe_sum_500_max_price_avg has missing values\n",
      " cafe_avg_price_500 has missing values\n",
      " cafe_sum_1000_min_price_avg has missing values\n",
      " cafe_sum_1000_max_price_avg has missing values\n",
      " cafe_avg_price_1000 has missing values\n",
      " cafe_sum_1500_min_price_avg has missing values\n",
      " cafe_sum_1500_max_price_avg has missing values\n",
      " cafe_avg_price_1500 has missing values\n",
      " cafe_sum_2000_min_price_avg has missing values\n",
      " cafe_sum_2000_max_price_avg has missing values\n",
      " cafe_avg_price_2000 has missing values\n",
      " cafe_sum_3000_min_price_avg has missing values\n",
      " cafe_sum_3000_max_price_avg has missing values\n",
      " cafe_avg_price_3000 has missing values\n",
      " prom_part_5000 has missing values\n",
      " cafe_sum_5000_min_price_avg has missing values\n",
      " cafe_sum_5000_max_price_avg has missing values\n",
      " cafe_avg_price_5000 has missing values\n"
     ]
    }
   ],
   "source": [
    "for col in list( df_num.columns ) :\n",
    "    \n",
    "    if np.sum( df[ col ].isnull( ) ) > 0 :\n",
    "        print( ' {0} has missing values'.format( col ) )\n",
    "        med = df[ col ].median( )\n",
    "        df[ col ].fillna( med )"
   ]
  },
  {
   "cell_type": "code",
   "execution_count": 26,
   "metadata": {},
   "outputs": [],
   "source": [
    "for col in list( df_nnum.columns ) :\n",
    "    \n",
    "    if np.sum( df[ col ].isnull( ) ) > 0 :\n",
    "        print( ' {0} has missing values'.format( col ) )\n",
    "        top = df[ col ].describe()[ 'top' ]\n",
    "        df[ col ].fillna( top )"
   ]
  },
  {
   "cell_type": "markdown",
   "metadata": {},
   "source": [
    "## [ 0.7 ] - Replace the missing"
   ]
  },
  {
   "cell_type": "code",
   "execution_count": 27,
   "metadata": {},
   "outputs": [
    {
     "name": "stdout",
     "output_type": "stream",
     "text": [
      " life_sq has missing values\n",
      " floor has missing values\n",
      " max_floor has missing values\n",
      " material has missing values\n",
      " build_year has missing values\n",
      " num_room has missing values\n",
      " kitch_sq has missing values\n",
      " state has missing values\n",
      " preschool_quota has missing values\n",
      " school_quota has missing values\n",
      " hospital_beds_raion has missing values\n",
      " raion_build_count_with_material_info has missing values\n",
      " build_count_block has missing values\n",
      " build_count_wood has missing values\n",
      " build_count_frame has missing values\n",
      " build_count_brick has missing values\n",
      " build_count_monolith has missing values\n",
      " build_count_panel has missing values\n",
      " build_count_foam has missing values\n",
      " build_count_slag has missing values\n",
      " build_count_mix has missing values\n",
      " raion_build_count_with_builddate_info has missing values\n",
      " build_count_before_1920 has missing values\n",
      " build_count_1921-1945 has missing values\n",
      " build_count_1946-1970 has missing values\n",
      " build_count_1971-1995 has missing values\n",
      " build_count_after_1995 has missing values\n",
      " metro_min_walk has missing values\n",
      " metro_km_walk has missing values\n",
      " railroad_station_walk_km has missing values\n",
      " railroad_station_walk_min has missing values\n",
      " ID_railroad_station_walk has missing values\n",
      " cafe_sum_500_min_price_avg has missing values\n",
      " cafe_sum_500_max_price_avg has missing values\n",
      " cafe_avg_price_500 has missing values\n",
      " cafe_sum_1000_min_price_avg has missing values\n",
      " cafe_sum_1000_max_price_avg has missing values\n",
      " cafe_avg_price_1000 has missing values\n",
      " cafe_sum_1500_min_price_avg has missing values\n",
      " cafe_sum_1500_max_price_avg has missing values\n",
      " cafe_avg_price_1500 has missing values\n",
      " cafe_sum_2000_min_price_avg has missing values\n",
      " cafe_sum_2000_max_price_avg has missing values\n",
      " cafe_avg_price_2000 has missing values\n",
      " cafe_sum_3000_min_price_avg has missing values\n",
      " cafe_sum_3000_max_price_avg has missing values\n",
      " cafe_avg_price_3000 has missing values\n",
      " prom_part_5000 has missing values\n",
      " cafe_sum_5000_min_price_avg has missing values\n",
      " cafe_sum_5000_max_price_avg has missing values\n",
      " cafe_avg_price_5000 has missing values\n"
     ]
    }
   ],
   "source": [
    "for col in list( df_num.columns ) :\n",
    "    \n",
    "    if np.sum( df[ col ].isnull( ) ) > 0 :\n",
    "        print( ' {0} has missing values'.format( col ) ) \n",
    "        df[ col ] = df[ col ].fillna( -999 )"
   ]
  },
  {
   "cell_type": "code",
   "execution_count": 28,
   "metadata": {},
   "outputs": [],
   "source": [
    "for col in list( df_nnum.columns ) :\n",
    "    \n",
    "    if np.sum( df[ col ].isnull( ) ) > 0 :\n",
    "        print( ' {0} has missing values'.format( col ) )\n",
    "        df[ col ].fillna( _missing_ )"
   ]
  },
  {
   "cell_type": "markdown",
   "metadata": {},
   "source": [
    "# [ 1 ] - Irregular data (Outliers)"
   ]
  },
  {
   "cell_type": "markdown",
   "metadata": {},
   "source": [
    "## [ 1.1 ] - Histogram / Boxplot"
   ]
  },
  {
   "cell_type": "code",
   "execution_count": 32,
   "metadata": {},
   "outputs": [
    {
     "data": {
      "text/plain": [
       "<matplotlib.axes._subplots.AxesSubplot at 0xc979fd0>"
      ]
     },
     "execution_count": 32,
     "metadata": {},
     "output_type": "execute_result"
    },
    {
     "data": {
      "image/png": "[encoded data removed]",
      "text/plain": [
       "<Figure size 864x576 with 1 Axes>"
      ]
     },
     "metadata": {
      "needs_background": "light"
     },
     "output_type": "display_data"
    }
   ],
   "source": [
    "df[ 'life_sq' ].hist( bins = 100 )"
   ]
  },
  {
   "cell_type": "code",
   "execution_count": 30,
   "metadata": {},
   "outputs": [
    {
     "data": {
      "text/plain": [
       "<matplotlib.axes._subplots.AxesSubplot at 0xbcef550>"
      ]
     },
     "execution_count": 30,
     "metadata": {},
     "output_type": "execute_result"
    },
    {
     "data": {
      "image/png": "[encoded data removed]",
      "text/plain": [
       "<Figure size 864x576 with 1 Axes>"
      ]
     },
     "metadata": {
      "needs_background": "light"
     },
     "output_type": "display_data"
    }
   ],
   "source": [
    "df.boxplot( column = [ 'life_sq' ] )"
   ]
  },
  {
   "cell_type": "markdown",
   "metadata": {},
   "source": [
    "## [ 1.2 ] - Descriptive Statistics"
   ]
  },
  {
   "cell_type": "code",
   "execution_count": 33,
   "metadata": {},
   "outputs": [
    {
     "data": {
      "text/plain": [
       "count    30471.000000\n",
       "mean      -182.071839\n",
       "std        423.097538\n",
       "min       -999.000000\n",
       "25%         16.000000\n",
       "50%         27.000000\n",
       "75%         38.000000\n",
       "max       7478.000000\n",
       "Name: life_sq, dtype: float64"
      ]
     },
     "execution_count": 33,
     "metadata": {},
     "output_type": "execute_result"
    }
   ],
   "source": [
    "# Ecart important entre max & 75%\n",
    "\n",
    "df['life_sq'].describe()"
   ]
  },
  {
   "cell_type": "markdown",
   "metadata": {},
   "source": [
    "## [ 1.3 ] - Bar Chart"
   ]
  },
  {
   "cell_type": "code",
   "execution_count": 36,
   "metadata": {},
   "outputs": [
    {
     "data": {
      "text/plain": [
       "<matplotlib.axes._subplots.AxesSubplot at 0xcd4bdd8>"
      ]
     },
     "execution_count": 36,
     "metadata": {},
     "output_type": "execute_result"
    },
    {
     "data": {
      "image/png": "[encoded data removed]",
      "text/plain": [
       "<Figure size 864x576 with 1 Axes>"
      ]
     },
     "metadata": {
      "needs_background": "light"
     },
     "output_type": "display_data"
    }
   ],
   "source": [
    "df[ 'ecology' ].value_counts().plot.bar()"
   ]
  },
  {
   "cell_type": "markdown",
   "metadata": {},
   "source": [
    "# [ 2 ] - Unnecessary data"
   ]
  },
  {
   "cell_type": "markdown",
   "metadata": {},
   "source": [
    "## [ 2.1 ] - Uninformative / Repetitive"
   ]
  },
  {
   "cell_type": "code",
   "execution_count": 63,
   "metadata": {},
   "outputs": [
    {
     "data": {
      "text/plain": [
       "0    0.619835\n",
       "1    0.317909\n",
       "2    0.062256\n",
       "Name: mosque_count_5000, dtype: float64"
      ]
     },
     "execution_count": 63,
     "metadata": {},
     "output_type": "execute_result"
    }
   ],
   "source": [
    "df[ 'mosque_count_5000' ].value_counts( dropna = False ) / len( df.index )"
   ]
  },
  {
   "cell_type": "code",
   "execution_count": 51,
   "metadata": {},
   "outputs": [
    {
     "data": {
      "text/plain": [
       "'poor'"
      ]
     },
     "execution_count": 51,
     "metadata": {},
     "output_type": "execute_result"
    }
   ],
   "source": [
    " ( df[ 'ecology' ].value_counts( dropna = False ) / len( df.index ) ).index[0]"
   ]
  },
  {
   "cell_type": "code",
   "execution_count": 55,
   "metadata": {},
   "outputs": [
    {
     "data": {
      "text/plain": [
       "0.2631354402546684"
      ]
     },
     "execution_count": 55,
     "metadata": {},
     "output_type": "execute_result"
    }
   ],
   "source": [
    " ( df[ 'ecology' ].value_counts( dropna = False ) / len( df.index ) ).iloc[ 0 ]"
   ]
  },
  {
   "cell_type": "code",
   "execution_count": 67,
   "metadata": {},
   "outputs": [
    {
     "name": "stdout",
     "output_type": "stream",
     "text": [
      "low information columns : ['oil_chemistry_raion', 'railroad_terminal_raion', 'nuclear_reactor_raion', 'big_road1_1line', 'railroad_1line', 'cafe_count_500_price_high', 'mosque_count_500', 'cafe_count_1000_price_high', 'mosque_count_1000', 'mosque_count_1500']\n"
     ]
    }
   ],
   "source": [
    "# Liste de colonnes avec fort % de valeurs identiques\n",
    "\n",
    "threshold = 0.95\n",
    "\n",
    "low_nfo_cols = [] \n",
    "\n",
    "for col in df.columns:\n",
    "    \n",
    "    col_val_p = df[ col ].value_counts( dropna = False ) / len( df.index )\n",
    "    \n",
    "    top_val = col_val_p.index[ 0 ] \n",
    "    top_p = col_val_p.iloc[ 0 ] \n",
    "    \n",
    "    #print( 'threshold : {0} | column : {1} | top % value : {2} | top % : {3}'.format( threshold , col , top_val , top_p ) )\n",
    "    \n",
    "    if top_p > threshold :\n",
    "        low_nfo_cols.append( col )\n",
    "        \n",
    "print( 'low information columns : {0}'.format( low_nfo_cols ) )"
   ]
  },
  {
   "cell_type": "code",
   "execution_count": null,
   "metadata": {},
   "outputs": [],
   "source": []
  },
  {
   "cell_type": "markdown",
   "metadata": {},
   "source": [
    "## [ 2.2 ] - Irrelevant"
   ]
  },
  {
   "cell_type": "markdown",
   "metadata": {},
   "source": [
    "## [ 2.3 ] - Duplicates"
   ]
  },
  {
   "cell_type": "markdown",
   "metadata": {},
   "source": [
    "### [ 2.3.1 ] - All Features based"
   ]
  },
  {
   "cell_type": "code",
   "execution_count": 68,
   "metadata": {},
   "outputs": [],
   "source": [
    "df_dedup = df.drop( 'id' , axis = 1 ).drop_duplicates()"
   ]
  },
  {
   "cell_type": "code",
   "execution_count": 69,
   "metadata": {},
   "outputs": [
    {
     "data": {
      "text/plain": [
       "(30471, 292)"
      ]
     },
     "execution_count": 69,
     "metadata": {},
     "output_type": "execute_result"
    }
   ],
   "source": [
    "df.shape"
   ]
  },
  {
   "cell_type": "code",
   "execution_count": 70,
   "metadata": {},
   "outputs": [
    {
     "data": {
      "text/plain": [
       "(30461, 291)"
      ]
     },
     "execution_count": 70,
     "metadata": {},
     "output_type": "execute_result"
    }
   ],
   "source": [
    "df_dedup.shape"
   ]
  },
  {
   "cell_type": "markdown",
   "metadata": {},
   "source": [
    "### [ 2.3.2 ] - Key Features based"
   ]
  },
  {
   "cell_type": "code",
   "execution_count": 72,
   "metadata": {},
   "outputs": [],
   "source": [
    "key = [ 'timestamp' , 'full_sq' , 'life_sq' , 'floor' , 'build_year' , 'num_room' , 'price_doc' ]\n",
    "\n",
    "df_dedup = df.drop_duplicates( subset = key )"
   ]
  },
  {
   "cell_type": "code",
   "execution_count": 73,
   "metadata": {},
   "outputs": [
    {
     "data": {
      "text/plain": [
       "(30471, 292)"
      ]
     },
     "execution_count": 73,
     "metadata": {},
     "output_type": "execute_result"
    }
   ],
   "source": [
    "df.shape"
   ]
  },
  {
   "cell_type": "code",
   "execution_count": 74,
   "metadata": {},
   "outputs": [
    {
     "data": {
      "text/plain": [
       "(30455, 292)"
      ]
     },
     "execution_count": 74,
     "metadata": {},
     "output_type": "execute_result"
    }
   ],
   "source": [
    "df_dedup.shape"
   ]
  },
  {
   "cell_type": "markdown",
   "metadata": {},
   "source": [
    "# [ 3 ] - Inconsistent data"
   ]
  },
  {
   "cell_type": "markdown",
   "metadata": {},
   "source": [
    "## [ 3.1 ] - Capitalization"
   ]
  },
  {
   "cell_type": "code",
   "execution_count": 75,
   "metadata": {
    "collapsed": true
   },
   "outputs": [
    {
     "data": {
      "text/plain": [
       "Poselenie Sosenskoe               1776\n",
       "Nekrasovka                        1611\n",
       "Poselenie Vnukovskoe              1372\n",
       "Poselenie Moskovskij               925\n",
       "Poselenie Voskresenskoe            713\n",
       "Mitino                             679\n",
       "Tverskoe                           678\n",
       "Krjukovo                           518\n",
       "Mar'ino                            508\n",
       "Poselenie Filimonkovskoe           496\n",
       "Juzhnoe Butovo                     451\n",
       "Poselenie Shherbinka               443\n",
       "Solncevo                           421\n",
       "Zapadnoe Degunino                  410\n",
       "Poselenie Desjonovskoe             362\n",
       "Otradnoe                           353\n",
       "Nagatinskij Zaton                  327\n",
       "Nagornoe                           305\n",
       "Bogorodskoe                        305\n",
       "Strogino                           301\n",
       "Izmajlovo                          300\n",
       "Tekstil'shhiki                     298\n",
       "Ljublino                           297\n",
       "Gol'janovo                         295\n",
       "Severnoe Tushino                   282\n",
       "Chertanovo Juzhnoe                 273\n",
       "Birjulevo Vostochnoe               268\n",
       "Vyhino-Zhulebino                   264\n",
       "Horoshevo-Mnevniki                 262\n",
       "Zjuzino                            259\n",
       "                                  ... \n",
       "Ostankinskoe                        79\n",
       "Gagarinskoe                         79\n",
       "Nizhegorodskoe                      77\n",
       "Sokol                               72\n",
       "Altuf'evskoe                        68\n",
       "Rostokino                           64\n",
       "Kurkino                             62\n",
       "Begovoe                             60\n",
       "Sokol'niki                          60\n",
       "Metrogorodok                        58\n",
       "Dorogomilovo                        56\n",
       "Zamoskvorech'e                      50\n",
       "Kapotnja                            49\n",
       "Vnukovo                             44\n",
       "Krasnosel'skoe                      37\n",
       "Severnoe                            37\n",
       "Poselenie Rjazanovskoe              34\n",
       "Poselenie Rogovskoe                 31\n",
       "Poselenie Krasnopahorskoe           27\n",
       "Poselenie Kokoshkino                20\n",
       "Poselenie Mosrentgen                19\n",
       "Arbat                               15\n",
       "Poselenie Voronovskoe                7\n",
       "Vostochnoe                           7\n",
       "Poselenie Marushkinskoe              6\n",
       "Molzhaninovskoe                      3\n",
       "Poselenie Shhapovskoe                2\n",
       "Poselenie Kievskij                   2\n",
       "Poselenie Klenovskoe                 1\n",
       "Poselenie Mihajlovo-Jarcevskoe       1\n",
       "Name: sub_area, Length: 146, dtype: int64"
      ]
     },
     "execution_count": 75,
     "metadata": {},
     "output_type": "execute_result"
    }
   ],
   "source": [
    "df[ 'sub_area' ].value_counts( dropna = False )"
   ]
  },
  {
   "cell_type": "code",
   "execution_count": 76,
   "metadata": {
    "collapsed": true
   },
   "outputs": [
    {
     "data": {
      "text/plain": [
       "poselenie sosenskoe               1776\n",
       "nekrasovka                        1611\n",
       "poselenie vnukovskoe              1372\n",
       "poselenie moskovskij               925\n",
       "poselenie voskresenskoe            713\n",
       "mitino                             679\n",
       "tverskoe                           678\n",
       "krjukovo                           518\n",
       "mar'ino                            508\n",
       "poselenie filimonkovskoe           496\n",
       "juzhnoe butovo                     451\n",
       "poselenie shherbinka               443\n",
       "solncevo                           421\n",
       "zapadnoe degunino                  410\n",
       "poselenie desjonovskoe             362\n",
       "otradnoe                           353\n",
       "nagatinskij zaton                  327\n",
       "nagornoe                           305\n",
       "bogorodskoe                        305\n",
       "strogino                           301\n",
       "izmajlovo                          300\n",
       "tekstil'shhiki                     298\n",
       "ljublino                           297\n",
       "gol'janovo                         295\n",
       "severnoe tushino                   282\n",
       "chertanovo juzhnoe                 273\n",
       "birjulevo vostochnoe               268\n",
       "vyhino-zhulebino                   264\n",
       "horoshevo-mnevniki                 262\n",
       "zjuzino                            259\n",
       "                                  ... \n",
       "ostankinskoe                        79\n",
       "gagarinskoe                         79\n",
       "nizhegorodskoe                      77\n",
       "sokol                               72\n",
       "altuf'evskoe                        68\n",
       "rostokino                           64\n",
       "kurkino                             62\n",
       "begovoe                             60\n",
       "sokol'niki                          60\n",
       "metrogorodok                        58\n",
       "dorogomilovo                        56\n",
       "zamoskvorech'e                      50\n",
       "kapotnja                            49\n",
       "vnukovo                             44\n",
       "severnoe                            37\n",
       "krasnosel'skoe                      37\n",
       "poselenie rjazanovskoe              34\n",
       "poselenie rogovskoe                 31\n",
       "poselenie krasnopahorskoe           27\n",
       "poselenie kokoshkino                20\n",
       "poselenie mosrentgen                19\n",
       "arbat                               15\n",
       "vostochnoe                           7\n",
       "poselenie voronovskoe                7\n",
       "poselenie marushkinskoe              6\n",
       "molzhaninovskoe                      3\n",
       "poselenie kievskij                   2\n",
       "poselenie shhapovskoe                2\n",
       "poselenie klenovskoe                 1\n",
       "poselenie mihajlovo-jarcevskoe       1\n",
       "Name: sub_area_lower, Length: 146, dtype: int64"
      ]
     },
     "execution_count": 76,
     "metadata": {},
     "output_type": "execute_result"
    }
   ],
   "source": [
    "df[ 'sub_area_lower' ] = df[ 'sub_area' ].str.lower()\n",
    "\n",
    "df[ 'sub_area_lower' ].value_counts( dropna = False )"
   ]
  },
  {
   "cell_type": "code",
   "execution_count": 79,
   "metadata": {},
   "outputs": [
    {
     "data": {
      "text/plain": [
       "int64      157\n",
       "float64    119\n",
       "object      17\n",
       "dtype: int64"
      ]
     },
     "execution_count": 79,
     "metadata": {},
     "output_type": "execute_result"
    }
   ],
   "source": [
    "df.dtypes.value_counts()"
   ]
  },
  {
   "cell_type": "code",
   "execution_count": 83,
   "metadata": {},
   "outputs": [
    {
     "data": {
      "text/plain": [
       "Index(['timestamp', 'product_type', 'sub_area', 'culture_objects_top_25',\n",
       "       'thermal_power_plant_raion', 'incineration_raion',\n",
       "       'oil_chemistry_raion', 'radiation_raion', 'railroad_terminal_raion',\n",
       "       'big_market_raion', 'nuclear_reactor_raion', 'detention_facility_raion',\n",
       "       'water_1line', 'big_road1_1line', 'railroad_1line', 'ecology',\n",
       "       'sub_area_lower'],\n",
       "      dtype='object')"
      ]
     },
     "execution_count": 83,
     "metadata": {},
     "output_type": "execute_result"
    }
   ],
   "source": [
    "df.select_dtypes( include = [ object ] ).columns"
   ]
  },
  {
   "cell_type": "code",
   "execution_count": 84,
   "metadata": {},
   "outputs": [
    {
     "name": "stdout",
     "output_type": "stream",
     "text": [
      "column timestamp to lower\n",
      "column product_type to lower\n",
      "column sub_area to lower\n",
      "column culture_objects_top_25 to lower\n",
      "column thermal_power_plant_raion to lower\n",
      "column incineration_raion to lower\n",
      "column oil_chemistry_raion to lower\n",
      "column radiation_raion to lower\n",
      "column railroad_terminal_raion to lower\n",
      "column big_market_raion to lower\n",
      "column nuclear_reactor_raion to lower\n",
      "column detention_facility_raion to lower\n",
      "column water_1line to lower\n",
      "column big_road1_1line to lower\n",
      "column railroad_1line to lower\n",
      "column ecology to lower\n",
      "column sub_area_lower to lower\n"
     ]
    }
   ],
   "source": [
    "obj_cols = df.select_dtypes( include = [ object ] ).columns\n",
    "\n",
    "for col in obj_cols :\n",
    "    df[ col ] = df[ col ].str.lower()\n",
    "    print( 'column {0} to lower'.format( col ) )"
   ]
  },
  {
   "cell_type": "markdown",
   "metadata": {},
   "source": [
    "## [ 3.2 ] - Format"
   ]
  },
  {
   "cell_type": "code",
   "execution_count": 89,
   "metadata": {},
   "outputs": [],
   "source": [
    "df[ 'timestamp_dt' ] = pd.to_datetime( df[ 'timestamp' ] , format = '%Y-%m-%d' )\n",
    "\n",
    "df['year'] = df['timestamp_dt'].dt.year\n",
    "\n",
    "df['month'] = df['timestamp_dt'].dt.month\n",
    "\n",
    "df['weekday'] = df['timestamp_dt'].dt.weekday"
   ]
  },
  {
   "cell_type": "code",
   "execution_count": 102,
   "metadata": {
    "scrolled": true
   },
   "outputs": [
    {
     "data": {
      "text/plain": [
       "2011      753\n",
       "2012     4839\n",
       "2013     7978\n",
       "2014    13662\n",
       "2015     3239\n",
       "Name: year, dtype: int64"
      ]
     },
     "execution_count": 102,
     "metadata": {},
     "output_type": "execute_result"
    }
   ],
   "source": [
    " df[ 'year' ].value_counts( dropna = False ).sort_index()"
   ]
  },
  {
   "cell_type": "code",
   "execution_count": 101,
   "metadata": {},
   "outputs": [
    {
     "data": {
      "text/plain": [
       "1     1809\n",
       "2     2275\n",
       "3     2972\n",
       "4     3191\n",
       "5     2496\n",
       "6     2570\n",
       "7     1875\n",
       "8     1831\n",
       "9     2346\n",
       "10    2736\n",
       "11    2970\n",
       "12    3400\n",
       "Name: month, dtype: int64"
      ]
     },
     "execution_count": 101,
     "metadata": {},
     "output_type": "execute_result"
    }
   ],
   "source": [
    "df[ 'month' ].value_counts( dropna = False ).sort_index()"
   ]
  },
  {
   "cell_type": "markdown",
   "metadata": {},
   "source": [
    "## [ 3.3 ] - Categorical Values"
   ]
  },
  {
   "cell_type": "code",
   "execution_count": 115,
   "metadata": {},
   "outputs": [],
   "source": [
    "from nltk.metrics import edit_distance"
   ]
  },
  {
   "cell_type": "code",
   "execution_count": 124,
   "metadata": {},
   "outputs": [],
   "source": [
    "a = [5, 7, 11, 4, 5, 2, 8]"
   ]
  },
  {
   "cell_type": "code",
   "execution_count": 128,
   "metadata": {},
   "outputs": [
    {
     "data": {
      "text/plain": [
       "[(5, 7), (7, 11), (11, 4), (4, 5), (5, 2), (2, 8)]"
      ]
     },
     "execution_count": 128,
     "metadata": {},
     "output_type": "execute_result"
    }
   ],
   "source": [
    "list( zip(a, a[1:]) )"
   ]
  },
  {
   "cell_type": "code",
   "execution_count": 134,
   "metadata": {},
   "outputs": [
    {
     "data": {
      "text/plain": [
       "Index(['poor', 'no data', 'good', 'excellent', 'satisfactory'], dtype='object')"
      ]
     },
     "execution_count": 134,
     "metadata": {},
     "output_type": "execute_result"
    }
   ],
   "source": [
    " df[ 'ecology' ].value_counts().index"
   ]
  },
  {
   "cell_type": "code",
   "execution_count": 145,
   "metadata": {},
   "outputs": [
    {
     "name": "stdout",
     "output_type": "stream",
     "text": [
      "poor no data 6\n",
      "poor good 2\n",
      "poor excellent 9\n",
      "poor satisfactory 10\n",
      "no data good 5\n",
      "no data excellent 9\n",
      "no data satisfactory 10\n",
      "good excellent 9\n",
      "good satisfactory 11\n",
      "excellent satisfactory 11\n"
     ]
    }
   ],
   "source": [
    "threshold = 2 \n",
    "\n",
    "a = df[ 'ecology' ].value_counts().index\n",
    "\n",
    "col_val = {}\n",
    "\n",
    "# { 'ecology' : { ( 'poor' , 'no data' ) : 6 } }\n",
    "\n",
    "for i , j in itertools.combinations( a , 2 ) :\n",
    "    \n",
    "    if edit_distance( i , j ) <= threshold :\n",
    "        \n",
    "    \n",
    "    print( i , j , edit_distance( i , j ) )\n",
    "\n"
   ]
  },
  {
   "cell_type": "code",
   "execution_count": 147,
   "metadata": {},
   "outputs": [
    {
     "data": {
      "text/plain": [
       "Index(['timestamp', 'product_type', 'sub_area', 'culture_objects_top_25',\n",
       "       'thermal_power_plant_raion', 'incineration_raion',\n",
       "       'oil_chemistry_raion', 'radiation_raion', 'railroad_terminal_raion',\n",
       "       'big_market_raion', 'nuclear_reactor_raion', 'detention_facility_raion',\n",
       "       'water_1line', 'big_road1_1line', 'railroad_1line', 'ecology',\n",
       "       'sub_area_lower'],\n",
       "      dtype='object')"
      ]
     },
     "execution_count": 147,
     "metadata": {},
     "output_type": "execute_result"
    }
   ],
   "source": [
    "df.select_dtypes( include = [ object ] ).columns"
   ]
  },
  {
   "cell_type": "code",
   "execution_count": null,
   "metadata": {},
   "outputs": [],
   "source": [
    "threshold = 2\n",
    "\n",
    "col_val = {}\n",
    "\n",
    "cols =  df.select_dtypes( include = [ object ] ).columns\n",
    "\n",
    "for col in cols :\n",
    "    \n",
    "    col_val.update( col : { } )\n",
    "    \n",
    "    vals = df[ col ].value_counts().index\n",
    "    \n",
    "    for v_1 , v_2 in itertools.combinations( vals , 2 ) :\n",
    "        \n",
    "        d = edit_distance( v_1 , v_2 )\n",
    "        \n",
    "        if d <= threshold :\n",
    "            \n",
    "            "
   ]
  }
 ],
 "metadata": {
  "kernelspec": {
   "display_name": "Python 3",
   "language": "python",
   "name": "python3"
  },
  "language_info": {
   "codemirror_mode": {
    "name": "ipython",
    "version": 3
   },
   "file_extension": ".py",
   "mimetype": "text/x-python",
   "name": "python",
   "nbconvert_exporter": "python",
   "pygments_lexer": "ipython3",
   "version": "3.7.3"
  }
 },
 "nbformat": 4,
 "nbformat_minor": 2
}
