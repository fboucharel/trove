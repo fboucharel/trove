{
 "cells": [
  {
   "cell_type": "markdown",
   "metadata": {},
   "source": [
    "https://machinelearningmastery.com/stacking-ensemble-machine-learning-with-python/"
   ]
  },
  {
   "cell_type": "code",
   "execution_count": 3,
   "metadata": {},
   "outputs": [
    {
     "name": "stdout",
     "output_type": "stream",
     "text": [
      "0.22\n"
     ]
    }
   ],
   "source": [
    "import sklearn\n",
    "\n",
    "print( sklearn.__version__ )"
   ]
  },
  {
   "cell_type": "markdown",
   "metadata": {},
   "source": [
    "# I - Stacking for Classification"
   ]
  },
  {
   "cell_type": "code",
   "execution_count": 11,
   "metadata": {},
   "outputs": [],
   "source": [
    "from sklearn.datasets import make_classification"
   ]
  },
  {
   "cell_type": "code",
   "execution_count": 12,
   "metadata": {},
   "outputs": [
    {
     "name": "stdout",
     "output_type": "stream",
     "text": [
      "(1000, 20) (1000,)\n"
     ]
    }
   ],
   "source": [
    "X , y = make_classification( n_samples     = 1000 , \n",
    "                             n_features    = 20 ,\n",
    "                             n_informative = 15 ,\n",
    "                             n_redundant   = 5 ,\n",
    "                             random_state  = 999 )\n",
    "\n",
    "print( X.shape , y.shape )"
   ]
  },
  {
   "cell_type": "code",
   "execution_count": 13,
   "metadata": {},
   "outputs": [],
   "source": [
    "from sklearn.linear_model import LogisticRegression\n",
    "\n",
    "from sklearn.neighbors import KNeighborsClassifier\n",
    "\n",
    "from sklearn.tree import DecisionTreeClassifier\n",
    "\n",
    "from sklearn.svm import SVC\n",
    "\n",
    "from sklearn.naive_bayes import GaussianNB\n",
    "\n",
    "from sklearn.ensemble import StackingClassifier"
   ]
  },
  {
   "cell_type": "code",
   "execution_count": 14,
   "metadata": {},
   "outputs": [],
   "source": [
    "def get_stacking():\n",
    "\n",
    "    level0 = list()\n",
    "    \n",
    "    level0.append( ( 'lr' , LogisticRegression() ) )\n",
    "    level0.append( ( 'knn' , KNeighborsClassifier() ) )\n",
    "    level0.append( ( 'cart', DecisionTreeClassifier() ) )\n",
    "    level0.append( ( 'svm' , SVC() ) )\n",
    "    level0.append( ( 'bayes' , GaussianNB() ) )\n",
    "    \n",
    "    level1 = LogisticRegression()\n",
    "    \n",
    "    model = StackingClassifier( estimators      = level0 , \n",
    "                                final_estimator = level1 , \n",
    "                                cv              = 5 )\n",
    "\n",
    "    return model"
   ]
  },
  {
   "cell_type": "code",
   "execution_count": 61,
   "metadata": {},
   "outputs": [],
   "source": [
    "def get_models() :\n",
    "    \n",
    "    models = dict()\n",
    "    \n",
    "    models[ 'lr' ]       = LogisticRegression()\n",
    "    models[ 'knn' ]      = KNeighborsClassifier()\n",
    "    models[ 'cart' ]     = DecisionTreeClassifier()\n",
    "    models[ 'svm' ]      = SVC()\n",
    "    models[ 'bayes' ]    = GaussianNB()\n",
    "    \n",
    "    models[ 'stacking' ] = get_stacking()\n",
    "\n",
    "    return models"
   ]
  },
  {
   "cell_type": "code",
   "execution_count": 62,
   "metadata": {},
   "outputs": [],
   "source": [
    "from sklearn.model_selection import RepeatedStratifiedKFold\n",
    "\n",
    "from sklearn.model_selection import cross_val_score"
   ]
  },
  {
   "cell_type": "code",
   "execution_count": 63,
   "metadata": {},
   "outputs": [],
   "source": [
    "def evaluate_model( model ):\n",
    "    \n",
    "    cv = RepeatedStratifiedKFold( n_splits = 10 , n_repeats = 3 , random_state = 999 )\n",
    "\n",
    "    scores = cross_val_score( model , X , y , scoring = 'accuracy' , cv = cv , n_jobs = -1 , error_score = 'raise' )\n",
    "\n",
    "    return scores"
   ]
  },
  {
   "cell_type": "markdown",
   "metadata": {},
   "source": [
    "<b>Modèles niveau 0 ( base models ):</b>\n",
    "\n",
    " - KNeighborsClassifier\n",
    " - DecisionTreeClassifier\n",
    " - SVC\n",
    " - GaussianNB\n",
    " \n",
    "<b>Modèle niveau 1 ( meta learner model ) :</b>\n",
    " \n",
    " - LogisticRegression"
   ]
  },
  {
   "cell_type": "code",
   "execution_count": 64,
   "metadata": {},
   "outputs": [],
   "source": [
    "from numpy import mean\n",
    "\n",
    "from numpy import std"
   ]
  },
  {
   "cell_type": "code",
   "execution_count": 76,
   "metadata": {},
   "outputs": [
    {
     "data": {
      "text/plain": [
       "'12.30'"
      ]
     },
     "execution_count": 76,
     "metadata": {},
     "output_type": "execute_result"
    }
   ],
   "source": [
    "a = 12.3\n",
    "\n",
    "f'{a:.2f}'"
   ]
  },
  {
   "cell_type": "code",
   "execution_count": 77,
   "metadata": {},
   "outputs": [
    {
     "name": "stdout",
     "output_type": "stream",
     "text": [
      "lr : 0.744 ( 0.044 )\n",
      "knn : 0.876 ( 0.032 )\n",
      "cart : 0.758 ( 0.035 )\n",
      "svm : 0.902 ( 0.029 )\n",
      "bayes : 0.715 ( 0.046 )\n",
      "stacking : 0.912 ( 0.028 )\n"
     ]
    }
   ],
   "source": [
    "models = get_models()\n",
    "\n",
    "results = list()\n",
    "\n",
    "names = list()\n",
    "\n",
    "for name , model in models.items() :\n",
    "    \n",
    "    scores = evaluate_model( model )\n",
    "    \n",
    "    print( f'{name} : {mean( scores ):.3f} ( {std( scores ):.3f} )' )\n",
    "    \n",
    "    names.append( name )\n",
    "    results.append( scores )"
   ]
  },
  {
   "cell_type": "code",
   "execution_count": 66,
   "metadata": {},
   "outputs": [],
   "source": [
    "from matplotlib import pyplot"
   ]
  },
  {
   "cell_type": "code",
   "execution_count": 72,
   "metadata": {},
   "outputs": [
    {
     "data": {
      "image/png": "[encoded data removed]",
      "text/plain": [
       "<Figure size 432x288 with 1 Axes>"
      ]
     },
     "metadata": {
      "needs_background": "light"
     },
     "output_type": "display_data"
    }
   ],
   "source": [
    "pyplot.boxplot( results , labels = names , showmeans = True )\n",
    "\n",
    "pyplot.show()"
   ]
  },
  {
   "cell_type": "markdown",
   "metadata": {},
   "source": [
    "Conclusion : le modèle stack est légèrement meilleur que le modèle SVM."
   ]
  },
  {
   "cell_type": "markdown",
   "metadata": {},
   "source": [
    "# II - Stacking for Regression"
   ]
  },
  {
   "cell_type": "code",
   "execution_count": 78,
   "metadata": {},
   "outputs": [],
   "source": [
    "from sklearn.datasets import make_regression"
   ]
  },
  {
   "cell_type": "code",
   "execution_count": 80,
   "metadata": {},
   "outputs": [
    {
     "name": "stdout",
     "output_type": "stream",
     "text": [
      "(1000, 20) (1000,)\n"
     ]
    }
   ],
   "source": [
    "X , y = make_regression( n_samples       = 1000 , \n",
    "                         n_features      = 20 ,\n",
    "                         n_informative   = 15 ,\n",
    "                         noise           = 0.1 ,\n",
    "                         random_state    = 1 )\n",
    "\n",
    "print( X.shape , y.shape )"
   ]
  },
  {
   "cell_type": "code",
   "execution_count": 81,
   "metadata": {},
   "outputs": [],
   "source": [
    "from sklearn.neighbors import KNeighborsRegressor\n",
    "\n",
    "from sklearn.tree import DecisionTreeRegressor\n",
    "\n",
    "from sklearn.svm import SVR\n",
    "\n",
    "from sklearn.linear_model import LinearRegression\n",
    "\n",
    "from sklearn.ensemble import StackingRegressor"
   ]
  },
  {
   "cell_type": "code",
   "execution_count": 102,
   "metadata": {},
   "outputs": [],
   "source": [
    "def get_stacking():\n",
    "\n",
    "    level0 = list()\n",
    "    \n",
    "    level0.append( ( 'knn' , KNeighborsRegressor() ) )\n",
    "    level0.append( ( 'cart' , DecisionTreeRegressor() ) )\n",
    "    level0.append( ( 'svm' , SVR() ) )\n",
    "\n",
    "    level1 = LinearRegression()\n",
    "\n",
    "    model = StackingRegressor( estimators = level0 , final_estimator = level1 , cv = 5 , passthrough = False ) # cv = 5 ??\n",
    "\n",
    "    return model"
   ]
  },
  {
   "cell_type": "code",
   "execution_count": 103,
   "metadata": {},
   "outputs": [],
   "source": [
    "def get_models():\n",
    "\n",
    "    models = dict()\n",
    "\n",
    "    models[ 'knn' ]      = KNeighborsRegressor()\n",
    "    models[ 'cart' ]     = DecisionTreeRegressor()\n",
    "    models[ 'svm' ]      = SVR()\n",
    "    \n",
    "    models[ 'stacking' ] = get_stacking()\n",
    "\n",
    "    return models"
   ]
  },
  {
   "cell_type": "code",
   "execution_count": 104,
   "metadata": {},
   "outputs": [],
   "source": [
    "from sklearn.model_selection import RepeatedKFold\n",
    "\n",
    "from sklearn.model_selection import cross_val_score"
   ]
  },
  {
   "cell_type": "code",
   "execution_count": 105,
   "metadata": {},
   "outputs": [],
   "source": [
    "def evaluate_model( model ) :\n",
    "\n",
    "    cv = RepeatedKFold( n_splits = 10 , n_repeats = 3 , random_state = 1 )\n",
    "\n",
    "    scores = cross_val_score( model , X , y , scoring = 'neg_mean_absolute_error' , cv = cv , n_jobs = -1 , error_score = 'raise' )\n",
    "\n",
    "    return scores"
   ]
  },
  {
   "cell_type": "code",
   "execution_count": 106,
   "metadata": {},
   "outputs": [
    {
     "name": "stdout",
     "output_type": "stream",
     "text": [
      "knn : -101.02 ( 7.16 )\n",
      "cart : -148.41 ( 10.85 )\n",
      "svm : -162.42 ( 12.56 )\n",
      "stacking : -56.72 ( 5.15 )\n"
     ]
    }
   ],
   "source": [
    "models = get_models()\n",
    "\n",
    "results = list()\n",
    "\n",
    "names = list()\n",
    "\n",
    "for name , model in models.items() :\n",
    "    \n",
    "    scores = evaluate_model( model )\n",
    "    \n",
    "    print( f'{name} : {mean( scores ):.2f} ( {std( scores ):.2f} )' )\n",
    "    \n",
    "    names.append( name )\n",
    "    results.append( scores )"
   ]
  },
  {
   "cell_type": "code",
   "execution_count": 107,
   "metadata": {},
   "outputs": [],
   "source": [
    "from matplotlib import pyplot"
   ]
  },
  {
   "cell_type": "code",
   "execution_count": 108,
   "metadata": {},
   "outputs": [
    {
     "data": {
      "image/png": "[encoded data removed]",
      "text/plain": [
       "<Figure size 432x288 with 1 Axes>"
      ]
     },
     "metadata": {
      "needs_background": "light"
     },
     "output_type": "display_data"
    }
   ],
   "source": [
    "pyplot.boxplot( results , labels = names , showmeans = True )\n",
    "\n",
    "pyplot.show()"
   ]
  },
  {
   "cell_type": "markdown",
   "metadata": {},
   "source": [
    "Conclusion : le modèle stack est légèrement meilleur que le modèle SVM."
   ]
  },
  {
   "cell_type": "markdown",
   "metadata": {},
   "source": [
    "## Compléments :\n",
    "\n",
    "Si on souhaite ajouter les données de base en input du modèle stack : StackingRegressor( ... , passthrough = True )"
   ]
  },
  {
   "cell_type": "code",
   "execution_count": null,
   "metadata": {},
   "outputs": [],
   "source": []
  }
 ],
 "metadata": {
  "kernelspec": {
   "display_name": "Python 3",
   "language": "python",
   "name": "python3"
  },
  "language_info": {
   "codemirror_mode": {
    "name": "ipython",
    "version": 3
   },
   "file_extension": ".py",
   "mimetype": "text/x-python",
   "name": "python",
   "nbconvert_exporter": "python",
   "pygments_lexer": "ipython3",
   "version": "3.7.3"
  }
 },
 "nbformat": 4,
 "nbformat_minor": 2
}
