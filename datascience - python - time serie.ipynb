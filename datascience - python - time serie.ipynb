{
 "cells": [
  {
   "cell_type": "markdown",
   "metadata": {},
   "source": [
    "# <center> <font color = 'orange'> X001 - Feed control </font></center>"
   ]
  },
  {
   "cell_type": "code",
   "execution_count": 1,
   "metadata": {},
   "outputs": [],
   "source": [
    "import pandas as pd\n",
    "\n",
    "import numpy as np\n",
    "\n",
    "from sklearn.ensemble import RandomForestRegressor\n",
    "\n",
    "#from sklearn.model_selection import cross_val_score , GridSearchCV\n",
    "\n",
    "from sklearn.model_selection import ParameterGrid\n",
    "\n",
    "from sklearn.metrics import mean_squared_error\n",
    "\n",
    "from math import sqrt\n",
    "\n",
    "import matplotlib.pyplot as plt"
   ]
  },
  {
   "cell_type": "markdown",
   "metadata": {},
   "source": [
    "## Chargement des données"
   ]
  },
  {
   "cell_type": "markdown",
   "metadata": {},
   "source": [
    "#### *Fichier à charger*"
   ]
  },
  {
   "cell_type": "code",
   "execution_count": 2,
   "metadata": {},
   "outputs": [
    {
     "name": "stdout",
     "output_type": "stream",
     "text": [
      "X001_dwh_tf_ctr_agm.csv\n"
     ]
    }
   ],
   "source": [
    "tab = 'dwh_tf_ctr_agm'\n",
    "\n",
    "file = 'X001_' + tab + '.csv'\n",
    "\n",
    "print( file )"
   ]
  },
  {
   "cell_type": "markdown",
   "metadata": {},
   "source": [
    "#### *Chargement du fichier dans dataframe*"
   ]
  },
  {
   "cell_type": "code",
   "execution_count": 3,
   "metadata": {},
   "outputs": [],
   "source": [
    "#df = pd.read_csv( 'J:\\\\MyFiles\\\\Fabrice\\\\datascience\\\\data\\\\' + file , sep = ';' , header = 0 , encoding='latin-1' )\n",
    "\n",
    "df = pd.read_csv( 'U:\\\\_projets\\\\X001\\\\data\\\\' + file , sep = ';' , header = 0 , encoding = 'latin-1' )"
   ]
  },
  {
   "cell_type": "markdown",
   "metadata": {},
   "source": [
    "#### *Sélection de colonnes*"
   ]
  },
  {
   "cell_type": "code",
   "execution_count": 12,
   "metadata": {},
   "outputs": [],
   "source": [
    "# \n",
    "# NUM_LOT : Lot de données\n",
    "#\n",
    "# MM_LOT : numéro du mois du lot NUM_LOT\n",
    "# TT_LOT : numéro du trimestre du lot NUM_LOT\n",
    "# JJ_LOT : numéro du jour du lot NUM_LOT\n",
    "#\n",
    "# LAG_N_1 : nbr enregistrements dans DWH_TF_ADH pour le lot précédent le lot NUM_LOT\n",
    "# LAG_N_2 : nbr enregistrements dans DWH_TF_CLA pour le lot précédent le lot NUM_LOT\n",
    "# LAG_N_3 : nbr enregistrements dans DWH_TF_BIE_ASS_VHC pour le lot précédent le lot NUM_LOT\n",
    "# LAG_N_4 : nbr enregistrements dans DWH_TF_BIE_ASS_IMB pour le lot précédent le lot NUM_LOT\n",
    "# LAG_N_5 : nbr enregistrements dans DWH_TF_ROL_PRS_CTR pour le lot précédent le lot NUM_LOT\n",
    "# LAG_N_6 : nbr enregistrements dans DWH_TF_PRS_PHQ pour le lot précédent le lot NUM_LOT\n",
    "# LAG_N_7 : nbr enregistrements dans DWH_TF_PRS_MRL pour le lot précédent le lot NUM_LOT\n",
    "#\n",
    "# N_0 : nbr enregistrements dans DWH_TF_CTR pour le lot NUM_LOT \n",
    "#\n",
    "\n",
    "\n",
    "col = [ 'NUM_LOT' , 'MM_LOT' , 'TT_LOT' , 'JJ_LOT' , 'LAG_N_1' , 'LAG_N_2' , 'LAG_N_3' , 'LAG_N_4' , 'LAG_N_5' , 'LAG_N_6' , 'LAG_N_7' , 'N_0' ]"
   ]
  },
  {
   "cell_type": "code",
   "execution_count": 13,
   "metadata": {},
   "outputs": [],
   "source": [
    "df = df[ col ]"
   ]
  },
  {
   "cell_type": "code",
   "execution_count": 19,
   "metadata": {},
   "outputs": [
    {
     "data": {
      "text/html": [
       "<div>\n",
       "<style scoped>\n",
       "    .dataframe tbody tr th:only-of-type {\n",
       "        vertical-align: middle;\n",
       "    }\n",
       "\n",
       "    .dataframe tbody tr th {\n",
       "        vertical-align: top;\n",
       "    }\n",
       "\n",
       "    .dataframe thead th {\n",
       "        text-align: right;\n",
       "    }\n",
       "</style>\n",
       "<table border=\"1\" class=\"dataframe\">\n",
       "  <thead>\n",
       "    <tr style=\"text-align: right;\">\n",
       "      <th></th>\n",
       "      <th>NUM_LOT</th>\n",
       "      <th>MM_LOT</th>\n",
       "      <th>TT_LOT</th>\n",
       "      <th>JJ_LOT</th>\n",
       "      <th>LAG_N_1</th>\n",
       "      <th>LAG_N_2</th>\n",
       "      <th>LAG_N_3</th>\n",
       "      <th>LAG_N_4</th>\n",
       "      <th>LAG_N_5</th>\n",
       "      <th>LAG_N_6</th>\n",
       "      <th>LAG_N_7</th>\n",
       "      <th>N_0</th>\n",
       "    </tr>\n",
       "  </thead>\n",
       "  <tbody>\n",
       "    <tr>\n",
       "      <th>0</th>\n",
       "      <td>10/07/2016 13:20:12</td>\n",
       "      <td>7</td>\n",
       "      <td>3</td>\n",
       "      <td>10</td>\n",
       "      <td>13559</td>\n",
       "      <td>17944</td>\n",
       "      <td>7512</td>\n",
       "      <td>2987</td>\n",
       "      <td>58470</td>\n",
       "      <td>11868</td>\n",
       "      <td>957</td>\n",
       "      <td>68031</td>\n",
       "    </tr>\n",
       "    <tr>\n",
       "      <th>1</th>\n",
       "      <td>17/07/2016 04:01:49</td>\n",
       "      <td>7</td>\n",
       "      <td>3</td>\n",
       "      <td>17</td>\n",
       "      <td>115990</td>\n",
       "      <td>124242</td>\n",
       "      <td>56774</td>\n",
       "      <td>42742</td>\n",
       "      <td>501763</td>\n",
       "      <td>18701</td>\n",
       "      <td>2218</td>\n",
       "      <td>12729</td>\n",
       "    </tr>\n",
       "    <tr>\n",
       "      <th>2</th>\n",
       "      <td>24/07/2016 01:24:03</td>\n",
       "      <td>7</td>\n",
       "      <td>3</td>\n",
       "      <td>24</td>\n",
       "      <td>13069</td>\n",
       "      <td>18466</td>\n",
       "      <td>8159</td>\n",
       "      <td>2794</td>\n",
       "      <td>61367</td>\n",
       "      <td>10520</td>\n",
       "      <td>834</td>\n",
       "      <td>14565</td>\n",
       "    </tr>\n",
       "    <tr>\n",
       "      <th>3</th>\n",
       "      <td>31/07/2016 04:07:02</td>\n",
       "      <td>7</td>\n",
       "      <td>3</td>\n",
       "      <td>31</td>\n",
       "      <td>15140</td>\n",
       "      <td>21522</td>\n",
       "      <td>9246</td>\n",
       "      <td>3509</td>\n",
       "      <td>71993</td>\n",
       "      <td>12983</td>\n",
       "      <td>1140</td>\n",
       "      <td>15457</td>\n",
       "    </tr>\n",
       "    <tr>\n",
       "      <th>4</th>\n",
       "      <td>07/08/2016 16:36:50</td>\n",
       "      <td>8</td>\n",
       "      <td>3</td>\n",
       "      <td>7</td>\n",
       "      <td>15789</td>\n",
       "      <td>20981</td>\n",
       "      <td>9238</td>\n",
       "      <td>3975</td>\n",
       "      <td>72049</td>\n",
       "      <td>13022</td>\n",
       "      <td>1456</td>\n",
       "      <td>74315</td>\n",
       "    </tr>\n",
       "  </tbody>\n",
       "</table>\n",
       "</div>"
      ],
      "text/plain": [
       "               NUM_LOT  MM_LOT  TT_LOT  JJ_LOT  LAG_N_1  LAG_N_2  LAG_N_3  \\\n",
       "0  10/07/2016 13:20:12       7       3      10    13559    17944     7512   \n",
       "1  17/07/2016 04:01:49       7       3      17   115990   124242    56774   \n",
       "2  24/07/2016 01:24:03       7       3      24    13069    18466     8159   \n",
       "3  31/07/2016 04:07:02       7       3      31    15140    21522     9246   \n",
       "4  07/08/2016 16:36:50       8       3       7    15789    20981     9238   \n",
       "\n",
       "   LAG_N_4  LAG_N_5  LAG_N_6  LAG_N_7    N_0  \n",
       "0     2987    58470    11868      957  68031  \n",
       "1    42742   501763    18701     2218  12729  \n",
       "2     2794    61367    10520      834  14565  \n",
       "3     3509    71993    12983     1140  15457  \n",
       "4     3975    72049    13022     1456  74315  "
      ]
     },
     "execution_count": 19,
     "metadata": {},
     "output_type": "execute_result"
    }
   ],
   "source": [
    "df.head( 5 )"
   ]
  },
  {
   "cell_type": "code",
   "execution_count": 22,
   "metadata": {},
   "outputs": [
    {
     "data": {
      "text/html": [
       "<div>\n",
       "<style scoped>\n",
       "    .dataframe tbody tr th:only-of-type {\n",
       "        vertical-align: middle;\n",
       "    }\n",
       "\n",
       "    .dataframe tbody tr th {\n",
       "        vertical-align: top;\n",
       "    }\n",
       "\n",
       "    .dataframe thead th {\n",
       "        text-align: right;\n",
       "    }\n",
       "</style>\n",
       "<table border=\"1\" class=\"dataframe\">\n",
       "  <thead>\n",
       "    <tr style=\"text-align: right;\">\n",
       "      <th></th>\n",
       "      <th>MM_LOT</th>\n",
       "      <th>TT_LOT</th>\n",
       "      <th>JJ_LOT</th>\n",
       "      <th>LAG_N_1</th>\n",
       "      <th>LAG_N_2</th>\n",
       "      <th>LAG_N_3</th>\n",
       "      <th>LAG_N_4</th>\n",
       "      <th>LAG_N_5</th>\n",
       "      <th>LAG_N_6</th>\n",
       "      <th>LAG_N_7</th>\n",
       "      <th>N_0</th>\n",
       "    </tr>\n",
       "  </thead>\n",
       "  <tbody>\n",
       "    <tr>\n",
       "      <th>count</th>\n",
       "      <td>154.000000</td>\n",
       "      <td>154.000000</td>\n",
       "      <td>154.000000</td>\n",
       "      <td>154.000000</td>\n",
       "      <td>154.000000</td>\n",
       "      <td>154.000000</td>\n",
       "      <td>154.000000</td>\n",
       "      <td>1.540000e+02</td>\n",
       "      <td>154.000000</td>\n",
       "      <td>154.000000</td>\n",
       "      <td>154.000000</td>\n",
       "    </tr>\n",
       "    <tr>\n",
       "      <th>mean</th>\n",
       "      <td>6.733766</td>\n",
       "      <td>2.610390</td>\n",
       "      <td>16.538961</td>\n",
       "      <td>46908.512987</td>\n",
       "      <td>50800.480519</td>\n",
       "      <td>22839.831169</td>\n",
       "      <td>14793.948052</td>\n",
       "      <td>2.164900e+05</td>\n",
       "      <td>12438.090909</td>\n",
       "      <td>1195.350649</td>\n",
       "      <td>38647.175325</td>\n",
       "    </tr>\n",
       "    <tr>\n",
       "      <th>std</th>\n",
       "      <td>3.466067</td>\n",
       "      <td>1.122041</td>\n",
       "      <td>9.391369</td>\n",
       "      <td>75337.511737</td>\n",
       "      <td>70451.664888</td>\n",
       "      <td>34732.917809</td>\n",
       "      <td>29920.546305</td>\n",
       "      <td>3.255985e+05</td>\n",
       "      <td>3445.978627</td>\n",
       "      <td>411.089125</td>\n",
       "      <td>54162.500984</td>\n",
       "    </tr>\n",
       "    <tr>\n",
       "      <th>min</th>\n",
       "      <td>1.000000</td>\n",
       "      <td>1.000000</td>\n",
       "      <td>1.000000</td>\n",
       "      <td>1042.000000</td>\n",
       "      <td>1590.000000</td>\n",
       "      <td>555.000000</td>\n",
       "      <td>232.000000</td>\n",
       "      <td>5.246000e+03</td>\n",
       "      <td>963.000000</td>\n",
       "      <td>126.000000</td>\n",
       "      <td>1095.000000</td>\n",
       "    </tr>\n",
       "    <tr>\n",
       "      <th>25%</th>\n",
       "      <td>4.000000</td>\n",
       "      <td>2.000000</td>\n",
       "      <td>9.000000</td>\n",
       "      <td>12417.750000</td>\n",
       "      <td>19169.500000</td>\n",
       "      <td>6710.750000</td>\n",
       "      <td>2040.250000</td>\n",
       "      <td>6.713150e+04</td>\n",
       "      <td>10752.500000</td>\n",
       "      <td>962.000000</td>\n",
       "      <td>14461.500000</td>\n",
       "    </tr>\n",
       "    <tr>\n",
       "      <th>50%</th>\n",
       "      <td>7.000000</td>\n",
       "      <td>3.000000</td>\n",
       "      <td>16.000000</td>\n",
       "      <td>15544.000000</td>\n",
       "      <td>22000.500000</td>\n",
       "      <td>8784.500000</td>\n",
       "      <td>3391.000000</td>\n",
       "      <td>7.713950e+04</td>\n",
       "      <td>13213.000000</td>\n",
       "      <td>1276.500000</td>\n",
       "      <td>16344.000000</td>\n",
       "    </tr>\n",
       "    <tr>\n",
       "      <th>75%</th>\n",
       "      <td>10.000000</td>\n",
       "      <td>4.000000</td>\n",
       "      <td>24.750000</td>\n",
       "      <td>33968.000000</td>\n",
       "      <td>25455.500000</td>\n",
       "      <td>10932.750000</td>\n",
       "      <td>4209.750000</td>\n",
       "      <td>1.179360e+05</td>\n",
       "      <td>14469.250000</td>\n",
       "      <td>1409.500000</td>\n",
       "      <td>28926.500000</td>\n",
       "    </tr>\n",
       "    <tr>\n",
       "      <th>max</th>\n",
       "      <td>12.000000</td>\n",
       "      <td>4.000000</td>\n",
       "      <td>31.000000</td>\n",
       "      <td>470515.000000</td>\n",
       "      <td>446149.000000</td>\n",
       "      <td>207634.000000</td>\n",
       "      <td>188204.000000</td>\n",
       "      <td>1.914852e+06</td>\n",
       "      <td>23134.000000</td>\n",
       "      <td>3664.000000</td>\n",
       "      <td>427987.000000</td>\n",
       "    </tr>\n",
       "  </tbody>\n",
       "</table>\n",
       "</div>"
      ],
      "text/plain": [
       "           MM_LOT      TT_LOT      JJ_LOT        LAG_N_1        LAG_N_2  \\\n",
       "count  154.000000  154.000000  154.000000     154.000000     154.000000   \n",
       "mean     6.733766    2.610390   16.538961   46908.512987   50800.480519   \n",
       "std      3.466067    1.122041    9.391369   75337.511737   70451.664888   \n",
       "min      1.000000    1.000000    1.000000    1042.000000    1590.000000   \n",
       "25%      4.000000    2.000000    9.000000   12417.750000   19169.500000   \n",
       "50%      7.000000    3.000000   16.000000   15544.000000   22000.500000   \n",
       "75%     10.000000    4.000000   24.750000   33968.000000   25455.500000   \n",
       "max     12.000000    4.000000   31.000000  470515.000000  446149.000000   \n",
       "\n",
       "             LAG_N_3        LAG_N_4       LAG_N_5       LAG_N_6      LAG_N_7  \\\n",
       "count     154.000000     154.000000  1.540000e+02    154.000000   154.000000   \n",
       "mean    22839.831169   14793.948052  2.164900e+05  12438.090909  1195.350649   \n",
       "std     34732.917809   29920.546305  3.255985e+05   3445.978627   411.089125   \n",
       "min       555.000000     232.000000  5.246000e+03    963.000000   126.000000   \n",
       "25%      6710.750000    2040.250000  6.713150e+04  10752.500000   962.000000   \n",
       "50%      8784.500000    3391.000000  7.713950e+04  13213.000000  1276.500000   \n",
       "75%     10932.750000    4209.750000  1.179360e+05  14469.250000  1409.500000   \n",
       "max    207634.000000  188204.000000  1.914852e+06  23134.000000  3664.000000   \n",
       "\n",
       "                 N_0  \n",
       "count     154.000000  \n",
       "mean    38647.175325  \n",
       "std     54162.500984  \n",
       "min      1095.000000  \n",
       "25%     14461.500000  \n",
       "50%     16344.000000  \n",
       "75%     28926.500000  \n",
       "max    427987.000000  "
      ]
     },
     "execution_count": 22,
     "metadata": {},
     "output_type": "execute_result"
    }
   ],
   "source": [
    "df.describe()"
   ]
  },
  {
   "cell_type": "code",
   "execution_count": 21,
   "metadata": {},
   "outputs": [
    {
     "data": {
      "text/html": [
       "<div>\n",
       "<style scoped>\n",
       "    .dataframe tbody tr th:only-of-type {\n",
       "        vertical-align: middle;\n",
       "    }\n",
       "\n",
       "    .dataframe tbody tr th {\n",
       "        vertical-align: top;\n",
       "    }\n",
       "\n",
       "    .dataframe thead th {\n",
       "        text-align: right;\n",
       "    }\n",
       "</style>\n",
       "<table border=\"1\" class=\"dataframe\">\n",
       "  <thead>\n",
       "    <tr style=\"text-align: right;\">\n",
       "      <th></th>\n",
       "      <th>NUM_LOT</th>\n",
       "    </tr>\n",
       "  </thead>\n",
       "  <tbody>\n",
       "    <tr>\n",
       "      <th>count</th>\n",
       "      <td>154</td>\n",
       "    </tr>\n",
       "    <tr>\n",
       "      <th>unique</th>\n",
       "      <td>154</td>\n",
       "    </tr>\n",
       "    <tr>\n",
       "      <th>top</th>\n",
       "      <td>05/11/2017 06:59:49</td>\n",
       "    </tr>\n",
       "    <tr>\n",
       "      <th>freq</th>\n",
       "      <td>1</td>\n",
       "    </tr>\n",
       "  </tbody>\n",
       "</table>\n",
       "</div>"
      ],
      "text/plain": [
       "                    NUM_LOT\n",
       "count                   154\n",
       "unique                  154\n",
       "top     05/11/2017 06:59:49\n",
       "freq                      1"
      ]
     },
     "execution_count": 21,
     "metadata": {},
     "output_type": "execute_result"
    }
   ],
   "source": [
    "df.describe( include = ['object', 'float', 'int'] )"
   ]
  },
  {
   "cell_type": "markdown",
   "metadata": {},
   "source": [
    "#### *dataframe - variable à prédire*"
   ]
  },
  {
   "cell_type": "code",
   "execution_count": 7,
   "metadata": {},
   "outputs": [],
   "source": [
    "df_y = df[ [ 'N_0' ] ]"
   ]
  },
  {
   "cell_type": "markdown",
   "metadata": {},
   "source": [
    "#### *dataframe - variables prédictives*"
   ]
  },
  {
   "cell_type": "code",
   "execution_count": 8,
   "metadata": {},
   "outputs": [],
   "source": [
    "df_X = df[ [ 'MM_LOT' , 'TT_LOT' , 'JJ_LOT' , 'LAG_N_1' , 'LAG_N_2' , 'LAG_N_3' , 'LAG_N_4' , 'LAG_N_5' , 'LAG_N_6' , 'LAG_N_7' ] ]"
   ]
  },
  {
   "cell_type": "code",
   "execution_count": 9,
   "metadata": {},
   "outputs": [],
   "source": [
    "X = df_X.values\n",
    "y = df_y.values.ravel()"
   ]
  },
  {
   "cell_type": "markdown",
   "metadata": {},
   "source": [
    "#### *train / test split ( cf. https://scikit-learn.org/stable/modules/generated/sklearn.model_selection.TimeSeriesSplit.html )*"
   ]
  },
  {
   "cell_type": "code",
   "execution_count": 10,
   "metadata": {},
   "outputs": [],
   "source": [
    "n = round( 0.80 * X.shape[0] )\n",
    "#n = len( X )"
   ]
  },
  {
   "cell_type": "code",
   "execution_count": 11,
   "metadata": {},
   "outputs": [],
   "source": [
    "X_train = X[ : n ]\n",
    "y_train = y[ : n ].ravel()"
   ]
  },
  {
   "cell_type": "code",
   "execution_count": 12,
   "metadata": {},
   "outputs": [],
   "source": [
    "X_test = X[ n : ]\n",
    "y_test = y[ n : ].ravel()"
   ]
  },
  {
   "cell_type": "markdown",
   "metadata": {},
   "source": [
    "## Modèle de prédiction"
   ]
  },
  {
   "cell_type": "markdown",
   "metadata": {},
   "source": [
    "#### *gridsearch - best hyperparameters*"
   ]
  },
  {
   "cell_type": "code",
   "execution_count": 47,
   "metadata": {},
   "outputs": [
    {
     "name": "stdout",
     "output_type": "stream",
     "text": [
      "best_score : 0.9220000028618565\n",
      "best_grid : {'min_samples_split': 2, 'n_estimators': 10}\n"
     ]
    }
   ],
   "source": [
    "param_grid = { 'n_estimators' : range( 10 , 201 ) ,\n",
    "               'min_samples_split' : range( 2 , 50 ) }\n",
    "\n",
    "\n",
    "rfr = RandomForestRegressor( random_state = 123 )\n",
    "\n",
    "best_score = 0\n",
    "best_grid = {}\n",
    "\n",
    "for grid in ParameterGrid( param_grid ):\n",
    "    \n",
    "    rfr.set_params( **g )\n",
    "    rfr.fit( X_train , y_train )\n",
    "    score = rfr.score( X_train , y_train )\n",
    "    \n",
    "    if score > best_score :\n",
    "        best_score = score\n",
    "        best_grid = grid\n",
    "        \n",
    "print( 'best_score : {0}'.format( best_score ) )\n",
    "\n",
    "print( 'best_grid : {0}'.format( best_grid ) )\n"
   ]
  },
  {
   "cell_type": "code",
   "execution_count": 48,
   "metadata": {},
   "outputs": [
    {
     "data": {
      "text/plain": [
       "RandomForestRegressor(bootstrap=True, criterion='mse', max_depth=None,\n",
       "           max_features='auto', max_leaf_nodes=None,\n",
       "           min_impurity_decrease=0.0, min_impurity_split=None,\n",
       "           min_samples_leaf=1, min_samples_split=2,\n",
       "           min_weight_fraction_leaf=0.0, n_estimators=10, n_jobs=None,\n",
       "           oob_score=False, random_state=123, verbose=0, warm_start=False)"
      ]
     },
     "execution_count": 48,
     "metadata": {},
     "output_type": "execute_result"
    }
   ],
   "source": [
    "rfr.set_params( **best_grid )"
   ]
  },
  {
   "cell_type": "code",
   "execution_count": 49,
   "metadata": {
    "scrolled": false
   },
   "outputs": [
    {
     "data": {
      "text/plain": [
       "RandomForestRegressor(bootstrap=True, criterion='mse', max_depth=None,\n",
       "           max_features='auto', max_leaf_nodes=None,\n",
       "           min_impurity_decrease=0.0, min_impurity_split=None,\n",
       "           min_samples_leaf=1, min_samples_split=2,\n",
       "           min_weight_fraction_leaf=0.0, n_estimators=10, n_jobs=None,\n",
       "           oob_score=False, random_state=123, verbose=0, warm_start=False)"
      ]
     },
     "execution_count": 49,
     "metadata": {},
     "output_type": "execute_result"
    }
   ],
   "source": [
    "rfr.fit( X_train , y_train )"
   ]
  },
  {
   "cell_type": "markdown",
   "metadata": {},
   "source": [
    "#### *Prédictions (sur train & test sets)*"
   ]
  },
  {
   "cell_type": "code",
   "execution_count": 50,
   "metadata": {},
   "outputs": [],
   "source": [
    "y_train_pred = rfr.predict( X_train )\n",
    "\n",
    "y_test_pred = rfr.predict( X_test )"
   ]
  },
  {
   "cell_type": "markdown",
   "metadata": {},
   "source": [
    "#### *Performance du modèle*"
   ]
  },
  {
   "cell_type": "code",
   "execution_count": 51,
   "metadata": {},
   "outputs": [
    {
     "data": {
      "text/plain": [
       "0.9220000028618565"
      ]
     },
     "execution_count": 51,
     "metadata": {},
     "output_type": "execute_result"
    }
   ],
   "source": [
    "rfr.score( X_train , y_train )"
   ]
  },
  {
   "cell_type": "code",
   "execution_count": 52,
   "metadata": {
    "scrolled": true
   },
   "outputs": [
    {
     "data": {
      "text/plain": [
       "0.8317621000117938"
      ]
     },
     "execution_count": 52,
     "metadata": {},
     "output_type": "execute_result"
    }
   ],
   "source": [
    "rfr.score( X_test , y_test )"
   ]
  },
  {
   "cell_type": "code",
   "execution_count": 53,
   "metadata": {},
   "outputs": [
    {
     "name": "stdout",
     "output_type": "stream",
     "text": [
      "MSE:551264619.51\n",
      "RMSE:23479.03\n"
     ]
    }
   ],
   "source": [
    "MSE = mean_squared_error( y_test, y_test_pred )\n",
    "\n",
    "RMSE = sqrt( MSE )\n",
    "\n",
    "print( 'MSE:{0:.2f}'.format( MSE ) )\n",
    "print( 'RMSE:{0:.2f}'.format( RMSE ) )\n"
   ]
  },
  {
   "cell_type": "markdown",
   "metadata": {},
   "source": [
    "#### *Graph*"
   ]
  },
  {
   "cell_type": "code",
   "execution_count": 54,
   "metadata": {},
   "outputs": [
    {
     "data": {
      "text/plain": [
       "Text(0, 0.5, 'Nbr enregistrements')"
      ]
     },
     "execution_count": 54,
     "metadata": {},
     "output_type": "execute_result"
    },
    {
     "data": {
      "image/png": "[encoded data removed]",
      "text/plain": [
       "<Figure size 1800x360 with 1 Axes>"
      ]
     },
     "metadata": {
      "needs_background": "light"
     },
     "output_type": "display_data"
    }
   ],
   "source": [
    "plt.figure( figsize = ( 25 , 5 ) )\n",
    "\n",
    "plt.xticks( range( 0 , len( X ) ) , df[ 'NUM_LOT' ] , rotation = 90 , ha = 'left' )\n",
    "\n",
    "plt.plot( range( n ) , y_train , label = 'train' )\n",
    "plt.plot( range( n , len( y_test ) + n ) , y_test , '-' , label = 'test' )\n",
    "\n",
    "plt.plot( range( n ) , y_train_pred , '--' , label = 'pred train' )\n",
    "plt.plot( range( n , len( y_test_pred ) + n ) , y_test_pred , '--' , label = 'pred test' )\n",
    "\n",
    "plt.legend( loc = ( 1.01 , 0 ) )\n",
    "plt.xlabel( 'DWH_TF_CTR - Lots de données' )\n",
    "plt.ylabel( 'Nbr enregistrements')"
   ]
  },
  {
   "cell_type": "markdown",
   "metadata": {},
   "source": [
    "## Modèle de prédiction sur toutes les données disponibles"
   ]
  },
  {
   "cell_type": "code",
   "execution_count": 55,
   "metadata": {
    "scrolled": true
   },
   "outputs": [
    {
     "data": {
      "text/plain": [
       "RandomForestRegressor(bootstrap=True, criterion='mse', max_depth=None,\n",
       "           max_features='auto', max_leaf_nodes=None,\n",
       "           min_impurity_decrease=0.0, min_impurity_split=None,\n",
       "           min_samples_leaf=1, min_samples_split=2,\n",
       "           min_weight_fraction_leaf=0.0, n_estimators=10, n_jobs=None,\n",
       "           oob_score=False, random_state=123, verbose=0, warm_start=False)"
      ]
     },
     "execution_count": 55,
     "metadata": {},
     "output_type": "execute_result"
    }
   ],
   "source": [
    "rfr.fit( X , y )"
   ]
  },
  {
   "cell_type": "code",
   "execution_count": 56,
   "metadata": {
    "scrolled": false
   },
   "outputs": [
    {
     "data": {
      "text/plain": [
       "0.8964803996430515"
      ]
     },
     "execution_count": 56,
     "metadata": {},
     "output_type": "execute_result"
    }
   ],
   "source": [
    "rfr.score( X , y )"
   ]
  }
 ],
 "metadata": {
  "kernelspec": {
   "display_name": "Python 3",
   "language": "python",
   "name": "python3"
  },
  "language_info": {
   "codemirror_mode": {
    "name": "ipython",
    "version": 3
   },
   "file_extension": ".py",
   "mimetype": "text/x-python",
   "name": "python",
   "nbconvert_exporter": "python",
   "pygments_lexer": "ipython3",
   "version": "3.6.5"
  }
 },
 "nbformat": 4,
 "nbformat_minor": 2
}
