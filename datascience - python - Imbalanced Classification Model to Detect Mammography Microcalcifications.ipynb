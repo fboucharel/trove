{
 "cells": [
  {
   "cell_type": "markdown",
   "metadata": {},
   "source": [
    "https://machinelearningmastery.com/imbalanced-classification-model-to-detect-microcalcifications/"
   ]
  },
  {
   "cell_type": "code",
   "execution_count": 6,
   "metadata": {},
   "outputs": [],
   "source": [
    "from IPython.core.interactiveshell import InteractiveShell\n",
    "\n",
    "InteractiveShell.ast_node_interactivity = 'all'"
   ]
  },
  {
   "cell_type": "code",
   "execution_count": 7,
   "metadata": {},
   "outputs": [],
   "source": [
    "import pandas as pd\n",
    "\n",
    "pd.set_option( 'display.max_columns' , None ) "
   ]
  },
  {
   "cell_type": "code",
   "execution_count": 17,
   "metadata": {},
   "outputs": [],
   "source": [
    "url = 'https://raw.githubusercontent.com/jbrownlee/Datasets/master/mammography.csv'\n",
    "    \n",
    "df = pd.read_csv( url , header = None )"
   ]
  },
  {
   "cell_type": "code",
   "execution_count": 18,
   "metadata": {},
   "outputs": [
    {
     "data": {
      "text/plain": [
       "(11183, 7)"
      ]
     },
     "execution_count": 18,
     "metadata": {},
     "output_type": "execute_result"
    }
   ],
   "source": [
    "df.shape"
   ]
  },
  {
   "cell_type": "code",
   "execution_count": 19,
   "metadata": {},
   "outputs": [
    {
     "data": {
      "text/html": [
       "<div>\n",
       "<style scoped>\n",
       "    .dataframe tbody tr th:only-of-type {\n",
       "        vertical-align: middle;\n",
       "    }\n",
       "\n",
       "    .dataframe tbody tr th {\n",
       "        vertical-align: top;\n",
       "    }\n",
       "\n",
       "    .dataframe thead th {\n",
       "        text-align: right;\n",
       "    }\n",
       "</style>\n",
       "<table border=\"1\" class=\"dataframe\">\n",
       "  <thead>\n",
       "    <tr style=\"text-align: right;\">\n",
       "      <th></th>\n",
       "      <th>0</th>\n",
       "      <th>1</th>\n",
       "      <th>2</th>\n",
       "      <th>3</th>\n",
       "      <th>4</th>\n",
       "      <th>5</th>\n",
       "      <th>6</th>\n",
       "    </tr>\n",
       "  </thead>\n",
       "  <tbody>\n",
       "    <tr>\n",
       "      <th>0</th>\n",
       "      <td>0.230020</td>\n",
       "      <td>5.072578</td>\n",
       "      <td>-0.276061</td>\n",
       "      <td>0.832444</td>\n",
       "      <td>-0.377866</td>\n",
       "      <td>0.480322</td>\n",
       "      <td>'-1'</td>\n",
       "    </tr>\n",
       "    <tr>\n",
       "      <th>1</th>\n",
       "      <td>0.155491</td>\n",
       "      <td>-0.169390</td>\n",
       "      <td>0.670652</td>\n",
       "      <td>-0.859553</td>\n",
       "      <td>-0.377866</td>\n",
       "      <td>-0.945723</td>\n",
       "      <td>'-1'</td>\n",
       "    </tr>\n",
       "    <tr>\n",
       "      <th>2</th>\n",
       "      <td>-0.784415</td>\n",
       "      <td>-0.443654</td>\n",
       "      <td>5.674705</td>\n",
       "      <td>-0.859553</td>\n",
       "      <td>-0.377866</td>\n",
       "      <td>-0.945723</td>\n",
       "      <td>'-1'</td>\n",
       "    </tr>\n",
       "    <tr>\n",
       "      <th>3</th>\n",
       "      <td>0.546088</td>\n",
       "      <td>0.131415</td>\n",
       "      <td>-0.456387</td>\n",
       "      <td>-0.859553</td>\n",
       "      <td>-0.377866</td>\n",
       "      <td>-0.945723</td>\n",
       "      <td>'-1'</td>\n",
       "    </tr>\n",
       "    <tr>\n",
       "      <th>4</th>\n",
       "      <td>-0.102987</td>\n",
       "      <td>-0.394994</td>\n",
       "      <td>-0.140816</td>\n",
       "      <td>0.979703</td>\n",
       "      <td>-0.377866</td>\n",
       "      <td>1.013566</td>\n",
       "      <td>'-1'</td>\n",
       "    </tr>\n",
       "  </tbody>\n",
       "</table>\n",
       "</div>"
      ],
      "text/plain": [
       "          0         1         2         3         4         5     6\n",
       "0  0.230020  5.072578 -0.276061  0.832444 -0.377866  0.480322  '-1'\n",
       "1  0.155491 -0.169390  0.670652 -0.859553 -0.377866 -0.945723  '-1'\n",
       "2 -0.784415 -0.443654  5.674705 -0.859553 -0.377866 -0.945723  '-1'\n",
       "3  0.546088  0.131415 -0.456387 -0.859553 -0.377866 -0.945723  '-1'\n",
       "4 -0.102987 -0.394994 -0.140816  0.979703 -0.377866  1.013566  '-1'"
      ]
     },
     "execution_count": 19,
     "metadata": {},
     "output_type": "execute_result"
    }
   ],
   "source": [
    "df.head()"
   ]
  },
  {
   "cell_type": "code",
   "execution_count": 20,
   "metadata": {},
   "outputs": [
    {
     "name": "stdout",
     "output_type": "stream",
     "text": [
      "<class 'pandas.core.frame.DataFrame'>\n",
      "RangeIndex: 11183 entries, 0 to 11182\n",
      "Data columns (total 7 columns):\n",
      " #   Column  Non-Null Count  Dtype  \n",
      "---  ------  --------------  -----  \n",
      " 0   0       11183 non-null  float64\n",
      " 1   1       11183 non-null  float64\n",
      " 2   2       11183 non-null  float64\n",
      " 3   3       11183 non-null  float64\n",
      " 4   4       11183 non-null  float64\n",
      " 5   5       11183 non-null  float64\n",
      " 6   6       11183 non-null  object \n",
      "dtypes: float64(6), object(1)\n",
      "memory usage: 611.7+ KB\n"
     ]
    }
   ],
   "source": [
    "df.info()"
   ]
  },
  {
   "cell_type": "code",
   "execution_count": 13,
   "metadata": {},
   "outputs": [],
   "source": [
    "from collections import Counter"
   ]
  },
  {
   "cell_type": "code",
   "execution_count": 14,
   "metadata": {},
   "outputs": [
    {
     "name": "stdout",
     "output_type": "stream",
     "text": [
      "Counter({\"'-1'\": 10923, \"'1'\": 260})\n"
     ]
    }
   ],
   "source": [
    "target = df.values[ : , -1 ]\n",
    "\n",
    "counter = Counter( target )\n",
    "\n",
    "print( counter )"
   ]
  },
  {
   "cell_type": "code",
   "execution_count": 15,
   "metadata": {},
   "outputs": [
    {
     "name": "stdout",
     "output_type": "stream",
     "text": [
      "class : '-1' | count : 10923 | % : 97.68 \n",
      "class : '1' | count : 260 | % : 2.32 \n"
     ]
    }
   ],
   "source": [
    "for k , v in counter.items():\n",
    "\n",
    "    p = v / len( target ) * 100\n",
    "\n",
    "    print( f'class : {k} | count : {v} | % : {p:.2f} ' )"
   ]
  },
  {
   "cell_type": "code",
   "execution_count": 21,
   "metadata": {},
   "outputs": [],
   "source": [
    "from matplotlib import pyplot"
   ]
  },
  {
   "cell_type": "code",
   "execution_count": 23,
   "metadata": {},
   "outputs": [
    {
     "data": {
      "text/plain": [
       "array([[<matplotlib.axes._subplots.AxesSubplot object at 0x000000001B305550>,\n",
       "        <matplotlib.axes._subplots.AxesSubplot object at 0x0000000006475B70>],\n",
       "       [<matplotlib.axes._subplots.AxesSubplot object at 0x00000000064B5080>,\n",
       "        <matplotlib.axes._subplots.AxesSubplot object at 0x00000000064DF630>],\n",
       "       [<matplotlib.axes._subplots.AxesSubplot object at 0x000000000650FBE0>,\n",
       "        <matplotlib.axes._subplots.AxesSubplot object at 0x000000000654B1D0>]],\n",
       "      dtype=object)"
      ]
     },
     "execution_count": 23,
     "metadata": {},
     "output_type": "execute_result"
    },
    {
     "data": {
      "image/png": "[encoded data removed]",
      "text/plain": [
       "<Figure size 432x288 with 6 Axes>"
      ]
     },
     "metadata": {
      "needs_background": "light"
     },
     "output_type": "display_data"
    }
   ],
   "source": [
    "df.hist()"
   ]
  },
  {
   "cell_type": "markdown",
   "metadata": {},
   "source": [
    "*...We can see that the variables have differing scales and that most of the variables have an exponential distribution, e.g. most cases falling into one bin, and the rest falling into a long tail. The final variable appears to have a bimodal distribution. Depending on the choice of modeling algorithms, we would expect **scaling** the distributions to the same range to be useful, and perhaps the use of some **power transforms**...*"
   ]
  },
  {
   "cell_type": "code",
   "execution_count": 26,
   "metadata": {},
   "outputs": [],
   "source": [
    "from sklearn.preprocessing import LabelEncoder"
   ]
  },
  {
   "cell_type": "code",
   "execution_count": 28,
   "metadata": {},
   "outputs": [],
   "source": [
    "data = df.values\n",
    "\n",
    "X = data[ : , : -1 ]\n",
    "\n",
    "y = data[ : , -1 ]\n",
    "\n",
    "y = LabelEncoder().fit_transform( y )"
   ]
  },
  {
   "cell_type": "markdown",
   "metadata": {},
   "source": [
    "# Baseline Result"
   ]
  },
  {
   "cell_type": "code",
   "execution_count": 31,
   "metadata": {},
   "outputs": [],
   "source": [
    "from sklearn.model_selection import RepeatedStratifiedKFold\n",
    "\n",
    "from sklearn.model_selection import cross_val_score"
   ]
  },
  {
   "cell_type": "code",
   "execution_count": 37,
   "metadata": {},
   "outputs": [],
   "source": [
    "def evaluate_model( X , y , model ) :\n",
    "\n",
    "    cv = RepeatedStratifiedKFold( n_splits = 10 , n_repeats = 3 , random_state = 999 )\n",
    "\n",
    "    scores = cross_val_score( model , X , y , scoring = 'roc_auc' , cv = cv , n_jobs = -1 )\n",
    "\n",
    "    return scores"
   ]
  },
  {
   "cell_type": "code",
   "execution_count": 38,
   "metadata": {},
   "outputs": [],
   "source": [
    "from sklearn.dummy import DummyClassifier"
   ]
  },
  {
   "cell_type": "code",
   "execution_count": 39,
   "metadata": {},
   "outputs": [],
   "source": [
    "model = DummyClassifier( strategy = 'stratified' )"
   ]
  },
  {
   "cell_type": "code",
   "execution_count": 40,
   "metadata": {},
   "outputs": [],
   "source": [
    "from numpy import mean\n",
    "\n",
    "from numpy import std"
   ]
  },
  {
   "cell_type": "code",
   "execution_count": 41,
   "metadata": {},
   "outputs": [
    {
     "name": "stdout",
     "output_type": "stream",
     "text": [
      "dummy model | accuracy : 0.501 ( 0.018 )\n"
     ]
    }
   ],
   "source": [
    "scores = evaluate_model( X , y , model )\n",
    "\n",
    "print( f'dummy model | accuracy : {mean(scores):.3f} ( {std(scores):.3f} )' )"
   ]
  },
  {
   "cell_type": "markdown",
   "metadata": {},
   "source": [
    "# <div class=\"alert alert-block alert-success\">Evaluate Cost-Sensitive Algorithms</div>"
   ]
  },
  {
   "cell_type": "code",
   "execution_count": 42,
   "metadata": {},
   "outputs": [],
   "source": [
    "from sklearn.preprocessing import PowerTransformer\n",
    "\n",
    "from sklearn.pipeline import Pipeline\n",
    "\n",
    "\n",
    "from sklearn.linear_model import LogisticRegression\n",
    "\n",
    "from sklearn.svm import SVC\n",
    "\n",
    "from sklearn.ensemble import RandomForestClassifier"
   ]
  },
  {
   "cell_type": "code",
   "execution_count": 48,
   "metadata": {},
   "outputs": [],
   "source": [
    "def get_models():\n",
    "\n",
    "    models = dict()\n",
    "    \n",
    "    \n",
    "    steps = [ ( 'step_power_transform' , PowerTransformer() ) , \n",
    "              ( 'step_model' , LogisticRegression( solver = 'lbfgs' , class_weight = 'balanced' ) ) ]\n",
    "    \n",
    "    model = Pipeline( steps = steps )\n",
    "    \n",
    "    models[ 'LR' ] = model\n",
    "    \n",
    "    \n",
    "    steps = [ ( 'step_power_transform' , PowerTransformer() ) , \n",
    "              ( 'step_model' , SVC( gamma = 'scale' , class_weight = 'balanced' ) ) ]\n",
    "    \n",
    "    model = Pipeline( steps = steps )\n",
    "    \n",
    "    models[ 'SVM' ] = model\n",
    "    \n",
    "    \n",
    "    steps = [ ( 'step_power_transform' , PowerTransformer() ) , \n",
    "              ( 'step_model' , RandomForestClassifier( n_estimators = 1000 ) ) ]\n",
    "    \n",
    "    model = Pipeline( steps = steps )\n",
    "    \n",
    "    models[ 'RF' ] = model\n",
    "    \n",
    "    return models"
   ]
  },
  {
   "cell_type": "code",
   "execution_count": 49,
   "metadata": {},
   "outputs": [
    {
     "name": "stdout",
     "output_type": "stream",
     "text": [
      "{'LR': Pipeline(steps=[('step_power_transform', PowerTransformer()),\n",
      "                ('step_model', LogisticRegression(class_weight='balanced'))]), 'SVM': Pipeline(steps=[('step_power_transform', PowerTransformer()),\n",
      "                ('step_model', SVC(class_weight='balanced'))]), 'RF': Pipeline(steps=[('step_power_transform', PowerTransformer()),\n",
      "                ('step_model', RandomForestClassifier(n_estimators=1000))])}\n"
     ]
    }
   ],
   "source": [
    "models = get_models()\n",
    "\n",
    "print( models )"
   ]
  },
  {
   "cell_type": "code",
   "execution_count": 50,
   "metadata": {},
   "outputs": [
    {
     "name": "stdout",
     "output_type": "stream",
     "text": [
      " model : LR : 0.923 ( 0.036 )\n",
      " model : SVM : 0.958 ( 0.024 )\n",
      " model : RF : 0.952 ( 0.031 )\n"
     ]
    }
   ],
   "source": [
    "models = get_models()\n",
    "\n",
    "results = list()\n",
    "\n",
    "names = list()\n",
    "\n",
    "\n",
    "for name , model in models.items() :\n",
    "    \n",
    "    names.append( name )\n",
    "    \n",
    "    scores = evaluate_model( X , y , model ) \n",
    "    \n",
    "    results.append( scores )\n",
    "    \n",
    "    print( f' model : {name} : {mean(scores):.3f} ( {std(scores):.3f} )' )"
   ]
  },
  {
   "cell_type": "code",
   "execution_count": 51,
   "metadata": {},
   "outputs": [],
   "source": [
    "from matplotlib import pyplot"
   ]
  },
  {
   "cell_type": "code",
   "execution_count": 52,
   "metadata": {},
   "outputs": [
    {
     "data": {
      "text/plain": [
       "{'whiskers': [<matplotlib.lines.Line2D at 0x1e5226a0>,\n",
       "  <matplotlib.lines.Line2D at 0x1e522a58>,\n",
       "  <matplotlib.lines.Line2D at 0x1e529f98>,\n",
       "  <matplotlib.lines.Line2D at 0x1e536588>,\n",
       "  <matplotlib.lines.Line2D at 0x1e541cc0>,\n",
       "  <matplotlib.lines.Line2D at 0x1e541da0>],\n",
       " 'caps': [<matplotlib.lines.Line2D at 0x1e522da0>,\n",
       "  <matplotlib.lines.Line2D at 0x1e522e80>,\n",
       "  <matplotlib.lines.Line2D at 0x1e5368d0>,\n",
       "  <matplotlib.lines.Line2D at 0x1e536c18>,\n",
       "  <matplotlib.lines.Line2D at 0x1e54c390>,\n",
       "  <matplotlib.lines.Line2D at 0x1e54c6d8>],\n",
       " 'boxes': [<matplotlib.lines.Line2D at 0x1e522278>,\n",
       "  <matplotlib.lines.Line2D at 0x1e529eb8>,\n",
       "  <matplotlib.lines.Line2D at 0x1e541978>],\n",
       " 'medians': [<matplotlib.lines.Line2D at 0x1e529470>,\n",
       "  <matplotlib.lines.Line2D at 0x1e536f60>,\n",
       "  <matplotlib.lines.Line2D at 0x1e54ca20>],\n",
       " 'fliers': [<matplotlib.lines.Line2D at 0x1e529b00>,\n",
       "  <matplotlib.lines.Line2D at 0x1e541630>,\n",
       "  <matplotlib.lines.Line2D at 0x1e54ce10>],\n",
       " 'means': [<matplotlib.lines.Line2D at 0x1e5297b8>,\n",
       "  <matplotlib.lines.Line2D at 0x1e536ef0>,\n",
       "  <matplotlib.lines.Line2D at 0x1e54cd68>]}"
      ]
     },
     "execution_count": 52,
     "metadata": {},
     "output_type": "execute_result"
    },
    {
     "data": {
      "text/plain": [
       "(array([1, 2, 3]), <a list of 3 Text xticklabel objects>)"
      ]
     },
     "execution_count": 52,
     "metadata": {},
     "output_type": "execute_result"
    },
    {
     "data": {
      "image/png": "[encoded data removed]",
      "text/plain": [
       "<Figure size 432x288 with 1 Axes>"
      ]
     },
     "metadata": {
      "needs_background": "light"
     },
     "output_type": "display_data"
    }
   ],
   "source": [
    "pyplot.boxplot( results , labels = names , showmeans = True )\n",
    "\n",
    "pyplot.grid( axis = 'y' , color = 'black' , linestyle = '-.' , linewidth = 0.5 )\n",
    "\n",
    "pyplot.xticks( rotation = 90 )\n",
    "\n",
    "pyplot.show()"
   ]
  },
  {
   "cell_type": "code",
   "execution_count": null,
   "metadata": {},
   "outputs": [],
   "source": []
  }
 ],
 "metadata": {
  "kernelspec": {
   "display_name": "Python 3",
   "language": "python",
   "name": "python3"
  },
  "language_info": {
   "codemirror_mode": {
    "name": "ipython",
    "version": 3
   },
   "file_extension": ".py",
   "mimetype": "text/x-python",
   "name": "python",
   "nbconvert_exporter": "python",
   "pygments_lexer": "ipython3",
   "version": "3.7.3"
  }
 },
 "nbformat": 4,
 "nbformat_minor": 2
}
