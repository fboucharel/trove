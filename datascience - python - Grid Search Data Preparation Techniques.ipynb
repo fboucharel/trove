{
 "cells": [
  {
   "cell_type": "markdown",
   "metadata": {},
   "source": [
    "https://machinelearningmastery.com/grid-search-data-preparation-techniques/"
   ]
  },
  {
   "cell_type": "markdown",
   "metadata": {},
   "source": [
    "*An alternative approach to data preparation is to grid search a suite of common and commonly useful data preparation techniques to the raw data. This is an alternative philosophy for data preparation that treats data transforms as another hyperparameter of the modeling pipeline to be searched and tuned.*"
   ]
  },
  {
   "cell_type": "code",
   "execution_count": 1,
   "metadata": {},
   "outputs": [],
   "source": [
    "from IPython.core.interactiveshell import InteractiveShell\n",
    "\n",
    "InteractiveShell.ast_node_interactivity = 'all'"
   ]
  },
  {
   "cell_type": "code",
   "execution_count": 2,
   "metadata": {},
   "outputs": [],
   "source": [
    "import pandas as pd\n",
    "\n",
    "pd.set_option( 'display.max_columns' , None ) "
   ]
  },
  {
   "cell_type": "code",
   "execution_count": 4,
   "metadata": {},
   "outputs": [],
   "source": [
    "from sklearn.preprocessing import LabelEncoder"
   ]
  },
  {
   "cell_type": "code",
   "execution_count": 9,
   "metadata": {},
   "outputs": [],
   "source": [
    "def load_dataset() :\n",
    "    \n",
    "    url = 'https://raw.githubusercontent.com/jbrownlee/Datasets/master/wine.csv'\n",
    "    \n",
    "    df = pd.read_csv( url , header = None )\n",
    "    \n",
    "    dataset = df.values\n",
    "    \n",
    "    X = dataset[ : , : -1 ]\n",
    "    \n",
    "    y = dataset[ : , -1 ]\n",
    "    \n",
    "    y = LabelEncoder().fit_transform( y.astype( 'str' ) )\n",
    "    \n",
    "    return X , y"
   ]
  },
  {
   "cell_type": "code",
   "execution_count": 10,
   "metadata": {},
   "outputs": [],
   "source": [
    "from sklearn.model_selection import RepeatedStratifiedKFold\n",
    "\n",
    "from sklearn.model_selection import cross_val_score"
   ]
  },
  {
   "cell_type": "code",
   "execution_count": 11,
   "metadata": {},
   "outputs": [],
   "source": [
    "def evaluate_model( X , y , model ) :\n",
    "    \n",
    "    cv = RepeatedStratifiedKFold( n_splits = 10 , n_repeats = 3 , random_state = 999 )\n",
    "    \n",
    "    scores = cross_val_score( model , X , y , scoring = 'accuracy' , cv = cv , n_jobs = -1 )\n",
    "    \n",
    "    return scores"
   ]
  },
  {
   "cell_type": "markdown",
   "metadata": {},
   "source": [
    "# Baseline Model Performance"
   ]
  },
  {
   "cell_type": "code",
   "execution_count": 12,
   "metadata": {},
   "outputs": [],
   "source": [
    "X , y = load_dataset()"
   ]
  },
  {
   "cell_type": "code",
   "execution_count": 15,
   "metadata": {},
   "outputs": [],
   "source": [
    "from sklearn.linear_model import LogisticRegression"
   ]
  },
  {
   "cell_type": "code",
   "execution_count": 16,
   "metadata": {},
   "outputs": [],
   "source": [
    "model = LogisticRegression( solver = 'liblinear' )"
   ]
  },
  {
   "cell_type": "code",
   "execution_count": 17,
   "metadata": {},
   "outputs": [],
   "source": [
    "scores = evaluate_model( X , y , model )"
   ]
  },
  {
   "cell_type": "code",
   "execution_count": 19,
   "metadata": {},
   "outputs": [],
   "source": [
    "from numpy import mean\n",
    "\n",
    "from numpy import std"
   ]
  },
  {
   "cell_type": "code",
   "execution_count": 20,
   "metadata": {},
   "outputs": [
    {
     "name": "stdout",
     "output_type": "stream",
     "text": [
      "ACCURACY : 0.951 ( 0.043 )\n"
     ]
    }
   ],
   "source": [
    "print( f'ACCURACY : {mean( scores ):.3f} ( {std( scores ):.3f} )' )"
   ]
  },
  {
   "cell_type": "markdown",
   "metadata": {},
   "source": [
    "# Grid Search Approach to Data Preparation"
   ]
  },
  {
   "cell_type": "code",
   "execution_count": 22,
   "metadata": {},
   "outputs": [],
   "source": [
    "from sklearn.pipeline import Pipeline\n",
    "\n",
    "from sklearn.preprocessing import MinMaxScaler\n",
    "\n",
    "from sklearn.preprocessing import StandardScaler\n",
    "\n",
    "from sklearn.preprocessing import QuantileTransformer\n",
    "\n",
    "from sklearn.preprocessing import KBinsDiscretizer\n",
    "\n",
    "from sklearn.decomposition import PCA\n",
    "\n",
    "from sklearn.decomposition import TruncatedSVD"
   ]
  },
  {
   "cell_type": "code",
   "execution_count": 31,
   "metadata": {},
   "outputs": [],
   "source": [
    "def get_pipelines( model ) :\n",
    "    \n",
    "    pipelines = list()\n",
    "    \n",
    "    # normalize\n",
    "    \n",
    "    steps = [ ('s' , MinMaxScaler() ) , \n",
    "              ( 'm' ,model ) ]\n",
    "    \n",
    "    p = Pipeline( steps = steps )\n",
    "    \n",
    "    pipelines.append( ( 'norm' , p ) )\n",
    "    \n",
    "    # standardize\n",
    "    \n",
    "    steps = [ ( 's' , StandardScaler() ) , \n",
    "              ( 'm' , model ) ]\n",
    "    \n",
    "    p = Pipeline( steps = steps )\n",
    "    \n",
    "    pipelines.append( ( 'std' , p ) )\n",
    "    \n",
    "    # quantile\n",
    "    \n",
    "    steps = [ ( 's' , QuantileTransformer( n_quantiles = 100 , output_distribution = 'normal' ) ) , \n",
    "              ( 'm' , model ) ]\n",
    "    \n",
    "    p = Pipeline( steps = steps )\n",
    "    \n",
    "    pipelines.append( ( 'quan' , p ) )\n",
    "    \n",
    "    # discretize\n",
    "    \n",
    "    steps = [ ( 's' , KBinsDiscretizer( n_bins = 10 , encode = 'ordinal' , strategy = 'uniform' ) ) ,\n",
    "              ( 'm' , model ) ]\n",
    "    \n",
    "    p = Pipeline( steps = steps )\n",
    "    \n",
    "    pipelines.append( ( 'kbins' , p ) )\n",
    "    \n",
    "    # pca\n",
    "    \n",
    "    steps = [ ( 's' , PCA( n_components = 7 ) ) ,\n",
    "              ( 'm' , model ) ]\n",
    "    \n",
    "    p = Pipeline( steps = steps )\n",
    "    \n",
    "    pipelines.append( ( 'pca' , p ) )\n",
    "    \n",
    "    # svd \n",
    "    \n",
    "    steps = [ ( 's' , TruncatedSVD( n_components = 7 ) ) ,\n",
    "              ( 'm' , model ) ]\n",
    "    \n",
    "    p = Pipeline( steps = steps )\n",
    "    \n",
    "    pipelines.append( ( 'svd' , p ) )\n",
    "    \n",
    "    \n",
    "    return pipelines"
   ]
  },
  {
   "cell_type": "code",
   "execution_count": 32,
   "metadata": {},
   "outputs": [],
   "source": [
    "X , y = load_dataset()"
   ]
  },
  {
   "cell_type": "code",
   "execution_count": 33,
   "metadata": {},
   "outputs": [],
   "source": [
    "model = LogisticRegression( solver = 'liblinear' )"
   ]
  },
  {
   "cell_type": "code",
   "execution_count": 36,
   "metadata": {},
   "outputs": [
    {
     "name": "stdout",
     "output_type": "stream",
     "text": [
      "[('norm', Pipeline(steps=[('s', MinMaxScaler()),\n",
      "                ('m', LogisticRegression(solver='liblinear'))])), ('std', Pipeline(steps=[('s', StandardScaler()),\n",
      "                ('m', LogisticRegression(solver='liblinear'))])), ('quan', Pipeline(steps=[('s',\n",
      "                 QuantileTransformer(n_quantiles=100,\n",
      "                                     output_distribution='normal')),\n",
      "                ('m', LogisticRegression(solver='liblinear'))])), ('kbins', Pipeline(steps=[('s',\n",
      "                 KBinsDiscretizer(encode='ordinal', n_bins=10,\n",
      "                                  strategy='uniform')),\n",
      "                ('m', LogisticRegression(solver='liblinear'))])), ('pca', Pipeline(steps=[('s', PCA(n_components=7)),\n",
      "                ('m', LogisticRegression(solver='liblinear'))])), ('svd', Pipeline(steps=[('s', TruncatedSVD(n_components=7)),\n",
      "                ('m', LogisticRegression(solver='liblinear'))]))]\n"
     ]
    }
   ],
   "source": [
    "pipelines = get_pipelines( model )\n",
    "\n",
    "print( pipelines )"
   ]
  },
  {
   "cell_type": "code",
   "execution_count": 37,
   "metadata": {},
   "outputs": [
    {
     "name": "stdout",
     "output_type": "stream",
     "text": [
      "norm : 0.975 ( 0.038 )\n",
      "std : 0.983 ( 0.030 )\n",
      "quan : 0.979 ( 0.034 )\n",
      "kbins : 0.957 ( 0.052 )\n",
      "pca : 0.961 ( 0.039 )\n",
      "svd : 0.947 ( 0.044 )\n"
     ]
    }
   ],
   "source": [
    "results = list()\n",
    "\n",
    "names = list()\n",
    "\n",
    "for name , pipeline in pipelines :\n",
    "    \n",
    "    scores = evaluate_model( X , y , pipeline )\n",
    "    \n",
    "    print( f'{name} : {mean( scores ):.3f} ( {std( scores ):.3f} )' )\n",
    "    \n",
    "    results.append( scores )\n",
    "    \n",
    "    names.append( name )"
   ]
  },
  {
   "cell_type": "code",
   "execution_count": 38,
   "metadata": {},
   "outputs": [],
   "source": [
    "from matplotlib import pyplot"
   ]
  },
  {
   "cell_type": "code",
   "execution_count": 39,
   "metadata": {},
   "outputs": [
    {
     "data": {
      "text/plain": [
       "{'whiskers': [<matplotlib.lines.Line2D at 0x1d22a5f8>,\n",
       "  <matplotlib.lines.Line2D at 0x1d22ad68>,\n",
       "  <matplotlib.lines.Line2D at 0x1d21ca20>,\n",
       "  <matplotlib.lines.Line2D at 0x1d1aba20>,\n",
       "  <matplotlib.lines.Line2D at 0x1d26acc0>,\n",
       "  <matplotlib.lines.Line2D at 0x1d26ada0>,\n",
       "  <matplotlib.lines.Line2D at 0x1d2c7780>,\n",
       "  <matplotlib.lines.Line2D at 0x1d2c7ac8>,\n",
       "  <matplotlib.lines.Line2D at 0x1d2d2f98>,\n",
       "  <matplotlib.lines.Line2D at 0x1d2dc588>,\n",
       "  <matplotlib.lines.Line2D at 0x1d2e7cc0>,\n",
       "  <matplotlib.lines.Line2D at 0x1d2e7da0>],\n",
       " 'caps': [<matplotlib.lines.Line2D at 0x1d22a860>,\n",
       "  <matplotlib.lines.Line2D at 0x1d22ae48>,\n",
       "  <matplotlib.lines.Line2D at 0x1d1e6da0>,\n",
       "  <matplotlib.lines.Line2D at 0x1d256c50>,\n",
       "  <matplotlib.lines.Line2D at 0x1d2bf390>,\n",
       "  <matplotlib.lines.Line2D at 0x1d2bf6d8>,\n",
       "  <matplotlib.lines.Line2D at 0x1d2c7e10>,\n",
       "  <matplotlib.lines.Line2D at 0x1d2c7ef0>,\n",
       "  <matplotlib.lines.Line2D at 0x1d2dc8d0>,\n",
       "  <matplotlib.lines.Line2D at 0x1d2dcc18>,\n",
       "  <matplotlib.lines.Line2D at 0x1d2f2390>,\n",
       "  <matplotlib.lines.Line2D at 0x1d2f26d8>],\n",
       " 'boxes': [<matplotlib.lines.Line2D at 0x1cf8e9b0>,\n",
       "  <matplotlib.lines.Line2D at 0x1d2249e8>,\n",
       "  <matplotlib.lines.Line2D at 0x1d26a198>,\n",
       "  <matplotlib.lines.Line2D at 0x1d2c7438>,\n",
       "  <matplotlib.lines.Line2D at 0x1d2d2eb8>,\n",
       "  <matplotlib.lines.Line2D at 0x1d2e7978>],\n",
       " 'medians': [<matplotlib.lines.Line2D at 0x1d22a550>,\n",
       "  <matplotlib.lines.Line2D at 0x1d256978>,\n",
       "  <matplotlib.lines.Line2D at 0x1d2bfa20>,\n",
       "  <matplotlib.lines.Line2D at 0x1d2d24e0>,\n",
       "  <matplotlib.lines.Line2D at 0x1d2dcf60>,\n",
       "  <matplotlib.lines.Line2D at 0x1d2f2a20>],\n",
       " 'fliers': [<matplotlib.lines.Line2D at 0x1d2247f0>,\n",
       "  <matplotlib.lines.Line2D at 0x1d26a3c8>,\n",
       "  <matplotlib.lines.Line2D at 0x1d2bfe10>,\n",
       "  <matplotlib.lines.Line2D at 0x1d2d2b70>,\n",
       "  <matplotlib.lines.Line2D at 0x1d2e7630>,\n",
       "  <matplotlib.lines.Line2D at 0x1d2f2e10>],\n",
       " 'means': [<matplotlib.lines.Line2D at 0x1d2240f0>,\n",
       "  <matplotlib.lines.Line2D at 0x1d2564e0>,\n",
       "  <matplotlib.lines.Line2D at 0x1d2bfd68>,\n",
       "  <matplotlib.lines.Line2D at 0x1d2d2828>,\n",
       "  <matplotlib.lines.Line2D at 0x1d2dcef0>,\n",
       "  <matplotlib.lines.Line2D at 0x1d2f2d68>]}"
      ]
     },
     "execution_count": 39,
     "metadata": {},
     "output_type": "execute_result"
    },
    {
     "data": {
      "image/png": "[encoded data removed]",
      "text/plain": [
       "<Figure size 432x288 with 1 Axes>"
      ]
     },
     "metadata": {
      "needs_background": "light"
     },
     "output_type": "display_data"
    }
   ],
   "source": [
    "pyplot.boxplot( results , labels = names , showmeans = True )\n",
    "\n",
    "pyplot.show()"
   ]
  },
  {
   "cell_type": "code",
   "execution_count": null,
   "metadata": {},
   "outputs": [],
   "source": []
  }
 ],
 "metadata": {
  "kernelspec": {
   "display_name": "Python 3",
   "language": "python",
   "name": "python3"
  },
  "language_info": {
   "codemirror_mode": {
    "name": "ipython",
    "version": 3
   },
   "file_extension": ".py",
   "mimetype": "text/x-python",
   "name": "python",
   "nbconvert_exporter": "python",
   "pygments_lexer": "ipython3",
   "version": "3.7.3"
  }
 },
 "nbformat": 4,
 "nbformat_minor": 2
}
