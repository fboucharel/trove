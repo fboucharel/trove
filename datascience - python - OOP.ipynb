{
 "cells": [
  {
   "cell_type": "markdown",
   "metadata": {},
   "source": [
    "# OOP"
   ]
  },
  {
   "cell_type": "code",
   "execution_count": 50,
   "metadata": {},
   "outputs": [],
   "source": [
    "class Point :\n",
    "    \n",
    "    def __init__( self , x , y ) :\n",
    "        self.x = x\n",
    "        self.y = y\n",
    "      \n",
    "    def set_x( self , x0 ) :\n",
    "        self.x0 = x0\n",
    "        self.x = x0\n",
    "        \n",
    "    def set_y( self , y0 ) :\n",
    "        self.y0 = y0\n",
    "        self.y = y0\n",
    "    \n",
    "    def print_point( self ) :\n",
    "        print( 'x:{0}'.format( self.x ) )\n",
    "        print( 'y:{0}'.format( self.y ) )\n",
    "    \n",
    "    def trans_x( self , u ) :\n",
    "        self.u = u\n",
    "        self.x = self.x + u\n",
    "        \n",
    "    def trans_y( self , v ) :\n",
    "        self.v = v\n",
    "        self.y = self.y + v\n",
    "        \n",
    "    def homo( self , a ) :\n",
    "        self.a = a\n",
    "        self.x = a * self.x\n",
    "        self.y = a * self.y\n"
   ]
  },
  {
   "cell_type": "code",
   "execution_count": 51,
   "metadata": {},
   "outputs": [],
   "source": [
    "mypoint = Point( 2 , 3 )"
   ]
  },
  {
   "cell_type": "code",
   "execution_count": 52,
   "metadata": {},
   "outputs": [
    {
     "name": "stdout",
     "output_type": "stream",
     "text": [
      "x:2\n",
      "y:3\n"
     ]
    }
   ],
   "source": [
    "mypoint.print_point()"
   ]
  },
  {
   "cell_type": "code",
   "execution_count": 53,
   "metadata": {
    "scrolled": true
   },
   "outputs": [
    {
     "name": "stdout",
     "output_type": "stream",
     "text": [
      "x:9\n",
      "y:3\n"
     ]
    }
   ],
   "source": [
    "mypoint.set_x( 9 )\n",
    "\n",
    "mypoint.print_point()"
   ]
  },
  {
   "cell_type": "code",
   "execution_count": 54,
   "metadata": {},
   "outputs": [
    {
     "name": "stdout",
     "output_type": "stream",
     "text": [
      "x:9\n",
      "y:15\n"
     ]
    }
   ],
   "source": [
    "mypoint.set_y( 15 )\n",
    "\n",
    "mypoint.print_point()"
   ]
  },
  {
   "cell_type": "code",
   "execution_count": 55,
   "metadata": {},
   "outputs": [
    {
     "name": "stdout",
     "output_type": "stream",
     "text": [
      "x:12\n",
      "y:15\n"
     ]
    }
   ],
   "source": [
    "mypoint.trans_x( 3 )\n",
    "\n",
    "mypoint.print_point()"
   ]
  },
  {
   "cell_type": "code",
   "execution_count": 56,
   "metadata": {},
   "outputs": [
    {
     "name": "stdout",
     "output_type": "stream",
     "text": [
      "x:12\n",
      "y:20\n"
     ]
    }
   ],
   "source": [
    "mypoint.trans_y( 5 )\n",
    "\n",
    "mypoint.print_point()"
   ]
  },
  {
   "cell_type": "code",
   "execution_count": 57,
   "metadata": {},
   "outputs": [
    {
     "name": "stdout",
     "output_type": "stream",
     "text": [
      "x:6.0\n",
      "y:10.0\n"
     ]
    }
   ],
   "source": [
    "mypoint.homo( 0.5 )\n",
    "\n",
    "mypoint.print_point()"
   ]
  },
  {
   "cell_type": "code",
   "execution_count": null,
   "metadata": {},
   "outputs": [],
   "source": []
  }
 ],
 "metadata": {
  "kernelspec": {
   "display_name": "Python 3",
   "language": "python",
   "name": "python3"
  },
  "language_info": {
   "codemirror_mode": {
    "name": "ipython",
    "version": 3
   },
   "file_extension": ".py",
   "mimetype": "text/x-python",
   "name": "python",
   "nbconvert_exporter": "python",
   "pygments_lexer": "ipython3",
   "version": "3.7.3"
  }
 },
 "nbformat": 4,
 "nbformat_minor": 2
}
