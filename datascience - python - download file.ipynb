{
 "cells": [
  {
   "cell_type": "code",
   "execution_count": 1,
   "metadata": {},
   "outputs": [],
   "source": [
    "import requests\n",
    "\n",
    "from tqdm import tqdm"
   ]
  },
  {
   "cell_type": "markdown",
   "metadata": {},
   "source": [
    "### Exemple 01"
   ]
  },
  {
   "cell_type": "code",
   "execution_count": 13,
   "metadata": {},
   "outputs": [
    {
     "name": "stdout",
     "output_type": "stream",
     "text": [
      "Grimtooth%27s%20Dungeon%20Of%20Doom.pdf\n",
      "https://annarchive.com/files/Grimtooth%27s%20Dungeon%20Of%20Doom.pdf\n"
     ]
    },
    {
     "name": "stderr",
     "output_type": "stream",
     "text": [
      "21100761it [03:46, 93107.08it/s]\n"
     ]
    }
   ],
   "source": [
    "file = \"Grimtooth%27s%20Dungeon%20Of%20Doom.pdf\"\n",
    "\n",
    "print( file )\n",
    "\n",
    "url = \"https://annarchive.com/files/Grimtooth%27s%20Dungeon%20Of%20Doom.pdf\"\n",
    "\n",
    "print( url )\n",
    "\n",
    "response = requests.get( url , stream = True )\n",
    "\n",
    "with open( file , \"wb\" ) as handle :\n",
    "    for data in tqdm( response.iter_content( ) ) :\n",
    "        handle.write( data )\n"
   ]
  },
  {
   "cell_type": "markdown",
   "metadata": {},
   "source": [
    "### Exemple 02"
   ]
  },
  {
   "cell_type": "code",
   "execution_count": 3,
   "metadata": {},
   "outputs": [
    {
     "name": "stdout",
     "output_type": "stream",
     "text": [
      "[2014, 2015]\n",
      "['https://cadastre.data.gouv.fr/data/etalab-dvf/latest/csv/2014/full.csv.gz', 'https://cadastre.data.gouv.fr/data/etalab-dvf/latest/csv/2015/full.csv.gz']\n",
      "['full_2014.csv.gz', 'full_2015.csv.gz']\n"
     ]
    },
    {
     "name": "stderr",
     "output_type": "stream",
     "text": [
      "71732630it [13:05, 91330.52it/s]\n",
      "77832978it [14:10, 91563.08it/s]\n"
     ]
    }
   ],
   "source": [
    "rep0 = 'https://cadastre.data.gouv.fr/data/etalab-dvf/latest/csv/'\n",
    "\n",
    "lst_aa = [ 2014 , 2015 ]\n",
    "\n",
    "print( lst_aa )\n",
    "\n",
    "lst_url = [ rep0 + str( aa ) + '/full.csv.gz' for aa in lst_aa ]\n",
    "\n",
    "print( lst_url )\n",
    "\n",
    "lst_file = [ 'full_' + str( aa ) + '.csv.gz' for aa in lst_aa ]\n",
    "\n",
    "print( lst_file )\n",
    "\n",
    "for url , file in zip( lst_url , lst_file ) :\n",
    "    response = requests.get( url , stream = True )\n",
    "    with open( file , 'wb' ) as handle :\n",
    "        for data in tqdm( response.iter_content( ) ) :\n",
    "            handle.write( data )\n"
   ]
  },
  {
   "cell_type": "code",
   "execution_count": null,
   "metadata": {},
   "outputs": [],
   "source": []
  }
 ],
 "metadata": {
  "kernelspec": {
   "display_name": "Python 3",
   "language": "python",
   "name": "python3"
  },
  "language_info": {
   "codemirror_mode": {
    "name": "ipython",
    "version": 3
   },
   "file_extension": ".py",
   "mimetype": "text/x-python",
   "name": "python",
   "nbconvert_exporter": "python",
   "pygments_lexer": "ipython3",
   "version": "3.7.3"
  }
 },
 "nbformat": 4,
 "nbformat_minor": 2
}
