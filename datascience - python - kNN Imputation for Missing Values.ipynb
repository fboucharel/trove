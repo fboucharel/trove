{
 "cells": [
  {
   "cell_type": "markdown",
   "metadata": {},
   "source": [
    "https://machinelearningmastery.com/knn-imputation-for-missing-values-in-machine-learning/"
   ]
  },
  {
   "cell_type": "code",
   "execution_count": 1,
   "metadata": {},
   "outputs": [],
   "source": [
    "from IPython.core.interactiveshell import InteractiveShell\n",
    "\n",
    "InteractiveShell.ast_node_interactivity = 'all'"
   ]
  },
  {
   "cell_type": "code",
   "execution_count": 2,
   "metadata": {},
   "outputs": [],
   "source": [
    "import pandas as pd\n",
    "\n",
    "pd.set_option( 'display.max_columns' , None ) "
   ]
  },
  {
   "cell_type": "code",
   "execution_count": 3,
   "metadata": {},
   "outputs": [],
   "source": [
    "url = 'https://raw.githubusercontent.com/jbrownlee/Datasets/master/horse-colic.csv'\n",
    "\n",
    "df = pd.read_csv( url , header = None , na_values = '?' ) "
   ]
  },
  {
   "cell_type": "code",
   "execution_count": 4,
   "metadata": {},
   "outputs": [
    {
     "data": {
      "text/html": [
       "<div>\n",
       "<style scoped>\n",
       "    .dataframe tbody tr th:only-of-type {\n",
       "        vertical-align: middle;\n",
       "    }\n",
       "\n",
       "    .dataframe tbody tr th {\n",
       "        vertical-align: top;\n",
       "    }\n",
       "\n",
       "    .dataframe thead th {\n",
       "        text-align: right;\n",
       "    }\n",
       "</style>\n",
       "<table border=\"1\" class=\"dataframe\">\n",
       "  <thead>\n",
       "    <tr style=\"text-align: right;\">\n",
       "      <th></th>\n",
       "      <th>0</th>\n",
       "      <th>1</th>\n",
       "      <th>2</th>\n",
       "      <th>3</th>\n",
       "      <th>4</th>\n",
       "      <th>5</th>\n",
       "      <th>6</th>\n",
       "      <th>7</th>\n",
       "      <th>8</th>\n",
       "      <th>9</th>\n",
       "      <th>10</th>\n",
       "      <th>11</th>\n",
       "      <th>12</th>\n",
       "      <th>13</th>\n",
       "      <th>14</th>\n",
       "      <th>15</th>\n",
       "      <th>16</th>\n",
       "      <th>17</th>\n",
       "      <th>18</th>\n",
       "      <th>19</th>\n",
       "      <th>20</th>\n",
       "      <th>21</th>\n",
       "      <th>22</th>\n",
       "      <th>23</th>\n",
       "      <th>24</th>\n",
       "      <th>25</th>\n",
       "      <th>26</th>\n",
       "      <th>27</th>\n",
       "    </tr>\n",
       "  </thead>\n",
       "  <tbody>\n",
       "    <tr>\n",
       "      <th>0</th>\n",
       "      <td>2.0</td>\n",
       "      <td>1</td>\n",
       "      <td>530101</td>\n",
       "      <td>38.5</td>\n",
       "      <td>66.0</td>\n",
       "      <td>28.0</td>\n",
       "      <td>3.0</td>\n",
       "      <td>3.0</td>\n",
       "      <td>NaN</td>\n",
       "      <td>2.0</td>\n",
       "      <td>5.0</td>\n",
       "      <td>4.0</td>\n",
       "      <td>4.0</td>\n",
       "      <td>NaN</td>\n",
       "      <td>NaN</td>\n",
       "      <td>NaN</td>\n",
       "      <td>3.0</td>\n",
       "      <td>5.0</td>\n",
       "      <td>45.0</td>\n",
       "      <td>8.4</td>\n",
       "      <td>NaN</td>\n",
       "      <td>NaN</td>\n",
       "      <td>2.0</td>\n",
       "      <td>2</td>\n",
       "      <td>11300</td>\n",
       "      <td>0</td>\n",
       "      <td>0</td>\n",
       "      <td>2</td>\n",
       "    </tr>\n",
       "    <tr>\n",
       "      <th>1</th>\n",
       "      <td>1.0</td>\n",
       "      <td>1</td>\n",
       "      <td>534817</td>\n",
       "      <td>39.2</td>\n",
       "      <td>88.0</td>\n",
       "      <td>20.0</td>\n",
       "      <td>NaN</td>\n",
       "      <td>NaN</td>\n",
       "      <td>4.0</td>\n",
       "      <td>1.0</td>\n",
       "      <td>3.0</td>\n",
       "      <td>4.0</td>\n",
       "      <td>2.0</td>\n",
       "      <td>NaN</td>\n",
       "      <td>NaN</td>\n",
       "      <td>NaN</td>\n",
       "      <td>4.0</td>\n",
       "      <td>2.0</td>\n",
       "      <td>50.0</td>\n",
       "      <td>85.0</td>\n",
       "      <td>2.0</td>\n",
       "      <td>2.0</td>\n",
       "      <td>3.0</td>\n",
       "      <td>2</td>\n",
       "      <td>2208</td>\n",
       "      <td>0</td>\n",
       "      <td>0</td>\n",
       "      <td>2</td>\n",
       "    </tr>\n",
       "    <tr>\n",
       "      <th>2</th>\n",
       "      <td>2.0</td>\n",
       "      <td>1</td>\n",
       "      <td>530334</td>\n",
       "      <td>38.3</td>\n",
       "      <td>40.0</td>\n",
       "      <td>24.0</td>\n",
       "      <td>1.0</td>\n",
       "      <td>1.0</td>\n",
       "      <td>3.0</td>\n",
       "      <td>1.0</td>\n",
       "      <td>3.0</td>\n",
       "      <td>3.0</td>\n",
       "      <td>1.0</td>\n",
       "      <td>NaN</td>\n",
       "      <td>NaN</td>\n",
       "      <td>NaN</td>\n",
       "      <td>1.0</td>\n",
       "      <td>1.0</td>\n",
       "      <td>33.0</td>\n",
       "      <td>6.7</td>\n",
       "      <td>NaN</td>\n",
       "      <td>NaN</td>\n",
       "      <td>1.0</td>\n",
       "      <td>2</td>\n",
       "      <td>0</td>\n",
       "      <td>0</td>\n",
       "      <td>0</td>\n",
       "      <td>1</td>\n",
       "    </tr>\n",
       "    <tr>\n",
       "      <th>3</th>\n",
       "      <td>1.0</td>\n",
       "      <td>9</td>\n",
       "      <td>5290409</td>\n",
       "      <td>39.1</td>\n",
       "      <td>164.0</td>\n",
       "      <td>84.0</td>\n",
       "      <td>4.0</td>\n",
       "      <td>1.0</td>\n",
       "      <td>6.0</td>\n",
       "      <td>2.0</td>\n",
       "      <td>2.0</td>\n",
       "      <td>4.0</td>\n",
       "      <td>4.0</td>\n",
       "      <td>1.0</td>\n",
       "      <td>2.0</td>\n",
       "      <td>5.0</td>\n",
       "      <td>3.0</td>\n",
       "      <td>NaN</td>\n",
       "      <td>48.0</td>\n",
       "      <td>7.2</td>\n",
       "      <td>3.0</td>\n",
       "      <td>5.3</td>\n",
       "      <td>2.0</td>\n",
       "      <td>1</td>\n",
       "      <td>2208</td>\n",
       "      <td>0</td>\n",
       "      <td>0</td>\n",
       "      <td>1</td>\n",
       "    </tr>\n",
       "    <tr>\n",
       "      <th>4</th>\n",
       "      <td>2.0</td>\n",
       "      <td>1</td>\n",
       "      <td>530255</td>\n",
       "      <td>37.3</td>\n",
       "      <td>104.0</td>\n",
       "      <td>35.0</td>\n",
       "      <td>NaN</td>\n",
       "      <td>NaN</td>\n",
       "      <td>6.0</td>\n",
       "      <td>2.0</td>\n",
       "      <td>NaN</td>\n",
       "      <td>NaN</td>\n",
       "      <td>NaN</td>\n",
       "      <td>NaN</td>\n",
       "      <td>NaN</td>\n",
       "      <td>NaN</td>\n",
       "      <td>NaN</td>\n",
       "      <td>NaN</td>\n",
       "      <td>74.0</td>\n",
       "      <td>7.4</td>\n",
       "      <td>NaN</td>\n",
       "      <td>NaN</td>\n",
       "      <td>2.0</td>\n",
       "      <td>2</td>\n",
       "      <td>4300</td>\n",
       "      <td>0</td>\n",
       "      <td>0</td>\n",
       "      <td>2</td>\n",
       "    </tr>\n",
       "  </tbody>\n",
       "</table>\n",
       "</div>"
      ],
      "text/plain": [
       "    0   1        2     3      4     5    6    7    8    9    10   11   12  \\\n",
       "0  2.0   1   530101  38.5   66.0  28.0  3.0  3.0  NaN  2.0  5.0  4.0  4.0   \n",
       "1  1.0   1   534817  39.2   88.0  20.0  NaN  NaN  4.0  1.0  3.0  4.0  2.0   \n",
       "2  2.0   1   530334  38.3   40.0  24.0  1.0  1.0  3.0  1.0  3.0  3.0  1.0   \n",
       "3  1.0   9  5290409  39.1  164.0  84.0  4.0  1.0  6.0  2.0  2.0  4.0  4.0   \n",
       "4  2.0   1   530255  37.3  104.0  35.0  NaN  NaN  6.0  2.0  NaN  NaN  NaN   \n",
       "\n",
       "    13   14   15   16   17    18    19   20   21   22  23     24  25  26  27  \n",
       "0  NaN  NaN  NaN  3.0  5.0  45.0   8.4  NaN  NaN  2.0   2  11300   0   0   2  \n",
       "1  NaN  NaN  NaN  4.0  2.0  50.0  85.0  2.0  2.0  3.0   2   2208   0   0   2  \n",
       "2  NaN  NaN  NaN  1.0  1.0  33.0   6.7  NaN  NaN  1.0   2      0   0   0   1  \n",
       "3  1.0  2.0  5.0  3.0  NaN  48.0   7.2  3.0  5.3  2.0   1   2208   0   0   1  \n",
       "4  NaN  NaN  NaN  NaN  NaN  74.0   7.4  NaN  NaN  2.0   2   4300   0   0   2  "
      ]
     },
     "execution_count": 4,
     "metadata": {},
     "output_type": "execute_result"
    }
   ],
   "source": [
    "df.head()"
   ]
  },
  {
   "cell_type": "code",
   "execution_count": 5,
   "metadata": {},
   "outputs": [
    {
     "data": {
      "text/plain": [
       "0       1\n",
       "1       0\n",
       "2       0\n",
       "3      60\n",
       "4      24\n",
       "5      58\n",
       "6      56\n",
       "7      69\n",
       "8      47\n",
       "9      32\n",
       "10     55\n",
       "11     44\n",
       "12     56\n",
       "13    104\n",
       "14    106\n",
       "15    247\n",
       "16    102\n",
       "17    118\n",
       "18     29\n",
       "19     33\n",
       "20    165\n",
       "21    198\n",
       "22      1\n",
       "23      0\n",
       "24      0\n",
       "25      0\n",
       "26      0\n",
       "27      0\n",
       "dtype: int64"
      ]
     },
     "execution_count": 5,
     "metadata": {},
     "output_type": "execute_result"
    }
   ],
   "source": [
    "df.isnull().sum()"
   ]
  },
  {
   "cell_type": "markdown",
   "metadata": {},
   "source": [
    "# KNNImputer Data Transform"
   ]
  },
  {
   "cell_type": "code",
   "execution_count": 6,
   "metadata": {},
   "outputs": [],
   "source": [
    "data = df.values\n",
    "\n",
    "X = data[ : , : -1 ]\n",
    "\n",
    "y = data[ : , -1 ]"
   ]
  },
  {
   "cell_type": "code",
   "execution_count": 7,
   "metadata": {},
   "outputs": [],
   "source": [
    "from numpy import isnan"
   ]
  },
  {
   "cell_type": "code",
   "execution_count": 8,
   "metadata": {},
   "outputs": [
    {
     "name": "stdout",
     "output_type": "stream",
     "text": [
      "missing : 1605\n"
     ]
    }
   ],
   "source": [
    "print( f'missing : {sum( isnan( X ).flatten() )}' )"
   ]
  },
  {
   "cell_type": "code",
   "execution_count": 9,
   "metadata": {
    "scrolled": true
   },
   "outputs": [],
   "source": [
    "from sklearn.impute import KNNImputer"
   ]
  },
  {
   "cell_type": "code",
   "execution_count": 10,
   "metadata": {},
   "outputs": [],
   "source": [
    "imputer = KNNImputer( n_neighbors = 5 , weights = 'uniform' , metric = 'nan_euclidean' )"
   ]
  },
  {
   "cell_type": "code",
   "execution_count": 11,
   "metadata": {},
   "outputs": [
    {
     "data": {
      "text/plain": [
       "KNNImputer()"
      ]
     },
     "execution_count": 11,
     "metadata": {},
     "output_type": "execute_result"
    }
   ],
   "source": [
    "imputer.fit( X )"
   ]
  },
  {
   "cell_type": "code",
   "execution_count": 12,
   "metadata": {},
   "outputs": [],
   "source": [
    "X_trans = imputer.transform( X )"
   ]
  },
  {
   "cell_type": "code",
   "execution_count": 13,
   "metadata": {},
   "outputs": [],
   "source": [
    "from numpy import isnan"
   ]
  },
  {
   "cell_type": "code",
   "execution_count": 14,
   "metadata": {},
   "outputs": [
    {
     "name": "stdout",
     "output_type": "stream",
     "text": [
      "missing : 0\n"
     ]
    }
   ],
   "source": [
    "print( f'missing : {sum( isnan( X_trans ).flatten() )}' )"
   ]
  },
  {
   "cell_type": "markdown",
   "metadata": {},
   "source": [
    "# KNNImputer and Model Evaluation"
   ]
  },
  {
   "cell_type": "code",
   "execution_count": 15,
   "metadata": {},
   "outputs": [],
   "source": [
    "from sklearn.ensemble import RandomForestClassifier"
   ]
  },
  {
   "cell_type": "code",
   "execution_count": 16,
   "metadata": {},
   "outputs": [],
   "source": [
    "model = RandomForestClassifier()"
   ]
  },
  {
   "cell_type": "code",
   "execution_count": 17,
   "metadata": {},
   "outputs": [],
   "source": [
    "from sklearn.impute import KNNImputer"
   ]
  },
  {
   "cell_type": "code",
   "execution_count": 18,
   "metadata": {},
   "outputs": [],
   "source": [
    "imputer = KNNImputer()"
   ]
  },
  {
   "cell_type": "code",
   "execution_count": 19,
   "metadata": {},
   "outputs": [],
   "source": [
    "from sklearn.pipeline import Pipeline"
   ]
  },
  {
   "cell_type": "code",
   "execution_count": 20,
   "metadata": {},
   "outputs": [],
   "source": [
    "steps = [ ('imputer' , imputer ) , \n",
    "          ( 'model' , model ) ]\n",
    "\n",
    "pipeline = Pipeline( steps = steps )"
   ]
  },
  {
   "cell_type": "code",
   "execution_count": 21,
   "metadata": {},
   "outputs": [],
   "source": [
    "from sklearn.model_selection import RepeatedStratifiedKFold"
   ]
  },
  {
   "cell_type": "code",
   "execution_count": 22,
   "metadata": {},
   "outputs": [],
   "source": [
    "cv = RepeatedStratifiedKFold( n_splits = 10 , n_repeats = 3 , random_state = 1 )"
   ]
  },
  {
   "cell_type": "code",
   "execution_count": 23,
   "metadata": {},
   "outputs": [],
   "source": [
    "from sklearn.model_selection import cross_val_score"
   ]
  },
  {
   "cell_type": "code",
   "execution_count": 24,
   "metadata": {},
   "outputs": [],
   "source": [
    "scores = cross_val_score( pipeline , X , y , scoring = 'accuracy' , cv = cv , n_jobs = -1 , error_score = 'raise')"
   ]
  },
  {
   "cell_type": "code",
   "execution_count": 26,
   "metadata": {},
   "outputs": [],
   "source": [
    "from numpy import mean\n",
    "\n",
    "from numpy import std"
   ]
  },
  {
   "cell_type": "code",
   "execution_count": 27,
   "metadata": {},
   "outputs": [
    {
     "name": "stdout",
     "output_type": "stream",
     "text": [
      "RandomForest model | accuracy : 0.773 ( 0.065 )\n"
     ]
    }
   ],
   "source": [
    "print( f'RandomForest model | accuracy : {mean(scores):.3f} ( {std(scores):.3f} )' )"
   ]
  },
  {
   "cell_type": "markdown",
   "metadata": {},
   "source": [
    "# KNNImputer and Different Number of Neighbors"
   ]
  },
  {
   "cell_type": "code",
   "execution_count": 28,
   "metadata": {},
   "outputs": [],
   "source": [
    "from sklearn.model_selection import RepeatedStratifiedKFold\n",
    "\n",
    "from sklearn.model_selection import cross_val_score"
   ]
  },
  {
   "cell_type": "code",
   "execution_count": 29,
   "metadata": {},
   "outputs": [],
   "source": [
    "def evaluate_model( X , y , model ) :\n",
    "\n",
    "    cv = RepeatedStratifiedKFold( n_splits = 10 , n_repeats = 3 , random_state = 999 )\n",
    "\n",
    "    scores = cross_val_score( model , X , y , scoring = 'accuracy' , cv = cv , n_jobs = -1 )\n",
    "\n",
    "    return scores"
   ]
  },
  {
   "cell_type": "code",
   "execution_count": null,
   "metadata": {},
   "outputs": [],
   "source": [
    "from sklearn.pipeline import Pipeline"
   ]
  },
  {
   "cell_type": "code",
   "execution_count": 30,
   "metadata": {},
   "outputs": [],
   "source": [
    "def get_models():\n",
    "\n",
    "    models = dict()\n",
    "    \n",
    "    model = RandomForestClassifier()\n",
    "    \n",
    "    K = [ 1 , 3 , 5 , 7 , 9 , 15 , 18 , 21 ]\n",
    "    \n",
    "    for k in K :\n",
    "        \n",
    "        imputer = KNNImputer( n_neighbors = k )\n",
    "        \n",
    "        steps = [ ( 'imputer' , imputer ) ,\n",
    "                  ( 'model' , model ) ]\n",
    "        \n",
    "        pipeline = Pipeline( steps = steps )\n",
    "        \n",
    "        models[ 'rf_knn_' + str( k ) ] = pipeline\n",
    "\n",
    "    return models"
   ]
  },
  {
   "cell_type": "code",
   "execution_count": 37,
   "metadata": {},
   "outputs": [
    {
     "name": "stdout",
     "output_type": "stream",
     "text": [
      "{'rf_knn_1': Pipeline(steps=[('imputer', KNNImputer(n_neighbors=1)),\n",
      "                ('model', RandomForestClassifier())]), 'rf_knn_3': Pipeline(steps=[('imputer', KNNImputer(n_neighbors=3)),\n",
      "                ('model', RandomForestClassifier())]), 'rf_knn_5': Pipeline(steps=[('imputer', KNNImputer()), ('model', RandomForestClassifier())]), 'rf_knn_7': Pipeline(steps=[('imputer', KNNImputer(n_neighbors=7)),\n",
      "                ('model', RandomForestClassifier())]), 'rf_knn_9': Pipeline(steps=[('imputer', KNNImputer(n_neighbors=9)),\n",
      "                ('model', RandomForestClassifier())]), 'rf_knn_15': Pipeline(steps=[('imputer', KNNImputer(n_neighbors=15)),\n",
      "                ('model', RandomForestClassifier())]), 'rf_knn_18': Pipeline(steps=[('imputer', KNNImputer(n_neighbors=18)),\n",
      "                ('model', RandomForestClassifier())]), 'rf_knn_21': Pipeline(steps=[('imputer', KNNImputer(n_neighbors=21)),\n",
      "                ('model', RandomForestClassifier())])}\n"
     ]
    }
   ],
   "source": [
    "models = get_models()\n",
    "\n",
    "print( models )"
   ]
  },
  {
   "cell_type": "code",
   "execution_count": 32,
   "metadata": {},
   "outputs": [
    {
     "name": "stdout",
     "output_type": "stream",
     "text": [
      " model : rf_knn_1 : 0.700 ( 0.077 )\n",
      " model : rf_knn_3 : 0.726 ( 0.085 )\n",
      " model : rf_knn_5 : 0.778 ( 0.068 )\n",
      " model : rf_knn_7 : 0.769 ( 0.074 )\n",
      " model : rf_knn_9 : 0.779 ( 0.070 )\n",
      " model : rf_knn_15 : 0.806 ( 0.052 )\n",
      " model : rf_knn_18 : 0.814 ( 0.066 )\n",
      " model : rf_knn_21 : 0.831 ( 0.062 )\n"
     ]
    }
   ],
   "source": [
    "results = list()\n",
    "\n",
    "names = list()\n",
    "\n",
    "\n",
    "for name , model in models.items() :\n",
    "    \n",
    "    names.append( name )\n",
    "    \n",
    "    scores = evaluate_model( X , y , model ) \n",
    "    \n",
    "    results.append( scores )\n",
    "    \n",
    "    print( f' model : {name} : {mean(scores):.3f} ( {std(scores):.3f} )' )"
   ]
  },
  {
   "cell_type": "code",
   "execution_count": 33,
   "metadata": {},
   "outputs": [],
   "source": [
    "from matplotlib import pyplot"
   ]
  },
  {
   "cell_type": "code",
   "execution_count": 34,
   "metadata": {},
   "outputs": [
    {
     "data": {
      "text/plain": [
       "{'whiskers': [<matplotlib.lines.Line2D at 0x6547f60>,\n",
       "  <matplotlib.lines.Line2D at 0x65470b8>,\n",
       "  <matplotlib.lines.Line2D at 0x1b7694a8>,\n",
       "  <matplotlib.lines.Line2D at 0x1b769a90>,\n",
       "  <matplotlib.lines.Line2D at 0x1b7627f0>,\n",
       "  <matplotlib.lines.Line2D at 0x1df384e0>,\n",
       "  <matplotlib.lines.Line2D at 0x1df34be0>,\n",
       "  <matplotlib.lines.Line2D at 0x1df34e10>,\n",
       "  <matplotlib.lines.Line2D at 0x65d07f0>,\n",
       "  <matplotlib.lines.Line2D at 0x65d0b38>,\n",
       "  <matplotlib.lines.Line2D at 0x65d8fd0>,\n",
       "  <matplotlib.lines.Line2D at 0x65e25f8>,\n",
       "  <matplotlib.lines.Line2D at 0x65ebd30>,\n",
       "  <matplotlib.lines.Line2D at 0x65ebdd8>,\n",
       "  <matplotlib.lines.Line2D at 0x66017f0>,\n",
       "  <matplotlib.lines.Line2D at 0x6601b38>],\n",
       " 'caps': [<matplotlib.lines.Line2D at 0x653b390>,\n",
       "  <matplotlib.lines.Line2D at 0x653bf98>,\n",
       "  <matplotlib.lines.Line2D at 0x1b769630>,\n",
       "  <matplotlib.lines.Line2D at 0x1b769278>,\n",
       "  <matplotlib.lines.Line2D at 0x1df38898>,\n",
       "  <matplotlib.lines.Line2D at 0x1df38cc0>,\n",
       "  <matplotlib.lines.Line2D at 0x1df281d0>,\n",
       "  <matplotlib.lines.Line2D at 0x1df28198>,\n",
       "  <matplotlib.lines.Line2D at 0x65d0e80>,\n",
       "  <matplotlib.lines.Line2D at 0x65d0f28>,\n",
       "  <matplotlib.lines.Line2D at 0x65e2940>,\n",
       "  <matplotlib.lines.Line2D at 0x65e2c88>,\n",
       "  <matplotlib.lines.Line2D at 0x65f6400>,\n",
       "  <matplotlib.lines.Line2D at 0x65f6748>,\n",
       "  <matplotlib.lines.Line2D at 0x6601e80>,\n",
       "  <matplotlib.lines.Line2D at 0x6601f28>],\n",
       " 'boxes': [<matplotlib.lines.Line2D at 0x6547cf8>,\n",
       "  <matplotlib.lines.Line2D at 0x5c66c18>,\n",
       "  <matplotlib.lines.Line2D at 0x1b762828>,\n",
       "  <matplotlib.lines.Line2D at 0x1df01cf8>,\n",
       "  <matplotlib.lines.Line2D at 0x65d04a8>,\n",
       "  <matplotlib.lines.Line2D at 0x65d8f28>,\n",
       "  <matplotlib.lines.Line2D at 0x65eb9e8>,\n",
       "  <matplotlib.lines.Line2D at 0x66014a8>],\n",
       " 'medians': [<matplotlib.lines.Line2D at 0x653b898>,\n",
       "  <matplotlib.lines.Line2D at 0x1b769160>,\n",
       "  <matplotlib.lines.Line2D at 0x1df38b00>,\n",
       "  <matplotlib.lines.Line2D at 0x659aa90>,\n",
       "  <matplotlib.lines.Line2D at 0x65d8550>,\n",
       "  <matplotlib.lines.Line2D at 0x65e2fd0>,\n",
       "  <matplotlib.lines.Line2D at 0x65f6a90>,\n",
       "  <matplotlib.lines.Line2D at 0x660b550>],\n",
       " 'fliers': [<matplotlib.lines.Line2D at 0x6532a58>,\n",
       "  <matplotlib.lines.Line2D at 0x1b762908>,\n",
       "  <matplotlib.lines.Line2D at 0x1df0bda0>,\n",
       "  <matplotlib.lines.Line2D at 0x659ada0>,\n",
       "  <matplotlib.lines.Line2D at 0x65d8be0>,\n",
       "  <matplotlib.lines.Line2D at 0x65eb6a0>,\n",
       "  <matplotlib.lines.Line2D at 0x65f6da0>,\n",
       "  <matplotlib.lines.Line2D at 0x660bbe0>],\n",
       " 'means': [<matplotlib.lines.Line2D at 0x6532cc0>,\n",
       "  <matplotlib.lines.Line2D at 0x1b7626a0>,\n",
       "  <matplotlib.lines.Line2D at 0x1df2c240>,\n",
       "  <matplotlib.lines.Line2D at 0x659add8>,\n",
       "  <matplotlib.lines.Line2D at 0x65d8898>,\n",
       "  <matplotlib.lines.Line2D at 0x65eb358>,\n",
       "  <matplotlib.lines.Line2D at 0x65f6dd8>,\n",
       "  <matplotlib.lines.Line2D at 0x660b898>]}"
      ]
     },
     "execution_count": 34,
     "metadata": {},
     "output_type": "execute_result"
    },
    {
     "data": {
      "text/plain": [
       "(array([1, 2, 3, 4, 5, 6, 7, 8]), <a list of 8 Text xticklabel objects>)"
      ]
     },
     "execution_count": 34,
     "metadata": {},
     "output_type": "execute_result"
    },
    {
     "data": {
      "image/png": "[encoded data removed]",
      "text/plain": [
       "<Figure size 432x288 with 1 Axes>"
      ]
     },
     "metadata": {
      "needs_background": "light"
     },
     "output_type": "display_data"
    }
   ],
   "source": [
    "pyplot.boxplot( results , labels = names , showmeans = True )\n",
    "\n",
    "pyplot.grid( axis = 'y' , color = 'black' , linestyle = '-.' , linewidth = 0.5 )\n",
    "\n",
    "pyplot.xticks( rotation = 90 )\n",
    "\n",
    "pyplot.show()"
   ]
  }
 ],
 "metadata": {
  "kernelspec": {
   "display_name": "Python 3",
   "language": "python",
   "name": "python3"
  },
  "language_info": {
   "codemirror_mode": {
    "name": "ipython",
    "version": 3
   },
   "file_extension": ".py",
   "mimetype": "text/x-python",
   "name": "python",
   "nbconvert_exporter": "python",
   "pygments_lexer": "ipython3",
   "version": "3.7.3"
  }
 },
 "nbformat": 4,
 "nbformat_minor": 2
}
