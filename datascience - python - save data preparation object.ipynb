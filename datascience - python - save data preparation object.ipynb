{
 "cells": [
  {
   "cell_type": "markdown",
   "metadata": {},
   "source": [
    "### Save data preparation objet ( and model )"
   ]
  },
  {
   "cell_type": "code",
   "execution_count": 17,
   "metadata": {},
   "outputs": [],
   "source": [
    "from sklearn.datasets.samples_generator import make_blobs\n",
    "\n",
    "from sklearn.model_selection import train_test_split\n",
    "\n",
    "from sklearn.preprocessing import MinMaxScaler\n",
    "\n",
    "from sklearn.linear_model import LogisticRegression\n",
    "\n",
    "from sklearn.metrics import accuracy_score\n",
    "\n",
    "from pickle import dump\n",
    "\n",
    "from pickle import load\n",
    "\n",
    "import uuid"
   ]
  },
  {
   "cell_type": "code",
   "execution_count": 10,
   "metadata": {},
   "outputs": [],
   "source": [
    "# Data :\n",
    "\n",
    "X, y = make_blobs( n_samples = 100 , centers = 2 , n_features = 2 , random_state = 1 )"
   ]
  },
  {
   "cell_type": "code",
   "execution_count": 11,
   "metadata": {},
   "outputs": [],
   "source": [
    "# Train / test split :\n",
    "\n",
    "X_train, X_test, y_train, y_test = train_test_split( X , y , test_size = 0.33 , random_state = 1 )"
   ]
  },
  {
   "cell_type": "code",
   "execution_count": 12,
   "metadata": {},
   "outputs": [],
   "source": [
    "# scaler pour mettre les valeurs des variables entre 0 et 1 :\n",
    "\n",
    "scaler = MinMaxScaler()\n",
    "\n",
    "scaler.fit( X_train )\n",
    "\n",
    "# Transformation via le scaler :\n",
    "\n",
    "X_train_scaled = scaler.transform( X_train )\n",
    "\n",
    "X_test_scaled = scaler.transform( X_test )"
   ]
  },
  {
   "cell_type": "code",
   "execution_count": 13,
   "metadata": {},
   "outputs": [
    {
     "data": {
      "text/plain": [
       "LogisticRegression(C=1.0, class_weight=None, dual=False, fit_intercept=True,\n",
       "          intercept_scaling=1, max_iter=100, multi_class='warn',\n",
       "          n_jobs=None, penalty='l2', random_state=None, solver='lbfgs',\n",
       "          tol=0.0001, verbose=0, warm_start=False)"
      ]
     },
     "execution_count": 13,
     "metadata": {},
     "output_type": "execute_result"
    }
   ],
   "source": [
    "# Mise en place modèle :\n",
    "model = LogisticRegression( solver = 'lbfgs' )\n",
    "\n",
    "model.fit( X_train_scaled , y_train )"
   ]
  },
  {
   "cell_type": "code",
   "execution_count": 14,
   "metadata": {},
   "outputs": [],
   "source": [
    "# Sauvegarde du modèle :\n",
    "\n",
    "id_model = str( uuid.uuid4() )\n",
    "\n",
    "filename = 'model_' + id_model +'.sav'\n",
    "\n",
    "dump( model, open( filename , 'wb' ) )\n",
    "\n",
    "#Sauvegarde du scaler :\n",
    "\n",
    "id_scaler = str( uuid.uuid4() )\n",
    "\n",
    "filename = 'scaler_' + id_scaler +'.sav'\n",
    "\n",
    "dump(scaler, open( filename , 'wb' ) )\n"
   ]
  },
  {
   "cell_type": "code",
   "execution_count": null,
   "metadata": {},
   "outputs": [],
   "source": [
    "# Chargement du modèle :\n",
    "\n",
    "model = load( open('model.pkl', 'rb') )\n",
    "\n",
    "# Chargement du scaler :\n",
    "\n",
    "scaler = load( open('scaler.pkl', 'rb') )"
   ]
  },
  {
   "cell_type": "code",
   "execution_count": 18,
   "metadata": {},
   "outputs": [
    {
     "name": "stdout",
     "output_type": "stream",
     "text": [
      "Test Accuracy: 1.0\n"
     ]
    }
   ],
   "source": [
    "# Scaling du test dataset :\n",
    "\n",
    "X_test_scaled = scaler.transform( X_test )\n",
    "\n",
    "# Prediction sur le scaled dataset :\n",
    "\n",
    "y_test_pred = model.predict( X_test_scaled )\n",
    "\n",
    "# Précision ( accuracy ) de la prédiction :\n",
    "\n",
    "# evaluate accuracy\n",
    "acc = accuracy_score( y_test , y_test_pred )\n",
    "\n",
    "print( 'Test Accuracy:', acc )"
   ]
  },
  {
   "cell_type": "code",
   "execution_count": null,
   "metadata": {},
   "outputs": [],
   "source": []
  }
 ],
 "metadata": {
  "kernelspec": {
   "display_name": "Python 3",
   "language": "python",
   "name": "python3"
  },
  "language_info": {
   "codemirror_mode": {
    "name": "ipython",
    "version": 3
   },
   "file_extension": ".py",
   "mimetype": "text/x-python",
   "name": "python",
   "nbconvert_exporter": "python",
   "pygments_lexer": "ipython3",
   "version": "3.7.3"
  }
 },
 "nbformat": 4,
 "nbformat_minor": 2
}
