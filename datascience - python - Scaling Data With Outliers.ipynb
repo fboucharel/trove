{
 "cells": [
  {
   "cell_type": "markdown",
   "metadata": {},
   "source": [
    "https://machinelearningmastery.com/robust-scaler-transforms-for-machine-learning/"
   ]
  },
  {
   "cell_type": "code",
   "execution_count": 1,
   "metadata": {},
   "outputs": [],
   "source": [
    "from pandas import read_csv"
   ]
  },
  {
   "cell_type": "code",
   "execution_count": 2,
   "metadata": {},
   "outputs": [],
   "source": [
    "url = \"https://raw.githubusercontent.com/jbrownlee/Datasets/master/sonar.csv\"\n",
    "\n",
    "dataset = read_csv( url , header = None )\n",
    "\n",
    "data = dataset.values\n",
    "\n",
    "\n",
    "X = data[ : , : -1 ]\n",
    "\n",
    "y = data[ : , -1 ]"
   ]
  },
  {
   "cell_type": "code",
   "execution_count": 4,
   "metadata": {},
   "outputs": [],
   "source": [
    "from sklearn.preprocessing import LabelEncoder"
   ]
  },
  {
   "cell_type": "code",
   "execution_count": 5,
   "metadata": {},
   "outputs": [],
   "source": [
    "X = X.astype( 'float32' )\n",
    "\n",
    "y = LabelEncoder().fit_transform( y  )"
   ]
  },
  {
   "cell_type": "code",
   "execution_count": 6,
   "metadata": {},
   "outputs": [],
   "source": [
    "from sklearn.neighbors import KNeighborsClassifier"
   ]
  },
  {
   "cell_type": "code",
   "execution_count": 7,
   "metadata": {},
   "outputs": [],
   "source": [
    "model = KNeighborsClassifier()"
   ]
  },
  {
   "cell_type": "code",
   "execution_count": 8,
   "metadata": {},
   "outputs": [],
   "source": [
    "from sklearn.model_selection import RepeatedStratifiedKFold"
   ]
  },
  {
   "cell_type": "code",
   "execution_count": 9,
   "metadata": {},
   "outputs": [],
   "source": [
    "cv = RepeatedStratifiedKFold( n_splits = 10 , n_repeats = 3 , random_state = 1 )"
   ]
  },
  {
   "cell_type": "code",
   "execution_count": 10,
   "metadata": {},
   "outputs": [],
   "source": [
    "from sklearn.model_selection import cross_val_score"
   ]
  },
  {
   "cell_type": "code",
   "execution_count": 13,
   "metadata": {},
   "outputs": [
    {
     "name": "stdout",
     "output_type": "stream",
     "text": [
      "[0.80952381 0.95238095 0.9047619  0.76190476 0.71428571 0.66666667\n",
      " 0.76190476 0.80952381 0.9        0.65       0.66666667 0.71428571\n",
      " 0.80952381 0.85714286 0.76190476 0.80952381 0.85714286 0.85714286\n",
      " 0.85       0.8        0.80952381 0.80952381 0.80952381 0.80952381\n",
      " 0.71428571 0.76190476 0.76190476 0.76190476 0.85       0.9       ]\n"
     ]
    }
   ],
   "source": [
    "n_scores = cross_val_score( model , X , y , scoring = 'accuracy' , cv = cv , n_jobs = -1 , error_score = 'raise' )\n",
    "\n",
    "print( n_scores )"
   ]
  },
  {
   "cell_type": "code",
   "execution_count": 14,
   "metadata": {},
   "outputs": [],
   "source": [
    "from numpy import mean\n",
    "\n",
    "from numpy import std"
   ]
  },
  {
   "cell_type": "code",
   "execution_count": 16,
   "metadata": {},
   "outputs": [
    {
     "name": "stdout",
     "output_type": "stream",
     "text": [
      " 0.797 ( 0.073)\n"
     ]
    }
   ],
   "source": [
    "print( f' {mean( n_scores ):.3f} ( {std( n_scores ):.3f})' )"
   ]
  },
  {
   "cell_type": "markdown",
   "metadata": {},
   "source": [
    "# IQR Robust Scaler Transform"
   ]
  },
  {
   "cell_type": "code",
   "execution_count": 17,
   "metadata": {},
   "outputs": [],
   "source": [
    "from sklearn.preprocessing import RobustScaler"
   ]
  },
  {
   "cell_type": "code",
   "execution_count": 27,
   "metadata": {},
   "outputs": [],
   "source": [
    "scaler = RobustScaler( quantile_range = ( 25 , 75 ) ) \n",
    "\n",
    "model = KNeighborsClassifier()"
   ]
  },
  {
   "cell_type": "code",
   "execution_count": 28,
   "metadata": {},
   "outputs": [],
   "source": [
    "from sklearn.pipeline import Pipeline"
   ]
  },
  {
   "cell_type": "code",
   "execution_count": 29,
   "metadata": {},
   "outputs": [],
   "source": [
    "pipeline = Pipeline( steps =[ ( 'scaler' ,  scaler ) ,\n",
    "                              ( 'model' , model ) ] )"
   ]
  },
  {
   "cell_type": "code",
   "execution_count": 30,
   "metadata": {},
   "outputs": [],
   "source": [
    "cv = RepeatedStratifiedKFold( n_splits = 10 , n_repeats = 3 , random_state = 1 )"
   ]
  },
  {
   "cell_type": "code",
   "execution_count": 31,
   "metadata": {},
   "outputs": [
    {
     "name": "stdout",
     "output_type": "stream",
     "text": [
      " 0.819 ( 0.076)\n"
     ]
    }
   ],
   "source": [
    "n_scores = cross_val_score( pipeline , X , y , scoring = 'accuracy' , cv = cv , n_jobs = -1 , error_score = 'raise' )\n",
    "\n",
    "print( f'{mean( n_scores ):.3f} ( {std( n_scores ):.3f})' )"
   ]
  },
  {
   "cell_type": "markdown",
   "metadata": {},
   "source": [
    "# Explore Robust Scaler Range"
   ]
  },
  {
   "cell_type": "code",
   "execution_count": 32,
   "metadata": {},
   "outputs": [],
   "source": [
    "def get_models():\n",
    "\n",
    "    models = dict()\n",
    "\n",
    "    for value in [ 1 , 5 , 10 , 15 , 20 , 25 , 30 ] :\n",
    "\n",
    "        scaler = RobustScaler( quantile_range = ( value , 100 - value ) )\n",
    "\n",
    "        model = KNeighborsClassifier()\n",
    "        \n",
    "        pipeline =  Pipeline( steps = [ ( 'scaler' , scaler ) ,\n",
    "                                        ( 'model' , model ) ] )\n",
    "\n",
    "        models[ f'( {value} , {100 - value} )' ] = pipeline\n",
    "\n",
    "    return models"
   ]
  },
  {
   "cell_type": "code",
   "execution_count": 34,
   "metadata": {},
   "outputs": [],
   "source": [
    "def evaluate_model( model ) :\n",
    "    \n",
    "    cv = RepeatedStratifiedKFold( n_splits = 10 , n_repeats = 3 , random_state = 1 )\n",
    "\n",
    "    scores = cross_val_score( model , X , y , scoring = 'accuracy' , cv = cv , n_jobs = -1 , error_score = 'raise' )\n",
    "    \n",
    "    return scores"
   ]
  },
  {
   "cell_type": "code",
   "execution_count": 42,
   "metadata": {},
   "outputs": [
    {
     "name": "stdout",
     "output_type": "stream",
     "text": [
      "scaler range : ( 1 , 99 ) | accuracy : 0.818 ( 0.069)\n",
      "scaler range : ( 5 , 95 ) | accuracy : 0.813 ( 0.085)\n",
      "scaler range : ( 10 , 90 ) | accuracy : 0.812 ( 0.076)\n",
      "scaler range : ( 15 , 85 ) | accuracy : 0.811 ( 0.081)\n",
      "scaler range : ( 20 , 80 ) | accuracy : 0.811 ( 0.080)\n",
      "scaler range : ( 25 , 75 ) | accuracy : 0.819 ( 0.076)\n",
      "scaler range : ( 30 , 70 ) | accuracy : 0.816 ( 0.072)\n"
     ]
    }
   ],
   "source": [
    "results = list( )\n",
    "\n",
    "names = list( )\n",
    "\n",
    "models = get_models( )\n",
    "\n",
    "for name , model in models.items( ) :\n",
    "    \n",
    "    n_scores = evaluate_model( model )\n",
    "    \n",
    "    names.append( name )\n",
    "    \n",
    "    results.append( n_scores )\n",
    "    \n",
    "    print( f'scaler range : {name} | accuracy : {mean( n_scores ):.3f} ( {std( n_scores ):.3f})' )"
   ]
  },
  {
   "cell_type": "code",
   "execution_count": 44,
   "metadata": {},
   "outputs": [],
   "source": [
    "from matplotlib import pyplot"
   ]
  },
  {
   "cell_type": "code",
   "execution_count": 56,
   "metadata": {},
   "outputs": [
    {
     "data": {
      "image/png": "[encoded data removed]",
      "text/plain": [
       "<Figure size 432x288 with 1 Axes>"
      ]
     },
     "metadata": {
      "needs_background": "light"
     },
     "output_type": "display_data"
    }
   ],
   "source": [
    "pyplot.boxplot( results , labels = names , showmeans = True )\n",
    "\n",
    "pyplot.grid( axis = 'y' , color='black', linestyle='-.', linewidth=0.5)\n",
    "\n",
    "pyplot.show()"
   ]
  },
  {
   "cell_type": "code",
   "execution_count": null,
   "metadata": {},
   "outputs": [],
   "source": []
  }
 ],
 "metadata": {
  "kernelspec": {
   "display_name": "Python 3",
   "language": "python",
   "name": "python3"
  },
  "language_info": {
   "codemirror_mode": {
    "name": "ipython",
    "version": 3
   },
   "file_extension": ".py",
   "mimetype": "text/x-python",
   "name": "python",
   "nbconvert_exporter": "python",
   "pygments_lexer": "ipython3",
   "version": "3.7.3"
  }
 },
 "nbformat": 4,
 "nbformat_minor": 2
}
