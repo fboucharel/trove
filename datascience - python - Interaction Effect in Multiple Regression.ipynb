{
 "cells": [
  {
   "cell_type": "markdown",
   "metadata": {},
   "source": [
    "https://towardsdatascience.com/interaction-effect-in-multiple-regression-3091a5d0fadd"
   ]
  },
  {
   "cell_type": "code",
   "execution_count": 82,
   "metadata": {},
   "outputs": [],
   "source": [
    "from IPython.core.interactiveshell import InteractiveShell\n",
    "\n",
    "InteractiveShell.ast_node_interactivity = 'all'"
   ]
  },
  {
   "cell_type": "code",
   "execution_count": 83,
   "metadata": {},
   "outputs": [],
   "source": [
    "import pandas as pd\n",
    "\n",
    "pd.set_option( 'display.max_columns' , None ) "
   ]
  },
  {
   "cell_type": "code",
   "execution_count": 84,
   "metadata": {},
   "outputs": [],
   "source": [
    "import pandas as pd"
   ]
  },
  {
   "cell_type": "code",
   "execution_count": 85,
   "metadata": {},
   "outputs": [],
   "source": [
    "url = 'https://raw.githubusercontent.com/ContinuumIO/PythonVIS2013/master/data/auto-mpg.csv'\n",
    "\n",
    "df = pd.read_csv( filepath_or_buffer = url )"
   ]
  },
  {
   "cell_type": "code",
   "execution_count": 86,
   "metadata": {
    "scrolled": true
   },
   "outputs": [
    {
     "data": {
      "text/html": [
       "<div>\n",
       "<style scoped>\n",
       "    .dataframe tbody tr th:only-of-type {\n",
       "        vertical-align: middle;\n",
       "    }\n",
       "\n",
       "    .dataframe tbody tr th {\n",
       "        vertical-align: top;\n",
       "    }\n",
       "\n",
       "    .dataframe thead th {\n",
       "        text-align: right;\n",
       "    }\n",
       "</style>\n",
       "<table border=\"1\" class=\"dataframe\">\n",
       "  <thead>\n",
       "    <tr style=\"text-align: right;\">\n",
       "      <th></th>\n",
       "      <th>mpg</th>\n",
       "      <th>cyl</th>\n",
       "      <th>displ</th>\n",
       "      <th>hp</th>\n",
       "      <th>weight</th>\n",
       "      <th>accel</th>\n",
       "      <th>yr</th>\n",
       "      <th>origin</th>\n",
       "      <th>name</th>\n",
       "    </tr>\n",
       "  </thead>\n",
       "  <tbody>\n",
       "    <tr>\n",
       "      <th>0</th>\n",
       "      <td>18.0</td>\n",
       "      <td>8</td>\n",
       "      <td>307.0</td>\n",
       "      <td>130</td>\n",
       "      <td>3504</td>\n",
       "      <td>12.0</td>\n",
       "      <td>70</td>\n",
       "      <td>1</td>\n",
       "      <td>chevrolet chevelle malibu</td>\n",
       "    </tr>\n",
       "    <tr>\n",
       "      <th>1</th>\n",
       "      <td>15.0</td>\n",
       "      <td>8</td>\n",
       "      <td>350.0</td>\n",
       "      <td>165</td>\n",
       "      <td>3693</td>\n",
       "      <td>11.5</td>\n",
       "      <td>70</td>\n",
       "      <td>1</td>\n",
       "      <td>buick skylark 320</td>\n",
       "    </tr>\n",
       "    <tr>\n",
       "      <th>2</th>\n",
       "      <td>18.0</td>\n",
       "      <td>8</td>\n",
       "      <td>318.0</td>\n",
       "      <td>150</td>\n",
       "      <td>3436</td>\n",
       "      <td>11.0</td>\n",
       "      <td>70</td>\n",
       "      <td>1</td>\n",
       "      <td>plymouth satellite</td>\n",
       "    </tr>\n",
       "    <tr>\n",
       "      <th>3</th>\n",
       "      <td>16.0</td>\n",
       "      <td>8</td>\n",
       "      <td>304.0</td>\n",
       "      <td>150</td>\n",
       "      <td>3433</td>\n",
       "      <td>12.0</td>\n",
       "      <td>70</td>\n",
       "      <td>1</td>\n",
       "      <td>amc rebel sst</td>\n",
       "    </tr>\n",
       "    <tr>\n",
       "      <th>4</th>\n",
       "      <td>17.0</td>\n",
       "      <td>8</td>\n",
       "      <td>302.0</td>\n",
       "      <td>140</td>\n",
       "      <td>3449</td>\n",
       "      <td>10.5</td>\n",
       "      <td>70</td>\n",
       "      <td>1</td>\n",
       "      <td>ford torino</td>\n",
       "    </tr>\n",
       "  </tbody>\n",
       "</table>\n",
       "</div>"
      ],
      "text/plain": [
       "    mpg  cyl  displ   hp  weight  accel  yr  origin                       name\n",
       "0  18.0    8  307.0  130    3504   12.0  70       1  chevrolet chevelle malibu\n",
       "1  15.0    8  350.0  165    3693   11.5  70       1          buick skylark 320\n",
       "2  18.0    8  318.0  150    3436   11.0  70       1         plymouth satellite\n",
       "3  16.0    8  304.0  150    3433   12.0  70       1              amc rebel sst\n",
       "4  17.0    8  302.0  140    3449   10.5  70       1                ford torino"
      ]
     },
     "execution_count": 86,
     "metadata": {},
     "output_type": "execute_result"
    }
   ],
   "source": [
    "df.head()"
   ]
  },
  {
   "cell_type": "code",
   "execution_count": 87,
   "metadata": {},
   "outputs": [
    {
     "data": {
      "text/plain": [
       "(392, 9)"
      ]
     },
     "execution_count": 87,
     "metadata": {},
     "output_type": "execute_result"
    }
   ],
   "source": [
    "df.shape"
   ]
  },
  {
   "cell_type": "code",
   "execution_count": 88,
   "metadata": {},
   "outputs": [
    {
     "name": "stdout",
     "output_type": "stream",
     "text": [
      "<class 'pandas.core.frame.DataFrame'>\n",
      "RangeIndex: 392 entries, 0 to 391\n",
      "Data columns (total 9 columns):\n",
      " #   Column  Non-Null Count  Dtype  \n",
      "---  ------  --------------  -----  \n",
      " 0   mpg     392 non-null    float64\n",
      " 1   cyl     392 non-null    int64  \n",
      " 2   displ   392 non-null    float64\n",
      " 3   hp      392 non-null    int64  \n",
      " 4   weight  392 non-null    int64  \n",
      " 5   accel   392 non-null    float64\n",
      " 6   yr      392 non-null    int64  \n",
      " 7   origin  392 non-null    int64  \n",
      " 8   name    392 non-null    object \n",
      "dtypes: float64(3), int64(5), object(1)\n",
      "memory usage: 27.7+ KB\n"
     ]
    }
   ],
   "source": [
    "df.info()"
   ]
  },
  {
   "cell_type": "code",
   "execution_count": 89,
   "metadata": {},
   "outputs": [
    {
     "data": {
      "text/html": [
       "<div>\n",
       "<style scoped>\n",
       "    .dataframe tbody tr th:only-of-type {\n",
       "        vertical-align: middle;\n",
       "    }\n",
       "\n",
       "    .dataframe tbody tr th {\n",
       "        vertical-align: top;\n",
       "    }\n",
       "\n",
       "    .dataframe thead th {\n",
       "        text-align: right;\n",
       "    }\n",
       "</style>\n",
       "<table border=\"1\" class=\"dataframe\">\n",
       "  <thead>\n",
       "    <tr style=\"text-align: right;\">\n",
       "      <th></th>\n",
       "      <th>mpg</th>\n",
       "      <th>cyl</th>\n",
       "      <th>displ</th>\n",
       "      <th>hp</th>\n",
       "      <th>weight</th>\n",
       "      <th>accel</th>\n",
       "      <th>yr</th>\n",
       "      <th>origin</th>\n",
       "    </tr>\n",
       "  </thead>\n",
       "  <tbody>\n",
       "    <tr>\n",
       "      <th>0</th>\n",
       "      <td>18.0</td>\n",
       "      <td>8</td>\n",
       "      <td>307.0</td>\n",
       "      <td>130</td>\n",
       "      <td>3504</td>\n",
       "      <td>12.0</td>\n",
       "      <td>70</td>\n",
       "      <td>1</td>\n",
       "    </tr>\n",
       "    <tr>\n",
       "      <th>1</th>\n",
       "      <td>15.0</td>\n",
       "      <td>8</td>\n",
       "      <td>350.0</td>\n",
       "      <td>165</td>\n",
       "      <td>3693</td>\n",
       "      <td>11.5</td>\n",
       "      <td>70</td>\n",
       "      <td>1</td>\n",
       "    </tr>\n",
       "    <tr>\n",
       "      <th>2</th>\n",
       "      <td>18.0</td>\n",
       "      <td>8</td>\n",
       "      <td>318.0</td>\n",
       "      <td>150</td>\n",
       "      <td>3436</td>\n",
       "      <td>11.0</td>\n",
       "      <td>70</td>\n",
       "      <td>1</td>\n",
       "    </tr>\n",
       "    <tr>\n",
       "      <th>3</th>\n",
       "      <td>16.0</td>\n",
       "      <td>8</td>\n",
       "      <td>304.0</td>\n",
       "      <td>150</td>\n",
       "      <td>3433</td>\n",
       "      <td>12.0</td>\n",
       "      <td>70</td>\n",
       "      <td>1</td>\n",
       "    </tr>\n",
       "    <tr>\n",
       "      <th>4</th>\n",
       "      <td>17.0</td>\n",
       "      <td>8</td>\n",
       "      <td>302.0</td>\n",
       "      <td>140</td>\n",
       "      <td>3449</td>\n",
       "      <td>10.5</td>\n",
       "      <td>70</td>\n",
       "      <td>1</td>\n",
       "    </tr>\n",
       "  </tbody>\n",
       "</table>\n",
       "</div>"
      ],
      "text/plain": [
       "    mpg  cyl  displ   hp  weight  accel  yr  origin\n",
       "0  18.0    8  307.0  130    3504   12.0  70       1\n",
       "1  15.0    8  350.0  165    3693   11.5  70       1\n",
       "2  18.0    8  318.0  150    3436   11.0  70       1\n",
       "3  16.0    8  304.0  150    3433   12.0  70       1\n",
       "4  17.0    8  302.0  140    3449   10.5  70       1"
      ]
     },
     "execution_count": 89,
     "metadata": {},
     "output_type": "execute_result"
    }
   ],
   "source": [
    "df.drop( 'name' , axis = 1 , inplace = True )\n",
    "\n",
    "df.head()"
   ]
  },
  {
   "cell_type": "code",
   "execution_count": 90,
   "metadata": {},
   "outputs": [
    {
     "name": "stdout",
     "output_type": "stream",
     "text": [
      "<class 'pandas.core.frame.DataFrame'>\n",
      "RangeIndex: 392 entries, 0 to 391\n",
      "Data columns (total 8 columns):\n",
      " #   Column  Non-Null Count  Dtype  \n",
      "---  ------  --------------  -----  \n",
      " 0   mpg     392 non-null    float64\n",
      " 1   cyl     392 non-null    int64  \n",
      " 2   displ   392 non-null    float64\n",
      " 3   hp      392 non-null    int64  \n",
      " 4   weight  392 non-null    int64  \n",
      " 5   accel   392 non-null    float64\n",
      " 6   yr      392 non-null    int64  \n",
      " 7   origin  392 non-null    int64  \n",
      "dtypes: float64(3), int64(5)\n",
      "memory usage: 24.6 KB\n"
     ]
    }
   ],
   "source": [
    "for col in df.columns:\n",
    "    df[ col ] = pd.to_numeric( df[ col ] , errors = 'coerce' )\n",
    "    \n",
    "df.info()"
   ]
  },
  {
   "cell_type": "code",
   "execution_count": 91,
   "metadata": {
    "scrolled": true
   },
   "outputs": [
    {
     "data": {
      "text/plain": [
       "mpg       0\n",
       "cyl       0\n",
       "displ     0\n",
       "hp        0\n",
       "weight    0\n",
       "accel     0\n",
       "yr        0\n",
       "origin    0\n",
       "dtype: int64"
      ]
     },
     "execution_count": 91,
     "metadata": {},
     "output_type": "execute_result"
    }
   ],
   "source": [
    "df.isna().sum()"
   ]
  },
  {
   "cell_type": "code",
   "execution_count": 92,
   "metadata": {},
   "outputs": [],
   "source": [
    "X = df.drop( 'mpg' , axis = 1 )\n",
    "\n",
    "y = df[ 'mpg' ]"
   ]
  },
  {
   "cell_type": "code",
   "execution_count": 93,
   "metadata": {},
   "outputs": [],
   "source": [
    "from statsmodels.regression import linear_model"
   ]
  },
  {
   "cell_type": "code",
   "execution_count": 94,
   "metadata": {},
   "outputs": [],
   "source": [
    "mdl = linear_model.OLS( y , X ).fit()"
   ]
  },
  {
   "cell_type": "code",
   "execution_count": 95,
   "metadata": {},
   "outputs": [
    {
     "data": {
      "text/plain": [
       "cyl       2.975467e-02\n",
       "displ     4.318785e-03\n",
       "hp        1.776088e-03\n",
       "weight    1.481849e-18\n",
       "accel     3.788147e-01\n",
       "yr        4.169891e-79\n",
       "origin    4.296529e-06\n",
       "dtype: float64"
      ]
     },
     "execution_count": 95,
     "metadata": {},
     "output_type": "execute_result"
    }
   ],
   "source": [
    "mdl.pvalues"
   ]
  },
  {
   "cell_type": "code",
   "execution_count": 96,
   "metadata": {
    "scrolled": true
   },
   "outputs": [
    {
     "data": {
      "text/plain": [
       "cyl        True\n",
       "displ      True\n",
       "hp         True\n",
       "weight     True\n",
       "accel     False\n",
       "yr         True\n",
       "origin     True\n",
       "dtype: bool"
      ]
     },
     "execution_count": 96,
     "metadata": {},
     "output_type": "execute_result"
    }
   ],
   "source": [
    "alpha = 0.05\n",
    "\n",
    "mdl.pvalues < 0.05"
   ]
  },
  {
   "cell_type": "markdown",
   "metadata": {},
   "source": [
    "> **accel coefficient non significatif**"
   ]
  },
  {
   "cell_type": "markdown",
   "metadata": {},
   "source": [
    "*In the above model summary, we can see that except acceleration, all other features have a p-value less than 0.05 and are statistically significant. Even if acceleration standalone is not helpful in the prediction of mpg, we are interested in finding out whether acceleration after interacting with other variables is having an effect on mpg. Also, we are interested to know the presence of all significant interaction terms.*"
   ]
  },
  {
   "cell_type": "code",
   "execution_count": 97,
   "metadata": {},
   "outputs": [],
   "source": [
    "from sklearn.preprocessing import PolynomialFeatures"
   ]
  },
  {
   "cell_type": "code",
   "execution_count": 98,
   "metadata": {},
   "outputs": [
    {
     "data": {
      "text/plain": [
       "PolynomialFeatures(include_bias=False, interaction_only=True)"
      ]
     },
     "execution_count": 98,
     "metadata": {},
     "output_type": "execute_result"
    },
    {
     "name": "stdout",
     "output_type": "stream",
     "text": [
      "['x0', 'x1', 'x2', 'x3', 'x4', 'x5', 'x6', 'x0 x1', 'x0 x2', 'x0 x3', 'x0 x4', 'x0 x5', 'x0 x6', 'x1 x2', 'x1 x3', 'x1 x4', 'x1 x5', 'x1 x6', 'x2 x3', 'x2 x4', 'x2 x5', 'x2 x6', 'x3 x4', 'x3 x5', 'x3 x6', 'x4 x5', 'x4 x6', 'x5 x6']\n",
      "(392, 7)\n",
      "(392, 28)\n"
     ]
    }
   ],
   "source": [
    "poly_tsf = PolynomialFeatures( 2 , interaction_only = True , include_bias = False )\n",
    "\n",
    "poly_tsf.fit( X )\n",
    "\n",
    "print( poly_tsf.get_feature_names() )\n",
    "\n",
    "X_interaction = poly_tsf.transform( X )\n",
    "\n",
    "print( X.shape )\n",
    "\n",
    "print( X_interaction.shape )"
   ]
  },
  {
   "cell_type": "markdown",
   "metadata": {},
   "source": [
    "- x0 : cyl       \n",
    "- x1 : displ     \n",
    "- x2 : hp        \n",
    "- x3 : weight    \n",
    "- x4 : accel     \n",
    "- x5 : yr        \n",
    "- x6 : origin    "
   ]
  },
  {
   "cell_type": "code",
   "execution_count": 99,
   "metadata": {},
   "outputs": [],
   "source": [
    "import itertools"
   ]
  },
  {
   "cell_type": "code",
   "execution_count": 101,
   "metadata": {},
   "outputs": [
    {
     "data": {
      "text/plain": [
       "['cyl',\n",
       " 'displ',\n",
       " 'hp',\n",
       " 'weight',\n",
       " 'accel',\n",
       " 'yr',\n",
       " 'origin',\n",
       " 'cyl-displ',\n",
       " 'cyl-hp',\n",
       " 'cyl-weight',\n",
       " 'cyl-accel',\n",
       " 'cyl-yr',\n",
       " 'cyl-origin',\n",
       " 'displ-hp',\n",
       " 'displ-weight',\n",
       " 'displ-accel',\n",
       " 'displ-yr',\n",
       " 'displ-origin',\n",
       " 'hp-weight',\n",
       " 'hp-accel',\n",
       " 'hp-yr',\n",
       " 'hp-origin',\n",
       " 'weight-accel',\n",
       " 'weight-yr',\n",
       " 'weight-origin',\n",
       " 'accel-yr',\n",
       " 'accel-origin',\n",
       " 'yr-origin']"
      ]
     },
     "execution_count": 101,
     "metadata": {},
     "output_type": "execute_result"
    }
   ],
   "source": [
    "list( X.columns ) + list( map( lambda x : x[0] + '-' + x[1] , list( itertools.combinations( X.columns , 2 ) ) ) )"
   ]
  },
  {
   "cell_type": "code",
   "execution_count": 102,
   "metadata": {},
   "outputs": [],
   "source": [
    "cols_interaction = list( X.columns ) + list( map( lambda x : x[0] + '-' + x[1] , list( itertools.combinations( X.columns , 2 ) ) ) )\n",
    "\n",
    "df_interaction  = pd.DataFrame( X_interaction, columns = cols_interaction )"
   ]
  },
  {
   "cell_type": "code",
   "execution_count": 103,
   "metadata": {},
   "outputs": [
    {
     "data": {
      "text/html": [
       "<div>\n",
       "<style scoped>\n",
       "    .dataframe tbody tr th:only-of-type {\n",
       "        vertical-align: middle;\n",
       "    }\n",
       "\n",
       "    .dataframe tbody tr th {\n",
       "        vertical-align: top;\n",
       "    }\n",
       "\n",
       "    .dataframe thead th {\n",
       "        text-align: right;\n",
       "    }\n",
       "</style>\n",
       "<table border=\"1\" class=\"dataframe\">\n",
       "  <thead>\n",
       "    <tr style=\"text-align: right;\">\n",
       "      <th></th>\n",
       "      <th>cyl</th>\n",
       "      <th>displ</th>\n",
       "      <th>hp</th>\n",
       "      <th>weight</th>\n",
       "      <th>accel</th>\n",
       "      <th>yr</th>\n",
       "      <th>origin</th>\n",
       "      <th>cyl-displ</th>\n",
       "      <th>cyl-hp</th>\n",
       "      <th>cyl-weight</th>\n",
       "      <th>cyl-accel</th>\n",
       "      <th>cyl-yr</th>\n",
       "      <th>cyl-origin</th>\n",
       "      <th>displ-hp</th>\n",
       "      <th>displ-weight</th>\n",
       "      <th>displ-accel</th>\n",
       "      <th>displ-yr</th>\n",
       "      <th>displ-origin</th>\n",
       "      <th>hp-weight</th>\n",
       "      <th>hp-accel</th>\n",
       "      <th>hp-yr</th>\n",
       "      <th>hp-origin</th>\n",
       "      <th>weight-accel</th>\n",
       "      <th>weight-yr</th>\n",
       "      <th>weight-origin</th>\n",
       "      <th>accel-yr</th>\n",
       "      <th>accel-origin</th>\n",
       "      <th>yr-origin</th>\n",
       "    </tr>\n",
       "  </thead>\n",
       "  <tbody>\n",
       "    <tr>\n",
       "      <th>0</th>\n",
       "      <td>8.0</td>\n",
       "      <td>307.0</td>\n",
       "      <td>130.0</td>\n",
       "      <td>3504.0</td>\n",
       "      <td>12.0</td>\n",
       "      <td>70.0</td>\n",
       "      <td>1.0</td>\n",
       "      <td>2456.0</td>\n",
       "      <td>1040.0</td>\n",
       "      <td>28032.0</td>\n",
       "      <td>96.0</td>\n",
       "      <td>560.0</td>\n",
       "      <td>8.0</td>\n",
       "      <td>39910.0</td>\n",
       "      <td>1075728.0</td>\n",
       "      <td>3684.0</td>\n",
       "      <td>21490.0</td>\n",
       "      <td>307.0</td>\n",
       "      <td>455520.0</td>\n",
       "      <td>1560.0</td>\n",
       "      <td>9100.0</td>\n",
       "      <td>130.0</td>\n",
       "      <td>42048.0</td>\n",
       "      <td>245280.0</td>\n",
       "      <td>3504.0</td>\n",
       "      <td>840.0</td>\n",
       "      <td>12.0</td>\n",
       "      <td>70.0</td>\n",
       "    </tr>\n",
       "    <tr>\n",
       "      <th>1</th>\n",
       "      <td>8.0</td>\n",
       "      <td>350.0</td>\n",
       "      <td>165.0</td>\n",
       "      <td>3693.0</td>\n",
       "      <td>11.5</td>\n",
       "      <td>70.0</td>\n",
       "      <td>1.0</td>\n",
       "      <td>2800.0</td>\n",
       "      <td>1320.0</td>\n",
       "      <td>29544.0</td>\n",
       "      <td>92.0</td>\n",
       "      <td>560.0</td>\n",
       "      <td>8.0</td>\n",
       "      <td>57750.0</td>\n",
       "      <td>1292550.0</td>\n",
       "      <td>4025.0</td>\n",
       "      <td>24500.0</td>\n",
       "      <td>350.0</td>\n",
       "      <td>609345.0</td>\n",
       "      <td>1897.5</td>\n",
       "      <td>11550.0</td>\n",
       "      <td>165.0</td>\n",
       "      <td>42469.5</td>\n",
       "      <td>258510.0</td>\n",
       "      <td>3693.0</td>\n",
       "      <td>805.0</td>\n",
       "      <td>11.5</td>\n",
       "      <td>70.0</td>\n",
       "    </tr>\n",
       "    <tr>\n",
       "      <th>2</th>\n",
       "      <td>8.0</td>\n",
       "      <td>318.0</td>\n",
       "      <td>150.0</td>\n",
       "      <td>3436.0</td>\n",
       "      <td>11.0</td>\n",
       "      <td>70.0</td>\n",
       "      <td>1.0</td>\n",
       "      <td>2544.0</td>\n",
       "      <td>1200.0</td>\n",
       "      <td>27488.0</td>\n",
       "      <td>88.0</td>\n",
       "      <td>560.0</td>\n",
       "      <td>8.0</td>\n",
       "      <td>47700.0</td>\n",
       "      <td>1092648.0</td>\n",
       "      <td>3498.0</td>\n",
       "      <td>22260.0</td>\n",
       "      <td>318.0</td>\n",
       "      <td>515400.0</td>\n",
       "      <td>1650.0</td>\n",
       "      <td>10500.0</td>\n",
       "      <td>150.0</td>\n",
       "      <td>37796.0</td>\n",
       "      <td>240520.0</td>\n",
       "      <td>3436.0</td>\n",
       "      <td>770.0</td>\n",
       "      <td>11.0</td>\n",
       "      <td>70.0</td>\n",
       "    </tr>\n",
       "    <tr>\n",
       "      <th>3</th>\n",
       "      <td>8.0</td>\n",
       "      <td>304.0</td>\n",
       "      <td>150.0</td>\n",
       "      <td>3433.0</td>\n",
       "      <td>12.0</td>\n",
       "      <td>70.0</td>\n",
       "      <td>1.0</td>\n",
       "      <td>2432.0</td>\n",
       "      <td>1200.0</td>\n",
       "      <td>27464.0</td>\n",
       "      <td>96.0</td>\n",
       "      <td>560.0</td>\n",
       "      <td>8.0</td>\n",
       "      <td>45600.0</td>\n",
       "      <td>1043632.0</td>\n",
       "      <td>3648.0</td>\n",
       "      <td>21280.0</td>\n",
       "      <td>304.0</td>\n",
       "      <td>514950.0</td>\n",
       "      <td>1800.0</td>\n",
       "      <td>10500.0</td>\n",
       "      <td>150.0</td>\n",
       "      <td>41196.0</td>\n",
       "      <td>240310.0</td>\n",
       "      <td>3433.0</td>\n",
       "      <td>840.0</td>\n",
       "      <td>12.0</td>\n",
       "      <td>70.0</td>\n",
       "    </tr>\n",
       "    <tr>\n",
       "      <th>4</th>\n",
       "      <td>8.0</td>\n",
       "      <td>302.0</td>\n",
       "      <td>140.0</td>\n",
       "      <td>3449.0</td>\n",
       "      <td>10.5</td>\n",
       "      <td>70.0</td>\n",
       "      <td>1.0</td>\n",
       "      <td>2416.0</td>\n",
       "      <td>1120.0</td>\n",
       "      <td>27592.0</td>\n",
       "      <td>84.0</td>\n",
       "      <td>560.0</td>\n",
       "      <td>8.0</td>\n",
       "      <td>42280.0</td>\n",
       "      <td>1041598.0</td>\n",
       "      <td>3171.0</td>\n",
       "      <td>21140.0</td>\n",
       "      <td>302.0</td>\n",
       "      <td>482860.0</td>\n",
       "      <td>1470.0</td>\n",
       "      <td>9800.0</td>\n",
       "      <td>140.0</td>\n",
       "      <td>36214.5</td>\n",
       "      <td>241430.0</td>\n",
       "      <td>3449.0</td>\n",
       "      <td>735.0</td>\n",
       "      <td>10.5</td>\n",
       "      <td>70.0</td>\n",
       "    </tr>\n",
       "  </tbody>\n",
       "</table>\n",
       "</div>"
      ],
      "text/plain": [
       "   cyl  displ     hp  weight  accel    yr  origin  cyl-displ  cyl-hp  \\\n",
       "0  8.0  307.0  130.0  3504.0   12.0  70.0     1.0     2456.0  1040.0   \n",
       "1  8.0  350.0  165.0  3693.0   11.5  70.0     1.0     2800.0  1320.0   \n",
       "2  8.0  318.0  150.0  3436.0   11.0  70.0     1.0     2544.0  1200.0   \n",
       "3  8.0  304.0  150.0  3433.0   12.0  70.0     1.0     2432.0  1200.0   \n",
       "4  8.0  302.0  140.0  3449.0   10.5  70.0     1.0     2416.0  1120.0   \n",
       "\n",
       "   cyl-weight  cyl-accel  cyl-yr  cyl-origin  displ-hp  displ-weight  \\\n",
       "0     28032.0       96.0   560.0         8.0   39910.0     1075728.0   \n",
       "1     29544.0       92.0   560.0         8.0   57750.0     1292550.0   \n",
       "2     27488.0       88.0   560.0         8.0   47700.0     1092648.0   \n",
       "3     27464.0       96.0   560.0         8.0   45600.0     1043632.0   \n",
       "4     27592.0       84.0   560.0         8.0   42280.0     1041598.0   \n",
       "\n",
       "   displ-accel  displ-yr  displ-origin  hp-weight  hp-accel    hp-yr  \\\n",
       "0       3684.0   21490.0         307.0   455520.0    1560.0   9100.0   \n",
       "1       4025.0   24500.0         350.0   609345.0    1897.5  11550.0   \n",
       "2       3498.0   22260.0         318.0   515400.0    1650.0  10500.0   \n",
       "3       3648.0   21280.0         304.0   514950.0    1800.0  10500.0   \n",
       "4       3171.0   21140.0         302.0   482860.0    1470.0   9800.0   \n",
       "\n",
       "   hp-origin  weight-accel  weight-yr  weight-origin  accel-yr  accel-origin  \\\n",
       "0      130.0       42048.0   245280.0         3504.0     840.0          12.0   \n",
       "1      165.0       42469.5   258510.0         3693.0     805.0          11.5   \n",
       "2      150.0       37796.0   240520.0         3436.0     770.0          11.0   \n",
       "3      150.0       41196.0   240310.0         3433.0     840.0          12.0   \n",
       "4      140.0       36214.5   241430.0         3449.0     735.0          10.5   \n",
       "\n",
       "   yr-origin  \n",
       "0       70.0  \n",
       "1       70.0  \n",
       "2       70.0  \n",
       "3       70.0  \n",
       "4       70.0  "
      ]
     },
     "execution_count": 103,
     "metadata": {},
     "output_type": "execute_result"
    }
   ],
   "source": [
    "df_interaction.head()"
   ]
  },
  {
   "cell_type": "code",
   "execution_count": 104,
   "metadata": {},
   "outputs": [],
   "source": [
    "mdl_interaction = linear_model.OLS( y , df_interaction ).fit()"
   ]
  },
  {
   "cell_type": "code",
   "execution_count": 105,
   "metadata": {},
   "outputs": [
    {
     "name": "stdout",
     "output_type": "stream",
     "text": [
      "displ           3.235311e-03\n",
      "hp              2.344125e-02\n",
      "accel           5.225950e-04\n",
      "yr              6.936438e-13\n",
      "origin          3.907030e-03\n",
      "cyl-yr          3.532847e-02\n",
      "displ-yr        5.495075e-03\n",
      "hp-accel        3.484642e-02\n",
      "hp-yr           4.453001e-02\n",
      "accel-yr        1.483186e-02\n",
      "accel-origin    4.562421e-03\n",
      "dtype: float64\n"
     ]
    }
   ],
   "source": [
    "alpha = 0.05 \n",
    "\n",
    "print( mdl_interaction.pvalues[ mdl_interaction.pvalues < alpha ] )"
   ]
  },
  {
   "cell_type": "markdown",
   "metadata": {},
   "source": [
    "*It is important to note that in the example above, the p-value of acceleration is high but it is included in interaction terms. In such a case, we have to include the main effects of acceleration in the model i.e. the coefficient of acceleration even when it is not statistically significant due to the hierarchy principle. Hierarchy principle states that if there are two features X₁ and X₂ in an interaction term, we have to include both of their coefficients(β₁ and β₂) in the model even when the p-values associated to them are very high.*"
   ]
  }
 ],
 "metadata": {
  "kernelspec": {
   "display_name": "Python 3",
   "language": "python",
   "name": "python3"
  },
  "language_info": {
   "codemirror_mode": {
    "name": "ipython",
    "version": 3
   },
   "file_extension": ".py",
   "mimetype": "text/x-python",
   "name": "python",
   "nbconvert_exporter": "python",
   "pygments_lexer": "ipython3",
   "version": "3.7.3"
  }
 },
 "nbformat": 4,
 "nbformat_minor": 2
}
