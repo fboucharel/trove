{
 "cells": [
  {
   "cell_type": "markdown",
   "metadata": {},
   "source": [
    "https://machinelearningmastery.com/iterative-imputation-for-missing-values-in-machine-learning/"
   ]
  },
  {
   "cell_type": "code",
   "execution_count": 1,
   "metadata": {},
   "outputs": [],
   "source": [
    "from IPython.core.interactiveshell import InteractiveShell\n",
    "\n",
    "InteractiveShell.ast_node_interactivity = 'all'"
   ]
  },
  {
   "cell_type": "code",
   "execution_count": 2,
   "metadata": {},
   "outputs": [],
   "source": [
    "import pandas as pd\n",
    "\n",
    "pd.set_option( 'display.max_columns' , None ) "
   ]
  },
  {
   "cell_type": "code",
   "execution_count": 4,
   "metadata": {},
   "outputs": [],
   "source": [
    "url = 'https://raw.githubusercontent.com/jbrownlee/Datasets/master/horse-colic.csv'\n",
    "\n",
    "dataframe = pd.read_csv( url , header = None , na_values = '?' )"
   ]
  },
  {
   "cell_type": "code",
   "execution_count": 5,
   "metadata": {},
   "outputs": [
    {
     "data": {
      "text/html": [
       "<div>\n",
       "<style scoped>\n",
       "    .dataframe tbody tr th:only-of-type {\n",
       "        vertical-align: middle;\n",
       "    }\n",
       "\n",
       "    .dataframe tbody tr th {\n",
       "        vertical-align: top;\n",
       "    }\n",
       "\n",
       "    .dataframe thead th {\n",
       "        text-align: right;\n",
       "    }\n",
       "</style>\n",
       "<table border=\"1\" class=\"dataframe\">\n",
       "  <thead>\n",
       "    <tr style=\"text-align: right;\">\n",
       "      <th></th>\n",
       "      <th>0</th>\n",
       "      <th>1</th>\n",
       "      <th>2</th>\n",
       "      <th>3</th>\n",
       "      <th>4</th>\n",
       "      <th>5</th>\n",
       "      <th>6</th>\n",
       "      <th>7</th>\n",
       "      <th>8</th>\n",
       "      <th>9</th>\n",
       "      <th>10</th>\n",
       "      <th>11</th>\n",
       "      <th>12</th>\n",
       "      <th>13</th>\n",
       "      <th>14</th>\n",
       "      <th>15</th>\n",
       "      <th>16</th>\n",
       "      <th>17</th>\n",
       "      <th>18</th>\n",
       "      <th>19</th>\n",
       "      <th>20</th>\n",
       "      <th>21</th>\n",
       "      <th>22</th>\n",
       "      <th>23</th>\n",
       "      <th>24</th>\n",
       "      <th>25</th>\n",
       "      <th>26</th>\n",
       "      <th>27</th>\n",
       "    </tr>\n",
       "  </thead>\n",
       "  <tbody>\n",
       "    <tr>\n",
       "      <th>0</th>\n",
       "      <td>2.0</td>\n",
       "      <td>1</td>\n",
       "      <td>530101</td>\n",
       "      <td>38.5</td>\n",
       "      <td>66.0</td>\n",
       "      <td>28.0</td>\n",
       "      <td>3.0</td>\n",
       "      <td>3.0</td>\n",
       "      <td>NaN</td>\n",
       "      <td>2.0</td>\n",
       "      <td>5.0</td>\n",
       "      <td>4.0</td>\n",
       "      <td>4.0</td>\n",
       "      <td>NaN</td>\n",
       "      <td>NaN</td>\n",
       "      <td>NaN</td>\n",
       "      <td>3.0</td>\n",
       "      <td>5.0</td>\n",
       "      <td>45.0</td>\n",
       "      <td>8.4</td>\n",
       "      <td>NaN</td>\n",
       "      <td>NaN</td>\n",
       "      <td>2.0</td>\n",
       "      <td>2</td>\n",
       "      <td>11300</td>\n",
       "      <td>0</td>\n",
       "      <td>0</td>\n",
       "      <td>2</td>\n",
       "    </tr>\n",
       "    <tr>\n",
       "      <th>1</th>\n",
       "      <td>1.0</td>\n",
       "      <td>1</td>\n",
       "      <td>534817</td>\n",
       "      <td>39.2</td>\n",
       "      <td>88.0</td>\n",
       "      <td>20.0</td>\n",
       "      <td>NaN</td>\n",
       "      <td>NaN</td>\n",
       "      <td>4.0</td>\n",
       "      <td>1.0</td>\n",
       "      <td>3.0</td>\n",
       "      <td>4.0</td>\n",
       "      <td>2.0</td>\n",
       "      <td>NaN</td>\n",
       "      <td>NaN</td>\n",
       "      <td>NaN</td>\n",
       "      <td>4.0</td>\n",
       "      <td>2.0</td>\n",
       "      <td>50.0</td>\n",
       "      <td>85.0</td>\n",
       "      <td>2.0</td>\n",
       "      <td>2.0</td>\n",
       "      <td>3.0</td>\n",
       "      <td>2</td>\n",
       "      <td>2208</td>\n",
       "      <td>0</td>\n",
       "      <td>0</td>\n",
       "      <td>2</td>\n",
       "    </tr>\n",
       "    <tr>\n",
       "      <th>2</th>\n",
       "      <td>2.0</td>\n",
       "      <td>1</td>\n",
       "      <td>530334</td>\n",
       "      <td>38.3</td>\n",
       "      <td>40.0</td>\n",
       "      <td>24.0</td>\n",
       "      <td>1.0</td>\n",
       "      <td>1.0</td>\n",
       "      <td>3.0</td>\n",
       "      <td>1.0</td>\n",
       "      <td>3.0</td>\n",
       "      <td>3.0</td>\n",
       "      <td>1.0</td>\n",
       "      <td>NaN</td>\n",
       "      <td>NaN</td>\n",
       "      <td>NaN</td>\n",
       "      <td>1.0</td>\n",
       "      <td>1.0</td>\n",
       "      <td>33.0</td>\n",
       "      <td>6.7</td>\n",
       "      <td>NaN</td>\n",
       "      <td>NaN</td>\n",
       "      <td>1.0</td>\n",
       "      <td>2</td>\n",
       "      <td>0</td>\n",
       "      <td>0</td>\n",
       "      <td>0</td>\n",
       "      <td>1</td>\n",
       "    </tr>\n",
       "    <tr>\n",
       "      <th>3</th>\n",
       "      <td>1.0</td>\n",
       "      <td>9</td>\n",
       "      <td>5290409</td>\n",
       "      <td>39.1</td>\n",
       "      <td>164.0</td>\n",
       "      <td>84.0</td>\n",
       "      <td>4.0</td>\n",
       "      <td>1.0</td>\n",
       "      <td>6.0</td>\n",
       "      <td>2.0</td>\n",
       "      <td>2.0</td>\n",
       "      <td>4.0</td>\n",
       "      <td>4.0</td>\n",
       "      <td>1.0</td>\n",
       "      <td>2.0</td>\n",
       "      <td>5.0</td>\n",
       "      <td>3.0</td>\n",
       "      <td>NaN</td>\n",
       "      <td>48.0</td>\n",
       "      <td>7.2</td>\n",
       "      <td>3.0</td>\n",
       "      <td>5.3</td>\n",
       "      <td>2.0</td>\n",
       "      <td>1</td>\n",
       "      <td>2208</td>\n",
       "      <td>0</td>\n",
       "      <td>0</td>\n",
       "      <td>1</td>\n",
       "    </tr>\n",
       "    <tr>\n",
       "      <th>4</th>\n",
       "      <td>2.0</td>\n",
       "      <td>1</td>\n",
       "      <td>530255</td>\n",
       "      <td>37.3</td>\n",
       "      <td>104.0</td>\n",
       "      <td>35.0</td>\n",
       "      <td>NaN</td>\n",
       "      <td>NaN</td>\n",
       "      <td>6.0</td>\n",
       "      <td>2.0</td>\n",
       "      <td>NaN</td>\n",
       "      <td>NaN</td>\n",
       "      <td>NaN</td>\n",
       "      <td>NaN</td>\n",
       "      <td>NaN</td>\n",
       "      <td>NaN</td>\n",
       "      <td>NaN</td>\n",
       "      <td>NaN</td>\n",
       "      <td>74.0</td>\n",
       "      <td>7.4</td>\n",
       "      <td>NaN</td>\n",
       "      <td>NaN</td>\n",
       "      <td>2.0</td>\n",
       "      <td>2</td>\n",
       "      <td>4300</td>\n",
       "      <td>0</td>\n",
       "      <td>0</td>\n",
       "      <td>2</td>\n",
       "    </tr>\n",
       "  </tbody>\n",
       "</table>\n",
       "</div>"
      ],
      "text/plain": [
       "    0   1        2     3      4     5    6    7    8    9    10   11   12  \\\n",
       "0  2.0   1   530101  38.5   66.0  28.0  3.0  3.0  NaN  2.0  5.0  4.0  4.0   \n",
       "1  1.0   1   534817  39.2   88.0  20.0  NaN  NaN  4.0  1.0  3.0  4.0  2.0   \n",
       "2  2.0   1   530334  38.3   40.0  24.0  1.0  1.0  3.0  1.0  3.0  3.0  1.0   \n",
       "3  1.0   9  5290409  39.1  164.0  84.0  4.0  1.0  6.0  2.0  2.0  4.0  4.0   \n",
       "4  2.0   1   530255  37.3  104.0  35.0  NaN  NaN  6.0  2.0  NaN  NaN  NaN   \n",
       "\n",
       "    13   14   15   16   17    18    19   20   21   22  23     24  25  26  27  \n",
       "0  NaN  NaN  NaN  3.0  5.0  45.0   8.4  NaN  NaN  2.0   2  11300   0   0   2  \n",
       "1  NaN  NaN  NaN  4.0  2.0  50.0  85.0  2.0  2.0  3.0   2   2208   0   0   2  \n",
       "2  NaN  NaN  NaN  1.0  1.0  33.0   6.7  NaN  NaN  1.0   2      0   0   0   1  \n",
       "3  1.0  2.0  5.0  3.0  NaN  48.0   7.2  3.0  5.3  2.0   1   2208   0   0   1  \n",
       "4  NaN  NaN  NaN  NaN  NaN  74.0   7.4  NaN  NaN  2.0   2   4300   0   0   2  "
      ]
     },
     "execution_count": 5,
     "metadata": {},
     "output_type": "execute_result"
    }
   ],
   "source": [
    "dataframe.head()"
   ]
  },
  {
   "cell_type": "code",
   "execution_count": 16,
   "metadata": {},
   "outputs": [
    {
     "data": {
      "text/plain": [
       "0      0.333333\n",
       "1      0.000000\n",
       "2      0.000000\n",
       "3     20.000000\n",
       "4      8.000000\n",
       "5     19.333333\n",
       "6     18.666667\n",
       "7     23.000000\n",
       "8     15.666667\n",
       "9     10.666667\n",
       "10    18.333333\n",
       "11    14.666667\n",
       "12    18.666667\n",
       "13    34.666667\n",
       "14    35.333333\n",
       "15    82.333333\n",
       "16    34.000000\n",
       "17    39.333333\n",
       "18     9.666667\n",
       "19    11.000000\n",
       "20    55.000000\n",
       "21    66.000000\n",
       "22     0.333333\n",
       "23     0.000000\n",
       "24     0.000000\n",
       "25     0.000000\n",
       "26     0.000000\n",
       "27     0.000000\n",
       "dtype: float64"
      ]
     },
     "execution_count": 16,
     "metadata": {},
     "output_type": "execute_result"
    }
   ],
   "source": [
    "# % NaN par colonne :\n",
    "\n",
    "100 * ( dataframe.isna().sum( axis = 0 ) / dataframe.shape[0] )"
   ]
  },
  {
   "cell_type": "code",
   "execution_count": 19,
   "metadata": {},
   "outputs": [
    {
     "name": "stdout",
     "output_type": "stream",
     "text": [
      "(300, 27)\n",
      "(300,)\n"
     ]
    }
   ],
   "source": [
    "data = dataframe.values\n",
    "\n",
    "X = data[ : , : -1 ]\n",
    "\n",
    "y = data[ : , -1 ]\n",
    "\n",
    "print( X.shape )\n",
    "\n",
    "print( y.shape )"
   ]
  },
  {
   "cell_type": "markdown",
   "metadata": {},
   "source": [
    "# IterativeImputer and Model Evaluation"
   ]
  },
  {
   "cell_type": "code",
   "execution_count": 20,
   "metadata": {},
   "outputs": [],
   "source": [
    "from sklearn.ensemble import RandomForestClassifier\n",
    "\n",
    "from sklearn.experimental import enable_iterative_imputer\n",
    "\n",
    "from sklearn.impute import IterativeImputer\n",
    "\n",
    "from sklearn.pipeline import Pipeline"
   ]
  },
  {
   "cell_type": "code",
   "execution_count": 24,
   "metadata": {},
   "outputs": [],
   "source": [
    "model = RandomForestClassifier()\n",
    "\n",
    "imputer = IterativeImputer()\n",
    "\n",
    "\n",
    "steps = [ ( 'step_imputer' , imputer ) , \n",
    "          ( 'step_model' , model ) ]\n",
    "\n",
    "pipeline = Pipeline( steps = steps )"
   ]
  },
  {
   "cell_type": "code",
   "execution_count": 26,
   "metadata": {},
   "outputs": [],
   "source": [
    "from sklearn.model_selection import RepeatedStratifiedKFold\n",
    "\n",
    "from sklearn.model_selection import cross_val_score\n",
    "\n",
    "from numpy import mean\n",
    "\n",
    "from numpy import std"
   ]
  },
  {
   "cell_type": "code",
   "execution_count": 27,
   "metadata": {},
   "outputs": [
    {
     "name": "stdout",
     "output_type": "stream",
     "text": [
      "accuracy : 0.793 ( 0.063 )\n"
     ]
    }
   ],
   "source": [
    "cv = RepeatedStratifiedKFold( n_splits = 10 , n_repeats = 3 , random_state = 999 )\n",
    "\n",
    "scores = cross_val_score( pipeline , X , y , scoring = 'accuracy' , cv = cv , n_jobs = -1 , error_score = 'raise' )\n",
    "\n",
    "print( f'accuracy : {mean(scores):.3f} ( {std(scores):.3f} )' )"
   ]
  },
  {
   "cell_type": "markdown",
   "metadata": {},
   "source": [
    "# IterativeImputer and Different Imputation Order"
   ]
  },
  {
   "cell_type": "code",
   "execution_count": 35,
   "metadata": {},
   "outputs": [],
   "source": [
    "from sklearn.ensemble import RandomForestClassifier\n",
    "\n",
    "from sklearn.experimental import enable_iterative_imputer\n",
    "\n",
    "from sklearn.impute import IterativeImputer\n",
    "\n",
    "from sklearn.pipeline import Pipeline"
   ]
  },
  {
   "cell_type": "code",
   "execution_count": 36,
   "metadata": {},
   "outputs": [],
   "source": [
    "def get_models( ) :\n",
    "    \n",
    "    models = dict()\n",
    "\n",
    "    strategies = [ 'ascending' , 'descending' , 'roman' , 'arabic' , 'random' ]\n",
    "    \n",
    "\n",
    "    for s in strategies :\n",
    "\n",
    "        imputer = IterativeImputer( imputation_order = s )\n",
    "        \n",
    "        model = RandomForestClassifier()\n",
    "        \n",
    "        \n",
    "        steps = [ ( 'step_imputer' , imputer ) , \n",
    "                  ( 'step_model' , model ) ]\n",
    "\n",
    "        models[ 'model_imputation_order_' + s ] = Pipeline( steps = steps )\n",
    "\n",
    "    return models"
   ]
  },
  {
   "cell_type": "code",
   "execution_count": 37,
   "metadata": {},
   "outputs": [],
   "source": [
    "from sklearn.model_selection import RepeatedStratifiedKFold\n",
    "\n",
    "from sklearn.model_selection import cross_val_score"
   ]
  },
  {
   "cell_type": "code",
   "execution_count": 38,
   "metadata": {},
   "outputs": [],
   "source": [
    "def evaluate_model( model ) :\n",
    "    \n",
    "    cv = RepeatedStratifiedKFold( n_splits = 10 , n_repeats = 3 , random_state = 999 )\n",
    "    \n",
    "    scores = cross_val_score( model , X , y , scoring = 'accuracy' , cv = cv , n_jobs = -1 , error_score = 'raise' )\n",
    "    \n",
    "    return scores"
   ]
  },
  {
   "cell_type": "code",
   "execution_count": 39,
   "metadata": {},
   "outputs": [],
   "source": [
    "from numpy import mean\n",
    "\n",
    "from numpy import std"
   ]
  },
  {
   "cell_type": "code",
   "execution_count": 40,
   "metadata": {},
   "outputs": [
    {
     "name": "stdout",
     "output_type": "stream",
     "text": [
      "model_imputation_order_ascending : accuracy : 0.791 ( 0.058)\n",
      "model_imputation_order_descending : accuracy : 0.798 ( 0.068)\n",
      "model_imputation_order_roman : accuracy : 0.797 ( 0.062)\n",
      "model_imputation_order_arabic : accuracy : 0.811 ( 0.063)\n",
      "model_imputation_order_random : accuracy : 0.794 ( 0.052)\n"
     ]
    }
   ],
   "source": [
    "models = get_models( )\n",
    "\n",
    "results = list()\n",
    "\n",
    "names = list()\n",
    "\n",
    "\n",
    "for name , model in models.items() :\n",
    "    \n",
    "    names.append( name )\n",
    "    \n",
    "    scores = evaluate_model( model )\n",
    "    \n",
    "    results.append( scores )\n",
    "    \n",
    "    print( f'{name} : accuracy : {mean(scores):.3f} ( {std(scores):.3f})' ) "
   ]
  },
  {
   "cell_type": "code",
   "execution_count": 41,
   "metadata": {},
   "outputs": [],
   "source": [
    "from matplotlib import pyplot"
   ]
  },
  {
   "cell_type": "code",
   "execution_count": 42,
   "metadata": {},
   "outputs": [
    {
     "data": {
      "text/plain": [
       "{'whiskers': [<matplotlib.lines.Line2D at 0x6747b70>,\n",
       "  <matplotlib.lines.Line2D at 0x1cbbe630>,\n",
       "  <matplotlib.lines.Line2D at 0x1cc05e48>,\n",
       "  <matplotlib.lines.Line2D at 0x1cc05ef0>,\n",
       "  <matplotlib.lines.Line2D at 0x1ce1b908>,\n",
       "  <matplotlib.lines.Line2D at 0x1ce1bc50>,\n",
       "  <matplotlib.lines.Line2D at 0x1ce313c8>,\n",
       "  <matplotlib.lines.Line2D at 0x1ce31710>,\n",
       "  <matplotlib.lines.Line2D at 0x1ce3be48>,\n",
       "  <matplotlib.lines.Line2D at 0x1ce3bef0>],\n",
       " 'caps': [<matplotlib.lines.Line2D at 0x1cbbea20>,\n",
       "  <matplotlib.lines.Line2D at 0x1cbbed68>,\n",
       "  <matplotlib.lines.Line2D at 0x1ce10518>,\n",
       "  <matplotlib.lines.Line2D at 0x1ce10860>,\n",
       "  <matplotlib.lines.Line2D at 0x1ce1bf98>,\n",
       "  <matplotlib.lines.Line2D at 0x1ce1bf60>,\n",
       "  <matplotlib.lines.Line2D at 0x1ce31a58>,\n",
       "  <matplotlib.lines.Line2D at 0x1ce31da0>,\n",
       "  <matplotlib.lines.Line2D at 0x1ce48518>,\n",
       "  <matplotlib.lines.Line2D at 0x1ce48860>],\n",
       " 'boxes': [<matplotlib.lines.Line2D at 0x1cb2f588>,\n",
       "  <matplotlib.lines.Line2D at 0x1cc05ac8>,\n",
       "  <matplotlib.lines.Line2D at 0x1ce1b5c0>,\n",
       "  <matplotlib.lines.Line2D at 0x1ce24c88>,\n",
       "  <matplotlib.lines.Line2D at 0x1ce3bac8>],\n",
       " 'medians': [<matplotlib.lines.Line2D at 0x1cbbee48>,\n",
       "  <matplotlib.lines.Line2D at 0x1ce10ba8>,\n",
       "  <matplotlib.lines.Line2D at 0x1ce24668>,\n",
       "  <matplotlib.lines.Line2D at 0x1ce31e48>,\n",
       "  <matplotlib.lines.Line2D at 0x1ce48ba8>],\n",
       " 'fliers': [<matplotlib.lines.Line2D at 0x1cc05780>,\n",
       "  <matplotlib.lines.Line2D at 0x1ce10e80>,\n",
       "  <matplotlib.lines.Line2D at 0x1ce24cf8>,\n",
       "  <matplotlib.lines.Line2D at 0x1ce3b7b8>,\n",
       "  <matplotlib.lines.Line2D at 0x1ce48e80>],\n",
       " 'means': [<matplotlib.lines.Line2D at 0x1cc05438>,\n",
       "  <matplotlib.lines.Line2D at 0x1ce10ef0>,\n",
       "  <matplotlib.lines.Line2D at 0x1ce249b0>,\n",
       "  <matplotlib.lines.Line2D at 0x1ce3b470>,\n",
       "  <matplotlib.lines.Line2D at 0x1ce48ef0>]}"
      ]
     },
     "execution_count": 42,
     "metadata": {},
     "output_type": "execute_result"
    },
    {
     "data": {
      "text/plain": [
       "(array([1, 2, 3, 4, 5]), <a list of 5 Text xticklabel objects>)"
      ]
     },
     "execution_count": 42,
     "metadata": {},
     "output_type": "execute_result"
    },
    {
     "data": {
      "image/png": "[encoded data removed]",
      "text/plain": [
       "<Figure size 432x288 with 1 Axes>"
      ]
     },
     "metadata": {
      "needs_background": "light"
     },
     "output_type": "display_data"
    }
   ],
   "source": [
    "pyplot.boxplot( results , labels = names , showmeans = True )\n",
    "\n",
    "pyplot.grid( axis = 'y' , color = 'black' , linestyle = '-.' , linewidth = 0.5 )\n",
    "\n",
    "pyplot.xticks( rotation = 90 )\n",
    "\n",
    "pyplot.show()"
   ]
  },
  {
   "cell_type": "markdown",
   "metadata": {},
   "source": [
    "# IterativeImputer and Different Number of Iterations"
   ]
  },
  {
   "cell_type": "code",
   "execution_count": 43,
   "metadata": {},
   "outputs": [],
   "source": [
    "from sklearn.ensemble import RandomForestClassifier\n",
    "\n",
    "from sklearn.experimental import enable_iterative_imputer\n",
    "\n",
    "from sklearn.impute import IterativeImputer\n",
    "\n",
    "from sklearn.pipeline import Pipeline"
   ]
  },
  {
   "cell_type": "code",
   "execution_count": 49,
   "metadata": {},
   "outputs": [],
   "source": [
    "def get_models( ) :\n",
    "    \n",
    "    models = dict()\n",
    "    \n",
    "    strategies = [ i for i in range( 1 , 21 ) ]\n",
    "\n",
    "    for s in strategies :\n",
    "\n",
    "        imputer = IterativeImputer( max_iter = s )\n",
    "        \n",
    "        model = RandomForestClassifier()\n",
    "        \n",
    "        \n",
    "        steps = [ ( 'step_imputer' , imputer ) , \n",
    "                  ( 'step_model' , model ) ]\n",
    "\n",
    "        models[ 'model_max_iter_' + str( s ) ] = Pipeline( steps = steps )\n",
    "\n",
    "    return models"
   ]
  },
  {
   "cell_type": "code",
   "execution_count": 50,
   "metadata": {},
   "outputs": [],
   "source": [
    "from sklearn.model_selection import RepeatedStratifiedKFold\n",
    "\n",
    "from sklearn.model_selection import cross_val_score"
   ]
  },
  {
   "cell_type": "code",
   "execution_count": 51,
   "metadata": {},
   "outputs": [],
   "source": [
    "def evaluate_model( model ) :\n",
    "    \n",
    "    cv = RepeatedStratifiedKFold( n_splits = 10 , n_repeats = 3 , random_state = 999 )\n",
    "    \n",
    "    scores = cross_val_score( model , X , y , scoring = 'accuracy' , cv = cv , n_jobs = -1 , error_score = 'raise' )\n",
    "    \n",
    "    return scores"
   ]
  },
  {
   "cell_type": "code",
   "execution_count": 52,
   "metadata": {},
   "outputs": [],
   "source": [
    "from numpy import mean\n",
    "\n",
    "from numpy import std"
   ]
  },
  {
   "cell_type": "code",
   "execution_count": 53,
   "metadata": {},
   "outputs": [
    {
     "name": "stdout",
     "output_type": "stream",
     "text": [
      "model_max_iter_1 : accuracy : 0.801 ( 0.059)\n",
      "model_max_iter_2 : accuracy : 0.801 ( 0.060)\n",
      "model_max_iter_3 : accuracy : 0.796 ( 0.073)\n",
      "model_max_iter_4 : accuracy : 0.797 ( 0.060)\n",
      "model_max_iter_5 : accuracy : 0.803 ( 0.059)\n",
      "model_max_iter_6 : accuracy : 0.812 ( 0.063)\n",
      "model_max_iter_7 : accuracy : 0.786 ( 0.061)\n",
      "model_max_iter_8 : accuracy : 0.801 ( 0.053)\n",
      "model_max_iter_9 : accuracy : 0.791 ( 0.054)\n",
      "model_max_iter_10 : accuracy : 0.792 ( 0.061)\n",
      "model_max_iter_11 : accuracy : 0.797 ( 0.053)\n",
      "model_max_iter_12 : accuracy : 0.794 ( 0.072)\n",
      "model_max_iter_13 : accuracy : 0.799 ( 0.053)\n",
      "model_max_iter_14 : accuracy : 0.790 ( 0.064)\n",
      "model_max_iter_15 : accuracy : 0.803 ( 0.068)\n",
      "model_max_iter_16 : accuracy : 0.801 ( 0.068)\n",
      "model_max_iter_17 : accuracy : 0.801 ( 0.056)\n",
      "model_max_iter_18 : accuracy : 0.803 ( 0.056)\n",
      "model_max_iter_19 : accuracy : 0.791 ( 0.054)\n",
      "model_max_iter_20 : accuracy : 0.797 ( 0.061)\n"
     ]
    }
   ],
   "source": [
    "models = get_models( )\n",
    "\n",
    "results = list()\n",
    "\n",
    "names = list()\n",
    "\n",
    "\n",
    "for name , model in models.items() :\n",
    "    \n",
    "    names.append( name )\n",
    "    \n",
    "    scores = evaluate_model( model )\n",
    "    \n",
    "    results.append( scores )\n",
    "    \n",
    "    print( f'{name} : accuracy : {mean(scores):.3f} ( {std(scores):.3f})' ) "
   ]
  },
  {
   "cell_type": "code",
   "execution_count": 54,
   "metadata": {},
   "outputs": [],
   "source": [
    "from matplotlib import pyplot"
   ]
  },
  {
   "cell_type": "code",
   "execution_count": 55,
   "metadata": {},
   "outputs": [
    {
     "data": {
      "text/plain": [
       "{'whiskers': [<matplotlib.lines.Line2D at 0x1ce98208>,\n",
       "  <matplotlib.lines.Line2D at 0x1cb36a90>,\n",
       "  <matplotlib.lines.Line2D at 0x1ce9c908>,\n",
       "  <matplotlib.lines.Line2D at 0x1ce9cf28>,\n",
       "  <matplotlib.lines.Line2D at 0x1ceb2978>,\n",
       "  <matplotlib.lines.Line2D at 0x1ceb2080>,\n",
       "  <matplotlib.lines.Line2D at 0x1cec96d8>,\n",
       "  <matplotlib.lines.Line2D at 0x1cec9be0>,\n",
       "  <matplotlib.lines.Line2D at 0x1cede470>,\n",
       "  <matplotlib.lines.Line2D at 0x1cee5860>,\n",
       "  <matplotlib.lines.Line2D at 0x1cf1fa20>,\n",
       "  <matplotlib.lines.Line2D at 0x1cf1fd68>,\n",
       "  <matplotlib.lines.Line2D at 0x1cf5a4e0>,\n",
       "  <matplotlib.lines.Line2D at 0x1cf5a828>,\n",
       "  <matplotlib.lines.Line2D at 0x1cf64f60>,\n",
       "  <matplotlib.lines.Line2D at 0x1cf64ef0>,\n",
       "  <matplotlib.lines.Line2D at 0x1cf75a20>,\n",
       "  <matplotlib.lines.Line2D at 0x1cf75d68>,\n",
       "  <matplotlib.lines.Line2D at 0x1cf8c4e0>,\n",
       "  <matplotlib.lines.Line2D at 0x1cf8c828>,\n",
       "  <matplotlib.lines.Line2D at 0x1cf97f60>,\n",
       "  <matplotlib.lines.Line2D at 0x1cf97ef0>,\n",
       "  <matplotlib.lines.Line2D at 0x1cfada20>,\n",
       "  <matplotlib.lines.Line2D at 0x1cfadd68>,\n",
       "  <matplotlib.lines.Line2D at 0x1cfc34e0>,\n",
       "  <matplotlib.lines.Line2D at 0x1cfc3828>,\n",
       "  <matplotlib.lines.Line2D at 0x1cfcfe10>,\n",
       "  <matplotlib.lines.Line2D at 0x1cfcff28>,\n",
       "  <matplotlib.lines.Line2D at 0x1cfe5710>,\n",
       "  <matplotlib.lines.Line2D at 0x1cfe5a20>,\n",
       "  <matplotlib.lines.Line2D at 0x1cff4dd8>,\n",
       "  <matplotlib.lines.Line2D at 0x1cff4fd0>,\n",
       "  <matplotlib.lines.Line2D at 0x1d00b8d0>,\n",
       "  <matplotlib.lines.Line2D at 0x1d00bbe0>,\n",
       "  <matplotlib.lines.Line2D at 0x1d016f98>,\n",
       "  <matplotlib.lines.Line2D at 0x1d0254e0>,\n",
       "  <matplotlib.lines.Line2D at 0x1d031a90>,\n",
       "  <matplotlib.lines.Line2D at 0x1d031da0>,\n",
       "  <matplotlib.lines.Line2D at 0x1d049390>,\n",
       "  <matplotlib.lines.Line2D at 0x1d0496a0>],\n",
       " 'caps': [<matplotlib.lines.Line2D at 0x1d0b2da0>,\n",
       "  <matplotlib.lines.Line2D at 0x1d0b2ac8>,\n",
       "  <matplotlib.lines.Line2D at 0x1ce9c5c0>,\n",
       "  <matplotlib.lines.Line2D at 0x1cea76d8>,\n",
       "  <matplotlib.lines.Line2D at 0x1ceb82b0>,\n",
       "  <matplotlib.lines.Line2D at 0x1ceb8a58>,\n",
       "  <matplotlib.lines.Line2D at 0x1cec2be0>,\n",
       "  <matplotlib.lines.Line2D at 0x1cec2b00>,\n",
       "  <matplotlib.lines.Line2D at 0x1cee5d30>,\n",
       "  <matplotlib.lines.Line2D at 0x1ced4198>,\n",
       "  <matplotlib.lines.Line2D at 0x1cf1fe48>,\n",
       "  <matplotlib.lines.Line2D at 0x1cf51438>,\n",
       "  <matplotlib.lines.Line2D at 0x1cf5ab70>,\n",
       "  <matplotlib.lines.Line2D at 0x1cf5aeb8>,\n",
       "  <matplotlib.lines.Line2D at 0x1cf6d630>,\n",
       "  <matplotlib.lines.Line2D at 0x1cf6d978>,\n",
       "  <matplotlib.lines.Line2D at 0x1cf75e48>,\n",
       "  <matplotlib.lines.Line2D at 0x1cf80438>,\n",
       "  <matplotlib.lines.Line2D at 0x1cf8cb70>,\n",
       "  <matplotlib.lines.Line2D at 0x1cf8ceb8>,\n",
       "  <matplotlib.lines.Line2D at 0x1cfa1630>,\n",
       "  <matplotlib.lines.Line2D at 0x1cfa1978>,\n",
       "  <matplotlib.lines.Line2D at 0x1cfade48>,\n",
       "  <matplotlib.lines.Line2D at 0x1cfb7438>,\n",
       "  <matplotlib.lines.Line2D at 0x1cfc3b70>,\n",
       "  <matplotlib.lines.Line2D at 0x1cfc3eb8>,\n",
       "  <matplotlib.lines.Line2D at 0x1cfdb470>,\n",
       "  <matplotlib.lines.Line2D at 0x1cfdb780>,\n",
       "  <matplotlib.lines.Line2D at 0x1cfe5d30>,\n",
       "  <matplotlib.lines.Line2D at 0x1cfe5e48>,\n",
       "  <matplotlib.lines.Line2D at 0x1d001630>,\n",
       "  <matplotlib.lines.Line2D at 0x1d001940>,\n",
       "  <matplotlib.lines.Line2D at 0x1d00bef0>,\n",
       "  <matplotlib.lines.Line2D at 0x1d00bf28>,\n",
       "  <matplotlib.lines.Line2D at 0x1d0257f0>,\n",
       "  <matplotlib.lines.Line2D at 0x1d025b00>,\n",
       "  <matplotlib.lines.Line2D at 0x1d031eb8>,\n",
       "  <matplotlib.lines.Line2D at 0x1d03d400>,\n",
       "  <matplotlib.lines.Line2D at 0x1d0499b0>,\n",
       "  <matplotlib.lines.Line2D at 0x1d049cc0>],\n",
       " 'boxes': [<matplotlib.lines.Line2D at 0x1ce98b00>,\n",
       "  <matplotlib.lines.Line2D at 0x1cb88eb8>,\n",
       "  <matplotlib.lines.Line2D at 0x1ceb2550>,\n",
       "  <matplotlib.lines.Line2D at 0x1cec9fd0>,\n",
       "  <matplotlib.lines.Line2D at 0x1cede128>,\n",
       "  <matplotlib.lines.Line2D at 0x1cf1f6d8>,\n",
       "  <matplotlib.lines.Line2D at 0x1cf51eb8>,\n",
       "  <matplotlib.lines.Line2D at 0x1cf64c18>,\n",
       "  <matplotlib.lines.Line2D at 0x1cf756d8>,\n",
       "  <matplotlib.lines.Line2D at 0x1cf80eb8>,\n",
       "  <matplotlib.lines.Line2D at 0x1cf97c18>,\n",
       "  <matplotlib.lines.Line2D at 0x1cfad6d8>,\n",
       "  <matplotlib.lines.Line2D at 0x1cfb7eb8>,\n",
       "  <matplotlib.lines.Line2D at 0x1cfcfb00>,\n",
       "  <matplotlib.lines.Line2D at 0x1cfe5400>,\n",
       "  <matplotlib.lines.Line2D at 0x1cff4cc0>,\n",
       "  <matplotlib.lines.Line2D at 0x1d00b5c0>,\n",
       "  <matplotlib.lines.Line2D at 0x1d016e80>,\n",
       "  <matplotlib.lines.Line2D at 0x1d0317b8>,\n",
       "  <matplotlib.lines.Line2D at 0x1d03de10>],\n",
       " 'medians': [<matplotlib.lines.Line2D at 0x1d0b2208>,\n",
       "  <matplotlib.lines.Line2D at 0x1cea72b0>,\n",
       "  <matplotlib.lines.Line2D at 0x1ceb8b70>,\n",
       "  <matplotlib.lines.Line2D at 0x1cec2630>,\n",
       "  <matplotlib.lines.Line2D at 0x1ced4e10>,\n",
       "  <matplotlib.lines.Line2D at 0x1cf51780>,\n",
       "  <matplotlib.lines.Line2D at 0x1cf5af98>,\n",
       "  <matplotlib.lines.Line2D at 0x1cf6dcc0>,\n",
       "  <matplotlib.lines.Line2D at 0x1cf80780>,\n",
       "  <matplotlib.lines.Line2D at 0x1cf8cf98>,\n",
       "  <matplotlib.lines.Line2D at 0x1cfa1cc0>,\n",
       "  <matplotlib.lines.Line2D at 0x1cfb7780>,\n",
       "  <matplotlib.lines.Line2D at 0x1cfc3f98>,\n",
       "  <matplotlib.lines.Line2D at 0x1cfdba90>,\n",
       "  <matplotlib.lines.Line2D at 0x1cff4390>,\n",
       "  <matplotlib.lines.Line2D at 0x1d001c50>,\n",
       "  <matplotlib.lines.Line2D at 0x1d016550>,\n",
       "  <matplotlib.lines.Line2D at 0x1d025e10>,\n",
       "  <matplotlib.lines.Line2D at 0x1d03d710>,\n",
       "  <matplotlib.lines.Line2D at 0x1d049dd8>],\n",
       " 'fliers': [<matplotlib.lines.Line2D at 0x1cb88470>,\n",
       "  <matplotlib.lines.Line2D at 0x1ceb29b0>,\n",
       "  <matplotlib.lines.Line2D at 0x1ceb8828>,\n",
       "  <matplotlib.lines.Line2D at 0x1cede080>,\n",
       "  <matplotlib.lines.Line2D at 0x1ced4550>,\n",
       "  <matplotlib.lines.Line2D at 0x1cf51e10>,\n",
       "  <matplotlib.lines.Line2D at 0x1cf648d0>,\n",
       "  <matplotlib.lines.Line2D at 0x1cf75390>,\n",
       "  <matplotlib.lines.Line2D at 0x1cf80e10>,\n",
       "  <matplotlib.lines.Line2D at 0x1cf978d0>,\n",
       "  <matplotlib.lines.Line2D at 0x1cfad390>,\n",
       "  <matplotlib.lines.Line2D at 0x1cfb7e10>,\n",
       "  <matplotlib.lines.Line2D at 0x1cfcf7f0>,\n",
       "  <matplotlib.lines.Line2D at 0x1cfdbe80>,\n",
       "  <matplotlib.lines.Line2D at 0x1cff49b0>,\n",
       "  <matplotlib.lines.Line2D at 0x1d001f98>,\n",
       "  <matplotlib.lines.Line2D at 0x1d016b70>,\n",
       "  <matplotlib.lines.Line2D at 0x1d031470>,\n",
       "  <matplotlib.lines.Line2D at 0x1d03dd30>,\n",
       "  <matplotlib.lines.Line2D at 0x1d306630>],\n",
       " 'means': [<matplotlib.lines.Line2D at 0x1d0b2630>,\n",
       "  <matplotlib.lines.Line2D at 0x1cea7470>,\n",
       "  <matplotlib.lines.Line2D at 0x1ceb84e0>,\n",
       "  <matplotlib.lines.Line2D at 0x1cec2208>,\n",
       "  <matplotlib.lines.Line2D at 0x1ced4940>,\n",
       "  <matplotlib.lines.Line2D at 0x1cf51ac8>,\n",
       "  <matplotlib.lines.Line2D at 0x1cf64588>,\n",
       "  <matplotlib.lines.Line2D at 0x1cf6dda0>,\n",
       "  <matplotlib.lines.Line2D at 0x1cf80ac8>,\n",
       "  <matplotlib.lines.Line2D at 0x1cf97588>,\n",
       "  <matplotlib.lines.Line2D at 0x1cfa1da0>,\n",
       "  <matplotlib.lines.Line2D at 0x1cfb7ac8>,\n",
       "  <matplotlib.lines.Line2D at 0x1cfcf4e0>,\n",
       "  <matplotlib.lines.Line2D at 0x1cfdbda0>,\n",
       "  <matplotlib.lines.Line2D at 0x1cff46a0>,\n",
       "  <matplotlib.lines.Line2D at 0x1d001f60>,\n",
       "  <matplotlib.lines.Line2D at 0x1d016860>,\n",
       "  <matplotlib.lines.Line2D at 0x1d025f28>,\n",
       "  <matplotlib.lines.Line2D at 0x1d03da20>,\n",
       "  <matplotlib.lines.Line2D at 0x1d049fd0>]}"
      ]
     },
     "execution_count": 55,
     "metadata": {},
     "output_type": "execute_result"
    },
    {
     "data": {
      "text/plain": [
       "(array([ 1,  2,  3,  4,  5,  6,  7,  8,  9, 10, 11, 12, 13, 14, 15, 16, 17,\n",
       "        18, 19, 20]), <a list of 20 Text xticklabel objects>)"
      ]
     },
     "execution_count": 55,
     "metadata": {},
     "output_type": "execute_result"
    },
    {
     "data": {
      "image/png": "[encoded data removed]",
      "text/plain": [
       "<Figure size 432x288 with 1 Axes>"
      ]
     },
     "metadata": {
      "needs_background": "light"
     },
     "output_type": "display_data"
    }
   ],
   "source": [
    "pyplot.boxplot( results , labels = names , showmeans = True )\n",
    "\n",
    "pyplot.grid( axis = 'y' , color = 'black' , linestyle = '-.' , linewidth = 0.5 )\n",
    "\n",
    "pyplot.xticks( rotation = 90 )\n",
    "\n",
    "pyplot.show()"
   ]
  }
 ],
 "metadata": {
  "kernelspec": {
   "display_name": "Python 3",
   "language": "python",
   "name": "python3"
  },
  "language_info": {
   "codemirror_mode": {
    "name": "ipython",
    "version": 3
   },
   "file_extension": ".py",
   "mimetype": "text/x-python",
   "name": "python",
   "nbconvert_exporter": "python",
   "pygments_lexer": "ipython3",
   "version": "3.7.3"
  }
 },
 "nbformat": 4,
 "nbformat_minor": 2
}
