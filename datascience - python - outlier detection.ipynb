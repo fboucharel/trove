{
 "cells": [
  {
   "cell_type": "markdown",
   "metadata": {},
   "source": [
    "### Outliers detection"
   ]
  },
  {
   "cell_type": "markdown",
   "metadata": {},
   "source": [
    "https://towardsdatascience.com/5-ways-to-detect-outliers-that-every-data-scientist-should-know-python-code-70a54335a623"
   ]
  },
  {
   "cell_type": "code",
   "execution_count": 8,
   "metadata": {},
   "outputs": [],
   "source": [
    "from sklearn.ensemble import IsolationForest\n",
    "\n",
    "import numpy as np"
   ]
  },
  {
   "cell_type": "markdown",
   "metadata": {},
   "source": [
    "### I.1 - 3 standard deviation away from mean"
   ]
  },
  {
   "cell_type": "code",
   "execution_count": 58,
   "metadata": {},
   "outputs": [],
   "source": [
    "# Detection oulier pour variable numérique continue :\n",
    "\n",
    "def outlier ( X ) :\n",
    "    \n",
    "    lst_ano = []\n",
    "\n",
    "    X_std = np.std( X )\n",
    "    X_mean = np.mean( X )\n",
    "    \n",
    "    ano_cut_off = X_std * 3\n",
    "    \n",
    "    low_thresh = X_mean - ano_cut_off \n",
    "    up_thresh  = X_mean + ano_cut_off\n",
    "    \n",
    "    \n",
    "    # Generate outliers\n",
    "    \n",
    "    for value in X :\n",
    "        if value > up_thresh or value < low_thresh :\n",
    "            lst_ano.append( value )\n",
    "            \n",
    "    num_out = len( lst_ano )\n",
    "    print( 'number of outliers : {0}'.format( num_out ) )\n",
    "       \n",
    "    return lst_ano"
   ]
  },
  {
   "cell_type": "code",
   "execution_count": 59,
   "metadata": {},
   "outputs": [],
   "source": [
    "np.random.seed(1)\n",
    "\n",
    "random_data = np.random.randn( 50000 , 1 )  * 20 + 20"
   ]
  },
  {
   "cell_type": "code",
   "execution_count": 60,
   "metadata": {},
   "outputs": [
    {
     "name": "stdout",
     "output_type": "stream",
     "text": [
      "number of outliers : 142\n"
     ]
    }
   ],
   "source": [
    "out = outlier( random_data )"
   ]
  },
  {
   "cell_type": "code",
   "execution_count": null,
   "metadata": {},
   "outputs": [],
   "source": []
  },
  {
   "cell_type": "code",
   "execution_count": 3,
   "metadata": {},
   "outputs": [
    {
     "data": {
      "text/plain": [
       "array([-1,  1, -1, ...,  1,  1,  1])"
      ]
     },
     "execution_count": 3,
     "metadata": {},
     "output_type": "execute_result"
    }
   ],
   "source": [
    "clf = IsolationForest( behaviour = 'new' , \n",
    "                       max_samples = 100 , \n",
    "                       random_state = 1 , \n",
    "                       contamination = 'auto' )\n",
    "preds = clf.fit_predict( random_data )\n",
    "\n",
    "preds\n",
    "\n",
    "# - 1 : outlier / 1 : pas outlier"
   ]
  }
 ],
 "metadata": {
  "kernelspec": {
   "display_name": "Python 3",
   "language": "python",
   "name": "python3"
  },
  "language_info": {
   "codemirror_mode": {
    "name": "ipython",
    "version": 3
   },
   "file_extension": ".py",
   "mimetype": "text/x-python",
   "name": "python",
   "nbconvert_exporter": "python",
   "pygments_lexer": "ipython3",
   "version": "3.7.3"
  }
 },
 "nbformat": 4,
 "nbformat_minor": 2
}
