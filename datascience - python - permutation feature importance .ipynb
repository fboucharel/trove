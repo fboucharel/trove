{
 "cells": [
  {
   "cell_type": "code",
   "execution_count": 96,
   "metadata": {},
   "outputs": [],
   "source": [
    "from sklearn.datasets import make_classification"
   ]
  },
  {
   "cell_type": "code",
   "execution_count": 118,
   "metadata": {},
   "outputs": [],
   "source": [
    "n_features = 2"
   ]
  },
  {
   "cell_type": "code",
   "execution_count": 123,
   "metadata": {},
   "outputs": [],
   "source": [
    "X , y = make_classification( n_samples = 5000 , \n",
    "                             n_features = n_features ,  \n",
    "                             n_redundant = 0 ,\n",
    "                             n_clusters_per_class = 1 , \n",
    "                             weights = [ 0.75 ] , \n",
    "                             flip_y = 0 , \n",
    "                             random_state = 3 )"
   ]
  },
  {
   "cell_type": "code",
   "execution_count": 124,
   "metadata": {},
   "outputs": [],
   "source": [
    "import pandas as pd"
   ]
  },
  {
   "cell_type": "code",
   "execution_count": 125,
   "metadata": {},
   "outputs": [],
   "source": [
    "cols = [ 'x_' + str( k ) for k in range( 0 , n_features ) ]"
   ]
  },
  {
   "cell_type": "code",
   "execution_count": 126,
   "metadata": {},
   "outputs": [],
   "source": [
    "df_X = pd.DataFrame( data = X , columns = cols )"
   ]
  },
  {
   "cell_type": "code",
   "execution_count": 127,
   "metadata": {},
   "outputs": [
    {
     "data": {
      "text/html": [
       "<div>\n",
       "<style scoped>\n",
       "    .dataframe tbody tr th:only-of-type {\n",
       "        vertical-align: middle;\n",
       "    }\n",
       "\n",
       "    .dataframe tbody tr th {\n",
       "        vertical-align: top;\n",
       "    }\n",
       "\n",
       "    .dataframe thead th {\n",
       "        text-align: right;\n",
       "    }\n",
       "</style>\n",
       "<table border=\"1\" class=\"dataframe\">\n",
       "  <thead>\n",
       "    <tr style=\"text-align: right;\">\n",
       "      <th></th>\n",
       "      <th>x_0</th>\n",
       "      <th>x_1</th>\n",
       "    </tr>\n",
       "  </thead>\n",
       "  <tbody>\n",
       "    <tr>\n",
       "      <th>0</th>\n",
       "      <td>1.343805</td>\n",
       "      <td>2.055810</td>\n",
       "    </tr>\n",
       "    <tr>\n",
       "      <th>1</th>\n",
       "      <td>1.031145</td>\n",
       "      <td>0.962179</td>\n",
       "    </tr>\n",
       "    <tr>\n",
       "      <th>2</th>\n",
       "      <td>0.476369</td>\n",
       "      <td>-0.961738</td>\n",
       "    </tr>\n",
       "    <tr>\n",
       "      <th>3</th>\n",
       "      <td>0.945974</td>\n",
       "      <td>1.490412</td>\n",
       "    </tr>\n",
       "    <tr>\n",
       "      <th>4</th>\n",
       "      <td>0.831801</td>\n",
       "      <td>0.589966</td>\n",
       "    </tr>\n",
       "  </tbody>\n",
       "</table>\n",
       "</div>"
      ],
      "text/plain": [
       "        x_0       x_1\n",
       "0  1.343805  2.055810\n",
       "1  1.031145  0.962179\n",
       "2  0.476369 -0.961738\n",
       "3  0.945974  1.490412\n",
       "4  0.831801  0.589966"
      ]
     },
     "execution_count": 127,
     "metadata": {},
     "output_type": "execute_result"
    }
   ],
   "source": [
    "df_X.head(5)"
   ]
  },
  {
   "cell_type": "code",
   "execution_count": 128,
   "metadata": {},
   "outputs": [],
   "source": [
    "from sklearn.model_selection import train_test_split"
   ]
  },
  {
   "cell_type": "code",
   "execution_count": 129,
   "metadata": {},
   "outputs": [],
   "source": [
    "X_train , X_test , y_train , y_test = train_test_split( X , y , test_size = 0.33 , random_state = 999 )"
   ]
  },
  {
   "cell_type": "code",
   "execution_count": 130,
   "metadata": {},
   "outputs": [],
   "source": [
    "import random"
   ]
  },
  {
   "cell_type": "code",
   "execution_count": 131,
   "metadata": {},
   "outputs": [],
   "source": [
    "def perm_imp( X , y , skl_mdl , skl_metric , num_iter = 20 ) :\n",
    "    \n",
    "    # baseline metric\n",
    "    bsl_metric = skl_metric( y , mdl.predict( X ) )\n",
    "    \n",
    "    # scores : initialisation\n",
    "    scores = { col : [] for col in X.columns }\n",
    "    \n",
    "    for col in X.columns :\n",
    "        \n",
    "        X_cpy = X.copy( deep = True )\n",
    "        \n",
    "        for i in range( num_iter ) :\n",
    "            \n",
    "            print( i )\n",
    "            \n",
    "            #tmp = X_cpy[ col ].tolist()\n",
    "            #random.shuffle( tmp )\n",
    "            #X_cpy[ col ] = tmp\n",
    "            random.shuffle( X_cpy[ col ] )\n",
    "            \n",
    "            score = skl_metric( y , mdl.predict( X_cpy ) )\n",
    "            scores[ col ].append( bsl_metric - score )\n",
    "            \n",
    "            print( scores )\n",
    "            \n",
    "    return bsl_metric , scores     "
   ]
  },
  {
   "cell_type": "code",
   "execution_count": 132,
   "metadata": {},
   "outputs": [],
   "source": [
    "from sklearn.tree import DecisionTreeClassifier"
   ]
  },
  {
   "cell_type": "code",
   "execution_count": 133,
   "metadata": {},
   "outputs": [],
   "source": [
    "mdl = DecisionTreeClassifier( )"
   ]
  },
  {
   "cell_type": "code",
   "execution_count": 134,
   "metadata": {},
   "outputs": [
    {
     "data": {
      "text/plain": [
       "DecisionTreeClassifier(class_weight=None, criterion='gini', max_depth=None,\n",
       "            max_features=None, max_leaf_nodes=None,\n",
       "            min_impurity_decrease=0.0, min_impurity_split=None,\n",
       "            min_samples_leaf=1, min_samples_split=2,\n",
       "            min_weight_fraction_leaf=0.0, presort=False, random_state=None,\n",
       "            splitter='best')"
      ]
     },
     "execution_count": 134,
     "metadata": {},
     "output_type": "execute_result"
    }
   ],
   "source": [
    "mdl.fit( X_train , y_train )"
   ]
  },
  {
   "cell_type": "code",
   "execution_count": 135,
   "metadata": {},
   "outputs": [],
   "source": [
    "y_test_pred = mdl.predict( X_test )"
   ]
  },
  {
   "cell_type": "code",
   "execution_count": 136,
   "metadata": {},
   "outputs": [],
   "source": [
    "from sklearn.metrics import roc_auc_score"
   ]
  },
  {
   "cell_type": "code",
   "execution_count": 137,
   "metadata": {},
   "outputs": [
    {
     "data": {
      "text/plain": [
       "0.9247157783301114"
      ]
     },
     "execution_count": 137,
     "metadata": {},
     "output_type": "execute_result"
    }
   ],
   "source": [
    "roc_auc_score( y_test , y_test_pred )"
   ]
  },
  {
   "cell_type": "code",
   "execution_count": 138,
   "metadata": {},
   "outputs": [],
   "source": [
    "df_X_test = pd.DataFrame( X_test )"
   ]
  },
  {
   "cell_type": "code",
   "execution_count": 139,
   "metadata": {},
   "outputs": [
    {
     "name": "stdout",
     "output_type": "stream",
     "text": [
      "0\n",
      "{0: [0.13811792322562821], 1: []}\n",
      "1\n",
      "{0: [0.13811792322562821, 0.14286454018227013], 1: []}\n",
      "0\n",
      "{0: [0.13811792322562821, 0.14286454018227013], 1: [0.36177276074749143]}\n",
      "1\n",
      "{0: [0.13811792322562821, 0.14286454018227013], 1: [0.36177276074749143, 0.3352319801159901]}\n"
     ]
    },
    {
     "data": {
      "text/plain": [
       "(0.9247157783301114,\n",
       " {0: [0.13811792322562821, 0.14286454018227013],\n",
       "  1: [0.36177276074749143, 0.3352319801159901]})"
      ]
     },
     "execution_count": 139,
     "metadata": {},
     "output_type": "execute_result"
    }
   ],
   "source": [
    "perm_imp( df_X_test , y_test , mdl , roc_auc_score , 2 )"
   ]
  },
  {
   "cell_type": "code",
   "execution_count": null,
   "metadata": {},
   "outputs": [],
   "source": []
  }
 ],
 "metadata": {
  "kernelspec": {
   "display_name": "Python 3",
   "language": "python",
   "name": "python3"
  },
  "language_info": {
   "codemirror_mode": {
    "name": "ipython",
    "version": 3
   },
   "file_extension": ".py",
   "mimetype": "text/x-python",
   "name": "python",
   "nbconvert_exporter": "python",
   "pygments_lexer": "ipython3",
   "version": "3.7.3"
  }
 },
 "nbformat": 4,
 "nbformat_minor": 4
}
