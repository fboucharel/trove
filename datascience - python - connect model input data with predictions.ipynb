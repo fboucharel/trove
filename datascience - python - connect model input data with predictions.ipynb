{
 "cells": [
  {
   "cell_type": "code",
   "execution_count": 3,
   "metadata": {},
   "outputs": [],
   "source": [
    "from sklearn.datasets.samples_generator import make_blobs\n",
    "\n",
    "from sklearn.linear_model import LogisticRegression\n",
    "\n",
    "from sklearn.metrics import accuracy_score"
   ]
  },
  {
   "cell_type": "code",
   "execution_count": 2,
   "metadata": {},
   "outputs": [],
   "source": [
    "X , y = make_blobs( n_samples = 1000 , centers = 2 , n_features = 2 , random_state = 2 )"
   ]
  },
  {
   "cell_type": "code",
   "execution_count": 4,
   "metadata": {},
   "outputs": [
    {
     "name": "stdout",
     "output_type": "stream",
     "text": [
      "1.0\n"
     ]
    }
   ],
   "source": [
    "model = LogisticRegression( solver = 'lbfgs' )\n",
    "\n",
    "model.fit( X , y )\n",
    "\n",
    "y_pred = model.predict( X )\n",
    "\n",
    "acc = accuracy_score( y , y_pred )\n",
    "\n",
    "print( acc )"
   ]
  },
  {
   "cell_type": "code",
   "execution_count": 5,
   "metadata": {},
   "outputs": [
    {
     "name": "stdout",
     "output_type": "stream",
     "text": [
      "[ 1.23839154 -2.8475005 ] 1\n",
      "[-1.25884111 -8.57055785] 0\n",
      "[ -0.86599821 -10.50446358] 0\n",
      "[ 0.59831673 -1.06451727] 1\n",
      "[ 2.12309797 -1.41131072] 1\n",
      "[-1.53722693 -9.61845366] 0\n",
      "[ 0.92194131 -0.68709327] 1\n",
      "[-1.31478732 -8.78528161] 0\n",
      "[ 1.57989896 -1.462412  ] 1\n",
      "[ 1.36989667 -1.3964704 ] 1\n"
     ]
    }
   ],
   "source": [
    "for i in range( 10 ) :\n",
    "    print( X[i] , y_pred[ i ] )"
   ]
  },
  {
   "cell_type": "code",
   "execution_count": null,
   "metadata": {},
   "outputs": [],
   "source": []
  }
 ],
 "metadata": {
  "kernelspec": {
   "display_name": "Python 3",
   "language": "python",
   "name": "python3"
  },
  "language_info": {
   "codemirror_mode": {
    "name": "ipython",
    "version": 3
   },
   "file_extension": ".py",
   "mimetype": "text/x-python",
   "name": "python",
   "nbconvert_exporter": "python",
   "pygments_lexer": "ipython3",
   "version": "3.7.3"
  }
 },
 "nbformat": 4,
 "nbformat_minor": 2
}
