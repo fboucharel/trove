{
 "cells": [
  {
   "cell_type": "markdown",
   "metadata": {},
   "source": [
    "https://towardsdatascience.com/working-with-unbalanced-dataset-8405465630d7"
   ]
  },
  {
   "cell_type": "code",
   "execution_count": null,
   "metadata": {},
   "outputs": [],
   "source": [
    "from sklearn.datasets import make_classification"
   ]
  },
  {
   "cell_type": "code",
   "execution_count": 2,
   "metadata": {},
   "outputs": [],
   "source": [
    "X , y = make_classification( n_classes = 2 , \n",
    "                             class_sep = 1 ,\n",
    "                             weights = [ 0.1 , 0.9 ] ,\n",
    "                             n_informative = 2 ,\n",
    "                             n_redundant = 0 ,\n",
    "                             flip_y = 0 ,\n",
    "                             n_features = 2 ,\n",
    "                             n_clusters_per_class = 1 ,\n",
    "                             n_samples = 100 ,\n",
    "                             random_state = 10 )"
   ]
  },
  {
   "cell_type": "code",
   "execution_count": 10,
   "metadata": {},
   "outputs": [],
   "source": [
    "from collections import Counter"
   ]
  },
  {
   "cell_type": "code",
   "execution_count": 11,
   "metadata": {},
   "outputs": [
    {
     "data": {
      "text/plain": [
       "Counter({1: 90, 0: 10})"
      ]
     },
     "execution_count": 11,
     "metadata": {},
     "output_type": "execute_result"
    }
   ],
   "source": [
    "Counter( y )"
   ]
  },
  {
   "cell_type": "code",
   "execution_count": 12,
   "metadata": {},
   "outputs": [],
   "source": [
    "import matplotlib.pyplot as plt\n",
    "\n",
    "import numpy as np"
   ]
  },
  {
   "cell_type": "code",
   "execution_count": 31,
   "metadata": {
    "scrolled": true
   },
   "outputs": [
    {
     "data": {
      "text/plain": [
       "<matplotlib.legend.Legend at 0xc1b7208>"
      ]
     },
     "execution_count": 31,
     "metadata": {},
     "output_type": "execute_result"
    },
    {
     "data": {
      "image/png": "[encoded data removed]",
      "text/plain": [
       "<Figure size 720x432 with 1 Axes>"
      ]
     },
     "metadata": {
      "needs_background": "light"
     },
     "output_type": "display_data"
    }
   ],
   "source": [
    "# couleurs des modalités de la variable cible :\n",
    "label_colors = { 0 : 'red' , 1 : 'green' }\n",
    "\n",
    "plt.figure(figsize=[10, 6])\n",
    "\n",
    "for label in np.unique( y ):\n",
    "    ndx = np.where( y == label )\n",
    "    # X[ ndx ] : X(i,.) ou y(i) = label ( 0 ou 1 )\n",
    "    # X[ ndx ][ : , 0 ] : 1ère colonne\n",
    "    # X[ ndx ][ : , 1 ] : 2ème colonnne\n",
    "    plt.scatter( X[ ndx ][ : , 0 ] ,\n",
    "                 X[ ndx ][ : , 1 ] , \n",
    "                 c = label_colors[ label ] , \n",
    "                 label = label )\n",
    "    \n",
    "plt.legend()"
   ]
  },
  {
   "cell_type": "code",
   "execution_count": 30,
   "metadata": {},
   "outputs": [
    {
     "data": {
      "text/plain": [
       "array([-0.29021108, -0.8456969 , -1.40773826, -0.32538729, -1.68769136,\n",
       "       -1.30113172, -1.58543952, -0.17606845, -0.2257862 ,  0.01405071])"
      ]
     },
     "execution_count": 30,
     "metadata": {},
     "output_type": "execute_result"
    }
   ],
   "source": [
    "ndx = np.where( y == 0 )\n",
    "\n",
    "X[ ndx ][ : , 1 ]"
   ]
  },
  {
   "cell_type": "code",
   "execution_count": 15,
   "metadata": {},
   "outputs": [],
   "source": [
    "from imblearn.over_sampling import SMOTE"
   ]
  },
  {
   "cell_type": "code",
   "execution_count": 16,
   "metadata": {},
   "outputs": [],
   "source": [
    "sm = SMOTE( k_neighbors = 3 , sampling_strategy = 0.2 , random_state = 11 )"
   ]
  },
  {
   "cell_type": "code",
   "execution_count": 17,
   "metadata": {},
   "outputs": [],
   "source": [
    "X_smote , y_smote = sm.fit_resample( X , y )"
   ]
  },
  {
   "cell_type": "code",
   "execution_count": 39,
   "metadata": {},
   "outputs": [
    {
     "data": {
      "text/plain": [
       "tuple"
      ]
     },
     "execution_count": 39,
     "metadata": {},
     "output_type": "execute_result"
    }
   ],
   "source": [
    "# Avant SMOTE :\n",
    "X.shape"
   ]
  },
  {
   "cell_type": "code",
   "execution_count": 36,
   "metadata": {},
   "outputs": [
    {
     "data": {
      "text/plain": [
       "(108, 2)"
      ]
     },
     "execution_count": 36,
     "metadata": {},
     "output_type": "execute_result"
    }
   ],
   "source": [
    "# Après SMOTE : les 8 dernières lignes sont les nouveaux enregistrements\n",
    "X_smote.shape"
   ]
  },
  {
   "cell_type": "code",
   "execution_count": 18,
   "metadata": {},
   "outputs": [
    {
     "data": {
      "text/plain": [
       "Counter({1: 90, 0: 18})"
      ]
     },
     "execution_count": 18,
     "metadata": {},
     "output_type": "execute_result"
    }
   ],
   "source": [
    "Counter( y_smote )"
   ]
  },
  {
   "cell_type": "code",
   "execution_count": 23,
   "metadata": {},
   "outputs": [
    {
     "data": {
      "text/plain": [
       "<matplotlib.legend.Legend at 0xc3a41d0>"
      ]
     },
     "execution_count": 23,
     "metadata": {},
     "output_type": "execute_result"
    },
    {
     "data": {
      "image/png": "[encoded data removed]",
      "text/plain": [
       "<Figure size 720x432 with 1 Axes>"
      ]
     },
     "metadata": {
      "needs_background": "light"
     },
     "output_type": "display_data"
    }
   ],
   "source": [
    "label_colors = { 0 : 'red' , 1 : 'green' }\n",
    "\n",
    "plt.figure(figsize=[10, 6])\n",
    "\n",
    "for label in np.unique( y_smote ):\n",
    "    ndx = np.where( y_smote == label)\n",
    "    \n",
    "    if label == 0 :\n",
    "        # X_smote[ ndx ][-8: , 0] : lignes 101 ... 108\n",
    "        plt.scatter( X_smote[ ndx ][-8: , 0] , X_smote[ ndx ][-8: , 1] , c = 'orange' , label = '0_new' )\n",
    "        # X_smote[ ndx ][:-8 , 0] : lignes 1 ... 100\n",
    "        plt.scatter( X_smote[ ndx ][:-8 , 0] , X_smote[ ndx ][:-8 , 1] , c = label_colors[ label ] , label = label )\n",
    "    else:\n",
    "        plt.scatter(X_smote[ ndx ][: , 0] , X_smote[ ndx ][: , 1] , c = label_colors[ label ] , label = label )\n",
    "plt.legend()"
   ]
  },
  {
   "cell_type": "code",
   "execution_count": null,
   "metadata": {},
   "outputs": [],
   "source": []
  }
 ],
 "metadata": {
  "kernelspec": {
   "display_name": "Python 3",
   "language": "python",
   "name": "python3"
  },
  "language_info": {
   "codemirror_mode": {
    "name": "ipython",
    "version": 3
   },
   "file_extension": ".py",
   "mimetype": "text/x-python",
   "name": "python",
   "nbconvert_exporter": "python",
   "pygments_lexer": "ipython3",
   "version": "3.7.3"
  }
 },
 "nbformat": 4,
 "nbformat_minor": 2
}
