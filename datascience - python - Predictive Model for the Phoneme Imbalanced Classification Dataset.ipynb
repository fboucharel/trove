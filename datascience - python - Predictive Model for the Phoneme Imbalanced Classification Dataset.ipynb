{
 "cells": [
  {
   "cell_type": "markdown",
   "metadata": {},
   "source": [
    "https://machinelearningmastery.com/predictive-model-for-the-phoneme-imbalanced-classification-dataset/"
   ]
  },
  {
   "cell_type": "code",
   "execution_count": 36,
   "metadata": {},
   "outputs": [],
   "source": [
    "from IPython.core.interactiveshell import InteractiveShell\n",
    "\n",
    "InteractiveShell.ast_node_interactivity = 'all'\n",
    "\n",
    "%matplotlib inline"
   ]
  },
  {
   "cell_type": "code",
   "execution_count": 12,
   "metadata": {},
   "outputs": [],
   "source": [
    "import pandas as pd\n",
    "\n",
    "pd.set_option( 'display.max_columns' , None ) "
   ]
  },
  {
   "cell_type": "code",
   "execution_count": 13,
   "metadata": {},
   "outputs": [],
   "source": [
    "url = 'https://raw.githubusercontent.com/jbrownlee/Datasets/master/phoneme.csv'\n",
    "    \n",
    "df = pd.read_csv( url , header = None )"
   ]
  },
  {
   "cell_type": "code",
   "execution_count": 14,
   "metadata": {},
   "outputs": [
    {
     "data": {
      "text/html": [
       "<div>\n",
       "<style scoped>\n",
       "    .dataframe tbody tr th:only-of-type {\n",
       "        vertical-align: middle;\n",
       "    }\n",
       "\n",
       "    .dataframe tbody tr th {\n",
       "        vertical-align: top;\n",
       "    }\n",
       "\n",
       "    .dataframe thead th {\n",
       "        text-align: right;\n",
       "    }\n",
       "</style>\n",
       "<table border=\"1\" class=\"dataframe\">\n",
       "  <thead>\n",
       "    <tr style=\"text-align: right;\">\n",
       "      <th></th>\n",
       "      <th>0</th>\n",
       "      <th>1</th>\n",
       "      <th>2</th>\n",
       "      <th>3</th>\n",
       "      <th>4</th>\n",
       "      <th>5</th>\n",
       "    </tr>\n",
       "  </thead>\n",
       "  <tbody>\n",
       "    <tr>\n",
       "      <th>0</th>\n",
       "      <td>1.240</td>\n",
       "      <td>0.875</td>\n",
       "      <td>-0.205</td>\n",
       "      <td>-0.078</td>\n",
       "      <td>0.067</td>\n",
       "      <td>0</td>\n",
       "    </tr>\n",
       "    <tr>\n",
       "      <th>1</th>\n",
       "      <td>0.268</td>\n",
       "      <td>1.352</td>\n",
       "      <td>1.035</td>\n",
       "      <td>-0.332</td>\n",
       "      <td>0.217</td>\n",
       "      <td>0</td>\n",
       "    </tr>\n",
       "    <tr>\n",
       "      <th>2</th>\n",
       "      <td>1.567</td>\n",
       "      <td>0.867</td>\n",
       "      <td>1.300</td>\n",
       "      <td>1.041</td>\n",
       "      <td>0.559</td>\n",
       "      <td>0</td>\n",
       "    </tr>\n",
       "    <tr>\n",
       "      <th>3</th>\n",
       "      <td>0.279</td>\n",
       "      <td>0.990</td>\n",
       "      <td>2.555</td>\n",
       "      <td>-0.738</td>\n",
       "      <td>0.000</td>\n",
       "      <td>0</td>\n",
       "    </tr>\n",
       "    <tr>\n",
       "      <th>4</th>\n",
       "      <td>0.307</td>\n",
       "      <td>1.272</td>\n",
       "      <td>2.656</td>\n",
       "      <td>-0.946</td>\n",
       "      <td>-0.467</td>\n",
       "      <td>0</td>\n",
       "    </tr>\n",
       "  </tbody>\n",
       "</table>\n",
       "</div>"
      ],
      "text/plain": [
       "       0      1      2      3      4  5\n",
       "0  1.240  0.875 -0.205 -0.078  0.067  0\n",
       "1  0.268  1.352  1.035 -0.332  0.217  0\n",
       "2  1.567  0.867  1.300  1.041  0.559  0\n",
       "3  0.279  0.990  2.555 -0.738  0.000  0\n",
       "4  0.307  1.272  2.656 -0.946 -0.467  0"
      ]
     },
     "execution_count": 14,
     "metadata": {},
     "output_type": "execute_result"
    }
   ],
   "source": [
    "df.head()"
   ]
  },
  {
   "cell_type": "code",
   "execution_count": 15,
   "metadata": {},
   "outputs": [
    {
     "data": {
      "text/plain": [
       "(5404, 6)"
      ]
     },
     "execution_count": 15,
     "metadata": {},
     "output_type": "execute_result"
    }
   ],
   "source": [
    "df.shape"
   ]
  },
  {
   "cell_type": "code",
   "execution_count": 16,
   "metadata": {},
   "outputs": [
    {
     "name": "stdout",
     "output_type": "stream",
     "text": [
      "<class 'pandas.core.frame.DataFrame'>\n",
      "RangeIndex: 5404 entries, 0 to 5403\n",
      "Data columns (total 6 columns):\n",
      " #   Column  Non-Null Count  Dtype  \n",
      "---  ------  --------------  -----  \n",
      " 0   0       5404 non-null   float64\n",
      " 1   1       5404 non-null   float64\n",
      " 2   2       5404 non-null   float64\n",
      " 3   3       5404 non-null   float64\n",
      " 4   4       5404 non-null   float64\n",
      " 5   5       5404 non-null   int64  \n",
      "dtypes: float64(5), int64(1)\n",
      "memory usage: 253.4 KB\n"
     ]
    }
   ],
   "source": [
    "df.info()"
   ]
  },
  {
   "cell_type": "code",
   "execution_count": 17,
   "metadata": {},
   "outputs": [],
   "source": [
    "from collections import Counter"
   ]
  },
  {
   "cell_type": "code",
   "execution_count": 18,
   "metadata": {},
   "outputs": [
    {
     "name": "stdout",
     "output_type": "stream",
     "text": [
      "Counter({0.0: 3818, 1.0: 1586})\n"
     ]
    }
   ],
   "source": [
    "target = df.values[ : , -1 ]\n",
    "\n",
    "counter = Counter( target )\n",
    "\n",
    "print( counter )"
   ]
  },
  {
   "cell_type": "code",
   "execution_count": 19,
   "metadata": {},
   "outputs": [
    {
     "name": "stdout",
     "output_type": "stream",
     "text": [
      "class : 0.0 | count : 3818 | % : 70.65 \n",
      "class : 1.0 | count : 1586 | % : 29.35 \n"
     ]
    }
   ],
   "source": [
    "for k , v in counter.items():\n",
    "\n",
    "    p = v / len( target ) * 100\n",
    "\n",
    "    print( f'class : {k} | count : {v} | % : {p:.2f} ' )"
   ]
  },
  {
   "cell_type": "code",
   "execution_count": 20,
   "metadata": {},
   "outputs": [],
   "source": [
    "from matplotlib import pyplot"
   ]
  },
  {
   "cell_type": "code",
   "execution_count": 21,
   "metadata": {},
   "outputs": [
    {
     "data": {
      "text/plain": [
       "array([[<matplotlib.axes._subplots.AxesSubplot object at 0x000000001D710278>,\n",
       "        <matplotlib.axes._subplots.AxesSubplot object at 0x000000001D7CC630>],\n",
       "       [<matplotlib.axes._subplots.AxesSubplot object at 0x000000001D7FF518>,\n",
       "        <matplotlib.axes._subplots.AxesSubplot object at 0x000000001D82CAC8>],\n",
       "       [<matplotlib.axes._subplots.AxesSubplot object at 0x000000001D8680B8>,\n",
       "        <matplotlib.axes._subplots.AxesSubplot object at 0x000000001D894668>]],\n",
       "      dtype=object)"
      ]
     },
     "execution_count": 21,
     "metadata": {},
     "output_type": "execute_result"
    },
    {
     "data": {
      "image/png": "[encoded data removed]",
      "text/plain": [
       "<Figure size 432x288 with 6 Axes>"
      ]
     },
     "metadata": {
      "needs_background": "light"
     },
     "output_type": "display_data"
    }
   ],
   "source": [
    "df.hist()"
   ]
  },
  {
   "cell_type": "code",
   "execution_count": 22,
   "metadata": {},
   "outputs": [],
   "source": [
    "from sklearn.preprocessing import LabelEncoder"
   ]
  },
  {
   "cell_type": "code",
   "execution_count": 23,
   "metadata": {},
   "outputs": [],
   "source": [
    "data = df.values\n",
    "\n",
    "X = data[ : , : -1 ]\n",
    "\n",
    "y = data[ : , -1 ]\n",
    "\n",
    "y = LabelEncoder().fit_transform( y )"
   ]
  },
  {
   "cell_type": "markdown",
   "metadata": {},
   "source": [
    "# Baseline Result"
   ]
  },
  {
   "cell_type": "code",
   "execution_count": 24,
   "metadata": {},
   "outputs": [],
   "source": [
    "from sklearn.model_selection import RepeatedStratifiedKFold\n",
    "\n",
    "from sklearn.model_selection import cross_val_score\n",
    "\n",
    "from sklearn.metrics import make_scorer\n",
    "\n",
    "from imblearn.metrics import geometric_mean_score"
   ]
  },
  {
   "cell_type": "code",
   "execution_count": 25,
   "metadata": {},
   "outputs": [],
   "source": [
    "def evaluate_model( X , y , model ) :\n",
    "\n",
    "    cv = RepeatedStratifiedKFold( n_splits = 10 , n_repeats = 3 , random_state = 999 )\n",
    "\n",
    "    metric = make_scorer( geometric_mean_score )\n",
    "    \n",
    "    scores = cross_val_score( model , X , y , scoring = metric , cv = cv , n_jobs = -1 )\n",
    "\n",
    "    return scores"
   ]
  },
  {
   "cell_type": "code",
   "execution_count": 26,
   "metadata": {},
   "outputs": [],
   "source": [
    "from sklearn.dummy import DummyClassifier"
   ]
  },
  {
   "cell_type": "code",
   "execution_count": 27,
   "metadata": {},
   "outputs": [],
   "source": [
    "model = DummyClassifier( strategy = 'uniform' )"
   ]
  },
  {
   "cell_type": "code",
   "execution_count": 28,
   "metadata": {},
   "outputs": [],
   "source": [
    "from numpy import mean\n",
    "\n",
    "from numpy import std"
   ]
  },
  {
   "cell_type": "code",
   "execution_count": 29,
   "metadata": {},
   "outputs": [
    {
     "name": "stdout",
     "output_type": "stream",
     "text": [
      "dummy model | accuracy : 0.503 ( 0.021 )\n"
     ]
    }
   ],
   "source": [
    "scores = evaluate_model( X , y , model )\n",
    "\n",
    "print( f'dummy model | accuracy : {mean(scores):.3f} ( {std(scores):.3f} )' )"
   ]
  },
  {
   "cell_type": "markdown",
   "metadata": {},
   "source": [
    "# <div class=\"alert alert-block alert-success\">Evaluate Data Oversampling Algorithms</div>"
   ]
  },
  {
   "cell_type": "code",
   "execution_count": 30,
   "metadata": {},
   "outputs": [],
   "source": [
    "from sklearn.preprocessing import MinMaxScaler\n",
    "\n",
    "\n",
    "from sklearn.ensemble import ExtraTreesClassifier\n",
    "\n",
    "\n",
    "from imblearn.over_sampling import RandomOverSampler\n",
    "\n",
    "from imblearn.over_sampling import SMOTE\n",
    "\n",
    "from imblearn.over_sampling import BorderlineSMOTE\n",
    "\n",
    "from imblearn.over_sampling import SVMSMOTE\n",
    "\n",
    "from imblearn.over_sampling import ADASYN\n",
    "\n",
    "\n",
    "from imblearn.pipeline import Pipeline\n"
   ]
  },
  {
   "cell_type": "code",
   "execution_count": 31,
   "metadata": {},
   "outputs": [],
   "source": [
    "def get_models():\n",
    "    \n",
    "    models = dict()\n",
    "    \n",
    "    \n",
    "    \n",
    "    steps = [ ( 'step_scaling' , MinMaxScaler() ) ,\n",
    "              ( 'step_sampling' , RandomOverSampler() ) ,\n",
    "              ( 'step_modeling' , ExtraTreesClassifier( n_estimators = 1000 ) ) ]\n",
    "\n",
    "    model = Pipeline( steps = steps )\n",
    "    \n",
    "    models[ 'ROS' ] = model\n",
    "    \n",
    "\n",
    "    \n",
    "    steps = [ ( 'step_scaling' , MinMaxScaler() ) ,\n",
    "              ( 'step_sampling' , SMOTE() ) ,\n",
    "              ( 'step_modeling' , ExtraTreesClassifier( n_estimators = 1000 ) ) ]\n",
    "\n",
    "    model = Pipeline( steps = steps )\n",
    "    \n",
    "    models[ 'SMOTE' ] = model\n",
    "    \n",
    "\n",
    "    \n",
    "    steps = [ ( 'step_scaling' , MinMaxScaler() ) ,\n",
    "              ( 'step_sampling' , BorderlineSMOTE() ) ,\n",
    "              ( 'step_modeling' , ExtraTreesClassifier( n_estimators = 1000 ) ) ]\n",
    "\n",
    "    model = Pipeline( steps = steps )\n",
    "    \n",
    "    models[ 'BLSMOTE' ] = model\n",
    "    \n",
    "    \n",
    "    \n",
    "    steps = [ ( 'step_scaling' , MinMaxScaler() ) ,\n",
    "              ( 'step_sampling' , SVMSMOTE() ) ,\n",
    "              ( 'step_modeling' , ExtraTreesClassifier( n_estimators = 1000 ) ) ]\n",
    "\n",
    "    model = Pipeline( steps = steps )\n",
    "    \n",
    "    models[ 'SVMSMOTE' ] = model\n",
    "    \n",
    "\n",
    "    \n",
    "    steps = [ ( 'step_scaling' , MinMaxScaler() ) ,\n",
    "              ( 'step_sampling' , ADASYN() ) ,\n",
    "              ( 'step_modeling' , ExtraTreesClassifier( n_estimators = 1000 ) ) ]\n",
    "\n",
    "    model = Pipeline( steps = steps )\n",
    "    \n",
    "    models[ 'ADASYN' ] = model   \n",
    "\n",
    "    \n",
    "    return models"
   ]
  },
  {
   "cell_type": "code",
   "execution_count": 32,
   "metadata": {},
   "outputs": [
    {
     "name": "stdout",
     "output_type": "stream",
     "text": [
      "{'ROS': Pipeline(steps=[('step_scaling', MinMaxScaler()),\n",
      "                ('step_sampling', RandomOverSampler()),\n",
      "                ('step_modeling', ExtraTreesClassifier(n_estimators=1000))]), 'SMOTE': Pipeline(steps=[('step_scaling', MinMaxScaler()), ('step_sampling', SMOTE()),\n",
      "                ('step_modeling', ExtraTreesClassifier(n_estimators=1000))]), 'BLSMOTE': Pipeline(steps=[('step_scaling', MinMaxScaler()),\n",
      "                ('step_sampling', BorderlineSMOTE()),\n",
      "                ('step_modeling', ExtraTreesClassifier(n_estimators=1000))]), 'SVMSMOTE': Pipeline(steps=[('step_scaling', MinMaxScaler()), ('step_sampling', SVMSMOTE()),\n",
      "                ('step_modeling', ExtraTreesClassifier(n_estimators=1000))]), 'ADASYN': Pipeline(steps=[('step_scaling', MinMaxScaler()), ('step_sampling', ADASYN()),\n",
      "                ('step_modeling', ExtraTreesClassifier(n_estimators=1000))])}\n"
     ]
    }
   ],
   "source": [
    "models = get_models()\n",
    "\n",
    "print( models )"
   ]
  },
  {
   "cell_type": "code",
   "execution_count": 33,
   "metadata": {},
   "outputs": [
    {
     "name": "stdout",
     "output_type": "stream",
     "text": [
      " model : ROS : 0.891 ( 0.017 )\n",
      " model : SMOTE : 0.906 ( 0.015 )\n",
      " model : BLSMOTE : 0.909 ( 0.013 )\n",
      " model : SVMSMOTE : 0.907 ( 0.015 )\n",
      " model : ADASYN : 0.910 ( 0.012 )\n"
     ]
    }
   ],
   "source": [
    "models = get_models()\n",
    "\n",
    "results = list()\n",
    "\n",
    "names = list()\n",
    "\n",
    "\n",
    "for name , model in models.items() :\n",
    "    \n",
    "    names.append( name )\n",
    "    \n",
    "    scores = evaluate_model( X , y , model ) \n",
    "    \n",
    "    results.append( scores )\n",
    "    \n",
    "    print( f' model : {name} : {mean(scores):.3f} ( {std(scores):.3f} )' )"
   ]
  },
  {
   "cell_type": "code",
   "execution_count": 34,
   "metadata": {},
   "outputs": [],
   "source": [
    "from matplotlib import pyplot"
   ]
  },
  {
   "cell_type": "code",
   "execution_count": 37,
   "metadata": {},
   "outputs": [
    {
     "data": {
      "text/plain": [
       "{'whiskers': [<matplotlib.lines.Line2D at 0x1fded400>,\n",
       "  <matplotlib.lines.Line2D at 0x1fded7b8>,\n",
       "  <matplotlib.lines.Line2D at 0x1fdf9ef0>,\n",
       "  <matplotlib.lines.Line2D at 0x1fdf9fd0>,\n",
       "  <matplotlib.lines.Line2D at 0x1fe129b0>,\n",
       "  <matplotlib.lines.Line2D at 0x1fe12cf8>,\n",
       "  <matplotlib.lines.Line2D at 0x1fe2a470>,\n",
       "  <matplotlib.lines.Line2D at 0x1fe2a7b8>,\n",
       "  <matplotlib.lines.Line2D at 0x1fe37ef0>,\n",
       "  <matplotlib.lines.Line2D at 0x1fe37fd0>],\n",
       " 'caps': [<matplotlib.lines.Line2D at 0x1fdedb00>,\n",
       "  <matplotlib.lines.Line2D at 0x1fdede48>,\n",
       "  <matplotlib.lines.Line2D at 0x1fe045c0>,\n",
       "  <matplotlib.lines.Line2D at 0x1fe04908>,\n",
       "  <matplotlib.lines.Line2D at 0x1fe12dd8>,\n",
       "  <matplotlib.lines.Line2D at 0x1fe1e3c8>,\n",
       "  <matplotlib.lines.Line2D at 0x1fe2ab00>,\n",
       "  <matplotlib.lines.Line2D at 0x1fe2ae48>,\n",
       "  <matplotlib.lines.Line2D at 0x1fe425c0>,\n",
       "  <matplotlib.lines.Line2D at 0x1fe42908>],\n",
       " 'boxes': [<matplotlib.lines.Line2D at 0x1fde0f98>,\n",
       "  <matplotlib.lines.Line2D at 0x1fdf9ba8>,\n",
       "  <matplotlib.lines.Line2D at 0x1fe12668>,\n",
       "  <matplotlib.lines.Line2D at 0x1fe1ee48>,\n",
       "  <matplotlib.lines.Line2D at 0x1fe37ba8>],\n",
       " 'medians': [<matplotlib.lines.Line2D at 0x1fdedf28>,\n",
       "  <matplotlib.lines.Line2D at 0x1fe04c50>,\n",
       "  <matplotlib.lines.Line2D at 0x1fe1e710>,\n",
       "  <matplotlib.lines.Line2D at 0x1fe2af28>,\n",
       "  <matplotlib.lines.Line2D at 0x1fe42c50>],\n",
       " 'fliers': [<matplotlib.lines.Line2D at 0x1fdf9860>,\n",
       "  <matplotlib.lines.Line2D at 0x1fe04f28>,\n",
       "  <matplotlib.lines.Line2D at 0x1fe1eda0>,\n",
       "  <matplotlib.lines.Line2D at 0x1fe37860>,\n",
       "  <matplotlib.lines.Line2D at 0x1fe42f28>],\n",
       " 'means': [<matplotlib.lines.Line2D at 0x1fdf9518>,\n",
       "  <matplotlib.lines.Line2D at 0x1fe04f98>,\n",
       "  <matplotlib.lines.Line2D at 0x1fe1ea58>,\n",
       "  <matplotlib.lines.Line2D at 0x1fe37518>,\n",
       "  <matplotlib.lines.Line2D at 0x1fe42f98>]}"
      ]
     },
     "execution_count": 37,
     "metadata": {},
     "output_type": "execute_result"
    },
    {
     "data": {
      "text/plain": [
       "(array([1, 2, 3, 4, 5]), <a list of 5 Text xticklabel objects>)"
      ]
     },
     "execution_count": 37,
     "metadata": {},
     "output_type": "execute_result"
    },
    {
     "data": {
      "image/png": "[encoded data removed]",
      "text/plain": [
       "<Figure size 432x288 with 1 Axes>"
      ]
     },
     "metadata": {
      "needs_background": "light"
     },
     "output_type": "display_data"
    }
   ],
   "source": [
    "pyplot.boxplot( results , labels = names , showmeans = True )\n",
    "\n",
    "pyplot.grid( axis = 'y' , color = 'black' , linestyle = '-.' , linewidth = 0.5 )\n",
    "\n",
    "pyplot.xticks( rotation = 90 )\n",
    "\n",
    "pyplot.show()"
   ]
  },
  {
   "cell_type": "code",
   "execution_count": null,
   "metadata": {},
   "outputs": [],
   "source": []
  }
 ],
 "metadata": {
  "kernelspec": {
   "display_name": "Python 3",
   "language": "python",
   "name": "python3"
  },
  "language_info": {
   "codemirror_mode": {
    "name": "ipython",
    "version": 3
   },
   "file_extension": ".py",
   "mimetype": "text/x-python",
   "name": "python",
   "nbconvert_exporter": "python",
   "pygments_lexer": "ipython3",
   "version": "3.7.3"
  }
 },
 "nbformat": 4,
 "nbformat_minor": 2
}
